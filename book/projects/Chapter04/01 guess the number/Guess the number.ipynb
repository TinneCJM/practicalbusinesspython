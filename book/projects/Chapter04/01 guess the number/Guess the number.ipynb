{
 "cells": [
  {
   "cell_type": "code",
   "execution_count": 1,
   "id": "09ee469e",
   "metadata": {},
   "outputs": [],
   "source": [
    "import random"
   ]
  },
  {
   "cell_type": "markdown",
   "id": "ccbb1e3e",
   "metadata": {},
   "source": [
    "## Playing the game"
   ]
  },
  {
   "cell_type": "code",
   "execution_count": 7,
   "id": "fc0669e3",
   "metadata": {},
   "outputs": [
    {
     "name": "stdout",
     "output_type": "stream",
     "text": [
      "Guess a number!\n",
      "q\n"
     ]
    },
    {
     "ename": "ValueError",
     "evalue": "invalid literal for int() with base 10: 'q'",
     "output_type": "error",
     "traceback": [
      "\u001b[1;31m---------------------------------------------------------------------------\u001b[0m",
      "\u001b[1;31mValueError\u001b[0m                                Traceback (most recent call last)",
      "\u001b[1;32m~\\AppData\\Local\\Temp\\ipykernel_232\\203419894.py\u001b[0m in \u001b[0;36m<module>\u001b[1;34m\u001b[0m\n\u001b[0;32m      3\u001b[0m \u001b[1;33m\u001b[0m\u001b[0m\n\u001b[0;32m      4\u001b[0m \u001b[1;32mwhile\u001b[0m \u001b[1;32mTrue\u001b[0m\u001b[1;33m:\u001b[0m\u001b[1;33m\u001b[0m\u001b[1;33m\u001b[0m\u001b[0m\n\u001b[1;32m----> 5\u001b[1;33m     \u001b[0mguess\u001b[0m \u001b[1;33m=\u001b[0m \u001b[0mint\u001b[0m\u001b[1;33m(\u001b[0m\u001b[0minput\u001b[0m\u001b[1;33m(\u001b[0m\u001b[1;34m\"Guess a number!\\n\"\u001b[0m\u001b[1;33m)\u001b[0m\u001b[1;33m)\u001b[0m\u001b[1;33m\u001b[0m\u001b[1;33m\u001b[0m\u001b[0m\n\u001b[0m\u001b[0;32m      6\u001b[0m     \u001b[1;32mif\u001b[0m \u001b[0mguess\u001b[0m \u001b[1;33m==\u001b[0m \u001b[0mnumber\u001b[0m\u001b[1;33m:\u001b[0m\u001b[1;33m\u001b[0m\u001b[1;33m\u001b[0m\u001b[0m\n\u001b[0;32m      7\u001b[0m         \u001b[0mprint\u001b[0m\u001b[1;33m(\u001b[0m\u001b[1;34mf\"You found it, it was indeed {guess}!\"\u001b[0m\u001b[1;33m)\u001b[0m\u001b[1;33m\u001b[0m\u001b[1;33m\u001b[0m\u001b[0m\n",
      "\u001b[1;31mValueError\u001b[0m: invalid literal for int() with base 10: 'q'"
     ]
    }
   ],
   "source": [
    "max_val = 10 ** 4\n",
    "number = random.randint(1, max_val)\n",
    "\n",
    "while True:\n",
    "    guess = int(input(\"Guess a number!\\n\"))\n",
    "    if guess == number:\n",
    "        print(f\"You found it, it was indeed {guess}!\")\n",
    "        break\n",
    "    print(f\"The number we are looking for is {'higher' if guess < number else 'lower'}!\")"
   ]
  },
  {
   "cell_type": "markdown",
   "id": "a9c137ff",
   "metadata": {},
   "source": [
    "## Automating the game\n",
    "\n",
    "We can also show that it always takes less than $log_2(n) + 1$ steps to find the solution!"
   ]
  },
  {
   "cell_type": "code",
   "execution_count": 10,
   "id": "6229ae12",
   "metadata": {},
   "outputs": [
    {
     "name": "stdout",
     "output_type": "stream",
     "text": [
      "New guess: 50000\n",
      "New guess: 25000\n",
      "New guess: 12500\n",
      "New guess: 6250\n",
      "New guess: 3125\n",
      "New guess: 4687\n",
      "New guess: 5468\n",
      "New guess: 5859\n",
      "New guess: 6054\n",
      "New guess: 5956\n",
      "New guess: 6005\n",
      "New guess: 5980\n",
      "New guess: 5992\n",
      "New guess: 5998\n",
      "New guess: 5995\n",
      "New guess: 5996\n",
      "The number was indeed 5996!\n",
      "\n",
      "It took you 16 < 17.609640474436812\n"
     ]
    }
   ],
   "source": [
    "import numpy as np\n",
    "\n",
    "max_val = 10**5\n",
    "number = random.randint(1, max_val)\n",
    "\n",
    "# We make sure the correct number is always in [lb, ub] and always guess the mid point between lb and ub.\n",
    "\n",
    "num_tries = 0\n",
    "lb = 1\n",
    "ub = max_val\n",
    "while True:\n",
    "    num_tries += 1\n",
    "    guess = (lb + ub) // 2\n",
    "    print(f\"New guess: {guess}\")\n",
    "    if guess < number:\n",
    "        lb = guess + 1\n",
    "    elif guess > number:\n",
    "        ub = guess - 1\n",
    "    else:\n",
    "        print(f\"The number was indeed {guess}!\\n\")\n",
    "        break\n",
    "        \n",
    "print(f\"It took you {num_tries} < {np.log2(max_val) + 1}\")"
   ]
  },
  {
   "cell_type": "code",
   "execution_count": null,
   "id": "8152d3eb",
   "metadata": {},
   "outputs": [],
   "source": []
  }
 ],
 "metadata": {
  "kernelspec": {
   "display_name": "Python 3 (ipykernel)",
   "language": "python",
   "name": "python3"
  },
  "language_info": {
   "codemirror_mode": {
    "name": "ipython",
    "version": 3
   },
   "file_extension": ".py",
   "mimetype": "text/x-python",
   "name": "python",
   "nbconvert_exporter": "python",
   "pygments_lexer": "ipython3",
   "version": "3.9.13"
  }
 },
 "nbformat": 4,
 "nbformat_minor": 5
}
