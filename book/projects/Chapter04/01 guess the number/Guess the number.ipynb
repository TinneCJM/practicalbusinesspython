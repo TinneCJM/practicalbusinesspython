{
 "cells": [
  {
   "cell_type": "code",
   "execution_count": null,
   "id": "09ee469e",
   "metadata": {},
   "outputs": [],
   "source": [
    "import random"
   ]
  },
  {
   "cell_type": "markdown",
   "id": "ccbb1e3e",
   "metadata": {},
   "source": [
    "## Playing the game"
   ]
  },
  {
   "cell_type": "code",
   "execution_count": null,
   "id": "fc0669e3",
   "metadata": {},
   "outputs": [],
   "source": [
    "max_val = 10\n",
    "number = random.randint(1, max_val)\n",
    "\n",
    "while True:\n",
    "    guess = int(input(\"Guess a number!\\n\"))\n",
    "    if guess == number:\n",
    "        print(f\"You found it, it was indeed {guess}!\")\n",
    "        break\n",
    "    print(f\"The number we are looking for is {'higher' if guess < number else 'lower'}!\")"
   ]
  },
  {
   "cell_type": "markdown",
   "id": "a9c137ff",
   "metadata": {},
   "source": [
    "## Automating the game\n",
    "\n",
    "We can also show that it always takes less than $log_2(n) + 1$ steps to find the solution!"
   ]
  },
  {
   "cell_type": "code",
   "execution_count": null,
   "id": "6229ae12",
   "metadata": {},
   "outputs": [],
   "source": [
    "import numpy as np\n",
    "\n",
    "max_val = 10**5\n",
    "number = random.randint(1, max_val)\n",
    "\n",
    "# We make sure the correct number is always in [lb, ub] and always guess the mid point between lb and ub.\n",
    "\n",
    "num_tries = 0\n",
    "lb = 1\n",
    "ub = max_val\n",
    "while True:\n",
    "    num_tries += 1\n",
    "    guess = (lb + ub) // 2\n",
    "    print(f\"New guess: {guess}\")\n",
    "    if guess < number:\n",
    "        lb = guess + 1\n",
    "    elif guess > number:\n",
    "        ub = guess - 1\n",
    "    else:\n",
    "        print(f\"The number was indeed {guess}!\\n\")\n",
    "        break\n",
    "        \n",
    "print(f\"It took you {num_tries} < {np.log2(max_val) + 1}\")"
   ]
  }
 ],
 "metadata": {
  "kernelspec": {
   "display_name": "Python 3 (ipykernel)",
   "language": "python",
   "name": "python3"
  },
  "language_info": {
   "codemirror_mode": {
    "name": "ipython",
    "version": 3
   },
   "file_extension": ".py",
   "mimetype": "text/x-python",
   "name": "python",
   "nbconvert_exporter": "python",
   "pygments_lexer": "ipython3",
   "version": "3.9.13"
  }
 },
 "nbformat": 4,
 "nbformat_minor": 5
}
