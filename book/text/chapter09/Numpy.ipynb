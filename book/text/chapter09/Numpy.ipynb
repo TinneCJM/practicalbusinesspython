{
 "cells": [
  {
   "cell_type": "code",
   "execution_count": 15,
   "id": "2d5b171b",
   "metadata": {},
   "outputs": [],
   "source": [
    "import numpy as np"
   ]
  },
  {
   "cell_type": "code",
   "execution_count": 7,
   "id": "18195a56",
   "metadata": {},
   "outputs": [
    {
     "name": "stdout",
     "output_type": "stream",
     "text": [
      "Execution time using Python list: 1.706341028213501 seconds\n"
     ]
    }
   ],
   "source": [
    "import time\n",
    "\n",
    "# Creating two lists with 10**7 elements each\n",
    "a = list(range(1, 10**7 + 1))\n",
    "b = list(range(1, 10**7 + 1))\n",
    "\n",
    "# Measure the time taken to perform element-wise \n",
    "# multiplication using Python lists\n",
    "start_time = time.time()\n",
    "\n",
    "result_list = [a[i] * b[i] for i in range(len(a))]\n",
    "\n",
    "end_time = time.time()\n",
    "execution_time_list = end_time - start_time\n",
    "\n",
    "print(\"Execution time using Python list:\", execution_time_list, \"seconds\")"
   ]
  },
  {
   "cell_type": "code",
   "execution_count": 8,
   "id": "dea802a7",
   "metadata": {},
   "outputs": [
    {
     "name": "stdout",
     "output_type": "stream",
     "text": [
      "Execution time using  array: 0.016275405883789062 seconds\n"
     ]
    }
   ],
   "source": [
    "import numpy as np\n",
    "import time\n",
    "\n",
    "# Creating two NumPy arrays with 1,000,000 elements each\n",
    "a = np.arange(1, 10**7 + 1)\n",
    "b = np.arange(1, 10**7 + 1)\n",
    "\n",
    "# Measure the time taken to perform \n",
    "# element-wise multiplication using  arrays\n",
    "start_time = time.time()\n",
    "\n",
    "result_array = a * b\n",
    "\n",
    "end_time = time.time()\n",
    "execution_time_array = end_time - start_time\n",
    "\n",
    "print(\"Execution time using  array:\",  execution_time_array, \"seconds\")"
   ]
  },
  {
   "cell_type": "markdown",
   "id": "6422eb8e",
   "metadata": {},
   "source": [
    "#### Creating numpy arrays"
   ]
  },
  {
   "cell_type": "code",
   "execution_count": 9,
   "id": "4e5a0213",
   "metadata": {},
   "outputs": [
    {
     "name": "stdout",
     "output_type": "stream",
     "text": [
      "[1 2 3 4 5]\n"
     ]
    }
   ],
   "source": [
    "my_list = [1, 2, 3, 4, 5]\n",
    "my_array = np.array(my_list)\n",
    "print(my_array)"
   ]
  },
  {
   "cell_type": "code",
   "execution_count": 11,
   "id": "a69bd831",
   "metadata": {},
   "outputs": [
    {
     "name": "stdout",
     "output_type": "stream",
     "text": [
      "[[ 0  0  0  0  0  0  0  0  0  0]\n",
      " [ 0  1  2  3  4  5  6  7  8  9]\n",
      " [ 0  2  4  6  8 10 12 14 16 18]\n",
      " [ 0  3  6  9 12 15 18 21 24 27]\n",
      " [ 0  4  8 12 16 20 24 28 32 36]\n",
      " [ 0  5 10 15 20 25 30 35 40 45]\n",
      " [ 0  6 12 18 24 30 36 42 48 54]\n",
      " [ 0  7 14 21 28 35 42 49 56 63]\n",
      " [ 0  8 16 24 32 40 48 56 64 72]\n",
      " [ 0  9 18 27 36 45 54 63 72 81]]\n"
     ]
    }
   ],
   "source": [
    "my_matrix_list = [[i * j for j in range(10)] for i in range(10)]\n",
    "my_mat_array = np.array(my_matrix_list)\n",
    "print(my_mat_array)"
   ]
  },
  {
   "cell_type": "code",
   "execution_count": 13,
   "id": "12d68e97",
   "metadata": {},
   "outputs": [
    {
     "name": "stdout",
     "output_type": "stream",
     "text": [
      "[0. 0. 0. 0. 0.]\n",
      "[[1 1]\n",
      " [1 1]\n",
      " [1 1]]\n",
      "[1 2 3 4 5]\n",
      "[0.   0.25 0.5  0.75 1.  ]\n",
      "[0.25012525 0.7314822  0.51421823]\n",
      "[[ 0.31976334 -0.10723097  0.58844019]\n",
      " [ 1.58422701 -1.24420285  0.06430881]]\n"
     ]
    }
   ],
   "source": [
    "zeros_array = np.zeros(5)  # [0. 0. 0. 0. 0.]\n",
    "print(zeros_array)\n",
    "ones_array = np.ones((3, 2), dtype = int)  # [[1 1]\n",
    "                              #  [1 1]\n",
    "                              #  [1 1]]\n",
    "print(ones_array)\n",
    "range_array = np.arange(1, 6)  # [1 2 3 4 5]\n",
    "print(range_array)\n",
    "linspace_array = np.linspace(0, 1, 5)  \n",
    "print(linspace_array)\n",
    "# [0.   0.25 0.5  0.75 1.  ]\n",
    "random_uniform = np.random.rand(3)  \n",
    "print(random_uniform)\n",
    "# [0.41256328 0.92475848 0.05738169]\n",
    "random_normal = np.random.randn(2, 3)  \n",
    "print(random_normal)\n",
    "# [[-0.24573815  0.31427145 -0.57936892]\n",
    "#  [ 0.6717322   1.71578591 -0.19257684]]"
   ]
  },
  {
   "cell_type": "code",
   "execution_count": 14,
   "id": "a89fbc9d",
   "metadata": {},
   "outputs": [
    {
     "name": "stdout",
     "output_type": "stream",
     "text": [
      "(2, 3)\n",
      "int32\n",
      "6\n"
     ]
    }
   ],
   "source": [
    "arr = np.array([[1, 2, 3], [4, 5, 6]])\n",
    "print(arr.shape)  # (2, 3)\n",
    "print(arr.dtype)  # int64\n",
    "print(arr.size)   # 6"
   ]
  },
  {
   "cell_type": "markdown",
   "id": "ce884424",
   "metadata": {},
   "source": [
    "#### Universal functions in Numpy"
   ]
  },
  {
   "cell_type": "code",
   "execution_count": 16,
   "id": "3e6bb702",
   "metadata": {},
   "outputs": [
    {
     "name": "stdout",
     "output_type": "stream",
     "text": [
      "[1.         1.41421356 1.73205081 2.         2.23606798]\n"
     ]
    }
   ],
   "source": [
    "# Creating a NumPy array\n",
    "arr = np.array([1, 2, 3, 4, 5])\n",
    "\n",
    "# Applying a universal function element-wise\n",
    "result = np.sqrt(arr)\n",
    "print(result)"
   ]
  },
  {
   "cell_type": "code",
   "execution_count": 17,
   "id": "9251a199",
   "metadata": {},
   "outputs": [
    {
     "name": "stdout",
     "output_type": "stream",
     "text": [
      "[5 7 9]\n",
      "[ 4 10 18]\n"
     ]
    }
   ],
   "source": [
    "# Creating two NumPy arrays\n",
    "arr1 = np.array([1, 2, 3])\n",
    "arr2 = np.array([4, 5, 6])\n",
    "\n",
    "# Element-wise addition using the '+' operator\n",
    "result_add = arr1 + arr2\n",
    "print(result_add)  # [5 7 9]\n",
    "\n",
    "# Element-wise multiplication using the '*' operator\n",
    "result_mul = arr1 * arr2\n",
    "print(result_mul)  # [ 4 10 18]"
   ]
  },
  {
   "cell_type": "code",
   "execution_count": 18,
   "id": "95a3b917",
   "metadata": {},
   "outputs": [
    {
     "name": "stderr",
     "output_type": "stream",
     "text": [
      "C:\\Users\\timH\\AppData\\Local\\Temp\\ipykernel_27160\\935950212.py:10: RuntimeWarning: divide by zero encountered in log\n",
      "  result_log = np.log(arr)\n"
     ]
    }
   ],
   "source": [
    "arr = np.array([0, np.pi/2, np.pi])\n",
    "\n",
    "# Trigonometric functions\n",
    "result_sin = np.sin(arr)\n",
    "result_cos = np.cos(arr)\n",
    "result_tan = np.tan(arr)\n",
    "\n",
    "# Exponential and logarithmic functions\n",
    "result_exp = np.exp(arr)\n",
    "result_log = np.log(arr)"
   ]
  },
  {
   "cell_type": "markdown",
   "id": "753f78dd",
   "metadata": {},
   "source": [
    "#### Indexing"
   ]
  },
  {
   "cell_type": "code",
   "execution_count": 22,
   "id": "0938c22a",
   "metadata": {},
   "outputs": [
    {
     "name": "stdout",
     "output_type": "stream",
     "text": [
      "30\n"
     ]
    }
   ],
   "source": [
    "arr = np.array([10, 20, 30, 40, 50])\n",
    "element = arr[2]  # Access the third element (30)\n",
    "print(element)"
   ]
  },
  {
   "cell_type": "code",
   "execution_count": 24,
   "id": "0fff4cf9",
   "metadata": {},
   "outputs": [
    {
     "name": "stdout",
     "output_type": "stream",
     "text": [
      "[20 30 40]\n"
     ]
    }
   ],
   "source": [
    "# Slicing\n",
    "arr = np.array([10, 20, 30, 40, 50])\n",
    "sub_array = arr[1:4]  # Returns [20, 30, 40]\n",
    "print(sub_array)"
   ]
  },
  {
   "cell_type": "code",
   "execution_count": 25,
   "id": "c2df308b",
   "metadata": {},
   "outputs": [
    {
     "name": "stdout",
     "output_type": "stream",
     "text": [
      "[40 50]\n"
     ]
    }
   ],
   "source": [
    "# fancy indexing\n",
    "arr = np.array([10, 20, 30, 40, 50])\n",
    "mask = arr > 30\n",
    "selected_elements = arr[mask]  # Returns [40, 50]\n",
    "print(selected_elements)"
   ]
  },
  {
   "cell_type": "code",
   "execution_count": 27,
   "id": "8d2d9a46",
   "metadata": {},
   "outputs": [
    {
     "name": "stdout",
     "output_type": "stream",
     "text": [
      "[40 50]\n"
     ]
    }
   ],
   "source": [
    "# Boolean indexing\n",
    "arr = np.array([10, 20, 30, 40, 50])\n",
    "mask = arr > 30\n",
    "selected_elements = arr[mask]  # Returns [40, 50]\n",
    "print(selected_elements)"
   ]
  },
  {
   "cell_type": "code",
   "execution_count": 29,
   "id": "81b01bfc",
   "metadata": {},
   "outputs": [
    {
     "name": "stdout",
     "output_type": "stream",
     "text": [
      "[2 9]\n"
     ]
    }
   ],
   "source": [
    "matrix = np.array([[1, 2, 3], [4, 5, 6], [7, 8, 9]])\n",
    "row_indices = np.array([0, 2])\n",
    "col_indices = np.array([1, 2])\n",
    "selected_elements = matrix[row_indices, col_indices]  \n",
    "print(selected_elements)\n",
    "# Returns [2, 9]"
   ]
  },
  {
   "cell_type": "code",
   "execution_count": 30,
   "id": "5e49751b",
   "metadata": {},
   "outputs": [
    {
     "name": "stdout",
     "output_type": "stream",
     "text": [
      "[[2 3]\n",
      " [5 6]]\n"
     ]
    }
   ],
   "source": [
    "matrix = np.array([[1, 2, 3], [4, 5, 6], [7, 8, 9]])\n",
    "sub_matrix = matrix[0:2, 1:3]  \n",
    "print(sub_matrix)\n",
    "# Returns [[2, 3], [5, 6]]"
   ]
  },
  {
   "cell_type": "code",
   "execution_count": 31,
   "id": "2df96cbe",
   "metadata": {},
   "outputs": [
    {
     "name": "stdout",
     "output_type": "stream",
     "text": [
      "[2 9]\n"
     ]
    }
   ],
   "source": [
    "matrix = np.array([[1, 2, 3], [4, 5, 6], [7, 8, 9]])\n",
    "row_indices = np.array([0, 2])\n",
    "col_indices = np.array([1, 2])\n",
    "selected_elements = matrix[row_indices, col_indices]  \n",
    "print(selected_elements)\n",
    "# Returns [2, 9]"
   ]
  },
  {
   "cell_type": "code",
   "execution_count": 33,
   "id": "e7bd6c95",
   "metadata": {},
   "outputs": [
    {
     "name": "stdout",
     "output_type": "stream",
     "text": [
      "[4 9]\n"
     ]
    }
   ],
   "source": [
    "matrix = np.array([[1, 2, 3], [4, 5, 6], [7, 8, 9]])\n",
    "row_mask = np.array([False, True, True])\n",
    "col_mask = np.array([True, False, True])\n",
    "selected_elements = matrix[row_mask, col_mask]  \n",
    "print(selected_elements)\n",
    "# Returns [2, 7, 9]"
   ]
  },
  {
   "cell_type": "code",
   "execution_count": 41,
   "id": "3bde9c58",
   "metadata": {},
   "outputs": [
    {
     "name": "stdout",
     "output_type": "stream",
     "text": [
      "[4 5 6 7 8 9]\n"
     ]
    }
   ],
   "source": [
    "matrix = np.array([[1, 2, 3], [4, 5, 6], [7, 8, 9]])\n",
    "sub_matrix = matrix[matrix > 3]  \n",
    "print(sub_matrix)\n",
    "# Returns [4, 5, 6, 7, 8, 9]"
   ]
  },
  {
   "cell_type": "markdown",
   "id": "5bdcee36",
   "metadata": {},
   "source": [
    "#### Views vs copies"
   ]
  },
  {
   "cell_type": "code",
   "execution_count": 42,
   "id": "6dd514c1",
   "metadata": {},
   "outputs": [
    {
     "name": "stdout",
     "output_type": "stream",
     "text": [
      "[ 1 10  3  4  5]\n"
     ]
    }
   ],
   "source": [
    "# Creating a NumPy array\n",
    "arr = np.array([1, 2, 3, 4, 5])\n",
    "\n",
    "# Creating a view of the array using slicing\n",
    "view_arr = arr[1:4]\n",
    "\n",
    "# Modifying an element in the view\n",
    "view_arr[0] = 10\n",
    "\n",
    "# The original array is also modified\n",
    "print(arr)  # Output: [ 1 10  3  4  5]"
   ]
  },
  {
   "cell_type": "code",
   "execution_count": 45,
   "id": "e1304454",
   "metadata": {},
   "outputs": [
    {
     "name": "stdout",
     "output_type": "stream",
     "text": [
      "[1 2 3 4 5]\n"
     ]
    }
   ],
   "source": [
    "# Creating a NumPy array\n",
    "arr = np.array([1, 2, 3, 4, 5])\n",
    "\n",
    "# Creating a copy of the array\n",
    "copy_arr = np.copy(arr)\n",
    "\n",
    "# Modifying an element in the copy\n",
    "copy_arr[0] = 10\n",
    "\n",
    "# The original array remains unchanged\n",
    "print(arr)  # Output: [1 2 3 4 5]"
   ]
  },
  {
   "cell_type": "code",
   "execution_count": 46,
   "id": "d0ad7aff",
   "metadata": {},
   "outputs": [
    {
     "name": "stdout",
     "output_type": "stream",
     "text": [
      "True\n",
      "False\n"
     ]
    }
   ],
   "source": [
    "arr = np.array([1, 2, 3, 4, 5])\n",
    "view_arr = arr[1:4]\n",
    "copy_arr = np.copy(arr)\n",
    "\n",
    "print(np.may_share_memory(arr, view_arr))  # Output: True\n",
    "print(np.may_share_memory(arr, copy_arr))  # Output: False"
   ]
  },
  {
   "cell_type": "markdown",
   "id": "5966c1cd",
   "metadata": {},
   "source": [
    "#### Sorting"
   ]
  },
  {
   "cell_type": "code",
   "execution_count": 49,
   "id": "070a8b4f",
   "metadata": {},
   "outputs": [
    {
     "name": "stdout",
     "output_type": "stream",
     "text": [
      "[1 2 4 5 7]\n",
      "[7 5 4 2 1]\n"
     ]
    }
   ],
   "source": [
    "# Creating a 1-D NumPy array\n",
    "arr = np.array([4, 2, 7, 1, 5])\n",
    "\n",
    "# Sorting the array in ascending order\n",
    "sorted_arr = np.sort(arr)\n",
    "print(sorted_arr)  # [1 2 4 5 7]\n",
    "print(sorted_arr[::-1])"
   ]
  },
  {
   "cell_type": "code",
   "execution_count": 50,
   "id": "1eaf662f",
   "metadata": {},
   "outputs": [
    {
     "name": "stdout",
     "output_type": "stream",
     "text": [
      "[1 2 4 5 7]\n"
     ]
    }
   ],
   "source": [
    "# Sorting the array in-place\n",
    "arr.sort()\n",
    "print(arr)  # [1 2 4 5 7]"
   ]
  },
  {
   "cell_type": "code",
   "execution_count": 51,
   "id": "c2abcc53",
   "metadata": {},
   "outputs": [
    {
     "name": "stdout",
     "output_type": "stream",
     "text": [
      "[[1 3 4]\n",
      " [0 2 6]]\n",
      "[[3 1 0]\n",
      " [6 2 4]]\n"
     ]
    }
   ],
   "source": [
    "# Creating a 2-D NumPy array\n",
    "matrix = np.array([[3, 1, 4], [6, 2, 0]])\n",
    "\n",
    "# Sorting the rows along axis 1 (columns)\n",
    "sorted_rows = np.sort(matrix, axis=1)\n",
    "print(sorted_rows)\n",
    "# [[1 3 4]\n",
    "#  [0 2 6]]\n",
    "\n",
    "# Sorting the columns along axis 0 (rows)\n",
    "sorted_cols = np.sort(matrix, axis=0)\n",
    "print(sorted_cols)\n",
    "# [[3 1 0]\n",
    "#  [6 2 4]]"
   ]
  },
  {
   "cell_type": "code",
   "execution_count": 52,
   "id": "ed56d77f",
   "metadata": {},
   "outputs": [
    {
     "name": "stdout",
     "output_type": "stream",
     "text": [
      "[3 1 0 4 2]\n"
     ]
    }
   ],
   "source": [
    "# Argsort example\n",
    "arr = np.array([4, 2, 7, 1, 5])\n",
    "sorted_indices = np.argsort(arr)\n",
    "print(sorted_indices)  # [3 1 0 4 2]"
   ]
  },
  {
   "cell_type": "markdown",
   "id": "57764220",
   "metadata": {},
   "source": [
    "## Attributes of numpy arrays"
   ]
  },
  {
   "cell_type": "code",
   "execution_count": 53,
   "id": "05ec72b8",
   "metadata": {},
   "outputs": [
    {
     "name": "stdout",
     "output_type": "stream",
     "text": [
      "(2, 3)\n",
      "2\n"
     ]
    }
   ],
   "source": [
    "# Creating a NumPy array\n",
    "arr = np.array([[1, 2, 3], [4, 5, 6]])\n",
    "\n",
    "# Getting the shape of the array\n",
    "shape = arr.shape\n",
    "print(shape)  # (2, 3)\n",
    "\n",
    "# Getting the number of dimensions (axes) of the array\n",
    "dimensions = arr.ndim\n",
    "print(dimensions)  # 2"
   ]
  },
  {
   "cell_type": "code",
   "execution_count": 54,
   "id": "72dac909",
   "metadata": {},
   "outputs": [
    {
     "name": "stdout",
     "output_type": "stream",
     "text": [
      "int32\n"
     ]
    }
   ],
   "source": [
    "# Getting the data type of the array elements\n",
    "data_type = arr.dtype\n",
    "print(data_type)  # int64"
   ]
  },
  {
   "cell_type": "code",
   "execution_count": 55,
   "id": "a7adeafa",
   "metadata": {},
   "outputs": [
    {
     "name": "stdout",
     "output_type": "stream",
     "text": [
      "6\n"
     ]
    }
   ],
   "source": [
    "# Getting the total number of elements in the array\n",
    "total_elements = arr.size\n",
    "print(total_elements)  # 6"
   ]
  },
  {
   "cell_type": "code",
   "execution_count": 56,
   "id": "a2ab2978",
   "metadata": {},
   "outputs": [
    {
     "name": "stdout",
     "output_type": "stream",
     "text": [
      "[[1 2]\n",
      " [3 4]\n",
      " [5 6]]\n"
     ]
    }
   ],
   "source": [
    "# Reshaping the array to (3, 2)\n",
    "reshaped_arr = arr.reshape(3, 2)\n",
    "print(reshaped_arr)\n",
    "# [[1 2]\n",
    "#  [3 4]\n",
    "#  [5 6]]"
   ]
  },
  {
   "cell_type": "markdown",
   "id": "86542217",
   "metadata": {},
   "source": [
    "## Playing with dimensions in NumPy"
   ]
  },
  {
   "cell_type": "code",
   "execution_count": 57,
   "id": "e5877cf9",
   "metadata": {},
   "outputs": [
    {
     "name": "stdout",
     "output_type": "stream",
     "text": [
      "[3 4 5]\n"
     ]
    }
   ],
   "source": [
    "# Broadcasting example\n",
    "a = np.array([1, 2, 3])\n",
    "b = 2\n",
    "result = a + b\n",
    "print(result)  # Output: [3 4 5]"
   ]
  },
  {
   "cell_type": "code",
   "execution_count": 58,
   "id": "3c232ea7",
   "metadata": {},
   "outputs": [
    {
     "name": "stdout",
     "output_type": "stream",
     "text": [
      "Result after broadcasting:\n",
      "[[11 12 13]\n",
      " [24 25 26]]\n"
     ]
    }
   ],
   "source": [
    "# Creating a 2-dimensional array\n",
    "array_2d = np.array([[1, 2, 3], [4, 5, 6]])\n",
    "\n",
    "# Broadcasting a column\n",
    "column = np.array([[10], [20]])\n",
    "result = array_2d + column\n",
    "\n",
    "print(result)"
   ]
  },
  {
   "cell_type": "code",
   "execution_count": 60,
   "id": "b89bb689",
   "metadata": {},
   "outputs": [
    {
     "name": "stdout",
     "output_type": "stream",
     "text": [
      "[[1 4]\n",
      " [2 5]\n",
      " [3 6]]\n",
      "[[1 4]\n",
      " [2 5]\n",
      " [3 6]]\n"
     ]
    }
   ],
   "source": [
    "# Transposing a matrix\n",
    "matrix = np.array([[1, 2, 3], [4, 5, 6]])\n",
    "transposed_matrix1 = np.transpose(matrix)\n",
    "transposed_matrix2 = matrix.T\n",
    "print(transposed_matrix1)\n",
    "print(transposed_matrix2)\n",
    "# Output:\n",
    "# [[1 4]\n",
    "#  [2 5]\n",
    "#  [3 6]]"
   ]
  },
  {
   "cell_type": "code",
   "execution_count": 61,
   "id": "d984b3e2",
   "metadata": {},
   "outputs": [
    {
     "name": "stdout",
     "output_type": "stream",
     "text": [
      "[[1 2 3]\n",
      " [4 5 6]]\n"
     ]
    }
   ],
   "source": [
    "# Reshaping an array\n",
    "arr = np.array([1, 2, 3, 4, 5, 6])\n",
    "reshaped_arr = np.reshape(arr, (2, 3))\n",
    "print(reshaped_arr)\n",
    "# Output:\n",
    "# [[1 2 3]\n",
    "#  [4 5 6]]"
   ]
  },
  {
   "cell_type": "markdown",
   "id": "f653e5e4",
   "metadata": {},
   "source": [
    "#### Numpy arrays as building blocks"
   ]
  },
  {
   "cell_type": "code",
   "execution_count": 62,
   "id": "10e18947",
   "metadata": {},
   "outputs": [
    {
     "name": "stdout",
     "output_type": "stream",
     "text": [
      "[array([1, 2, 3]), array([4, 5, 6])]\n",
      "[array([[1],\n",
      "       [4],\n",
      "       [7]]), array([[2],\n",
      "       [5],\n",
      "       [8]]), array([[3],\n",
      "       [6],\n",
      "       [9]])]\n",
      "[array([[1, 2, 3]]), array([[4, 5, 6]]), array([[7, 8, 9]])]\n"
     ]
    }
   ],
   "source": [
    "# Creating an array\n",
    "arr = np.array([1, 2, 3, 4, 5, 6])\n",
    "\n",
    "# Splitting the array into two sub-arrays\n",
    "sub_arrays = np.split(arr, 2)\n",
    "print(sub_arrays)  # Output: [array([1, 2, 3]), array([4, 5, 6])]\n",
    "\n",
    "# Creating a 2D array\n",
    "matrix = np.array([[1, 2, 3], [4, 5, 6], [7, 8, 9]])\n",
    "\n",
    "# Horizontally splitting the matrix into three sub-arrays\n",
    "sub_arrays = np.hsplit(matrix, 3)\n",
    "print(sub_arrays)\n",
    "# Output: [array([[1],\n",
    "#                 [4],\n",
    "#                 [7]]), \n",
    "#          array([[2],\n",
    "#                 [5],\n",
    "#                 [8]]), \n",
    "#          array([[3],\n",
    "#                 [6],\n",
    "#                 [9]])]\n",
    "\n",
    "# Vertically splitting the matrix into three sub-arrays\n",
    "sub_arrays = np.vsplit(matrix, 3)\n",
    "print(sub_arrays)\n",
    "# Output: [array([[1, 2, 3]]), \n",
    "#          array([[4, 5, 6]]), \n",
    "#          array([[7, 8, 9]])]"
   ]
  },
  {
   "cell_type": "code",
   "execution_count": 63,
   "id": "3bb9c615",
   "metadata": {},
   "outputs": [
    {
     "name": "stdout",
     "output_type": "stream",
     "text": [
      "[array([1, 2, 3]), array([4, 5, 6])]\n",
      "[array([[1],\n",
      "       [4],\n",
      "       [7]]), array([[2],\n",
      "       [5],\n",
      "       [8]]), array([[3],\n",
      "       [6],\n",
      "       [9]])]\n",
      "[array([[1, 2, 3]]), array([[4, 5, 6]]), array([[7, 8, 9]])]\n"
     ]
    }
   ],
   "source": [
    "# Creating an array\n",
    "arr = np.array([1, 2, 3, 4, 5, 6])\n",
    "\n",
    "# Splitting the array into two sub-arrays\n",
    "sub_arrays = np.split(arr, 2)\n",
    "print(sub_arrays)  # Output: [array([1, 2, 3]), array([4, 5, 6])]\n",
    "\n",
    "# Creating a 2D array\n",
    "matrix = np.array([[1, 2, 3], [4, 5, 6], [7, 8, 9]])\n",
    "\n",
    "# Horizontally splitting the matrix into three sub-arrays\n",
    "sub_arrays = np.hsplit(matrix, 3)\n",
    "print(sub_arrays)\n",
    "# Output: [array([[1],\n",
    "#                 [4],\n",
    "#                 [7]]), \n",
    "#          array([[2],\n",
    "#                 [5],\n",
    "#                 [8]]), \n",
    "#          array([[3],\n",
    "#                 [6],\n",
    "#                 [9]])]\n",
    "\n",
    "# Vertically splitting the matrix into three sub-arrays\n",
    "sub_arrays = np.vsplit(matrix, 3)\n",
    "print(sub_arrays)\n",
    "# Output: [array([[1, 2, 3]]), \n",
    "#          array([[4, 5, 6]]), \n",
    "#          array([[7, 8, 9]])]"
   ]
  },
  {
   "cell_type": "code",
   "execution_count": 64,
   "id": "fd5b575c",
   "metadata": {},
   "outputs": [
    {
     "name": "stdout",
     "output_type": "stream",
     "text": [
      "[1 2 3 1 2 3 1 2 3]\n",
      "[1 1 1 2 2 2 3 3 3]\n"
     ]
    }
   ],
   "source": [
    "# Creating an array\n",
    "arr = np.array([1, 2, 3])\n",
    "\n",
    "# Tiling the array three times\n",
    "tiled_arr = np.tile(arr, 3)\n",
    "print(tiled_arr)  # Output: [1 2 3 1 2 3 1 2 3]\n",
    "\n",
    "# Repeating each element three times\n",
    "repeated_arr = np.repeat(arr, 3)\n",
    "print(repeated_arr)  # Output: [1 1 1 2 2 2 3 3 3]"
   ]
  },
  {
   "cell_type": "code",
   "execution_count": 65,
   "id": "c1290713",
   "metadata": {},
   "outputs": [
    {
     "name": "stdout",
     "output_type": "stream",
     "text": [
      "[1 2 4 5]\n",
      "[ 1  2 10  3  4  5]\n"
     ]
    }
   ],
   "source": [
    "# Creating an array\n",
    "arr = np.array([1, 2, 3, 4, 5])\n",
    "\n",
    "# Deleting the element at index 2\n",
    "new_arr = np.delete(arr, 2)\n",
    "print(new_arr)  # Output: [1 2 4 5]\n",
    "\n",
    "# Inserting the value 10 at index 2\n",
    "new_arr = np.insert(arr, 2, 10)\n",
    "print(new_arr)  # Output: [ 1  2 10  3  4  5]"
   ]
  },
  {
   "cell_type": "code",
   "execution_count": 66,
   "id": "3123d23c",
   "metadata": {},
   "outputs": [
    {
     "name": "stdout",
     "output_type": "stream",
     "text": [
      "[0 0 1 2 3 0 0]\n"
     ]
    }
   ],
   "source": [
    "# Creating an array\n",
    "arr = np.array([1, 2, 3])\n",
    "\n",
    "# Padding the array with two zeros at the beginning and end\n",
    "padded_arr = np.pad(arr, (2, 2), mode='constant', constant_values=0)\n",
    "print(padded_arr)  # Output: [0 0 1 2 3 0 0]"
   ]
  },
  {
   "cell_type": "code",
   "execution_count": null,
   "id": "413c67ce",
   "metadata": {},
   "outputs": [],
   "source": []
  }
 ],
 "metadata": {
  "kernelspec": {
   "display_name": "Python 3 (ipykernel)",
   "language": "python",
   "name": "python3"
  },
  "language_info": {
   "codemirror_mode": {
    "name": "ipython",
    "version": 3
   },
   "file_extension": ".py",
   "mimetype": "text/x-python",
   "name": "python",
   "nbconvert_exporter": "python",
   "pygments_lexer": "ipython3",
   "version": "3.9.13"
  }
 },
 "nbformat": 4,
 "nbformat_minor": 5
}
