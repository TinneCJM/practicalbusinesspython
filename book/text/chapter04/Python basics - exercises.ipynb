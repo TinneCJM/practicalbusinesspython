{
 "cells": [
  {
   "cell_type": "code",
   "execution_count": 1,
   "id": "7bd82e34",
   "metadata": {},
   "outputs": [
    {
     "name": "stdout",
     "output_type": "stream",
     "text": [
      "Current Date and Time: 2023-09-14 09:11:31.406937\n",
      "Time Difference from Baseline Date: 19614 days, 9:11:31.406937\n",
      "Time in Seconds (Equivalent to time.time()): 1694682691.406937\n",
      "Time in Seconds as given by time.time() 1694675491.4073718\n"
     ]
    }
   ],
   "source": [
    "import datetime\n",
    "import time\n",
    "\n",
    "# Define a baseline date (e.g., January 1, 1970, 00:00:00 UTC)\n",
    "baseline_date = datetime.datetime(1970, 1, 1, 0, 0, 0)\n",
    "\n",
    "# Get the current date and time using datetime.datetime.today()\n",
    "current_datetime = datetime.datetime.today()\n",
    "\n",
    "# Compute the difference between current_datetime and the baseline date\n",
    "time_difference = current_datetime - baseline_date\n",
    "\n",
    "# Convert the time difference to seconds\n",
    "time_in_seconds = time_difference.total_seconds()\n",
    "\n",
    "# Print the results\n",
    "print(\"Current Date and Time:\", current_datetime)\n",
    "print(\"Time Difference from Baseline Date:\", time_difference)\n",
    "print(\"Time in Seconds (Equivalent to time.time()):\", time_in_seconds)\n",
    "print(\"Time in Seconds as given by time.time()\", time.time())"
   ]
  },
  {
   "cell_type": "code",
   "execution_count": null,
   "id": "791ad414",
   "metadata": {},
   "outputs": [],
   "source": []
  }
 ],
 "metadata": {
  "kernelspec": {
   "display_name": "Python 3 (ipykernel)",
   "language": "python",
   "name": "python3"
  },
  "language_info": {
   "codemirror_mode": {
    "name": "ipython",
    "version": 3
   },
   "file_extension": ".py",
   "mimetype": "text/x-python",
   "name": "python",
   "nbconvert_exporter": "python",
   "pygments_lexer": "ipython3",
   "version": "3.9.13"
  }
 },
 "nbformat": 4,
 "nbformat_minor": 5
}
