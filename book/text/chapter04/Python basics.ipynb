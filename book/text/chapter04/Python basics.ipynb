{
 "cells": [
  {
   "cell_type": "markdown",
   "id": "6730881d",
   "metadata": {},
   "source": [
    "# Python basics\n",
    "\n",
    "This notebook contains the Syntax accompanying Chapter 4: Python basics in the book Practical Business Python."
   ]
  },
  {
   "cell_type": "markdown",
   "id": "23a432ac",
   "metadata": {},
   "source": [
    "## Variables"
   ]
  },
  {
   "cell_type": "markdown",
   "id": "48740cc8",
   "metadata": {},
   "source": [
    "#### Basic"
   ]
  },
  {
   "cell_type": "code",
   "execution_count": 52,
   "id": "2deb509c",
   "metadata": {},
   "outputs": [
    {
     "name": "stdout",
     "output_type": "stream",
     "text": [
      "Hello, world!\n"
     ]
    }
   ],
   "source": [
    "# Assign a value to the variable message\n",
    "message = \"Hello, world!\"\n",
    "\n",
    "# Use this variable to print the statement.\n",
    "print(message)"
   ]
  },
  {
   "cell_type": "markdown",
   "id": "f838e46e",
   "metadata": {},
   "source": [
    "#### Dynamic typing"
   ]
  },
  {
   "cell_type": "code",
   "execution_count": 53,
   "id": "017f4126",
   "metadata": {},
   "outputs": [
    {
     "name": "stdout",
     "output_type": "stream",
     "text": [
      "<class 'str'>\n",
      "<class 'int'>\n"
     ]
    }
   ],
   "source": [
    "number = 42 # an integer\n",
    "pi = 3.14 # a floating-point number\n",
    "is_true = True # a boolean value\n",
    "\n",
    "# Change the value and type of the variable message\n",
    "message = \"Hello, world!\"\n",
    "print(type(message))\n",
    "message = 42\n",
    "print(type(message))"
   ]
  },
  {
   "cell_type": "markdown",
   "id": "67149749",
   "metadata": {},
   "source": [
    "#### Getting help"
   ]
  },
  {
   "cell_type": "code",
   "execution_count": 54,
   "id": "9e810900",
   "metadata": {},
   "outputs": [],
   "source": [
    "number = 1\n",
    "number?"
   ]
  },
  {
   "cell_type": "code",
   "execution_count": 55,
   "id": "15730336",
   "metadata": {},
   "outputs": [],
   "source": [
    "print?"
   ]
  },
  {
   "cell_type": "code",
   "execution_count": 56,
   "id": "4597856c",
   "metadata": {},
   "outputs": [],
   "source": [
    "print??"
   ]
  },
  {
   "cell_type": "markdown",
   "id": "bf0a9228",
   "metadata": {},
   "source": [
    "#### Meaningful names"
   ]
  },
  {
   "cell_type": "code",
   "execution_count": 57,
   "id": "a7a4cc9c",
   "metadata": {},
   "outputs": [],
   "source": [
    "# Good example\n",
    "student_name = \"John Doe\"\n",
    "\n",
    "# Avoid generic names\n",
    "x = \"John Doe\""
   ]
  },
  {
   "cell_type": "markdown",
   "id": "d43245de",
   "metadata": {},
   "source": [
    "#### Use snake case for naming variables"
   ]
  },
  {
   "cell_type": "code",
   "execution_count": 58,
   "id": "ec25e85b",
   "metadata": {},
   "outputs": [],
   "source": [
    "# Good example\n",
    "my_variable = 42\n",
    "\n",
    "# Avoid camel case or spaces\n",
    "myVariable = 42 # Should be avoided\n",
    "MyVariable = 42 # Should be avoided\n",
    "My_Variable = 42 # Should be avoided"
   ]
  },
  {
   "cell_type": "code",
   "execution_count": 59,
   "id": "dad9d229",
   "metadata": {},
   "outputs": [
    {
     "ename": "SyntaxError",
     "evalue": "invalid syntax (289978165.py, line 1)",
     "output_type": "error",
     "traceback": [
      "\u001b[1;36m  File \u001b[1;32m\"C:\\Users\\timH\\AppData\\Local\\Temp\\ipykernel_33020\\289978165.py\"\u001b[1;36m, line \u001b[1;32m1\u001b[0m\n\u001b[1;33m    my variable = 42 # This doesn't work\u001b[0m\n\u001b[1;37m       ^\u001b[0m\n\u001b[1;31mSyntaxError\u001b[0m\u001b[1;31m:\u001b[0m invalid syntax\n"
     ]
    }
   ],
   "source": [
    "my variable = 42 # This doesn't work"
   ]
  },
  {
   "cell_type": "markdown",
   "id": "c096b011",
   "metadata": {},
   "source": [
    "#### Use all caps with underscores for constants"
   ]
  },
  {
   "cell_type": "code",
   "execution_count": 60,
   "id": "b2888aec",
   "metadata": {},
   "outputs": [],
   "source": [
    "# Good example\n",
    "MAX_VALUE = 100\n",
    "\n",
    "# Avoid lowercase or spaces\n",
    "MaxValue = 100\n",
    "MAXVALUE = 100"
   ]
  },
  {
   "cell_type": "code",
   "execution_count": 61,
   "id": "632e3e21",
   "metadata": {},
   "outputs": [
    {
     "ename": "SyntaxError",
     "evalue": "invalid syntax (676053506.py, line 1)",
     "output_type": "error",
     "traceback": [
      "\u001b[1;36m  File \u001b[1;32m\"C:\\Users\\timH\\AppData\\Local\\Temp\\ipykernel_33020\\676053506.py\"\u001b[1;36m, line \u001b[1;32m1\u001b[0m\n\u001b[1;33m    MAX VALUE = 100\u001b[0m\n\u001b[1;37m        ^\u001b[0m\n\u001b[1;31mSyntaxError\u001b[0m\u001b[1;31m:\u001b[0m invalid syntax\n"
     ]
    }
   ],
   "source": [
    "MAX VALUE = 100"
   ]
  },
  {
   "cell_type": "markdown",
   "id": "cdf5f8d0",
   "metadata": {},
   "source": [
    "#### Avoid using pre-defined functions"
   ]
  },
  {
   "cell_type": "code",
   "execution_count": 62,
   "id": "2c630ab8",
   "metadata": {},
   "outputs": [],
   "source": [
    "# Both these options will compute the sum (the first one is preferred)\n",
    "total_sum = sum([1, 2, 3])\n",
    "sum = 1 + 2 + 3 # This will overwrite the functionality of sum!"
   ]
  },
  {
   "cell_type": "code",
   "execution_count": 63,
   "id": "9e555347",
   "metadata": {},
   "outputs": [
    {
     "ename": "TypeError",
     "evalue": "'int' object is not callable",
     "output_type": "error",
     "traceback": [
      "\u001b[1;31m---------------------------------------------------------------------------\u001b[0m",
      "\u001b[1;31mTypeError\u001b[0m                                 Traceback (most recent call last)",
      "\u001b[1;32m~\\AppData\\Local\\Temp\\ipykernel_33020\\3740122755.py\u001b[0m in \u001b[0;36m<module>\u001b[1;34m\u001b[0m\n\u001b[1;32m----> 1\u001b[1;33m \u001b[0mtotal_sum\u001b[0m \u001b[1;33m=\u001b[0m \u001b[0msum\u001b[0m\u001b[1;33m(\u001b[0m\u001b[1;33m[\u001b[0m\u001b[1;36m1\u001b[0m\u001b[1;33m,\u001b[0m \u001b[1;36m2\u001b[0m\u001b[1;33m,\u001b[0m \u001b[1;36m3\u001b[0m\u001b[1;33m]\u001b[0m\u001b[1;33m)\u001b[0m \u001b[1;31m# This doesn't work anymore because sum is now 6!\u001b[0m\u001b[1;33m\u001b[0m\u001b[1;33m\u001b[0m\u001b[0m\n\u001b[0m",
      "\u001b[1;31mTypeError\u001b[0m: 'int' object is not callable"
     ]
    }
   ],
   "source": [
    "total_sum = sum([1, 2, 3]) # This doesn't work anymore because sum is now 6!"
   ]
  },
  {
   "cell_type": "code",
   "execution_count": 64,
   "id": "cb032f38",
   "metadata": {},
   "outputs": [],
   "source": [
    "# This can again be fixed by deleting sum!\n",
    "del sum\n",
    "total_sum = sum([1, 2, 3])"
   ]
  },
  {
   "cell_type": "markdown",
   "id": "95c58687",
   "metadata": {},
   "source": [
    "## Comments"
   ]
  },
  {
   "cell_type": "code",
   "execution_count": 65,
   "id": "db682526",
   "metadata": {},
   "outputs": [],
   "source": [
    "# This is a comment.\n",
    "# It provides additional information about the code.\n",
    "result = 42 # Assigning a value to the variable 'result'\n",
    "# The value 42 represents the ultimate answer.\n",
    "\n",
    "# This section calculates the sum of two numbers\n",
    "a = 10\n",
    "b = 20\n",
    "sum_ab = a + b # Computing the sum"
   ]
  },
  {
   "cell_type": "markdown",
   "id": "6b72f3cc",
   "metadata": {},
   "source": [
    "#### Write meaningful comments explaining difficult logic"
   ]
  },
  {
   "cell_type": "markdown",
   "id": "95d93af5",
   "metadata": {},
   "source": [
    "Bad example:"
   ]
  },
  {
   "cell_type": "code",
   "execution_count": 66,
   "id": "49304ff9",
   "metadata": {},
   "outputs": [
    {
     "name": "stdout",
     "output_type": "stream",
     "text": [
      "True\n"
     ]
    }
   ],
   "source": [
    "n = 10 # Define n\n",
    "\n",
    "total_sum = 0 # Initialize the total sum\n",
    "# let i range from 1 up to n (including n)\n",
    "for i in range(1, n+1):\n",
    "    # Add i to the total sum\n",
    "    total_sum = total_sum + i \n",
    "\n",
    "# Validate that the total sum equals n * (n+1)/2\n",
    "print(total_sum == n * (n + 1) / 2)"
   ]
  },
  {
   "cell_type": "markdown",
   "id": "a4f40655",
   "metadata": {},
   "source": [
    "Fixed this example"
   ]
  },
  {
   "cell_type": "code",
   "execution_count": 67,
   "id": "b4f69608",
   "metadata": {},
   "outputs": [
    {
     "name": "stdout",
     "output_type": "stream",
     "text": [
      "True\n"
     ]
    }
   ],
   "source": [
    "# Validate for a chosen n that the \n",
    "# mathematical equality\n",
    "# 1 + 2 + ... + n equals n * (n + 1) / 2 \n",
    "# is satisfied.\n",
    "n = 10\n",
    "\n",
    "total_sum = 0\n",
    "for i in range(1, n+1):\n",
    "    total_sum = total_sum + i \n",
    "\n",
    "print(total_sum == n * (n + 1) / 2)"
   ]
  },
  {
   "cell_type": "markdown",
   "id": "dcc3fc18",
   "metadata": {},
   "source": [
    "#### Extending a line of code over multiple lines"
   ]
  },
  {
   "cell_type": "code",
   "execution_count": 68,
   "id": "5dc4e0ce",
   "metadata": {},
   "outputs": [],
   "source": [
    "total = 10 + 20 +\\\n",
    "        30 + 40 +\\\n",
    "        50"
   ]
  },
  {
   "cell_type": "code",
   "execution_count": 69,
   "id": "4a88a8ed",
   "metadata": {},
   "outputs": [
    {
     "name": "stdout",
     "output_type": "stream",
     "text": [
      "This is a long string that\n",
      "spans multiple lines. It is\n",
      "enclosed in triple quotes.\n"
     ]
    }
   ],
   "source": [
    "message = \"\"\"This is a long string that\n",
    "spans multiple lines. It is\n",
    "enclosed in triple quotes.\"\"\"\n",
    "\n",
    "print(message)"
   ]
  },
  {
   "cell_type": "code",
   "execution_count": 70,
   "id": "0f458a5a",
   "metadata": {},
   "outputs": [],
   "source": [
    "numbers = [1, 2, 3,\n",
    "           4, 5, 6]"
   ]
  },
  {
   "cell_type": "code",
   "execution_count": 71,
   "id": "0c6d2ce2",
   "metadata": {},
   "outputs": [],
   "source": [
    "result = (10 + 20 + 30 +\n",
    "            40 + 50 + 60)"
   ]
  },
  {
   "cell_type": "markdown",
   "id": "268f2495",
   "metadata": {},
   "source": [
    "#### Basic Python types"
   ]
  },
  {
   "cell_type": "code",
   "execution_count": 72,
   "id": "1ca224d3",
   "metadata": {},
   "outputs": [
    {
     "name": "stdout",
     "output_type": "stream",
     "text": [
      "<class 'int'>\n",
      "<class 'float'>\n",
      "<class 'complex'>\n"
     ]
    }
   ],
   "source": [
    "# Numeric types\n",
    "print(type(42))\n",
    "print(type(42.))\n",
    "print(type(2 + 3j))"
   ]
  },
  {
   "cell_type": "code",
   "execution_count": 73,
   "id": "bfee90f2",
   "metadata": {},
   "outputs": [
    {
     "name": "stdout",
     "output_type": "stream",
     "text": [
      "<class 'bool'>\n",
      "<class 'bool'>\n"
     ]
    }
   ],
   "source": [
    "# Boolean type\n",
    "print(type(True))\n",
    "print(type(False))"
   ]
  },
  {
   "cell_type": "code",
   "execution_count": 74,
   "id": "88415996",
   "metadata": {},
   "outputs": [
    {
     "name": "stdout",
     "output_type": "stream",
     "text": [
      "<class 'str'>\n",
      "<class 'list'>\n",
      "<class 'tuple'>\n",
      "<class 'range'>\n",
      "<class 'set'>\n",
      "<class 'frozenset'>\n",
      "<class 'dict'>\n"
     ]
    }
   ],
   "source": [
    "# Sequence types\n",
    "print(type(\"Hey\"))\n",
    "print(type([1, 2]))\n",
    "print(type((1,2)))\n",
    "print(type(range(1,10)))\n",
    "print(type({\"apple\", \n",
    "                \"banana\", \n",
    "                \"orange\"}))\n",
    "print(type(frozenset({\"apple\", \n",
    "                          \"banana\", \n",
    "                          \"orange\"})))\n",
    "print(type({\"name\" : \"John Doe\",\n",
    "               \"age\" : 25}))"
   ]
  },
  {
   "cell_type": "markdown",
   "id": "703ba981",
   "metadata": {},
   "source": [
    "#### Basic arithmetic"
   ]
  },
  {
   "cell_type": "code",
   "execution_count": 75,
   "id": "447a8850",
   "metadata": {},
   "outputs": [
    {
     "name": "stdout",
     "output_type": "stream",
     "text": [
      "8\n"
     ]
    }
   ],
   "source": [
    "# Addition\n",
    "x = 5\n",
    "y = 3\n",
    "result = x + y # Output: 8\n",
    "print(result)"
   ]
  },
  {
   "cell_type": "code",
   "execution_count": 76,
   "id": "7923e5cd",
   "metadata": {},
   "outputs": [
    {
     "name": "stdout",
     "output_type": "stream",
     "text": [
      "5\n"
     ]
    }
   ],
   "source": [
    "# Subtraction\n",
    "x = 7\n",
    "y = 2\n",
    "result = x - y # Output: 5\n",
    "print(result)"
   ]
  },
  {
   "cell_type": "code",
   "execution_count": 77,
   "id": "4fdd922a",
   "metadata": {},
   "outputs": [
    {
     "name": "stdout",
     "output_type": "stream",
     "text": [
      "12\n"
     ]
    }
   ],
   "source": [
    "# Multiplication\n",
    "x = 4\n",
    "y = 3\n",
    "result = x * y # Output: 12\n",
    "print(result)"
   ]
  },
  {
   "cell_type": "code",
   "execution_count": 78,
   "id": "b7afaac6",
   "metadata": {},
   "outputs": [
    {
     "name": "stdout",
     "output_type": "stream",
     "text": [
      "3.3333333333333335\n"
     ]
    }
   ],
   "source": [
    "# Division\n",
    "x = 10\n",
    "y = 3\n",
    "result = x / y # Output: 3.3333333333333335\n",
    "print(result)"
   ]
  },
  {
   "cell_type": "code",
   "execution_count": 79,
   "id": "6464abc7",
   "metadata": {},
   "outputs": [
    {
     "name": "stdout",
     "output_type": "stream",
     "text": [
      "3\n"
     ]
    }
   ],
   "source": [
    "# Integer division\n",
    "x = 10\n",
    "y = 3\n",
    "result = x // y # Output: 3\n",
    "print(result)"
   ]
  },
  {
   "cell_type": "code",
   "execution_count": 80,
   "id": "0db4b01a",
   "metadata": {},
   "outputs": [
    {
     "name": "stdout",
     "output_type": "stream",
     "text": [
      "1\n"
     ]
    }
   ],
   "source": [
    "# Modulus\n",
    "x = 10\n",
    "y = 3\n",
    "result = x % y # Output: 1\n",
    "print(result)"
   ]
  },
  {
   "cell_type": "code",
   "execution_count": 81,
   "id": "d0bc2e30",
   "metadata": {},
   "outputs": [
    {
     "name": "stdout",
     "output_type": "stream",
     "text": [
      "Tim sits next to Filip and Tom\n",
      "Tom sits next to Tim and Jerry\n",
      "Jerry sits next to Tom and Filip\n",
      "Filip sits next to Jerry and Tim\n"
     ]
    }
   ],
   "source": [
    "guests = ['Tim', 'Tom', 'Jerry', 'Filip']\n",
    "num_guests = len(guests)\n",
    "for n, guest in enumerate(guests):\n",
    "    left_nb = guests[(n-1) % num_guests]\n",
    "    right_nb = guests[(n+1) % num_guests]\n",
    "    print(f\"{guest} sits next to {left_nb} and {right_nb}\")"
   ]
  },
  {
   "cell_type": "code",
   "execution_count": 82,
   "id": "075478bb",
   "metadata": {},
   "outputs": [
    {
     "name": "stdout",
     "output_type": "stream",
     "text": [
      "4.7\n"
     ]
    }
   ],
   "source": [
    "x = 3.5\n",
    "y = 1.2\n",
    "result = x + y\n",
    "print(result)"
   ]
  },
  {
   "cell_type": "markdown",
   "id": "e2926bc6",
   "metadata": {},
   "source": [
    "## Comparison operators"
   ]
  },
  {
   "cell_type": "markdown",
   "id": "d34676ea",
   "metadata": {},
   "source": [
    "#### Basic usage"
   ]
  },
  {
   "cell_type": "code",
   "execution_count": 83,
   "id": "1d49f680",
   "metadata": {},
   "outputs": [
    {
     "name": "stdout",
     "output_type": "stream",
     "text": [
      "False\n",
      "True\n",
      "False\n"
     ]
    }
   ],
   "source": [
    "x = 5\n",
    "y = 3\n",
    "print(x == y)\n",
    "print(x > y)\n",
    "print(x <= y)"
   ]
  },
  {
   "cell_type": "markdown",
   "id": "830e37b3",
   "metadata": {},
   "source": [
    "#### Beware when comparing floats"
   ]
  },
  {
   "cell_type": "code",
   "execution_count": 84,
   "id": "a68b0f92",
   "metadata": {},
   "outputs": [
    {
     "name": "stdout",
     "output_type": "stream",
     "text": [
      "False\n"
     ]
    }
   ],
   "source": [
    "x = 0.1 + 0.1 + 0.1\n",
    "y = 0.3\n",
    "\n",
    "print(x == y)"
   ]
  },
  {
   "cell_type": "code",
   "execution_count": 85,
   "id": "fccd67c5",
   "metadata": {},
   "outputs": [
    {
     "name": "stdout",
     "output_type": "stream",
     "text": [
      "0.30000000000000004\n"
     ]
    }
   ],
   "source": [
    "print(x)"
   ]
  },
  {
   "cell_type": "code",
   "execution_count": 86,
   "id": "d95a094d",
   "metadata": {},
   "outputs": [
    {
     "name": "stdout",
     "output_type": "stream",
     "text": [
      "0.3\n"
     ]
    }
   ],
   "source": [
    "print(y)"
   ]
  },
  {
   "cell_type": "code",
   "execution_count": 87,
   "id": "fb652fa4",
   "metadata": {},
   "outputs": [
    {
     "name": "stdout",
     "output_type": "stream",
     "text": [
      "5.551115123125783e-17\n"
     ]
    }
   ],
   "source": [
    "print(x-y)"
   ]
  },
  {
   "cell_type": "code",
   "execution_count": 88,
   "id": "6d0f01a4",
   "metadata": {},
   "outputs": [
    {
     "name": "stdout",
     "output_type": "stream",
     "text": [
      "True\n"
     ]
    }
   ],
   "source": [
    "# Using an error tolerance\n",
    "x = 0.1 + 0.1 + 0.1\n",
    "y = 0.3\n",
    "epsilon = 1e-9\n",
    "\n",
    "print(abs(x - y) < epsilon)  # Output: True"
   ]
  },
  {
   "cell_type": "markdown",
   "id": "31611535",
   "metadata": {},
   "source": [
    "## Assignment operator"
   ]
  },
  {
   "cell_type": "code",
   "execution_count": 89,
   "id": "8e9be963",
   "metadata": {},
   "outputs": [
    {
     "name": "stdout",
     "output_type": "stream",
     "text": [
      "2\n"
     ]
    }
   ],
   "source": [
    "x = 1\n",
    "x = x + 1\n",
    "print(x)"
   ]
  },
  {
   "cell_type": "markdown",
   "id": "6daa4d31",
   "metadata": {},
   "source": [
    "## Conditional statements"
   ]
  },
  {
   "cell_type": "markdown",
   "id": "04b84bb0",
   "metadata": {},
   "source": [
    "#### Basic usage"
   ]
  },
  {
   "cell_type": "code",
   "execution_count": 93,
   "id": "cd11e2dc",
   "metadata": {},
   "outputs": [
    {
     "name": "stdout",
     "output_type": "stream",
     "text": [
      "x is positive\n"
     ]
    }
   ],
   "source": [
    "\n",
    "x = 5\n",
    "\n",
    "if x > 0:\n",
    "    print(\"x is positive\")\n",
    "elif x < 0:\n",
    "    print(\"x is negative\")\n",
    "else:\n",
    "    print(\"x is zero\")"
   ]
  },
  {
   "cell_type": "code",
   "execution_count": 95,
   "id": "e1d0b9d7",
   "metadata": {},
   "outputs": [
    {
     "name": "stdout",
     "output_type": "stream",
     "text": [
      "Both x and y are positive\n"
     ]
    }
   ],
   "source": [
    "x = 10\n",
    "y = 5\n",
    "\n",
    "if (x > 0) and (y > 0):\n",
    "    print(\"Both x and y are positive\")\n",
    "elif (x > 0) or (y > 0):\n",
    "    print(\"Either x or y is positive\")\n",
    "else:\n",
    "    print(\"Neither x nor y is positive\")"
   ]
  },
  {
   "cell_type": "markdown",
   "id": "191c5d47",
   "metadata": {},
   "source": [
    "#### Make use of parantheses!"
   ]
  },
  {
   "cell_type": "code",
   "execution_count": 100,
   "id": "b396668d",
   "metadata": {},
   "outputs": [
    {
     "name": "stdout",
     "output_type": "stream",
     "text": [
      "Condition met\n"
     ]
    }
   ],
   "source": [
    "x = 5\n",
    "y = -10\n",
    "\n",
    "if x > 0 and y > 0 or x > y:\n",
    "    print(\"Condition met\")\n",
    "else:\n",
    "    print(\"Condition not met\")"
   ]
  },
  {
   "cell_type": "code",
   "execution_count": 99,
   "id": "80f6b608",
   "metadata": {},
   "outputs": [
    {
     "name": "stdout",
     "output_type": "stream",
     "text": [
      "Condition met\n"
     ]
    }
   ],
   "source": [
    "x = 5\n",
    "y = -10\n",
    "\n",
    "if ((x > 0) and (y > 0)) or (x > y):\n",
    "    print(\"Condition met\")\n",
    "else:\n",
    "    print(\"Condition not met\")"
   ]
  },
  {
   "cell_type": "markdown",
   "id": "f88512b3",
   "metadata": {},
   "source": [
    "## While loop"
   ]
  },
  {
   "cell_type": "code",
   "execution_count": 1,
   "id": "7a43f4b1",
   "metadata": {},
   "outputs": [
    {
     "name": "stdout",
     "output_type": "stream",
     "text": [
      "Count: 0\n",
      "Count: 1\n",
      "Count: 2\n",
      "Count: 3\n",
      "Count: 4\n"
     ]
    }
   ],
   "source": [
    "count = 0\n",
    "while count < 5:\n",
    "    print(\"Count:\", count)\n",
    "    count += 1"
   ]
  },
  {
   "cell_type": "code",
   "execution_count": 2,
   "id": "4e63dc89",
   "metadata": {},
   "outputs": [
    {
     "name": "stdout",
     "output_type": "stream",
     "text": [
      "Count: 0\n",
      "Count: 1\n",
      "Count: 2\n"
     ]
    }
   ],
   "source": [
    "count = 0\n",
    "while True:\n",
    "    print(\"Count:\", count)\n",
    "    count += 1\n",
    "    if count == 3:\n",
    "        break"
   ]
  },
  {
   "cell_type": "code",
   "execution_count": 3,
   "id": "f9e37d17",
   "metadata": {},
   "outputs": [
    {
     "name": "stdout",
     "output_type": "stream",
     "text": [
      "Count: 1\n",
      "Count: 2\n",
      "Count: 4\n",
      "Count: 5\n"
     ]
    }
   ],
   "source": [
    "count = 0\n",
    "while count < 5:\n",
    "    count += 1\n",
    "    if count == 3:\n",
    "        continue\n",
    "    print(\"Count:\", count)"
   ]
  },
  {
   "cell_type": "markdown",
   "id": "6839f02a",
   "metadata": {},
   "source": [
    "## For loops"
   ]
  },
  {
   "cell_type": "code",
   "execution_count": 5,
   "id": "ce80a6ed",
   "metadata": {},
   "outputs": [
    {
     "name": "stdout",
     "output_type": "stream",
     "text": [
      "For loop\n",
      "0\n",
      "1\n",
      "2\n",
      "3\n",
      "4\n",
      "While loop\n",
      "0\n",
      "1\n",
      "2\n",
      "3\n",
      "4\n"
     ]
    }
   ],
   "source": [
    "# Using a for loop\n",
    "print(\"For loop\")\n",
    "for i in range(5):\n",
    "    print(i)\n",
    "\n",
    "print(\"While loop\")\n",
    "# Using a while loop\n",
    "count = 0\n",
    "while count < 5:\n",
    "    print(count)\n",
    "    count += 1"
   ]
  },
  {
   "cell_type": "markdown",
   "id": "92a8b2b6",
   "metadata": {},
   "source": [
    "#### For-else loop"
   ]
  },
  {
   "cell_type": "code",
   "execution_count": 6,
   "id": "66426dad",
   "metadata": {},
   "outputs": [
    {
     "name": "stdout",
     "output_type": "stream",
     "text": [
      "0\n",
      "1\n",
      "2\n",
      "3\n",
      "4\n",
      "Loop completed successfully.\n"
     ]
    }
   ],
   "source": [
    "for i in range(5):\n",
    "    print(i)\n",
    "else:\n",
    "    print(\"Loop completed successfully.\")"
   ]
  },
  {
   "cell_type": "code",
   "execution_count": 7,
   "id": "2adc203d",
   "metadata": {},
   "outputs": [
    {
     "name": "stdout",
     "output_type": "stream",
     "text": [
      "0\n",
      "1\n",
      "2\n",
      "3\n",
      "4\n"
     ]
    }
   ],
   "source": [
    "for i in range(5):\n",
    "    print(i)\n",
    "    if i == 4:\n",
    "        break\n",
    "else:\n",
    "    print(\"Loop completed successfully.\")"
   ]
  },
  {
   "cell_type": "code",
   "execution_count": 8,
   "id": "4ddca1d2",
   "metadata": {},
   "outputs": [
    {
     "name": "stdout",
     "output_type": "stream",
     "text": [
      "0 apple\n",
      "1 banana\n",
      "2 cherry\n"
     ]
    }
   ],
   "source": [
    "fruits = ['apple', 'banana', 'cherry']\n",
    "for index, fruit in enumerate(fruits):\n",
    "    print(index, fruit)"
   ]
  },
  {
   "cell_type": "code",
   "execution_count": 9,
   "id": "e2beda4a",
   "metadata": {},
   "outputs": [
    {
     "name": "stdout",
     "output_type": "stream",
     "text": [
      "Alice 25\n",
      "Bob 30\n",
      "Charlie 35\n"
     ]
    }
   ],
   "source": [
    "names = ['Alice', 'Bob', 'Charlie']\n",
    "ages = [25, 30, 35]\n",
    "for name, age in zip(names, ages):\n",
    "    print(name, age)"
   ]
  },
  {
   "cell_type": "code",
   "execution_count": 10,
   "id": "4345e6cb",
   "metadata": {},
   "outputs": [
    {
     "name": "stdout",
     "output_type": "stream",
     "text": [
      "0 0\n",
      "0 1\n",
      "0 2\n",
      "1 0\n",
      "1 1\n",
      "1 2\n",
      "2 0\n",
      "2 1\n",
      "2 2\n",
      "3 0\n",
      "3 1\n",
      "3 2\n",
      "4 0\n",
      "4 1\n",
      "4 2\n"
     ]
    }
   ],
   "source": [
    "for i in range(5):\n",
    "    for j in range(3):\n",
    "        print(i, j)"
   ]
  },
  {
   "cell_type": "code",
   "execution_count": 14,
   "id": "b4f848a4",
   "metadata": {},
   "outputs": [
    {
     "name": "stdout",
     "output_type": "stream",
     "text": [
      "Execution time: 3.7323734760284424 seconds\n"
     ]
    }
   ],
   "source": [
    "import time\n",
    "\n",
    "start_time = time.time()\n",
    "\n",
    "for i in range(10**7):\n",
    "    i**2\n",
    "end_time = time.time()\n",
    "execution_time = end_time - start_time\n",
    "print(\"Execution time:\", execution_time, \"seconds\")"
   ]
  },
  {
   "cell_type": "code",
   "execution_count": 15,
   "id": "309b6887",
   "metadata": {},
   "outputs": [],
   "source": [
    "import timeit\n",
    "\n",
    "def my_function():\n",
    "    for i in range(10**7):\n",
    "            i**2\n",
    "\n",
    "execution_time = timeit.timeit(my_function, number=5)"
   ]
  },
  {
   "cell_type": "markdown",
   "id": "4d14d980",
   "metadata": {},
   "source": [
    "## Strings"
   ]
  },
  {
   "cell_type": "code",
   "execution_count": 18,
   "id": "de7ce9a7",
   "metadata": {},
   "outputs": [
    {
     "name": "stdout",
     "output_type": "stream",
     "text": [
      "This is a string with a newline \n",
      " and a tab \t, and this is a double quote: \"\n"
     ]
    }
   ],
   "source": [
    "text = \"This is a string with a newline \\n and a tab \\t, and this is a double quote: \\\"\"\n",
    "print(text)"
   ]
  },
  {
   "cell_type": "code",
   "execution_count": 19,
   "id": "f03d968b",
   "metadata": {},
   "outputs": [
    {
     "name": "stdout",
     "output_type": "stream",
     "text": [
      "Hello, World!\n"
     ]
    }
   ],
   "source": [
    "message = \"Hello, World!\"\n",
    "print(message)"
   ]
  },
  {
   "cell_type": "code",
   "execution_count": 25,
   "id": "621bbbe1",
   "metadata": {},
   "outputs": [
    {
     "data": {
      "text/html": [
       "<div>\n",
       "<style scoped>\n",
       "    .dataframe tbody tr th:only-of-type {\n",
       "        vertical-align: middle;\n",
       "    }\n",
       "\n",
       "    .dataframe tbody tr th {\n",
       "        vertical-align: top;\n",
       "    }\n",
       "\n",
       "    .dataframe thead th {\n",
       "        text-align: right;\n",
       "    }\n",
       "</style>\n",
       "<table border=\"1\" class=\"dataframe\">\n",
       "  <thead>\n",
       "    <tr style=\"text-align: right;\">\n",
       "      <th></th>\n",
       "      <th>CustomerId</th>\n",
       "      <th>FirstName</th>\n",
       "      <th>LastName</th>\n",
       "      <th>Company</th>\n",
       "      <th>Address</th>\n",
       "      <th>City</th>\n",
       "      <th>State</th>\n",
       "      <th>Country</th>\n",
       "      <th>PostalCode</th>\n",
       "      <th>Phone</th>\n",
       "      <th>Fax</th>\n",
       "      <th>Email</th>\n",
       "      <th>SupportRepId</th>\n",
       "    </tr>\n",
       "  </thead>\n",
       "  <tbody>\n",
       "    <tr>\n",
       "      <th>0</th>\n",
       "      <td>1</td>\n",
       "      <td>Luís</td>\n",
       "      <td>Gonçalves</td>\n",
       "      <td>Embraer - Empresa Brasileira de Aeronáutica S.A.</td>\n",
       "      <td>Av. Brigadeiro Faria Lima, 2170</td>\n",
       "      <td>São José dos Campos</td>\n",
       "      <td>SP</td>\n",
       "      <td>Brazil</td>\n",
       "      <td>12227-000</td>\n",
       "      <td>+55 (12) 3923-5555</td>\n",
       "      <td>+55 (12) 3923-5566</td>\n",
       "      <td>luisg@embraer.com.br</td>\n",
       "      <td>3</td>\n",
       "    </tr>\n",
       "    <tr>\n",
       "      <th>1</th>\n",
       "      <td>2</td>\n",
       "      <td>Leonie</td>\n",
       "      <td>Köhler</td>\n",
       "      <td>None</td>\n",
       "      <td>Theodor-Heuss-Straße 34</td>\n",
       "      <td>Stuttgart</td>\n",
       "      <td>None</td>\n",
       "      <td>Germany</td>\n",
       "      <td>70174</td>\n",
       "      <td>+49 0711 2842222</td>\n",
       "      <td>None</td>\n",
       "      <td>leonekohler@surfeu.de</td>\n",
       "      <td>5</td>\n",
       "    </tr>\n",
       "    <tr>\n",
       "      <th>2</th>\n",
       "      <td>3</td>\n",
       "      <td>François</td>\n",
       "      <td>Tremblay</td>\n",
       "      <td>None</td>\n",
       "      <td>1498 rue Bélanger</td>\n",
       "      <td>Montréal</td>\n",
       "      <td>QC</td>\n",
       "      <td>Canada</td>\n",
       "      <td>H2G 1A7</td>\n",
       "      <td>+1 (514) 721-4711</td>\n",
       "      <td>None</td>\n",
       "      <td>ftremblay@gmail.com</td>\n",
       "      <td>3</td>\n",
       "    </tr>\n",
       "    <tr>\n",
       "      <th>3</th>\n",
       "      <td>4</td>\n",
       "      <td>Bjørn</td>\n",
       "      <td>Hansen</td>\n",
       "      <td>None</td>\n",
       "      <td>Ullevålsveien 14</td>\n",
       "      <td>Oslo</td>\n",
       "      <td>None</td>\n",
       "      <td>Norway</td>\n",
       "      <td>0171</td>\n",
       "      <td>+47 22 44 22 22</td>\n",
       "      <td>None</td>\n",
       "      <td>bjorn.hansen@yahoo.no</td>\n",
       "      <td>4</td>\n",
       "    </tr>\n",
       "    <tr>\n",
       "      <th>4</th>\n",
       "      <td>5</td>\n",
       "      <td>František</td>\n",
       "      <td>Wichterlová</td>\n",
       "      <td>JetBrains s.r.o.</td>\n",
       "      <td>Klanova 9/506</td>\n",
       "      <td>Prague</td>\n",
       "      <td>None</td>\n",
       "      <td>Czech Republic</td>\n",
       "      <td>14700</td>\n",
       "      <td>+420 2 4172 5555</td>\n",
       "      <td>+420 2 4172 5555</td>\n",
       "      <td>frantisekw@jetbrains.com</td>\n",
       "      <td>4</td>\n",
       "    </tr>\n",
       "    <tr>\n",
       "      <th>5</th>\n",
       "      <td>6</td>\n",
       "      <td>Helena</td>\n",
       "      <td>Holý</td>\n",
       "      <td>None</td>\n",
       "      <td>Rilská 3174/6</td>\n",
       "      <td>Prague</td>\n",
       "      <td>None</td>\n",
       "      <td>Czech Republic</td>\n",
       "      <td>14300</td>\n",
       "      <td>+420 2 4177 0449</td>\n",
       "      <td>None</td>\n",
       "      <td>hholy@gmail.com</td>\n",
       "      <td>5</td>\n",
       "    </tr>\n",
       "    <tr>\n",
       "      <th>6</th>\n",
       "      <td>7</td>\n",
       "      <td>Astrid</td>\n",
       "      <td>Gruber</td>\n",
       "      <td>None</td>\n",
       "      <td>Rotenturmstraße 4, 1010 Innere Stadt</td>\n",
       "      <td>Vienne</td>\n",
       "      <td>None</td>\n",
       "      <td>Austria</td>\n",
       "      <td>1010</td>\n",
       "      <td>+43 01 5134505</td>\n",
       "      <td>None</td>\n",
       "      <td>astrid.gruber@apple.at</td>\n",
       "      <td>5</td>\n",
       "    </tr>\n",
       "    <tr>\n",
       "      <th>7</th>\n",
       "      <td>8</td>\n",
       "      <td>Daan</td>\n",
       "      <td>Peeters</td>\n",
       "      <td>None</td>\n",
       "      <td>Grétrystraat 63</td>\n",
       "      <td>Brussels</td>\n",
       "      <td>None</td>\n",
       "      <td>Belgium</td>\n",
       "      <td>1000</td>\n",
       "      <td>+32 02 219 03 03</td>\n",
       "      <td>None</td>\n",
       "      <td>daan_peeters@apple.be</td>\n",
       "      <td>4</td>\n",
       "    </tr>\n",
       "    <tr>\n",
       "      <th>8</th>\n",
       "      <td>9</td>\n",
       "      <td>Kara</td>\n",
       "      <td>Nielsen</td>\n",
       "      <td>None</td>\n",
       "      <td>Sønder Boulevard 51</td>\n",
       "      <td>Copenhagen</td>\n",
       "      <td>None</td>\n",
       "      <td>Denmark</td>\n",
       "      <td>1720</td>\n",
       "      <td>+453 3331 9991</td>\n",
       "      <td>None</td>\n",
       "      <td>kara.nielsen@jubii.dk</td>\n",
       "      <td>4</td>\n",
       "    </tr>\n",
       "    <tr>\n",
       "      <th>9</th>\n",
       "      <td>10</td>\n",
       "      <td>Eduardo</td>\n",
       "      <td>Martins</td>\n",
       "      <td>Woodstock Discos</td>\n",
       "      <td>Rua Dr. Falcão Filho, 155</td>\n",
       "      <td>São Paulo</td>\n",
       "      <td>SP</td>\n",
       "      <td>Brazil</td>\n",
       "      <td>01007-010</td>\n",
       "      <td>+55 (11) 3033-5446</td>\n",
       "      <td>+55 (11) 3033-4564</td>\n",
       "      <td>eduardo@woodstock.com.br</td>\n",
       "      <td>4</td>\n",
       "    </tr>\n",
       "    <tr>\n",
       "      <th>10</th>\n",
       "      <td>11</td>\n",
       "      <td>Alexandre</td>\n",
       "      <td>Rocha</td>\n",
       "      <td>Banco do Brasil S.A.</td>\n",
       "      <td>Av. Paulista, 2022</td>\n",
       "      <td>São Paulo</td>\n",
       "      <td>SP</td>\n",
       "      <td>Brazil</td>\n",
       "      <td>01310-200</td>\n",
       "      <td>+55 (11) 3055-3278</td>\n",
       "      <td>+55 (11) 3055-8131</td>\n",
       "      <td>alero@uol.com.br</td>\n",
       "      <td>5</td>\n",
       "    </tr>\n",
       "    <tr>\n",
       "      <th>11</th>\n",
       "      <td>12</td>\n",
       "      <td>Roberto</td>\n",
       "      <td>Almeida</td>\n",
       "      <td>Riotur</td>\n",
       "      <td>Praça Pio X, 119</td>\n",
       "      <td>Rio de Janeiro</td>\n",
       "      <td>RJ</td>\n",
       "      <td>Brazil</td>\n",
       "      <td>20040-020</td>\n",
       "      <td>+55 (21) 2271-7000</td>\n",
       "      <td>+55 (21) 2271-7070</td>\n",
       "      <td>roberto.almeida@riotur.gov.br</td>\n",
       "      <td>3</td>\n",
       "    </tr>\n",
       "    <tr>\n",
       "      <th>12</th>\n",
       "      <td>13</td>\n",
       "      <td>Fernanda</td>\n",
       "      <td>Ramos</td>\n",
       "      <td>None</td>\n",
       "      <td>Qe 7 Bloco G</td>\n",
       "      <td>Brasília</td>\n",
       "      <td>DF</td>\n",
       "      <td>Brazil</td>\n",
       "      <td>71020-677</td>\n",
       "      <td>+55 (61) 3363-5547</td>\n",
       "      <td>+55 (61) 3363-7855</td>\n",
       "      <td>fernadaramos4@uol.com.br</td>\n",
       "      <td>4</td>\n",
       "    </tr>\n",
       "    <tr>\n",
       "      <th>13</th>\n",
       "      <td>14</td>\n",
       "      <td>Mark</td>\n",
       "      <td>Philips</td>\n",
       "      <td>Telus</td>\n",
       "      <td>8210 111 ST NW</td>\n",
       "      <td>Edmonton</td>\n",
       "      <td>AB</td>\n",
       "      <td>Canada</td>\n",
       "      <td>T6G 2C7</td>\n",
       "      <td>+1 (780) 434-4554</td>\n",
       "      <td>+1 (780) 434-5565</td>\n",
       "      <td>mphilips12@shaw.ca</td>\n",
       "      <td>5</td>\n",
       "    </tr>\n",
       "    <tr>\n",
       "      <th>14</th>\n",
       "      <td>15</td>\n",
       "      <td>Jennifer</td>\n",
       "      <td>Peterson</td>\n",
       "      <td>Rogers Canada</td>\n",
       "      <td>700 W Pender Street</td>\n",
       "      <td>Vancouver</td>\n",
       "      <td>BC</td>\n",
       "      <td>Canada</td>\n",
       "      <td>V6C 1G8</td>\n",
       "      <td>+1 (604) 688-2255</td>\n",
       "      <td>+1 (604) 688-8756</td>\n",
       "      <td>jenniferp@rogers.ca</td>\n",
       "      <td>3</td>\n",
       "    </tr>\n",
       "    <tr>\n",
       "      <th>15</th>\n",
       "      <td>16</td>\n",
       "      <td>Frank</td>\n",
       "      <td>Harris</td>\n",
       "      <td>Google Inc.</td>\n",
       "      <td>1600 Amphitheatre Parkway</td>\n",
       "      <td>Mountain View</td>\n",
       "      <td>CA</td>\n",
       "      <td>USA</td>\n",
       "      <td>94043-1351</td>\n",
       "      <td>+1 (650) 253-0000</td>\n",
       "      <td>+1 (650) 253-0000</td>\n",
       "      <td>fharris@google.com</td>\n",
       "      <td>4</td>\n",
       "    </tr>\n",
       "    <tr>\n",
       "      <th>16</th>\n",
       "      <td>17</td>\n",
       "      <td>Jack</td>\n",
       "      <td>Smith</td>\n",
       "      <td>Microsoft Corporation</td>\n",
       "      <td>1 Microsoft Way</td>\n",
       "      <td>Redmond</td>\n",
       "      <td>WA</td>\n",
       "      <td>USA</td>\n",
       "      <td>98052-8300</td>\n",
       "      <td>+1 (425) 882-8080</td>\n",
       "      <td>+1 (425) 882-8081</td>\n",
       "      <td>jacksmith@microsoft.com</td>\n",
       "      <td>5</td>\n",
       "    </tr>\n",
       "    <tr>\n",
       "      <th>17</th>\n",
       "      <td>18</td>\n",
       "      <td>Michelle</td>\n",
       "      <td>Brooks</td>\n",
       "      <td>None</td>\n",
       "      <td>627 Broadway</td>\n",
       "      <td>New York</td>\n",
       "      <td>NY</td>\n",
       "      <td>USA</td>\n",
       "      <td>10012-2612</td>\n",
       "      <td>+1 (212) 221-3546</td>\n",
       "      <td>+1 (212) 221-4679</td>\n",
       "      <td>michelleb@aol.com</td>\n",
       "      <td>3</td>\n",
       "    </tr>\n",
       "    <tr>\n",
       "      <th>18</th>\n",
       "      <td>19</td>\n",
       "      <td>Tim</td>\n",
       "      <td>Goyer</td>\n",
       "      <td>Apple Inc.</td>\n",
       "      <td>1 Infinite Loop</td>\n",
       "      <td>Cupertino</td>\n",
       "      <td>CA</td>\n",
       "      <td>USA</td>\n",
       "      <td>95014</td>\n",
       "      <td>+1 (408) 996-1010</td>\n",
       "      <td>+1 (408) 996-1011</td>\n",
       "      <td>tgoyer@apple.com</td>\n",
       "      <td>3</td>\n",
       "    </tr>\n",
       "    <tr>\n",
       "      <th>19</th>\n",
       "      <td>20</td>\n",
       "      <td>Dan</td>\n",
       "      <td>Miller</td>\n",
       "      <td>None</td>\n",
       "      <td>541 Del Medio Avenue</td>\n",
       "      <td>Mountain View</td>\n",
       "      <td>CA</td>\n",
       "      <td>USA</td>\n",
       "      <td>94040-111</td>\n",
       "      <td>+1 (650) 644-3358</td>\n",
       "      <td>None</td>\n",
       "      <td>dmiller@comcast.com</td>\n",
       "      <td>4</td>\n",
       "    </tr>\n",
       "    <tr>\n",
       "      <th>20</th>\n",
       "      <td>21</td>\n",
       "      <td>Kathy</td>\n",
       "      <td>Chase</td>\n",
       "      <td>None</td>\n",
       "      <td>801 W 4th Street</td>\n",
       "      <td>Reno</td>\n",
       "      <td>NV</td>\n",
       "      <td>USA</td>\n",
       "      <td>89503</td>\n",
       "      <td>+1 (775) 223-7665</td>\n",
       "      <td>None</td>\n",
       "      <td>kachase@hotmail.com</td>\n",
       "      <td>5</td>\n",
       "    </tr>\n",
       "    <tr>\n",
       "      <th>21</th>\n",
       "      <td>22</td>\n",
       "      <td>Heather</td>\n",
       "      <td>Leacock</td>\n",
       "      <td>None</td>\n",
       "      <td>120 S Orange Ave</td>\n",
       "      <td>Orlando</td>\n",
       "      <td>FL</td>\n",
       "      <td>USA</td>\n",
       "      <td>32801</td>\n",
       "      <td>+1 (407) 999-7788</td>\n",
       "      <td>None</td>\n",
       "      <td>hleacock@gmail.com</td>\n",
       "      <td>4</td>\n",
       "    </tr>\n",
       "    <tr>\n",
       "      <th>22</th>\n",
       "      <td>23</td>\n",
       "      <td>John</td>\n",
       "      <td>Gordon</td>\n",
       "      <td>None</td>\n",
       "      <td>69 Salem Street</td>\n",
       "      <td>Boston</td>\n",
       "      <td>MA</td>\n",
       "      <td>USA</td>\n",
       "      <td>2113</td>\n",
       "      <td>+1 (617) 522-1333</td>\n",
       "      <td>None</td>\n",
       "      <td>johngordon22@yahoo.com</td>\n",
       "      <td>4</td>\n",
       "    </tr>\n",
       "    <tr>\n",
       "      <th>23</th>\n",
       "      <td>24</td>\n",
       "      <td>Frank</td>\n",
       "      <td>Ralston</td>\n",
       "      <td>None</td>\n",
       "      <td>162 E Superior Street</td>\n",
       "      <td>Chicago</td>\n",
       "      <td>IL</td>\n",
       "      <td>USA</td>\n",
       "      <td>60611</td>\n",
       "      <td>+1 (312) 332-3232</td>\n",
       "      <td>None</td>\n",
       "      <td>fralston@gmail.com</td>\n",
       "      <td>3</td>\n",
       "    </tr>\n",
       "    <tr>\n",
       "      <th>24</th>\n",
       "      <td>25</td>\n",
       "      <td>Victor</td>\n",
       "      <td>Stevens</td>\n",
       "      <td>None</td>\n",
       "      <td>319 N. Frances Street</td>\n",
       "      <td>Madison</td>\n",
       "      <td>WI</td>\n",
       "      <td>USA</td>\n",
       "      <td>53703</td>\n",
       "      <td>+1 (608) 257-0597</td>\n",
       "      <td>None</td>\n",
       "      <td>vstevens@yahoo.com</td>\n",
       "      <td>5</td>\n",
       "    </tr>\n",
       "    <tr>\n",
       "      <th>25</th>\n",
       "      <td>26</td>\n",
       "      <td>Richard</td>\n",
       "      <td>Cunningham</td>\n",
       "      <td>None</td>\n",
       "      <td>2211 W Berry Street</td>\n",
       "      <td>Fort Worth</td>\n",
       "      <td>TX</td>\n",
       "      <td>USA</td>\n",
       "      <td>76110</td>\n",
       "      <td>+1 (817) 924-7272</td>\n",
       "      <td>None</td>\n",
       "      <td>ricunningham@hotmail.com</td>\n",
       "      <td>4</td>\n",
       "    </tr>\n",
       "    <tr>\n",
       "      <th>26</th>\n",
       "      <td>27</td>\n",
       "      <td>Patrick</td>\n",
       "      <td>Gray</td>\n",
       "      <td>None</td>\n",
       "      <td>1033 N Park Ave</td>\n",
       "      <td>Tucson</td>\n",
       "      <td>AZ</td>\n",
       "      <td>USA</td>\n",
       "      <td>85719</td>\n",
       "      <td>+1 (520) 622-4200</td>\n",
       "      <td>None</td>\n",
       "      <td>patrick.gray@aol.com</td>\n",
       "      <td>4</td>\n",
       "    </tr>\n",
       "    <tr>\n",
       "      <th>27</th>\n",
       "      <td>28</td>\n",
       "      <td>Julia</td>\n",
       "      <td>Barnett</td>\n",
       "      <td>None</td>\n",
       "      <td>302 S 700 E</td>\n",
       "      <td>Salt Lake City</td>\n",
       "      <td>UT</td>\n",
       "      <td>USA</td>\n",
       "      <td>84102</td>\n",
       "      <td>+1 (801) 531-7272</td>\n",
       "      <td>None</td>\n",
       "      <td>jubarnett@gmail.com</td>\n",
       "      <td>5</td>\n",
       "    </tr>\n",
       "    <tr>\n",
       "      <th>28</th>\n",
       "      <td>29</td>\n",
       "      <td>Robert</td>\n",
       "      <td>Brown</td>\n",
       "      <td>None</td>\n",
       "      <td>796 Dundas Street West</td>\n",
       "      <td>Toronto</td>\n",
       "      <td>ON</td>\n",
       "      <td>Canada</td>\n",
       "      <td>M6J 1V1</td>\n",
       "      <td>+1 (416) 363-8888</td>\n",
       "      <td>None</td>\n",
       "      <td>robbrown@shaw.ca</td>\n",
       "      <td>3</td>\n",
       "    </tr>\n",
       "    <tr>\n",
       "      <th>29</th>\n",
       "      <td>30</td>\n",
       "      <td>Edward</td>\n",
       "      <td>Francis</td>\n",
       "      <td>None</td>\n",
       "      <td>230 Elgin Street</td>\n",
       "      <td>Ottawa</td>\n",
       "      <td>ON</td>\n",
       "      <td>Canada</td>\n",
       "      <td>K2P 1L7</td>\n",
       "      <td>+1 (613) 234-3322</td>\n",
       "      <td>None</td>\n",
       "      <td>edfrancis@yachoo.ca</td>\n",
       "      <td>3</td>\n",
       "    </tr>\n",
       "    <tr>\n",
       "      <th>30</th>\n",
       "      <td>31</td>\n",
       "      <td>Martha</td>\n",
       "      <td>Silk</td>\n",
       "      <td>None</td>\n",
       "      <td>194A Chain Lake Drive</td>\n",
       "      <td>Halifax</td>\n",
       "      <td>NS</td>\n",
       "      <td>Canada</td>\n",
       "      <td>B3S 1C5</td>\n",
       "      <td>+1 (902) 450-0450</td>\n",
       "      <td>None</td>\n",
       "      <td>marthasilk@gmail.com</td>\n",
       "      <td>5</td>\n",
       "    </tr>\n",
       "    <tr>\n",
       "      <th>31</th>\n",
       "      <td>32</td>\n",
       "      <td>Aaron</td>\n",
       "      <td>Mitchell</td>\n",
       "      <td>None</td>\n",
       "      <td>696 Osborne Street</td>\n",
       "      <td>Winnipeg</td>\n",
       "      <td>MB</td>\n",
       "      <td>Canada</td>\n",
       "      <td>R3L 2B9</td>\n",
       "      <td>+1 (204) 452-6452</td>\n",
       "      <td>None</td>\n",
       "      <td>aaronmitchell@yahoo.ca</td>\n",
       "      <td>4</td>\n",
       "    </tr>\n",
       "    <tr>\n",
       "      <th>32</th>\n",
       "      <td>33</td>\n",
       "      <td>Ellie</td>\n",
       "      <td>Sullivan</td>\n",
       "      <td>None</td>\n",
       "      <td>5112 48 Street</td>\n",
       "      <td>Yellowknife</td>\n",
       "      <td>NT</td>\n",
       "      <td>Canada</td>\n",
       "      <td>X1A 1N6</td>\n",
       "      <td>+1 (867) 920-2233</td>\n",
       "      <td>None</td>\n",
       "      <td>ellie.sullivan@shaw.ca</td>\n",
       "      <td>3</td>\n",
       "    </tr>\n",
       "    <tr>\n",
       "      <th>33</th>\n",
       "      <td>34</td>\n",
       "      <td>João</td>\n",
       "      <td>Fernandes</td>\n",
       "      <td>None</td>\n",
       "      <td>Rua da Assunção 53</td>\n",
       "      <td>Lisbon</td>\n",
       "      <td>None</td>\n",
       "      <td>Portugal</td>\n",
       "      <td>None</td>\n",
       "      <td>+351 (213) 466-111</td>\n",
       "      <td>None</td>\n",
       "      <td>jfernandes@yahoo.pt</td>\n",
       "      <td>4</td>\n",
       "    </tr>\n",
       "    <tr>\n",
       "      <th>34</th>\n",
       "      <td>35</td>\n",
       "      <td>Madalena</td>\n",
       "      <td>Sampaio</td>\n",
       "      <td>None</td>\n",
       "      <td>Rua dos Campeões Europeus de Viena, 4350</td>\n",
       "      <td>Porto</td>\n",
       "      <td>None</td>\n",
       "      <td>Portugal</td>\n",
       "      <td>None</td>\n",
       "      <td>+351 (225) 022-448</td>\n",
       "      <td>None</td>\n",
       "      <td>masampaio@sapo.pt</td>\n",
       "      <td>4</td>\n",
       "    </tr>\n",
       "    <tr>\n",
       "      <th>35</th>\n",
       "      <td>36</td>\n",
       "      <td>Hannah</td>\n",
       "      <td>Schneider</td>\n",
       "      <td>None</td>\n",
       "      <td>Tauentzienstraße 8</td>\n",
       "      <td>Berlin</td>\n",
       "      <td>None</td>\n",
       "      <td>Germany</td>\n",
       "      <td>10789</td>\n",
       "      <td>+49 030 26550280</td>\n",
       "      <td>None</td>\n",
       "      <td>hannah.schneider@yahoo.de</td>\n",
       "      <td>5</td>\n",
       "    </tr>\n",
       "    <tr>\n",
       "      <th>36</th>\n",
       "      <td>37</td>\n",
       "      <td>Fynn</td>\n",
       "      <td>Zimmermann</td>\n",
       "      <td>None</td>\n",
       "      <td>Berger Straße 10</td>\n",
       "      <td>Frankfurt</td>\n",
       "      <td>None</td>\n",
       "      <td>Germany</td>\n",
       "      <td>60316</td>\n",
       "      <td>+49 069 40598889</td>\n",
       "      <td>None</td>\n",
       "      <td>fzimmermann@yahoo.de</td>\n",
       "      <td>3</td>\n",
       "    </tr>\n",
       "    <tr>\n",
       "      <th>37</th>\n",
       "      <td>38</td>\n",
       "      <td>Niklas</td>\n",
       "      <td>Schröder</td>\n",
       "      <td>None</td>\n",
       "      <td>Barbarossastraße 19</td>\n",
       "      <td>Berlin</td>\n",
       "      <td>None</td>\n",
       "      <td>Germany</td>\n",
       "      <td>10779</td>\n",
       "      <td>+49 030 2141444</td>\n",
       "      <td>None</td>\n",
       "      <td>nschroder@surfeu.de</td>\n",
       "      <td>3</td>\n",
       "    </tr>\n",
       "    <tr>\n",
       "      <th>38</th>\n",
       "      <td>39</td>\n",
       "      <td>Camille</td>\n",
       "      <td>Bernard</td>\n",
       "      <td>None</td>\n",
       "      <td>4, Rue Milton</td>\n",
       "      <td>Paris</td>\n",
       "      <td>None</td>\n",
       "      <td>France</td>\n",
       "      <td>75009</td>\n",
       "      <td>+33 01 49 70 65 65</td>\n",
       "      <td>None</td>\n",
       "      <td>camille.bernard@yahoo.fr</td>\n",
       "      <td>4</td>\n",
       "    </tr>\n",
       "    <tr>\n",
       "      <th>39</th>\n",
       "      <td>40</td>\n",
       "      <td>Dominique</td>\n",
       "      <td>Lefebvre</td>\n",
       "      <td>None</td>\n",
       "      <td>8, Rue Hanovre</td>\n",
       "      <td>Paris</td>\n",
       "      <td>None</td>\n",
       "      <td>France</td>\n",
       "      <td>75002</td>\n",
       "      <td>+33 01 47 42 71 71</td>\n",
       "      <td>None</td>\n",
       "      <td>dominiquelefebvre@gmail.com</td>\n",
       "      <td>4</td>\n",
       "    </tr>\n",
       "    <tr>\n",
       "      <th>40</th>\n",
       "      <td>41</td>\n",
       "      <td>Marc</td>\n",
       "      <td>Dubois</td>\n",
       "      <td>None</td>\n",
       "      <td>11, Place Bellecour</td>\n",
       "      <td>Lyon</td>\n",
       "      <td>None</td>\n",
       "      <td>France</td>\n",
       "      <td>69002</td>\n",
       "      <td>+33 04 78 30 30 30</td>\n",
       "      <td>None</td>\n",
       "      <td>marc.dubois@hotmail.com</td>\n",
       "      <td>5</td>\n",
       "    </tr>\n",
       "    <tr>\n",
       "      <th>41</th>\n",
       "      <td>42</td>\n",
       "      <td>Wyatt</td>\n",
       "      <td>Girard</td>\n",
       "      <td>None</td>\n",
       "      <td>9, Place Louis Barthou</td>\n",
       "      <td>Bordeaux</td>\n",
       "      <td>None</td>\n",
       "      <td>France</td>\n",
       "      <td>33000</td>\n",
       "      <td>+33 05 56 96 96 96</td>\n",
       "      <td>None</td>\n",
       "      <td>wyatt.girard@yahoo.fr</td>\n",
       "      <td>3</td>\n",
       "    </tr>\n",
       "    <tr>\n",
       "      <th>42</th>\n",
       "      <td>43</td>\n",
       "      <td>Isabelle</td>\n",
       "      <td>Mercier</td>\n",
       "      <td>None</td>\n",
       "      <td>68, Rue Jouvence</td>\n",
       "      <td>Dijon</td>\n",
       "      <td>None</td>\n",
       "      <td>France</td>\n",
       "      <td>21000</td>\n",
       "      <td>+33 03 80 73 66 99</td>\n",
       "      <td>None</td>\n",
       "      <td>isabelle_mercier@apple.fr</td>\n",
       "      <td>3</td>\n",
       "    </tr>\n",
       "    <tr>\n",
       "      <th>43</th>\n",
       "      <td>44</td>\n",
       "      <td>Terhi</td>\n",
       "      <td>Hämäläinen</td>\n",
       "      <td>None</td>\n",
       "      <td>Porthaninkatu 9</td>\n",
       "      <td>Helsinki</td>\n",
       "      <td>None</td>\n",
       "      <td>Finland</td>\n",
       "      <td>00530</td>\n",
       "      <td>+358 09 870 2000</td>\n",
       "      <td>None</td>\n",
       "      <td>terhi.hamalainen@apple.fi</td>\n",
       "      <td>3</td>\n",
       "    </tr>\n",
       "    <tr>\n",
       "      <th>44</th>\n",
       "      <td>45</td>\n",
       "      <td>Ladislav</td>\n",
       "      <td>Kovács</td>\n",
       "      <td>None</td>\n",
       "      <td>Erzsébet krt. 58.</td>\n",
       "      <td>Budapest</td>\n",
       "      <td>None</td>\n",
       "      <td>Hungary</td>\n",
       "      <td>H-1073</td>\n",
       "      <td>None</td>\n",
       "      <td>None</td>\n",
       "      <td>ladislav_kovacs@apple.hu</td>\n",
       "      <td>3</td>\n",
       "    </tr>\n",
       "    <tr>\n",
       "      <th>45</th>\n",
       "      <td>46</td>\n",
       "      <td>Hugh</td>\n",
       "      <td>O'Reilly</td>\n",
       "      <td>None</td>\n",
       "      <td>3 Chatham Street</td>\n",
       "      <td>Dublin</td>\n",
       "      <td>Dublin</td>\n",
       "      <td>Ireland</td>\n",
       "      <td>None</td>\n",
       "      <td>+353 01 6792424</td>\n",
       "      <td>None</td>\n",
       "      <td>hughoreilly@apple.ie</td>\n",
       "      <td>3</td>\n",
       "    </tr>\n",
       "    <tr>\n",
       "      <th>46</th>\n",
       "      <td>47</td>\n",
       "      <td>Lucas</td>\n",
       "      <td>Mancini</td>\n",
       "      <td>None</td>\n",
       "      <td>Via Degli Scipioni, 43</td>\n",
       "      <td>Rome</td>\n",
       "      <td>RM</td>\n",
       "      <td>Italy</td>\n",
       "      <td>00192</td>\n",
       "      <td>+39 06 39733434</td>\n",
       "      <td>None</td>\n",
       "      <td>lucas.mancini@yahoo.it</td>\n",
       "      <td>5</td>\n",
       "    </tr>\n",
       "    <tr>\n",
       "      <th>47</th>\n",
       "      <td>48</td>\n",
       "      <td>Johannes</td>\n",
       "      <td>Van der Berg</td>\n",
       "      <td>None</td>\n",
       "      <td>Lijnbaansgracht 120bg</td>\n",
       "      <td>Amsterdam</td>\n",
       "      <td>VV</td>\n",
       "      <td>Netherlands</td>\n",
       "      <td>1016</td>\n",
       "      <td>+31 020 6223130</td>\n",
       "      <td>None</td>\n",
       "      <td>johavanderberg@yahoo.nl</td>\n",
       "      <td>5</td>\n",
       "    </tr>\n",
       "    <tr>\n",
       "      <th>48</th>\n",
       "      <td>49</td>\n",
       "      <td>Stanisław</td>\n",
       "      <td>Wójcik</td>\n",
       "      <td>None</td>\n",
       "      <td>Ordynacka 10</td>\n",
       "      <td>Warsaw</td>\n",
       "      <td>None</td>\n",
       "      <td>Poland</td>\n",
       "      <td>00-358</td>\n",
       "      <td>+48 22 828 37 39</td>\n",
       "      <td>None</td>\n",
       "      <td>stanisław.wójcik@wp.pl</td>\n",
       "      <td>4</td>\n",
       "    </tr>\n",
       "    <tr>\n",
       "      <th>49</th>\n",
       "      <td>50</td>\n",
       "      <td>Enrique</td>\n",
       "      <td>Muñoz</td>\n",
       "      <td>None</td>\n",
       "      <td>C/ San Bernardo 85</td>\n",
       "      <td>Madrid</td>\n",
       "      <td>None</td>\n",
       "      <td>Spain</td>\n",
       "      <td>28015</td>\n",
       "      <td>+34 914 454 454</td>\n",
       "      <td>None</td>\n",
       "      <td>enrique_munoz@yahoo.es</td>\n",
       "      <td>5</td>\n",
       "    </tr>\n",
       "    <tr>\n",
       "      <th>50</th>\n",
       "      <td>51</td>\n",
       "      <td>Joakim</td>\n",
       "      <td>Johansson</td>\n",
       "      <td>None</td>\n",
       "      <td>Celsiusg. 9</td>\n",
       "      <td>Stockholm</td>\n",
       "      <td>None</td>\n",
       "      <td>Sweden</td>\n",
       "      <td>11230</td>\n",
       "      <td>+46 08-651 52 52</td>\n",
       "      <td>None</td>\n",
       "      <td>joakim.johansson@yahoo.se</td>\n",
       "      <td>5</td>\n",
       "    </tr>\n",
       "    <tr>\n",
       "      <th>51</th>\n",
       "      <td>52</td>\n",
       "      <td>Emma</td>\n",
       "      <td>Jones</td>\n",
       "      <td>None</td>\n",
       "      <td>202 Hoxton Street</td>\n",
       "      <td>London</td>\n",
       "      <td>None</td>\n",
       "      <td>United Kingdom</td>\n",
       "      <td>N1 5LH</td>\n",
       "      <td>+44 020 7707 0707</td>\n",
       "      <td>None</td>\n",
       "      <td>emma_jones@hotmail.com</td>\n",
       "      <td>3</td>\n",
       "    </tr>\n",
       "    <tr>\n",
       "      <th>52</th>\n",
       "      <td>53</td>\n",
       "      <td>Phil</td>\n",
       "      <td>Hughes</td>\n",
       "      <td>None</td>\n",
       "      <td>113 Lupus St</td>\n",
       "      <td>London</td>\n",
       "      <td>None</td>\n",
       "      <td>United Kingdom</td>\n",
       "      <td>SW1V 3EN</td>\n",
       "      <td>+44 020 7976 5722</td>\n",
       "      <td>None</td>\n",
       "      <td>phil.hughes@gmail.com</td>\n",
       "      <td>3</td>\n",
       "    </tr>\n",
       "    <tr>\n",
       "      <th>53</th>\n",
       "      <td>54</td>\n",
       "      <td>Steve</td>\n",
       "      <td>Murray</td>\n",
       "      <td>None</td>\n",
       "      <td>110 Raeburn Pl</td>\n",
       "      <td>Edinburgh</td>\n",
       "      <td>None</td>\n",
       "      <td>United Kingdom</td>\n",
       "      <td>EH4 1HH</td>\n",
       "      <td>+44 0131 315 3300</td>\n",
       "      <td>None</td>\n",
       "      <td>steve.murray@yahoo.uk</td>\n",
       "      <td>5</td>\n",
       "    </tr>\n",
       "    <tr>\n",
       "      <th>54</th>\n",
       "      <td>55</td>\n",
       "      <td>Mark</td>\n",
       "      <td>Taylor</td>\n",
       "      <td>None</td>\n",
       "      <td>421 Bourke Street</td>\n",
       "      <td>Sidney</td>\n",
       "      <td>NSW</td>\n",
       "      <td>Australia</td>\n",
       "      <td>2010</td>\n",
       "      <td>+61 (02) 9332 3633</td>\n",
       "      <td>None</td>\n",
       "      <td>mark.taylor@yahoo.au</td>\n",
       "      <td>4</td>\n",
       "    </tr>\n",
       "    <tr>\n",
       "      <th>55</th>\n",
       "      <td>56</td>\n",
       "      <td>Diego</td>\n",
       "      <td>Gutiérrez</td>\n",
       "      <td>None</td>\n",
       "      <td>307 Macacha Güemes</td>\n",
       "      <td>Buenos Aires</td>\n",
       "      <td>None</td>\n",
       "      <td>Argentina</td>\n",
       "      <td>1106</td>\n",
       "      <td>+54 (0)11 4311 4333</td>\n",
       "      <td>None</td>\n",
       "      <td>diego.gutierrez@yahoo.ar</td>\n",
       "      <td>4</td>\n",
       "    </tr>\n",
       "    <tr>\n",
       "      <th>56</th>\n",
       "      <td>57</td>\n",
       "      <td>Luis</td>\n",
       "      <td>Rojas</td>\n",
       "      <td>None</td>\n",
       "      <td>Calle Lira, 198</td>\n",
       "      <td>Santiago</td>\n",
       "      <td>None</td>\n",
       "      <td>Chile</td>\n",
       "      <td>None</td>\n",
       "      <td>+56 (0)2 635 4444</td>\n",
       "      <td>None</td>\n",
       "      <td>luisrojas@yahoo.cl</td>\n",
       "      <td>5</td>\n",
       "    </tr>\n",
       "    <tr>\n",
       "      <th>57</th>\n",
       "      <td>58</td>\n",
       "      <td>Manoj</td>\n",
       "      <td>Pareek</td>\n",
       "      <td>None</td>\n",
       "      <td>12,Community Centre</td>\n",
       "      <td>Delhi</td>\n",
       "      <td>None</td>\n",
       "      <td>India</td>\n",
       "      <td>110017</td>\n",
       "      <td>+91 0124 39883988</td>\n",
       "      <td>None</td>\n",
       "      <td>manoj.pareek@rediff.com</td>\n",
       "      <td>3</td>\n",
       "    </tr>\n",
       "    <tr>\n",
       "      <th>58</th>\n",
       "      <td>59</td>\n",
       "      <td>Puja</td>\n",
       "      <td>Srivastava</td>\n",
       "      <td>None</td>\n",
       "      <td>3,Raj Bhavan Road</td>\n",
       "      <td>Bangalore</td>\n",
       "      <td>None</td>\n",
       "      <td>India</td>\n",
       "      <td>560001</td>\n",
       "      <td>+91 080 22289999</td>\n",
       "      <td>None</td>\n",
       "      <td>puja_srivastava@yahoo.in</td>\n",
       "      <td>3</td>\n",
       "    </tr>\n",
       "  </tbody>\n",
       "</table>\n",
       "</div>"
      ],
      "text/plain": [
       "    CustomerId  FirstName      LastName  \\\n",
       "0            1       Luís     Gonçalves   \n",
       "1            2     Leonie        Köhler   \n",
       "2            3   François      Tremblay   \n",
       "3            4      Bjørn        Hansen   \n",
       "4            5  František   Wichterlová   \n",
       "5            6     Helena          Holý   \n",
       "6            7     Astrid        Gruber   \n",
       "7            8       Daan       Peeters   \n",
       "8            9       Kara       Nielsen   \n",
       "9           10    Eduardo       Martins   \n",
       "10          11  Alexandre         Rocha   \n",
       "11          12    Roberto       Almeida   \n",
       "12          13   Fernanda         Ramos   \n",
       "13          14       Mark       Philips   \n",
       "14          15   Jennifer      Peterson   \n",
       "15          16      Frank        Harris   \n",
       "16          17       Jack         Smith   \n",
       "17          18   Michelle        Brooks   \n",
       "18          19        Tim         Goyer   \n",
       "19          20        Dan        Miller   \n",
       "20          21      Kathy         Chase   \n",
       "21          22    Heather       Leacock   \n",
       "22          23       John        Gordon   \n",
       "23          24      Frank       Ralston   \n",
       "24          25     Victor       Stevens   \n",
       "25          26    Richard    Cunningham   \n",
       "26          27    Patrick          Gray   \n",
       "27          28      Julia       Barnett   \n",
       "28          29     Robert         Brown   \n",
       "29          30     Edward       Francis   \n",
       "30          31     Martha          Silk   \n",
       "31          32      Aaron      Mitchell   \n",
       "32          33      Ellie      Sullivan   \n",
       "33          34       João     Fernandes   \n",
       "34          35   Madalena       Sampaio   \n",
       "35          36     Hannah     Schneider   \n",
       "36          37       Fynn    Zimmermann   \n",
       "37          38     Niklas      Schröder   \n",
       "38          39    Camille       Bernard   \n",
       "39          40  Dominique      Lefebvre   \n",
       "40          41       Marc        Dubois   \n",
       "41          42      Wyatt        Girard   \n",
       "42          43   Isabelle       Mercier   \n",
       "43          44      Terhi    Hämäläinen   \n",
       "44          45   Ladislav        Kovács   \n",
       "45          46       Hugh      O'Reilly   \n",
       "46          47      Lucas       Mancini   \n",
       "47          48   Johannes  Van der Berg   \n",
       "48          49  Stanisław        Wójcik   \n",
       "49          50    Enrique         Muñoz   \n",
       "50          51     Joakim     Johansson   \n",
       "51          52       Emma         Jones   \n",
       "52          53       Phil        Hughes   \n",
       "53          54      Steve        Murray   \n",
       "54          55       Mark        Taylor   \n",
       "55          56      Diego     Gutiérrez   \n",
       "56          57       Luis         Rojas   \n",
       "57          58      Manoj        Pareek   \n",
       "58          59       Puja    Srivastava   \n",
       "\n",
       "                                             Company  \\\n",
       "0   Embraer - Empresa Brasileira de Aeronáutica S.A.   \n",
       "1                                               None   \n",
       "2                                               None   \n",
       "3                                               None   \n",
       "4                                   JetBrains s.r.o.   \n",
       "5                                               None   \n",
       "6                                               None   \n",
       "7                                               None   \n",
       "8                                               None   \n",
       "9                                   Woodstock Discos   \n",
       "10                              Banco do Brasil S.A.   \n",
       "11                                            Riotur   \n",
       "12                                              None   \n",
       "13                                             Telus   \n",
       "14                                     Rogers Canada   \n",
       "15                                       Google Inc.   \n",
       "16                             Microsoft Corporation   \n",
       "17                                              None   \n",
       "18                                        Apple Inc.   \n",
       "19                                              None   \n",
       "20                                              None   \n",
       "21                                              None   \n",
       "22                                              None   \n",
       "23                                              None   \n",
       "24                                              None   \n",
       "25                                              None   \n",
       "26                                              None   \n",
       "27                                              None   \n",
       "28                                              None   \n",
       "29                                              None   \n",
       "30                                              None   \n",
       "31                                              None   \n",
       "32                                              None   \n",
       "33                                              None   \n",
       "34                                              None   \n",
       "35                                              None   \n",
       "36                                              None   \n",
       "37                                              None   \n",
       "38                                              None   \n",
       "39                                              None   \n",
       "40                                              None   \n",
       "41                                              None   \n",
       "42                                              None   \n",
       "43                                              None   \n",
       "44                                              None   \n",
       "45                                              None   \n",
       "46                                              None   \n",
       "47                                              None   \n",
       "48                                              None   \n",
       "49                                              None   \n",
       "50                                              None   \n",
       "51                                              None   \n",
       "52                                              None   \n",
       "53                                              None   \n",
       "54                                              None   \n",
       "55                                              None   \n",
       "56                                              None   \n",
       "57                                              None   \n",
       "58                                              None   \n",
       "\n",
       "                                     Address                 City   State  \\\n",
       "0            Av. Brigadeiro Faria Lima, 2170  São José dos Campos      SP   \n",
       "1                    Theodor-Heuss-Straße 34            Stuttgart    None   \n",
       "2                          1498 rue Bélanger             Montréal      QC   \n",
       "3                           Ullevålsveien 14                 Oslo    None   \n",
       "4                              Klanova 9/506               Prague    None   \n",
       "5                              Rilská 3174/6               Prague    None   \n",
       "6       Rotenturmstraße 4, 1010 Innere Stadt               Vienne    None   \n",
       "7                            Grétrystraat 63             Brussels    None   \n",
       "8                        Sønder Boulevard 51           Copenhagen    None   \n",
       "9                  Rua Dr. Falcão Filho, 155            São Paulo      SP   \n",
       "10                        Av. Paulista, 2022            São Paulo      SP   \n",
       "11                          Praça Pio X, 119       Rio de Janeiro      RJ   \n",
       "12                              Qe 7 Bloco G             Brasília      DF   \n",
       "13                            8210 111 ST NW             Edmonton      AB   \n",
       "14                       700 W Pender Street            Vancouver      BC   \n",
       "15                 1600 Amphitheatre Parkway        Mountain View      CA   \n",
       "16                           1 Microsoft Way              Redmond      WA   \n",
       "17                              627 Broadway             New York      NY   \n",
       "18                           1 Infinite Loop            Cupertino      CA   \n",
       "19                      541 Del Medio Avenue        Mountain View      CA   \n",
       "20                          801 W 4th Street                 Reno      NV   \n",
       "21                          120 S Orange Ave              Orlando      FL   \n",
       "22                           69 Salem Street               Boston      MA   \n",
       "23                     162 E Superior Street              Chicago      IL   \n",
       "24                     319 N. Frances Street              Madison      WI   \n",
       "25                       2211 W Berry Street           Fort Worth      TX   \n",
       "26                           1033 N Park Ave               Tucson      AZ   \n",
       "27                               302 S 700 E       Salt Lake City      UT   \n",
       "28                    796 Dundas Street West              Toronto      ON   \n",
       "29                          230 Elgin Street               Ottawa      ON   \n",
       "30                     194A Chain Lake Drive              Halifax      NS   \n",
       "31                        696 Osborne Street             Winnipeg      MB   \n",
       "32                            5112 48 Street          Yellowknife      NT   \n",
       "33                        Rua da Assunção 53               Lisbon    None   \n",
       "34  Rua dos Campeões Europeus de Viena, 4350                Porto    None   \n",
       "35                        Tauentzienstraße 8               Berlin    None   \n",
       "36                          Berger Straße 10            Frankfurt    None   \n",
       "37                       Barbarossastraße 19               Berlin    None   \n",
       "38                             4, Rue Milton                Paris    None   \n",
       "39                            8, Rue Hanovre                Paris    None   \n",
       "40                       11, Place Bellecour                 Lyon    None   \n",
       "41                    9, Place Louis Barthou             Bordeaux    None   \n",
       "42                          68, Rue Jouvence                Dijon    None   \n",
       "43                           Porthaninkatu 9             Helsinki    None   \n",
       "44                         Erzsébet krt. 58.             Budapest    None   \n",
       "45                          3 Chatham Street               Dublin  Dublin   \n",
       "46                    Via Degli Scipioni, 43                 Rome      RM   \n",
       "47                     Lijnbaansgracht 120bg            Amsterdam      VV   \n",
       "48                              Ordynacka 10               Warsaw    None   \n",
       "49                        C/ San Bernardo 85               Madrid    None   \n",
       "50                               Celsiusg. 9            Stockholm    None   \n",
       "51                         202 Hoxton Street               London    None   \n",
       "52                              113 Lupus St               London    None   \n",
       "53                            110 Raeburn Pl           Edinburgh     None   \n",
       "54                         421 Bourke Street               Sidney     NSW   \n",
       "55                        307 Macacha Güemes         Buenos Aires    None   \n",
       "56                           Calle Lira, 198             Santiago    None   \n",
       "57                       12,Community Centre                Delhi    None   \n",
       "58                         3,Raj Bhavan Road            Bangalore    None   \n",
       "\n",
       "           Country  PostalCode                Phone                 Fax  \\\n",
       "0           Brazil   12227-000   +55 (12) 3923-5555  +55 (12) 3923-5566   \n",
       "1          Germany       70174     +49 0711 2842222                None   \n",
       "2           Canada     H2G 1A7    +1 (514) 721-4711                None   \n",
       "3           Norway        0171      +47 22 44 22 22                None   \n",
       "4   Czech Republic       14700     +420 2 4172 5555    +420 2 4172 5555   \n",
       "5   Czech Republic       14300     +420 2 4177 0449                None   \n",
       "6          Austria        1010       +43 01 5134505                None   \n",
       "7          Belgium        1000     +32 02 219 03 03                None   \n",
       "8          Denmark        1720       +453 3331 9991                None   \n",
       "9           Brazil   01007-010   +55 (11) 3033-5446  +55 (11) 3033-4564   \n",
       "10          Brazil   01310-200   +55 (11) 3055-3278  +55 (11) 3055-8131   \n",
       "11          Brazil   20040-020   +55 (21) 2271-7000  +55 (21) 2271-7070   \n",
       "12          Brazil   71020-677   +55 (61) 3363-5547  +55 (61) 3363-7855   \n",
       "13          Canada     T6G 2C7    +1 (780) 434-4554   +1 (780) 434-5565   \n",
       "14          Canada     V6C 1G8    +1 (604) 688-2255   +1 (604) 688-8756   \n",
       "15             USA  94043-1351    +1 (650) 253-0000   +1 (650) 253-0000   \n",
       "16             USA  98052-8300    +1 (425) 882-8080   +1 (425) 882-8081   \n",
       "17             USA  10012-2612    +1 (212) 221-3546   +1 (212) 221-4679   \n",
       "18             USA       95014    +1 (408) 996-1010   +1 (408) 996-1011   \n",
       "19             USA   94040-111    +1 (650) 644-3358                None   \n",
       "20             USA       89503    +1 (775) 223-7665                None   \n",
       "21             USA       32801    +1 (407) 999-7788                None   \n",
       "22             USA        2113    +1 (617) 522-1333                None   \n",
       "23             USA       60611    +1 (312) 332-3232                None   \n",
       "24             USA       53703    +1 (608) 257-0597                None   \n",
       "25             USA       76110    +1 (817) 924-7272                None   \n",
       "26             USA       85719    +1 (520) 622-4200                None   \n",
       "27             USA       84102    +1 (801) 531-7272                None   \n",
       "28          Canada     M6J 1V1    +1 (416) 363-8888                None   \n",
       "29          Canada     K2P 1L7    +1 (613) 234-3322                None   \n",
       "30          Canada     B3S 1C5    +1 (902) 450-0450                None   \n",
       "31          Canada     R3L 2B9    +1 (204) 452-6452                None   \n",
       "32          Canada     X1A 1N6    +1 (867) 920-2233                None   \n",
       "33        Portugal        None   +351 (213) 466-111                None   \n",
       "34        Portugal        None   +351 (225) 022-448                None   \n",
       "35         Germany       10789     +49 030 26550280                None   \n",
       "36         Germany       60316     +49 069 40598889                None   \n",
       "37         Germany       10779      +49 030 2141444                None   \n",
       "38          France       75009   +33 01 49 70 65 65                None   \n",
       "39          France       75002   +33 01 47 42 71 71                None   \n",
       "40          France       69002   +33 04 78 30 30 30                None   \n",
       "41          France       33000   +33 05 56 96 96 96                None   \n",
       "42          France       21000   +33 03 80 73 66 99                None   \n",
       "43         Finland       00530     +358 09 870 2000                None   \n",
       "44         Hungary      H-1073                 None                None   \n",
       "45         Ireland        None      +353 01 6792424                None   \n",
       "46           Italy       00192      +39 06 39733434                None   \n",
       "47     Netherlands        1016      +31 020 6223130                None   \n",
       "48          Poland      00-358     +48 22 828 37 39                None   \n",
       "49           Spain       28015      +34 914 454 454                None   \n",
       "50          Sweden       11230     +46 08-651 52 52                None   \n",
       "51  United Kingdom      N1 5LH    +44 020 7707 0707                None   \n",
       "52  United Kingdom    SW1V 3EN    +44 020 7976 5722                None   \n",
       "53  United Kingdom     EH4 1HH    +44 0131 315 3300                None   \n",
       "54       Australia        2010   +61 (02) 9332 3633                None   \n",
       "55       Argentina        1106  +54 (0)11 4311 4333                None   \n",
       "56           Chile        None    +56 (0)2 635 4444                None   \n",
       "57           India      110017    +91 0124 39883988                None   \n",
       "58           India      560001     +91 080 22289999                None   \n",
       "\n",
       "                            Email  SupportRepId  \n",
       "0            luisg@embraer.com.br             3  \n",
       "1           leonekohler@surfeu.de             5  \n",
       "2             ftremblay@gmail.com             3  \n",
       "3           bjorn.hansen@yahoo.no             4  \n",
       "4        frantisekw@jetbrains.com             4  \n",
       "5                 hholy@gmail.com             5  \n",
       "6          astrid.gruber@apple.at             5  \n",
       "7           daan_peeters@apple.be             4  \n",
       "8           kara.nielsen@jubii.dk             4  \n",
       "9        eduardo@woodstock.com.br             4  \n",
       "10               alero@uol.com.br             5  \n",
       "11  roberto.almeida@riotur.gov.br             3  \n",
       "12       fernadaramos4@uol.com.br             4  \n",
       "13             mphilips12@shaw.ca             5  \n",
       "14            jenniferp@rogers.ca             3  \n",
       "15             fharris@google.com             4  \n",
       "16        jacksmith@microsoft.com             5  \n",
       "17              michelleb@aol.com             3  \n",
       "18               tgoyer@apple.com             3  \n",
       "19            dmiller@comcast.com             4  \n",
       "20            kachase@hotmail.com             5  \n",
       "21             hleacock@gmail.com             4  \n",
       "22         johngordon22@yahoo.com             4  \n",
       "23             fralston@gmail.com             3  \n",
       "24             vstevens@yahoo.com             5  \n",
       "25       ricunningham@hotmail.com             4  \n",
       "26           patrick.gray@aol.com             4  \n",
       "27            jubarnett@gmail.com             5  \n",
       "28               robbrown@shaw.ca             3  \n",
       "29            edfrancis@yachoo.ca             3  \n",
       "30           marthasilk@gmail.com             5  \n",
       "31         aaronmitchell@yahoo.ca             4  \n",
       "32         ellie.sullivan@shaw.ca             3  \n",
       "33            jfernandes@yahoo.pt             4  \n",
       "34              masampaio@sapo.pt             4  \n",
       "35      hannah.schneider@yahoo.de             5  \n",
       "36           fzimmermann@yahoo.de             3  \n",
       "37            nschroder@surfeu.de             3  \n",
       "38       camille.bernard@yahoo.fr             4  \n",
       "39    dominiquelefebvre@gmail.com             4  \n",
       "40        marc.dubois@hotmail.com             5  \n",
       "41          wyatt.girard@yahoo.fr             3  \n",
       "42      isabelle_mercier@apple.fr             3  \n",
       "43      terhi.hamalainen@apple.fi             3  \n",
       "44       ladislav_kovacs@apple.hu             3  \n",
       "45           hughoreilly@apple.ie             3  \n",
       "46         lucas.mancini@yahoo.it             5  \n",
       "47        johavanderberg@yahoo.nl             5  \n",
       "48         stanisław.wójcik@wp.pl             4  \n",
       "49         enrique_munoz@yahoo.es             5  \n",
       "50      joakim.johansson@yahoo.se             5  \n",
       "51         emma_jones@hotmail.com             3  \n",
       "52          phil.hughes@gmail.com             3  \n",
       "53          steve.murray@yahoo.uk             5  \n",
       "54           mark.taylor@yahoo.au             4  \n",
       "55       diego.gutierrez@yahoo.ar             4  \n",
       "56             luisrojas@yahoo.cl             5  \n",
       "57        manoj.pareek@rediff.com             3  \n",
       "58       puja_srivastava@yahoo.in             3  "
      ]
     },
     "metadata": {},
     "output_type": "display_data"
    }
   ],
   "source": [
    "import sqlite3\n",
    "import pandas as pd\n",
    "\n",
    "# SQL query as a string\n",
    "query = \"SELECT * FROM customers\"\n",
    "\n",
    "# Connect to the database and execute the query\n",
    "conn = sqlite3.connect(\"chinook.db\")\n",
    "\n",
    "# Use Pandas to read the data into a DataFrame\n",
    "df = pd.read_sql_query(query, conn)\n",
    "\n",
    "# Display the DataFrame\n",
    "display(df)\n",
    "\n",
    "# Close the database connection\n",
    "conn.close()"
   ]
  },
  {
   "cell_type": "code",
   "execution_count": 26,
   "id": "b6cfe4b9",
   "metadata": {},
   "outputs": [
    {
     "name": "stdout",
     "output_type": "stream",
     "text": [
      "Error: Division by zero!\n"
     ]
    },
    {
     "ename": "ZeroDivisionError",
     "evalue": "division by zero",
     "output_type": "error",
     "traceback": [
      "\u001b[1;31m--------------------------------------------------------------------------\u001b[0m",
      "\u001b[1;31mZeroDivisionError\u001b[0m                        Traceback (most recent call last)",
      "\u001b[1;32m~\\AppData\\Local\\Temp\\ipykernel_14184\\1763624990.py\u001b[0m in \u001b[0;36m<module>\u001b[1;34m\u001b[0m\n\u001b[0;32m      7\u001b[0m         \u001b[0mprint\u001b[0m\u001b[1;33m(\u001b[0m\u001b[1;34m\"Result:\"\u001b[0m\u001b[1;33m,\u001b[0m \u001b[0mresult\u001b[0m\u001b[1;33m)\u001b[0m\u001b[1;33m\u001b[0m\u001b[1;33m\u001b[0m\u001b[0m\n\u001b[0;32m      8\u001b[0m     \u001b[1;32mreturn\u001b[0m \u001b[0ma\u001b[0m\u001b[1;33m/\u001b[0m\u001b[0mb\u001b[0m\u001b[1;33m\u001b[0m\u001b[1;33m\u001b[0m\u001b[0m\n\u001b[1;32m----> 9\u001b[1;33m \u001b[0mdivide_numbers\u001b[0m\u001b[1;33m(\u001b[0m\u001b[1;36m10\u001b[0m\u001b[1;33m,\u001b[0m \u001b[1;36m0\u001b[0m\u001b[1;33m)\u001b[0m\u001b[1;33m\u001b[0m\u001b[1;33m\u001b[0m\u001b[0m\n\u001b[0m",
      "\u001b[1;32m~\\AppData\\Local\\Temp\\ipykernel_14184\\1763624990.py\u001b[0m in \u001b[0;36mdivide_numbers\u001b[1;34m(a, b)\u001b[0m\n\u001b[0;32m      6\u001b[0m         \u001b[0mresult\u001b[0m \u001b[1;33m=\u001b[0m \u001b[0ma\u001b[0m \u001b[1;33m/\u001b[0m \u001b[0mb\u001b[0m\u001b[1;33m\u001b[0m\u001b[1;33m\u001b[0m\u001b[0m\n\u001b[0;32m      7\u001b[0m         \u001b[0mprint\u001b[0m\u001b[1;33m(\u001b[0m\u001b[1;34m\"Result:\"\u001b[0m\u001b[1;33m,\u001b[0m \u001b[0mresult\u001b[0m\u001b[1;33m)\u001b[0m\u001b[1;33m\u001b[0m\u001b[1;33m\u001b[0m\u001b[0m\n\u001b[1;32m----> 8\u001b[1;33m     \u001b[1;32mreturn\u001b[0m \u001b[0ma\u001b[0m\u001b[1;33m/\u001b[0m\u001b[0mb\u001b[0m\u001b[1;33m\u001b[0m\u001b[1;33m\u001b[0m\u001b[0m\n\u001b[0m\u001b[0;32m      9\u001b[0m \u001b[0mdivide_numbers\u001b[0m\u001b[1;33m(\u001b[0m\u001b[1;36m10\u001b[0m\u001b[1;33m,\u001b[0m \u001b[1;36m0\u001b[0m\u001b[1;33m)\u001b[0m\u001b[1;33m\u001b[0m\u001b[1;33m\u001b[0m\u001b[0m\n",
      "\u001b[1;31mZeroDivisionError\u001b[0m: division by zero"
     ]
    }
   ],
   "source": [
    "def divide_numbers(a, b):\n",
    "    if b == 0:\n",
    "        error_message = \"Error: Division by zero!\"\n",
    "        print(error_message)\n",
    "    else:\n",
    "        result = a / b\n",
    "        print(\"Result:\", result)\n",
    "    return a/b\n",
    "divide_numbers(10, 0)"
   ]
  },
  {
   "cell_type": "markdown",
   "id": "4aaefda7",
   "metadata": {},
   "source": [
    "#### Formatted strings"
   ]
  },
  {
   "cell_type": "code",
   "execution_count": 27,
   "id": "ac76bb1b",
   "metadata": {},
   "outputs": [
    {
     "name": "stdout",
     "output_type": "stream",
     "text": [
      "My name is Tim and I am 30 years old.\n"
     ]
    }
   ],
   "source": [
    "name = \"Tim\"\n",
    "age = 30\n",
    "message = f\"My name is {name} and I am {age} years old.\"\n",
    "print(message) \n",
    "# Output: \"My name is Tim and I am 30 years old.\""
   ]
  },
  {
   "cell_type": "code",
   "execution_count": 28,
   "id": "8f722cce",
   "metadata": {},
   "outputs": [
    {
     "name": "stdout",
     "output_type": "stream",
     "text": [
      "The sum of 5 and 3 is 8.\n"
     ]
    }
   ],
   "source": [
    "x = 5\n",
    "y = 3\n",
    "result = f\"The sum of {x} and {y} is {x + y}.\"\n",
    "print(result) # Output: \"The sum of 5 and 3 is 8.\""
   ]
  },
  {
   "cell_type": "code",
   "execution_count": 30,
   "id": "61322f82",
   "metadata": {},
   "outputs": [
    {
     "name": "stdout",
     "output_type": "stream",
     "text": [
      "The value of pi is approximately 3.14.\n"
     ]
    }
   ],
   "source": [
    "pi = 3.14159265\n",
    "print(f\"The value of pi is approximately {pi:.2f}.\")\n",
    "# Output: \"The value of pi is approximately 3.14.\""
   ]
  },
  {
   "cell_type": "code",
   "execution_count": 31,
   "id": "b0541069",
   "metadata": {},
   "outputs": [],
   "source": [
    "fruits = [\"apple\", \"banana\", \"orange\"]\n",
    "numbers = [1, 2, 3, 4, 5]\n",
    "mixed_list = [\"apple\", 1, True, 3.14]"
   ]
  },
  {
   "cell_type": "code",
   "execution_count": 32,
   "id": "5d5df243",
   "metadata": {},
   "outputs": [
    {
     "name": "stdout",
     "output_type": "stream",
     "text": [
      "[1, 4, 9, 16, 25]\n",
      "[2, 4, 6, 8, 10]\n",
      "['a', 'b', 'o']\n"
     ]
    }
   ],
   "source": [
    "# Squares of numbers from 1 to 5\n",
    "squares = [x**2 for x in range(1, 6)]\n",
    "print(squares) # Output: [1, 4, 9, 16, 25]\n",
    "\n",
    "# Select even numbers from a list\n",
    "numbers = [1, 2, 3, 4, 5, 6, 7, 8, 9, 10]\n",
    "even_numbers = [x for x in numbers if x % 2 == 0]\n",
    "print(even_numbers) # Output: [2, 4, 6, 8, 10]\n",
    "\n",
    "# Extract the first letter of each word \n",
    "# in a list of strings\n",
    "words = [\"apple\", \"banana\", \"orange\"]\n",
    "first_letters = [word[0] for word in words]\n",
    "print(first_letters) # Output: ['a', 'b', 'o']"
   ]
  },
  {
   "cell_type": "code",
   "execution_count": 33,
   "id": "910d00b0",
   "metadata": {},
   "outputs": [
    {
     "name": "stdout",
     "output_type": "stream",
     "text": [
      "[1, 2, 3, 4]\n"
     ]
    }
   ],
   "source": [
    "my_list = [1, 2, 3]\n",
    "my_list.append(4)\n",
    "print(my_list) # Output: [1, 2, 3, 4]"
   ]
  },
  {
   "cell_type": "code",
   "execution_count": 34,
   "id": "702522e7",
   "metadata": {},
   "outputs": [
    {
     "name": "stdout",
     "output_type": "stream",
     "text": [
      "4\n",
      "[1, 2, 3]\n"
     ]
    }
   ],
   "source": [
    "my_list = [1, 2, 3, 4]\n",
    "last_element = my_list.pop()\n",
    "print(last_element) # Output: 4\n",
    "print(my_list) # Output: [1, 2, 3]"
   ]
  },
  {
   "cell_type": "code",
   "execution_count": 35,
   "id": "e60b245a",
   "metadata": {},
   "outputs": [
    {
     "name": "stdout",
     "output_type": "stream",
     "text": [
      "[1, 2, 3, 4]\n"
     ]
    }
   ],
   "source": [
    "my_list = [4, 2, 1, 3]\n",
    "my_list.sort()\n",
    "print(my_list) # Output: [1, 2, 3, 4]"
   ]
  },
  {
   "cell_type": "code",
   "execution_count": 36,
   "id": "34d2e112",
   "metadata": {},
   "outputs": [
    {
     "name": "stdout",
     "output_type": "stream",
     "text": [
      "[1, 2, 3, 4]\n",
      "[4, 2, 1, 3]\n"
     ]
    }
   ],
   "source": [
    "my_list = [4, 2, 1, 3]\n",
    "sorted_list = sorted(my_list)\n",
    "print(sorted_list) # Output: [1, 2, 3, 4]\n",
    "print(my_list) # Output: [4, 2, 1, 3]"
   ]
  },
  {
   "cell_type": "code",
   "execution_count": 38,
   "id": "6fdd705f",
   "metadata": {},
   "outputs": [
    {
     "name": "stdout",
     "output_type": "stream",
     "text": [
      "30\n",
      "50\n",
      "[30, 40, 50]\n",
      "[50, 40, 30, 20, 10]\n",
      "[20, 40]\n"
     ]
    }
   ],
   "source": [
    "my_list = [10, 20, 30, 40, 50]\n",
    "print(my_list[2])\n",
    "print(my_list[-1])\n",
    "print(my_list[-3:])\n",
    "print(my_list[::-1])\n",
    "print(my_list[1::2])"
   ]
  },
  {
   "cell_type": "markdown",
   "id": "662f3167",
   "metadata": {},
   "source": [
    "## Sets"
   ]
  },
  {
   "cell_type": "code",
   "execution_count": 39,
   "id": "4f06bcfa",
   "metadata": {},
   "outputs": [],
   "source": [
    "numbers = {1, 2, 3, 4, 5}\n",
    "fruits = {\"apple\", \"banana\", \"orange\"}\n",
    "print(numbers)\n",
    "print(fruits)"
   ]
  },
  {
   "cell_type": "code",
   "execution_count": 40,
   "id": "59ae378e",
   "metadata": {},
   "outputs": [
    {
     "name": "stdout",
     "output_type": "stream",
     "text": [
      "{1, 2, 3, 4, 5}\n"
     ]
    }
   ],
   "source": [
    "numbers = [1, 2, 2, 3, 3, 4, 5, 5]\n",
    "unique_numbers = set(numbers)\n",
    "print(unique_numbers) # Output: {1, 2, 3, 4, 5}"
   ]
  },
  {
   "cell_type": "code",
   "execution_count": 41,
   "id": "3d646454",
   "metadata": {},
   "outputs": [
    {
     "name": "stdout",
     "output_type": "stream",
     "text": [
      "[1, 2, 3, 4, 5]\n"
     ]
    }
   ],
   "source": [
    "numbers = [1, 2, 2, 3, 3, 4, 5, 5]\n",
    "unique_numbers = list(set(numbers))\n",
    "print(unique_numbers) # Output: [1, 2, 3, 4, 5]"
   ]
  },
  {
   "cell_type": "code",
   "execution_count": 42,
   "id": "30f52cd1",
   "metadata": {},
   "outputs": [
    {
     "name": "stdout",
     "output_type": "stream",
     "text": [
      "Customers who bought both products: {105, 102}\n"
     ]
    }
   ],
   "source": [
    "# Customer IDs who bought product A\n",
    "product_a_customers = {101, 102, 103, 104, 105}\n",
    "\n",
    "# Customer IDs who bought product B\n",
    "product_b_customers = {102, 105, 106, 107, 108}\n",
    "\n",
    "# Customers who bought both products (Intersection)\n",
    "common_customers = product_a_customers.intersection(product_b_customers)\n",
    "\n",
    "# Printing the result\n",
    "print(\"Customers who bought both products:\", common_customers)"
   ]
  },
  {
   "cell_type": "markdown",
   "id": "9378add3",
   "metadata": {},
   "source": [
    "## Dictionaries"
   ]
  },
  {
   "cell_type": "code",
   "execution_count": 44,
   "id": "76c26f80",
   "metadata": {},
   "outputs": [],
   "source": [
    "my_dict = {\"name\": \"John\", \"age\": 30,\\\n",
    "               \"city\": \"New York\"}"
   ]
  },
  {
   "cell_type": "code",
   "execution_count": 45,
   "id": "e1d40d4c",
   "metadata": {},
   "outputs": [
    {
     "name": "stdout",
     "output_type": "stream",
     "text": [
      "John\n"
     ]
    }
   ],
   "source": [
    "print(my_dict[\"name\"])"
   ]
  },
  {
   "cell_type": "code",
   "execution_count": 46,
   "id": "796d9ffc",
   "metadata": {},
   "outputs": [
    {
     "name": "stdout",
     "output_type": "stream",
     "text": [
      "31\n"
     ]
    }
   ],
   "source": [
    "my_dict[\"age\"] = 31\n",
    "print(my_dict[\"age\"]) # Output: 31"
   ]
  },
  {
   "cell_type": "code",
   "execution_count": 49,
   "id": "bfc6273e",
   "metadata": {},
   "outputs": [
    {
     "name": "stdout",
     "output_type": "stream",
     "text": [
      "name : John\n",
      "age : 31\n",
      "city : New York\n"
     ]
    }
   ],
   "source": [
    "for key, value in my_dict.items():\n",
    "    print(f\"{key} : {value}\")"
   ]
  },
  {
   "cell_type": "code",
   "execution_count": 50,
   "id": "97d3109f",
   "metadata": {},
   "outputs": [
    {
     "name": "stdout",
     "output_type": "stream",
     "text": [
      "{1: 1, 2: 4, 3: 9, 4: 16, 5: 25}\n"
     ]
    }
   ],
   "source": [
    "squares = {x: x**2 for x in range(1, 6)}\n",
    "print(squares) # Output: {1: 1, 2: 4, 3: 9, 4: 16}"
   ]
  },
  {
   "cell_type": "code",
   "execution_count": 51,
   "id": "8829400d",
   "metadata": {},
   "outputs": [
    {
     "name": "stdout",
     "output_type": "stream",
     "text": [
      "{2: 4, 4: 16, 6: 36, 8: 64, 10: 100}\n"
     ]
    }
   ],
   "source": [
    "numbers = [1, 2, 3, 4, 5, 6, 7, 8, 9, 10]\n",
    "even_numbers = {x: x**2 for x in numbers if x % 2 == 0}\n",
    "print(even_numbers) \n",
    "# Output: {2: 4, 4: 16, 6: 36, 8: 64, 10: 100}"
   ]
  },
  {
   "cell_type": "markdown",
   "id": "7baf035a",
   "metadata": {},
   "source": [
    "## range type"
   ]
  },
  {
   "cell_type": "code",
   "execution_count": 53,
   "id": "dad36866",
   "metadata": {},
   "outputs": [
    {
     "name": "stdout",
     "output_type": "stream",
     "text": [
      "0\n",
      "1\n",
      "2\n",
      "3\n",
      "4\n"
     ]
    }
   ],
   "source": [
    "# Example 1: Using range(stop)\n",
    "for i in range(5):\n",
    "    print(i) # Prints numbers 0 to 4"
   ]
  },
  {
   "cell_type": "code",
   "execution_count": 54,
   "id": "7b842f4a",
   "metadata": {},
   "outputs": [
    {
     "name": "stdout",
     "output_type": "stream",
     "text": [
      "1\n",
      "2\n",
      "3\n",
      "4\n",
      "5\n"
     ]
    }
   ],
   "source": [
    "# Example 2: Using range(start, stop)\n",
    "for i in range(1, 6):\n",
    "    print(i) # Prints numbers 1 to 5"
   ]
  },
  {
   "cell_type": "code",
   "execution_count": 55,
   "id": "1b732a67",
   "metadata": {},
   "outputs": [
    {
     "name": "stdout",
     "output_type": "stream",
     "text": [
      "0\n",
      "2\n",
      "4\n",
      "6\n",
      "8\n"
     ]
    }
   ],
   "source": [
    "# Example 3: Using range(start, stop, step)\n",
    "for i in range(0, 10, 2):\n",
    "    print(i) # Prints even numbers from 0 to 8"
   ]
  },
  {
   "cell_type": "markdown",
   "id": "1932ca4d",
   "metadata": {},
   "source": [
    "## Datetime objects"
   ]
  },
  {
   "cell_type": "code",
   "execution_count": 61,
   "id": "6fc1db91",
   "metadata": {},
   "outputs": [
    {
     "name": "stdout",
     "output_type": "stream",
     "text": [
      "1993-07-12\n",
      "22:40:00\n",
      "1993-07-12 22:40:00\n"
     ]
    }
   ],
   "source": [
    "import datetime\n",
    "\n",
    "year = 1993\n",
    "month = 7\n",
    "day = 12\n",
    "\n",
    "hour = 22\n",
    "minute = 40\n",
    "second = 0\n",
    "microsecond = 0\n",
    "\n",
    "# Creating a date object\n",
    "date_obj = datetime.date(year, month, day)\n",
    "\n",
    "# Creating a time object\n",
    "time_obj = datetime.time(hour, minute, second, microsecond)\n",
    "\n",
    "# Creating a datetime object\n",
    "datetime_obj = datetime.datetime(year, \n",
    "                                     month, \n",
    "                                     day, \n",
    "                                     hour, \n",
    "                                     minute, \n",
    "                                     second, \n",
    "                                     microsecond)\n",
    "\n",
    "print(date_obj)\n",
    "print(time_obj)\n",
    "print(datetime_obj)"
   ]
  },
  {
   "cell_type": "code",
   "execution_count": 62,
   "id": "ad0bbc1b",
   "metadata": {},
   "outputs": [
    {
     "name": "stdout",
     "output_type": "stream",
     "text": [
      "2023-09-14 09:06:03.739105\n"
     ]
    }
   ],
   "source": [
    "current_datetime = datetime.datetime.today()\n",
    "print(current_datetime)"
   ]
  },
  {
   "cell_type": "code",
   "execution_count": 69,
   "id": "925c65d2",
   "metadata": {},
   "outputs": [
    {
     "name": "stdout",
     "output_type": "stream",
     "text": [
      "1993/07/12 22:40:00\n"
     ]
    }
   ],
   "source": [
    "datetime_string = datetime_obj.strftime(\"%Y/%m/%d %H:%M:%S\")\n",
    "print(datetime_string)"
   ]
  },
  {
   "cell_type": "code",
   "execution_count": 74,
   "id": "c6316d7e",
   "metadata": {},
   "outputs": [
    {
     "name": "stdout",
     "output_type": "stream",
     "text": [
      "1993-07-12 22:40:00\n",
      "<class 'datetime.datetime'>\n"
     ]
    }
   ],
   "source": [
    "datetime_obj = datetime.datetime.strptime(datetime_string, \"%Y/%m/%d %H:%M:%S\")\n",
    "print(datetime_obj)\n",
    "print(type(datetime_obj))"
   ]
  },
  {
   "cell_type": "code",
   "execution_count": 76,
   "id": "ce6c2b74",
   "metadata": {},
   "outputs": [
    {
     "name": "stdout",
     "output_type": "stream",
     "text": [
      "1993-07-12\n",
      "1993-07-13\n",
      "--------------\n",
      "1993-07-12 22:40:00\n",
      "1993-07-12 20:40:00\n"
     ]
    }
   ],
   "source": [
    "# Add 1 day to a date\n",
    "print(date_obj)\n",
    "new_date = date_obj + datetime.timedelta(days=1)\n",
    "print(new_date)\n",
    "print('--------------')\n",
    "\n",
    "# Subtract 2 hours from a datetime\n",
    "print(datetime_obj)\n",
    "new_datetime = datetime_obj - datetime.timedelta(hours=2)\n",
    "print(new_datetime)"
   ]
  },
  {
   "cell_type": "code",
   "execution_count": 78,
   "id": "96261096",
   "metadata": {},
   "outputs": [
    {
     "name": "stdout",
     "output_type": "stream",
     "text": [
      "We have already passed Thu, 14/09/2023, 12:00:00\n"
     ]
    }
   ],
   "source": [
    "current_datetime = datetime.datetime.today()\n",
    "datetime_obj = datetime.datetime(2023, 9, 14, 12, 0, 0)\n",
    "datetime_str = datetime_obj.strftime(\"%a, %d/%m/%Y, %H:%M:%S\")\n",
    "\n",
    "if datetime_obj < current_datetime:\n",
    "    message = f\"We have already passed {datetime_str}\"\n",
    "else:\n",
    "    message = f\"We not yet passed {datetime_str}\"\n",
    "print(message)"
   ]
  },
  {
   "cell_type": "markdown",
   "id": "5dfe2ac5",
   "metadata": {},
   "source": [
    "#### Working with timezones"
   ]
  },
  {
   "cell_type": "code",
   "execution_count": 79,
   "id": "0eb0e96c",
   "metadata": {},
   "outputs": [
    {
     "name": "stdout",
     "output_type": "stream",
     "text": [
      "UTC Datetime: 2023-09-14 12:00:00+00:00\n",
      "Eastern Time Datetime: 2023-09-14 08:00:00-04:00\n",
      "Current Time in Berlin: 2023-09-14 16:09:46.268165+02:00\n"
     ]
    }
   ],
   "source": [
    "import datetime\n",
    "import pytz\n",
    "\n",
    "# Create a datetime object representing a specific date and time in UTC\n",
    "utc_datetime = datetime.datetime(2023, 9, 14, 12, 0, 0, tzinfo=pytz.UTC)\n",
    "\n",
    "# Display the UTC datetime\n",
    "print(\"UTC Datetime:\", utc_datetime)\n",
    "\n",
    "# Convert the UTC datetime to a specific time zone (e.g., 'US/Eastern')\n",
    "eastern_timezone = pytz.timezone('US/Eastern')\n",
    "eastern_datetime = utc_datetime.astimezone(eastern_timezone)\n",
    "\n",
    "# Display the datetime in the 'US/Eastern' time zone\n",
    "print(\"Eastern Time Datetime:\", eastern_datetime)\n",
    "\n",
    "# Get the current time in a specific time zone (e.g., 'Europe/Berlin')\n",
    "berlin_timezone = pytz.timezone('Europe/Berlin')\n",
    "current_time_berlin = datetime.datetime.now(berlin_timezone)\n",
    "\n",
    "# Display the current time in the 'Europe/Berlin' time zone\n",
    "print(\"Current Time in Berlin:\", current_time_berlin)"
   ]
  },
  {
   "cell_type": "markdown",
   "id": "d2df7e77",
   "metadata": {},
   "source": [
    "## Type conversions"
   ]
  },
  {
   "cell_type": "code",
   "execution_count": 82,
   "id": "71d5f9ed",
   "metadata": {},
   "outputs": [
    {
     "name": "stdout",
     "output_type": "stream",
     "text": [
      "5\n"
     ]
    }
   ],
   "source": [
    "x = 5.7\n",
    "y = int(x)  # y becomes 5 (integer)\n",
    "print(y)"
   ]
  },
  {
   "cell_type": "code",
   "execution_count": 84,
   "id": "5bb122d6",
   "metadata": {},
   "outputs": [
    {
     "name": "stdout",
     "output_type": "stream",
     "text": [
      "3.0\n"
     ]
    }
   ],
   "source": [
    "x = 3\n",
    "y = float(x)  # y becomes 3.0 (float)\n",
    "print(y)"
   ]
  },
  {
   "cell_type": "code",
   "execution_count": 87,
   "id": "9175570f",
   "metadata": {},
   "outputs": [
    {
     "name": "stdout",
     "output_type": "stream",
     "text": [
      "42 <class 'str'>\n"
     ]
    }
   ],
   "source": [
    "x = 42\n",
    "y = str(x)  # y becomes \"42\" (string)\n",
    "print(y, type(y))"
   ]
  },
  {
   "cell_type": "code",
   "execution_count": 88,
   "id": "2beb68d0",
   "metadata": {},
   "outputs": [
    {
     "name": "stdout",
     "output_type": "stream",
     "text": [
      "7.5\n"
     ]
    }
   ],
   "source": [
    "x = 5\n",
    "y = 2.5\n",
    "result = x + y  \n",
    "print(result)\n",
    "# x is implicitly converted to float, result is 7.5"
   ]
  },
  {
   "cell_type": "code",
   "execution_count": 91,
   "id": "d3a02b95",
   "metadata": {},
   "outputs": [
    {
     "name": "stdout",
     "output_type": "stream",
     "text": [
      "True\n"
     ]
    }
   ],
   "source": [
    "print(bool(-1))"
   ]
  },
  {
   "cell_type": "code",
   "execution_count": 92,
   "id": "a2263374",
   "metadata": {},
   "outputs": [
    {
     "name": "stdout",
     "output_type": "stream",
     "text": [
      "3\n",
      "2\n",
      "1\n"
     ]
    }
   ],
   "source": [
    "list_obj = [1, 2, 3]\n",
    "\n",
    "while list_obj:\n",
    "    removed_elem = list_obj.pop()\n",
    "    print(removed_elem)"
   ]
  },
  {
   "cell_type": "code",
   "execution_count": 94,
   "id": "7c998391",
   "metadata": {},
   "outputs": [
    {
     "name": "stdout",
     "output_type": "stream",
     "text": [
      "x is greater than y\n"
     ]
    }
   ],
   "source": [
    "x = 10\n",
    "y = 5.0\n",
    "if x > y:\n",
    "    print(\"x is greater than y\")\n",
    "else:\n",
    "    print(\"y is greater than or equal to x\")"
   ]
  },
  {
   "cell_type": "code",
   "execution_count": 95,
   "id": "4029049e",
   "metadata": {},
   "outputs": [
    {
     "name": "stdout",
     "output_type": "stream",
     "text": [
      "Enter your age: 30\n",
      "Your input does not match your age.\n"
     ]
    }
   ],
   "source": [
    "age = 30\n",
    "age_input = input(\"Enter your age: \")\n",
    "if age == age_input:\n",
    "    print(\"You entered your age correctly.\")\n",
    "else:\n",
    "    print(\"Your input does not match your age.\")"
   ]
  },
  {
   "cell_type": "code",
   "execution_count": 97,
   "id": "7b982396",
   "metadata": {},
   "outputs": [
    {
     "name": "stdout",
     "output_type": "stream",
     "text": [
      "Enter your age: 30\n",
      "You entered your age correctly.\n"
     ]
    }
   ],
   "source": [
    "age = 30\n",
    "age_input = int(input(\"Enter your age: \"))\n",
    "if age == age_input:\n",
    "    print(\"You entered your age correctly.\")\n",
    "else:\n",
    "    print(\"Your input does not match your age.\")"
   ]
  },
  {
   "cell_type": "code",
   "execution_count": 100,
   "id": "95c26a0c",
   "metadata": {},
   "outputs": [
    {
     "name": "stdout",
     "output_type": "stream",
     "text": [
      "can't perform y = 1/x as x=0\n"
     ]
    }
   ],
   "source": [
    "x = 0\n",
    "try:\n",
    "   \ty = 1 / x\n",
    "except:\n",
    "    print(f\"can't perform y = 1/x as x={x}\")"
   ]
  },
  {
   "cell_type": "code",
   "execution_count": 101,
   "id": "88070a39",
   "metadata": {},
   "outputs": [
    {
     "name": "stdout",
     "output_type": "stream",
     "text": [
      "Division by zero is not allowed. x=0\n"
     ]
    }
   ],
   "source": [
    "x = 0\n",
    "try:\n",
    "    y = 1 / x\n",
    "except ZeroDivisionError:\n",
    "    print(f\"Division by zero is not allowed. x={x}\")"
   ]
  },
  {
   "cell_type": "code",
   "execution_count": 102,
   "id": "7295ca79",
   "metadata": {},
   "outputs": [
    {
     "name": "stdout",
     "output_type": "stream",
     "text": [
      "a[1,2,3]\n"
     ]
    },
    {
     "data": {
      "text/plain": [
       "['[', '1', ',', '2', ',', '3', ']']"
      ]
     },
     "execution_count": 102,
     "metadata": {},
     "output_type": "execute_result"
    }
   ],
   "source": [
    "list(input('a'))"
   ]
  },
  {
   "cell_type": "code",
   "execution_count": null,
   "id": "13d784a7",
   "metadata": {},
   "outputs": [],
   "source": []
  }
 ],
 "metadata": {
  "kernelspec": {
   "display_name": "Python 3 (ipykernel)",
   "language": "python",
   "name": "python3"
  },
  "language_info": {
   "codemirror_mode": {
    "name": "ipython",
    "version": 3
   },
   "file_extension": ".py",
   "mimetype": "text/x-python",
   "name": "python",
   "nbconvert_exporter": "python",
   "pygments_lexer": "ipython3",
   "version": "3.9.13"
  }
 },
 "nbformat": 4,
 "nbformat_minor": 5
}
