{
 "cells": [
  {
   "cell_type": "code",
   "execution_count": 2,
   "id": "62354683",
   "metadata": {},
   "outputs": [],
   "source": [
    "import sqlite3\n",
    "\n",
    "# Connect to the Database\n",
    "conn = sqlite3.connect(\"library.db\")\n",
    "\n",
    "# Create a Cursor\n",
    "cursor = conn.cursor()\n",
    "\n",
    "# Create Tables\n",
    "cursor.execute('''\n",
    "    CREATE TABLE IF NOT EXISTS Authors (\n",
    "        AuthorID INTEGER PRIMARY KEY,\n",
    "        FirstName TEXT,\n",
    "        LastName TEXT\n",
    "    )\n",
    "''')\n",
    "\n",
    "cursor.execute('''\n",
    "    CREATE TABLE IF NOT EXISTS Books (\n",
    "        BookID INTEGER PRIMARY KEY,\n",
    "        Title TEXT,\n",
    "        AuthorID INTEGER,\n",
    "        FOREIGN KEY (AuthorID) REFERENCES Authors (AuthorID)\n",
    "    )\n",
    "''')\n",
    "\n",
    "# Insert Data\n",
    "cursor.execute(\"INSERT INTO Authors (FirstName, LastName) VALUES (?, ?)\", (\"John\", \"Doe\"))\n",
    "cursor.execute(\"INSERT INTO Authors (FirstName, LastName) VALUES (?, ?)\", (\"Jane\", \"Smith\"))\n",
    "\n",
    "cursor.execute(\"INSERT INTO Books (Title, AuthorID) VALUES (?, ?)\", (\"The Great Gatsby\", 1))\n",
    "cursor.execute(\"INSERT INTO Books (Title, AuthorID) VALUES (?, ?)\", (\"To Kill a Mockingbird\", 2))\n",
    "\n",
    "# Commit Changes\n",
    "conn.commit()\n",
    "\n",
    "# Close the Connection\n",
    "conn.close()\n"
   ]
  },
  {
   "cell_type": "code",
   "execution_count": null,
   "id": "e0379d68",
   "metadata": {},
   "outputs": [],
   "source": []
  }
 ],
 "metadata": {
  "kernelspec": {
   "display_name": "Python 3 (ipykernel)",
   "language": "python",
   "name": "python3"
  },
  "language_info": {
   "codemirror_mode": {
    "name": "ipython",
    "version": 3
   },
   "file_extension": ".py",
   "mimetype": "text/x-python",
   "name": "python",
   "nbconvert_exporter": "python",
   "pygments_lexer": "ipython3",
   "version": "3.9.13"
  }
 },
 "nbformat": 4,
 "nbformat_minor": 5
}
