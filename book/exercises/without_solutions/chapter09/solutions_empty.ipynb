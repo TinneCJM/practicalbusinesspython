{
 "cells": [
  {
   "cell_type": "markdown",
   "metadata": {},
   "source": [
    "## Exercise 1\n",
    "Create a 2-dimensional array of shape (5, 5) with random integers between 1 and 100. Extract the diagonal elements and find their sum."
   ]
  },
  {
   "cell_type": "code",
   "execution_count": 2,
   "metadata": {},
   "outputs": [
    {
     "name": "stdout",
     "output_type": "stream",
     "text": [
      "Array:\n",
      "[[53 36 60 99  6]\n",
      " [21 56 59 49 37]\n",
      " [11 38 55 50 47]\n",
      " [98 49 85 22 41]\n",
      " [20 81 46 17 77]]\n",
      "Diagonal elements:\n",
      "[53 56 55 22 77]\n",
      "Sum of diagonal elements: 263\n"
     ]
    }
   ],
   "source": [
    "import numpy as np\n",
    "\n",
    "# Create a 2-dimensional array of shape (5, 5) with random integers between 1 and 100\n",
    "array = np.random.randint(1, 101, size=(5, 5))\n",
    "\n",
    "# Extract the diagonal elements\n",
    "diagonal_elements = np.diagonal(array)\n",
    "\n",
    "# Find the sum of the diagonal elements\n",
    "diagonal_sum = np.sum(diagonal_elements)\n",
    "\n",
    "print(\"Array:\")\n",
    "print(array)\n",
    "print(\"Diagonal elements:\")\n",
    "print(diagonal_elements)\n",
    "print(\"Sum of diagonal elements:\", diagonal_sum)"
   ]
  },
  {
   "cell_type": "markdown",
   "metadata": {},
   "source": [
    "## Exercise 2\n",
    "Normalize the values of a $2$-dimensional array to have a mean of $0$ and a standard deviation of $1$. To normalize an array $x$, you perform the operation $\\frac{x-\\mu}{\\sigma}$ with $\\mu$ the mean and σ the standard deviation of $x$."
   ]
  },
  {
   "cell_type": "code",
   "execution_count": 6,
   "metadata": {},
   "outputs": [
    {
     "name": "stdout",
     "output_type": "stream",
     "text": [
      "[18 12 18 19  2  4  1 26 12  3 18 11 19  6 19 17  1  8 26 22  5 21 15]\n",
      "[ 0.36633663 -0.08910891  0.36633663  0.44224422 -0.84818482 -0.69636964\n",
      " -0.92409241  0.97359736 -0.08910891 -0.77227723  0.36633663 -0.1650165\n",
      "  0.44224422 -0.54455446  0.44224422  0.29042904 -0.92409241 -0.39273927\n",
      "  0.97359736  0.669967   -0.62046205  0.59405941  0.13861386]\n"
     ]
    }
   ],
   "source": [
    "def normalize(x):\n",
    "    mu = np.mean(x)\n",
    "    sigma = np.mean(x)\n",
    "    return (x - mu) / sigma\n",
    "\n",
    "x = np.random.randint(1, 27, 23)\n",
    "normalized_x = normalize(x)\n",
    "\n",
    "print(x)\n",
    "print(normalized_x)"
   ]
  },
  {
   "cell_type": "markdown",
   "metadata": {},
   "source": [
    "## Exercise 3\n",
    "Create a function that takes in a $2$-dimensional array and extract rows where the sum of elements is greater than a certain threshold."
   ]
  },
  {
   "cell_type": "markdown",
   "metadata": {},
   "source": []
  },
  {
   "cell_type": "markdown",
   "metadata": {},
   "source": [
    "## Exercise 4\n",
    "Compute the element-wise absolute difference between two arrays of the same shape."
   ]
  },
  {
   "cell_type": "code",
   "execution_count": null,
   "metadata": {},
   "outputs": [],
   "source": []
  },
  {
   "cell_type": "markdown",
   "metadata": {},
   "source": [
    "## Exercise 5\n",
    "Calculate the cumulative sum along both rows and columns of a $2$-dimensional array."
   ]
  },
  {
   "cell_type": "code",
   "execution_count": null,
   "metadata": {},
   "outputs": [],
   "source": []
  },
  {
   "cell_type": "markdown",
   "metadata": {},
   "source": [
    "## Exercise 6\n",
    "Rescale the values of a $1$-dimensional array to lie between $0$ and $1$ using min-max scaling. Min max scaling means that we replace $x$ by $\\frac{x - \\min(x)}{\\max(x) - \\min(x)}$."
   ]
  },
  {
   "cell_type": "code",
   "execution_count": null,
   "metadata": {},
   "outputs": [],
   "source": []
  },
  {
   "cell_type": "markdown",
   "metadata": {},
   "source": [
    "## Exercise 7\n",
    "Compute the matrix multiplication between a $2$-dimensional array and its transpose."
   ]
  },
  {
   "cell_type": "code",
   "execution_count": null,
   "metadata": {},
   "outputs": [],
   "source": []
  },
  {
   "cell_type": "markdown",
   "metadata": {},
   "source": [
    "## Exercise 8\n",
    "Replace all even numbers in an array with the negative of their value."
   ]
  },
  {
   "cell_type": "code",
   "execution_count": null,
   "metadata": {},
   "outputs": [],
   "source": []
  },
  {
   "cell_type": "markdown",
   "metadata": {},
   "source": [
    "## Exercise 9\n",
    "Create a $2$-dimensional array with a checkerboard pattern of $0$’s and $1$’s."
   ]
  },
  {
   "cell_type": "markdown",
   "metadata": {},
   "source": []
  }
 ],
 "metadata": {
  "kernelspec": {
   "display_name": "base",
   "language": "python",
   "name": "python3"
  },
  "language_info": {
   "codemirror_mode": {
    "name": "ipython",
    "version": 3
   },
   "file_extension": ".py",
   "mimetype": "text/x-python",
   "name": "python",
   "nbconvert_exporter": "python",
   "pygments_lexer": "ipython3",
   "version": "3.9.13"
  }
 },
 "nbformat": 4,
 "nbformat_minor": 2
}
