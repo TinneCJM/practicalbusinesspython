{
 "cells": [
  {
   "cell_type": "markdown",
   "id": "3cad2cc2",
   "metadata": {},
   "source": [
    "# os package"
   ]
  },
  {
   "cell_type": "markdown",
   "id": "49d1da3a",
   "metadata": {},
   "source": [
    "## Exercise 1:\n",
    "Write a program that prints the absolute paths of all files/folders in a user-chosen directory."
   ]
  },
  {
   "cell_type": "code",
   "execution_count": null,
   "id": "b2688618",
   "metadata": {},
   "outputs": [],
   "source": []
  },
  {
   "cell_type": "markdown",
   "id": "3ceb2d99",
   "metadata": {},
   "source": [
    "## Exercise 2:\n",
    "Create a new directory and move all text files from the current directory to the newly created directory."
   ]
  },
  {
   "cell_type": "code",
   "execution_count": null,
   "id": "b0c8130b",
   "metadata": {},
   "outputs": [],
   "source": []
  },
  {
   "cell_type": "markdown",
   "id": "138f6aa0",
   "metadata": {},
   "source": [
    "## Exercise 3\n",
    "Create a folder called alphabet and in that folder create subfolders for each letter of the alphabet (a folder called a, b, ...)."
   ]
  },
  {
   "cell_type": "code",
   "execution_count": null,
   "id": "f31c4cc6",
   "metadata": {},
   "outputs": [],
   "source": []
  },
  {
   "cell_type": "markdown",
   "id": "4d67ed81",
   "metadata": {},
   "source": [
    "## Exercise 4\n",
    "Write a program that recursively deletes all empty directories within a specified directory."
   ]
  },
  {
   "cell_type": "code",
   "execution_count": null,
   "id": "3804a1c1",
   "metadata": {},
   "outputs": [],
   "source": [
    "## Example of a recursive function\n",
    "\n",
    "def factorial(n):\n",
    "    if n == 0:\n",
    "        return 1\n",
    "    else:\n",
    "        return n * factorial(n - 1)\n",
    "\n",
    "# Test the function with some values\n",
    "n = int(input(\"Give a number of which you want to compute the factorial.\\n\"))\n",
    "result = factorial(n)\n",
    "print(f\"The factorial of {n} is {result}\")"
   ]
  },
  {
   "cell_type": "code",
   "execution_count": null,
   "id": "ca33adcf",
   "metadata": {},
   "outputs": [],
   "source": []
  },
  {
   "cell_type": "markdown",
   "id": "40428683",
   "metadata": {},
   "source": [
    "# Json files"
   ]
  },
  {
   "cell_type": "markdown",
   "id": "d4b0bb03",
   "metadata": {},
   "source": [
    "## Part 1: create json file with some contacts"
   ]
  },
  {
   "cell_type": "code",
   "execution_count": null,
   "id": "0f9d8004",
   "metadata": {},
   "outputs": [],
   "source": []
  },
  {
   "cell_type": "markdown",
   "id": "9f252f71",
   "metadata": {},
   "source": [
    "## Part 2: Read & write the contacts"
   ]
  },
  {
   "cell_type": "code",
   "execution_count": null,
   "id": "82f24601",
   "metadata": {},
   "outputs": [],
   "source": []
  },
  {
   "cell_type": "markdown",
   "id": "fbabce91",
   "metadata": {},
   "source": [
    "# Excel Files"
   ]
  },
  {
   "cell_type": "code",
   "execution_count": null,
   "id": "b4566974",
   "metadata": {},
   "outputs": [],
   "source": []
  }
 ],
 "metadata": {
  "kernelspec": {
   "display_name": "Python 3 (ipykernel)",
   "language": "python",
   "name": "python3"
  },
  "language_info": {
   "codemirror_mode": {
    "name": "ipython",
    "version": 3
   },
   "file_extension": ".py",
   "mimetype": "text/x-python",
   "name": "python",
   "nbconvert_exporter": "python",
   "pygments_lexer": "ipython3",
   "version": "3.9.13"
  }
 },
 "nbformat": 4,
 "nbformat_minor": 5
}
