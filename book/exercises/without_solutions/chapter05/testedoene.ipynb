{
 "cells": [
  {
   "cell_type": "code",
   "execution_count": 1,
   "id": "cd488cfd",
   "metadata": {},
   "outputs": [
    {
     "data": {
      "text/plain": [
       "False"
      ]
     },
     "execution_count": 1,
     "metadata": {},
     "output_type": "execute_result"
    }
   ],
   "source": [
    "0.1 + 0.1 + 0.1 == 0.3"
   ]
  },
  {
   "cell_type": "code",
   "execution_count": 2,
   "id": "193d8cff",
   "metadata": {},
   "outputs": [
    {
     "name": "stdout",
     "output_type": "stream",
     "text": [
      "False\n"
     ]
    }
   ],
   "source": [
    "import numpy as np\n",
    "eps = 10 ** (-8)\n",
    "\n",
    "x = 0.1 + 0.1 + 0.1\n",
    "y = 0.3\n",
    "print(np.abs(x - y) > eps)"
   ]
  },
  {
   "cell_type": "code",
   "execution_count": 4,
   "id": "f11dda9c",
   "metadata": {},
   "outputs": [
    {
     "data": {
      "text/plain": [
       "finfo(resolution=1e-15, min=-1.7976931348623157e+308, max=1.7976931348623157e+308, dtype=float64)"
      ]
     },
     "execution_count": 4,
     "metadata": {},
     "output_type": "execute_result"
    }
   ],
   "source": [
    "np.finfo(0.1)"
   ]
  },
  {
   "cell_type": "markdown",
   "id": "f5083047",
   "metadata": {},
   "source": [
    "DE taal om hierin te schrijven is **markdown taal** en daaar kunde wat syntax insteken zoals $e^x$ in $\\LaTeX$ code"
   ]
  },
  {
   "cell_type": "markdown",
   "id": "ad11463a",
   "metadata": {},
   "source": [
    "$ \\sum_{i=1}^n i = \\frac{n \\cdot (n+1)}{2}$"
   ]
  },
  {
   "cell_type": "code",
   "execution_count": null,
   "id": "befd5ad7",
   "metadata": {},
   "outputs": [],
   "source": [
    "x = 1\n",
    "x + 1"
   ]
  },
  {
   "cell_type": "code",
   "execution_count": 9,
   "id": "ac5c142c",
   "metadata": {},
   "outputs": [],
   "source": [
    "def fun(x):\n",
    "    \"\"\"\n",
    "    Dit is een docstring!\n",
    "    Dit\n",
    "    kan\n",
    "    over \n",
    "    zo veel\n",
    "    lijnen\n",
    "    lopen als\n",
    "    ik wil\n",
    "    \"\"\"\n",
    "    return x**2"
   ]
  },
  {
   "cell_type": "code",
   "execution_count": 12,
   "id": "29faf260",
   "metadata": {},
   "outputs": [],
   "source": [
    "np.log?"
   ]
  },
  {
   "cell_type": "code",
   "execution_count": 14,
   "id": "5d715d65",
   "metadata": {},
   "outputs": [],
   "source": [
    "student_names = [1,2 ,3]\n",
    "student_names_girls = [5,6]"
   ]
  },
  {
   "cell_type": "code",
   "execution_count": 18,
   "id": "a6109984",
   "metadata": {},
   "outputs": [],
   "source": [
    "lange_string = \"\"\"Dit is een\n",
    "hele lange\n",
    "string\"\"\"\n",
    "\n",
    "dit_is_dezelfde_lange_string = \"Dit is een\\nhele lange\\n string\""
   ]
  },
  {
   "cell_type": "code",
   "execution_count": 20,
   "id": "0c389912",
   "metadata": {},
   "outputs": [
    {
     "name": "stdout",
     "output_type": "stream",
     "text": [
      "Dit is een\n",
      "hele lange\n",
      "string\n"
     ]
    }
   ],
   "source": [
    "print(lange_string)"
   ]
  },
  {
   "cell_type": "code",
   "execution_count": 19,
   "id": "bc1fa47a",
   "metadata": {},
   "outputs": [
    {
     "name": "stdout",
     "output_type": "stream",
     "text": [
      "Dit is een\n",
      "hele lange\n",
      " string\n"
     ]
    }
   ],
   "source": [
    "print(dit_is_dezelfde_lange_string)"
   ]
  },
  {
   "cell_type": "code",
   "execution_count": null,
   "id": "6106fedd",
   "metadata": {},
   "outputs": [],
   "source": [
    "sql_querry = \"\"\"SELECT * FROM DB\n",
    "                    WHERE AGE > 20\"\"\""
   ]
  },
  {
   "cell_type": "code",
   "execution_count": 27,
   "id": "c4d887f3",
   "metadata": {},
   "outputs": [],
   "source": [
    "haakjes_som = (1 # DIt is niet mooi!\n",
    "                  + 2\n",
    "                  - 3\n",
    "                  + 4)"
   ]
  },
  {
   "cell_type": "code",
   "execution_count": 25,
   "id": "e63ac87f",
   "metadata": {},
   "outputs": [
    {
     "data": {
      "text/plain": [
       "10"
      ]
     },
     "execution_count": 25,
     "metadata": {},
     "output_type": "execute_result"
    }
   ],
   "source": [
    "haakjes_som"
   ]
  },
  {
   "cell_type": "code",
   "execution_count": 33,
   "id": "6c1255b9",
   "metadata": {},
   "outputs": [],
   "source": [
    "x = 1\n",
    "if x == 2:\n",
    "a = 1\n",
    "print(a)\n",
    "    a += 1"
   ]
  },
  {
   "cell_type": "code",
   "execution_count": null,
   "id": "cc08f9d4",
   "metadata": {},
   "outputs": [],
   "source": [
    "ctr + [ OF tab # naar links\n",
    "ctr + ] OF shift + tab # naar rechts"
   ]
  },
  {
   "cell_type": "code",
   "execution_count": 44,
   "id": "081bfb8f",
   "metadata": {},
   "outputs": [
    {
     "name": "stdout",
     "output_type": "stream",
     "text": [
      "4\n"
     ]
    }
   ],
   "source": [
    "x = 2\n",
    "a = 2\n",
    "b = 3\n",
    "if x == 1:\n",
    "    if a == 2:\n",
    "        if b == 3:\n",
    "            print(1)\n",
    "        print(2)\n",
    "    print(3)\n",
    "print(4)"
   ]
  },
  {
   "cell_type": "code",
   "execution_count": 51,
   "id": "ca7c9866",
   "metadata": {},
   "outputs": [
    {
     "name": "stdout",
     "output_type": "stream",
     "text": [
      "x is 0\n"
     ]
    }
   ],
   "source": [
    "x = 0.1 + 0.1 + 0.1 - 0.3\n",
    "if x > 10**(-8):\n",
    "    print(\"x is positive!\")\n",
    "elif x < -10**(-8):\n",
    "    print(\"x is negative!\")\n",
    "else:\n",
    "    print(\"x is 0\")\n",
    "    "
   ]
  },
  {
   "cell_type": "code",
   "execution_count": 53,
   "id": "b0000b18",
   "metadata": {},
   "outputs": [
    {
     "name": "stdout",
     "output_type": "stream",
     "text": [
      "joepie\n"
     ]
    }
   ],
   "source": [
    "x, y = 1, 1\n",
    "if (len(student_names) > int(len(teachers)) \n",
    "        and y > 0):\n",
    "    print('joepie')"
   ]
  },
  {
   "cell_type": "code",
   "execution_count": null,
   "id": "23216a33",
   "metadata": {},
   "outputs": [],
   "source": [
    "y = 123\n",
    "x = \"even\" if y % 2 == 0 else \"odd\"\n",
    "\n",
    "# Clunky alternative\n",
    "if y % 2 == 0:\n",
    "    x = \"even\"\n",
    "else:\n",
    "    x = \"odd\""
   ]
  },
  {
   "cell_type": "code",
   "execution_count": 55,
   "id": "4ec14ec8",
   "metadata": {},
   "outputs": [
    {
     "data": {
      "text/plain": [
       "'even'"
      ]
     },
     "execution_count": 55,
     "metadata": {},
     "output_type": "execute_result"
    }
   ],
   "source": [
    "y = 2\n",
    "\"even\" if y % 2 == 0 else \"odd\""
   ]
  },
  {
   "cell_type": "code",
   "execution_count": 57,
   "id": "c3453781",
   "metadata": {},
   "outputs": [
    {
     "name": "stdout",
     "output_type": "stream",
     "text": [
      "4\n",
      "word\n",
      "word\n"
     ]
    },
    {
     "ename": "KeyboardInterrupt",
     "evalue": "Interrupted by user",
     "output_type": "error",
     "traceback": [
      "\u001b[1;31m--------------------------------------------------------------------------\u001b[0m",
      "\u001b[1;31mKeyboardInterrupt\u001b[0m                        Traceback (most recent call last)",
      "\u001b[1;32m~\\AppData\\Local\\Temp\\ipykernel_12256\\714131697.py\u001b[0m in \u001b[0;36m<module>\u001b[1;34m\u001b[0m\n\u001b[0;32m      1\u001b[0m \u001b[0mn\u001b[0m \u001b[1;33m=\u001b[0m \u001b[0mint\u001b[0m\u001b[1;33m(\u001b[0m\u001b[0minput\u001b[0m\u001b[1;33m(\u001b[0m\u001b[1;33m)\u001b[0m\u001b[1;33m)\u001b[0m\u001b[1;33m\u001b[0m\u001b[1;33m\u001b[0m\u001b[0m\n\u001b[0;32m      2\u001b[0m \u001b[1;32mfor\u001b[0m \u001b[0mi\u001b[0m \u001b[1;32min\u001b[0m \u001b[0mrange\u001b[0m\u001b[1;33m(\u001b[0m\u001b[0mn\u001b[0m\u001b[1;33m)\u001b[0m\u001b[1;33m:\u001b[0m\u001b[1;33m\u001b[0m\u001b[1;33m\u001b[0m\u001b[0m\n\u001b[1;32m----> 3\u001b[1;33m     \u001b[0mword\u001b[0m \u001b[1;33m=\u001b[0m \u001b[0minput\u001b[0m\u001b[1;33m(\u001b[0m\u001b[1;33m)\u001b[0m\u001b[1;33m\u001b[0m\u001b[1;33m\u001b[0m\u001b[0m\n\u001b[0m\u001b[0;32m      4\u001b[0m     \u001b[1;32mif\u001b[0m \u001b[0mlen\u001b[0m\u001b[1;33m(\u001b[0m\u001b[0mword\u001b[0m\u001b[1;33m)\u001b[0m \u001b[1;33m>\u001b[0m \u001b[1;36m10\u001b[0m\u001b[1;33m:\u001b[0m\u001b[1;33m\u001b[0m\u001b[1;33m\u001b[0m\u001b[0m\n\u001b[0;32m      5\u001b[0m         \u001b[0mnew_word\u001b[0m \u001b[1;33m=\u001b[0m \u001b[1;34mf\"{word[0]}{len(word)-2}{word[-1]}\"\u001b[0m\u001b[1;33m\u001b[0m\u001b[1;33m\u001b[0m\u001b[0m\n",
      "\u001b[1;32m~\\Anaconda3\\lib\\site-packages\\ipykernel\\kernelbase.py\u001b[0m in \u001b[0;36mraw_input\u001b[1;34m(self, prompt)\u001b[0m\n\u001b[0;32m   1175\u001b[0m                 \u001b[1;34m\"raw_input was called, but this frontend does not support input requests.\"\u001b[0m\u001b[1;33m\u001b[0m\u001b[1;33m\u001b[0m\u001b[0m\n\u001b[0;32m   1176\u001b[0m             )\n\u001b[1;32m-> 1177\u001b[1;33m         return self._input_request(\n\u001b[0m\u001b[0;32m   1178\u001b[0m             \u001b[0mstr\u001b[0m\u001b[1;33m(\u001b[0m\u001b[0mprompt\u001b[0m\u001b[1;33m)\u001b[0m\u001b[1;33m,\u001b[0m\u001b[1;33m\u001b[0m\u001b[1;33m\u001b[0m\u001b[0m\n\u001b[0;32m   1179\u001b[0m             \u001b[0mself\u001b[0m\u001b[1;33m.\u001b[0m\u001b[0m_parent_ident\u001b[0m\u001b[1;33m[\u001b[0m\u001b[1;34m\"shell\"\u001b[0m\u001b[1;33m]\u001b[0m\u001b[1;33m,\u001b[0m\u001b[1;33m\u001b[0m\u001b[1;33m\u001b[0m\u001b[0m\n",
      "\u001b[1;32m~\\Anaconda3\\lib\\site-packages\\ipykernel\\kernelbase.py\u001b[0m in \u001b[0;36m_input_request\u001b[1;34m(self, prompt, ident, parent, password)\u001b[0m\n\u001b[0;32m   1217\u001b[0m             \u001b[1;32mexcept\u001b[0m \u001b[0mKeyboardInterrupt\u001b[0m\u001b[1;33m:\u001b[0m\u001b[1;33m\u001b[0m\u001b[1;33m\u001b[0m\u001b[0m\n\u001b[0;32m   1218\u001b[0m                 \u001b[1;31m# re-raise KeyboardInterrupt, to truncate traceback\u001b[0m\u001b[1;33m\u001b[0m\u001b[1;33m\u001b[0m\u001b[0m\n\u001b[1;32m-> 1219\u001b[1;33m                 \u001b[1;32mraise\u001b[0m \u001b[0mKeyboardInterrupt\u001b[0m\u001b[1;33m(\u001b[0m\u001b[1;34m\"Interrupted by user\"\u001b[0m\u001b[1;33m)\u001b[0m \u001b[1;32mfrom\u001b[0m \u001b[1;32mNone\u001b[0m\u001b[1;33m\u001b[0m\u001b[1;33m\u001b[0m\u001b[0m\n\u001b[0m\u001b[0;32m   1220\u001b[0m             \u001b[1;32mexcept\u001b[0m \u001b[0mException\u001b[0m\u001b[1;33m:\u001b[0m\u001b[1;33m\u001b[0m\u001b[1;33m\u001b[0m\u001b[0m\n\u001b[0;32m   1221\u001b[0m                 \u001b[0mself\u001b[0m\u001b[1;33m.\u001b[0m\u001b[0mlog\u001b[0m\u001b[1;33m.\u001b[0m\u001b[0mwarning\u001b[0m\u001b[1;33m(\u001b[0m\u001b[1;34m\"Invalid Message:\"\u001b[0m\u001b[1;33m,\u001b[0m \u001b[0mexc_info\u001b[0m\u001b[1;33m=\u001b[0m\u001b[1;32mTrue\u001b[0m\u001b[1;33m)\u001b[0m\u001b[1;33m\u001b[0m\u001b[1;33m\u001b[0m\u001b[0m\n",
      "\u001b[1;31mKeyboardInterrupt\u001b[0m: Interrupted by user"
     ]
    }
   ],
   "source": [
    "n = int(input())\n",
    "for i in range(n):\n",
    "    word = input()\n",
    "    if len(word) > 10:\n",
    "        new_word = f\"{word[0]}{len(word)-2}{word[-1]}\"\n",
    "    else:\n",
    "        new_word = word\n",
    "    print(new_word)"
   ]
  },
  {
   "cell_type": "code",
   "execution_count": 64,
   "id": "69851a35",
   "metadata": {},
   "outputs": [
    {
     "name": "stdout",
     "output_type": "stream",
     "text": [
      "1\n",
      "3\n",
      "5\n",
      "7\n",
      "9\n"
     ]
    }
   ],
   "source": [
    "for i in range(10):\n",
    "    if i % 2 != 0:\n",
    "        print(i)\n",
    "        # veel dingen met i"
   ]
  },
  {
   "cell_type": "code",
   "execution_count": 70,
   "id": "a3a2e703",
   "metadata": {},
   "outputs": [
    {
     "name": "stdout",
     "output_type": "stream",
     "text": [
      "1\n",
      "3\n"
     ]
    }
   ],
   "source": [
    "# Dit is preferred!\n",
    "for i in range(1, 20):\n",
    "    if i % 4 == 0:\n",
    "        break\n",
    "    if i % 2 == 0:\n",
    "        continue\n",
    "    print(i)"
   ]
  },
  {
   "cell_type": "code",
   "execution_count": 71,
   "id": "8b087d58",
   "metadata": {},
   "outputs": [],
   "source": [
    "lst = list(range(100))"
   ]
  },
  {
   "cell_type": "code",
   "execution_count": 86,
   "id": "d5f07cbe",
   "metadata": {},
   "outputs": [],
   "source": [
    "for i in [0, 1, 2, 3, 4, 5, 6, 7      ,      8         ,9]:\n",
    "    pass"
   ]
  },
  {
   "cell_type": "code",
   "execution_count": 85,
   "id": "ca7e8319",
   "metadata": {},
   "outputs": [
    {
     "data": {
      "text/plain": [
       "[0, 1, 2, 3, 4, 5, 6, 7, 8, 9]"
      ]
     },
     "execution_count": 85,
     "metadata": {},
     "output_type": "execute_result"
    }
   ],
   "source": [
    "list(range(10))"
   ]
  },
  {
   "cell_type": "code",
   "execution_count": 78,
   "id": "863a9f01",
   "metadata": {},
   "outputs": [
    {
     "name": "stdout",
     "output_type": "stream",
     "text": [
      "Mijn eerste fruit is: appel\n",
      "1 banaan\n",
      "2 peer\n"
     ]
    }
   ],
   "source": [
    "lst_fruit = ['appel', 'banaan', 'peer']\n",
    "for n, fruit in enumerate(lst_fruit):\n",
    "    if n == 0:\n",
    "        print(f\"Mijn eerste fruit is: {fruit}\")\n",
    "    else:\n",
    "        print(n, fruit)"
   ]
  },
  {
   "cell_type": "code",
   "execution_count": 83,
   "id": "c4d0597f",
   "metadata": {},
   "outputs": [
    {
     "name": "stdout",
     "output_type": "stream",
     "text": [
      "0 Tim Hellemans\n",
      "1 Pierre Van Regenmortel\n"
     ]
    }
   ],
   "source": [
    "voornamen = ['Tim', 'Pierre', 'Tom']\n",
    "achternamen = ['Hellemans', 'Van Regenmortel']\n",
    "\n",
    "for n, (voornaam, achternaam) in enumerate(zip(voornamen, achternamen)):\n",
    "    print(n, voornaam, achternaam)"
   ]
  },
  {
   "cell_type": "code",
   "execution_count": 91,
   "id": "d91b48b7",
   "metadata": {},
   "outputs": [
    {
     "name": "stdout",
     "output_type": "stream",
     "text": [
      "1\n",
      "2\n",
      "3\n",
      "4\n",
      "5\n"
     ]
    }
   ],
   "source": []
  },
  {
   "cell_type": "code",
   "execution_count": 92,
   "id": "4ed6f215",
   "metadata": {},
   "outputs": [
    {
     "name": "stdout",
     "output_type": "stream",
     "text": [
      "a\n",
      "b\n",
      "c\n"
     ]
    }
   ],
   "source": [
    "for letter in ['a', 'b', 'c']:\n",
    "    print(letter)"
   ]
  },
  {
   "cell_type": "code",
   "execution_count": 99,
   "id": "ca5f7680",
   "metadata": {},
   "outputs": [
    {
     "name": "stdout",
     "output_type": "stream",
     "text": [
      "ja of neeja\n",
      "ja\n",
      "ja of neeja\n",
      "ja\n",
      "ja of neeja\n",
      "ja\n",
      "ja of neenee\n"
     ]
    }
   ],
   "source": [
    "while True:\n",
    "    ja_of_nee = input(\"ja of nee\")\n",
    "    if ja_of_nee == 'nee':\n",
    "        break\n",
    "    print('ja')"
   ]
  },
  {
   "cell_type": "code",
   "execution_count": 94,
   "id": "25bc2bd5",
   "metadata": {},
   "outputs": [
    {
     "data": {
      "text/plain": [
       "True"
      ]
     },
     "execution_count": 94,
     "metadata": {},
     "output_type": "execute_result"
    }
   ],
   "source": [
    "idx <= len(lst)"
   ]
  },
  {
   "cell_type": "code",
   "execution_count": 108,
   "id": "4ee307f5",
   "metadata": {},
   "outputs": [],
   "source": [
    "print?"
   ]
  },
  {
   "cell_type": "code",
   "execution_count": 107,
   "id": "4d9c1c9a",
   "metadata": {},
   "outputs": [
    {
     "name": "stdout",
     "output_type": "stream",
     "text": [
      "12\n"
     ]
    }
   ],
   "source": [
    "print(1, end =\"\")\n",
    "print(2)"
   ]
  },
  {
   "cell_type": "code",
   "execution_count": 106,
   "id": "2f897b6f",
   "metadata": {},
   "outputs": [
    {
     "name": "stdout",
     "output_type": "stream",
     "text": [
      "appel\n",
      "banaan "
     ]
    }
   ],
   "source": [
    "print(\"appel\", end = \"\\n\")\n",
    "print(\"banaan\", end = \" \")"
   ]
  },
  {
   "cell_type": "code",
   "execution_count": 102,
   "id": "7776e191",
   "metadata": {},
   "outputs": [
    {
     "name": "stdout",
     "output_type": "stream",
     "text": [
      "appel appel\n",
      "appel banaan\n",
      "appel peer\n",
      "banaan appel\n",
      "banaan banaan\n",
      "banaan peer\n",
      "peer appel\n",
      "peer banaan\n",
      "peer peer\n"
     ]
    }
   ],
   "source": [
    "#Gevaar!\n",
    "fruits = ['appel', 'banaan', 'peer']\n",
    "for fruit1 in fruits:\n",
    "    for fruit2 in fruits:\n",
    "        print(fruit1, fruit2)"
   ]
  },
  {
   "cell_type": "code",
   "execution_count": 103,
   "id": "4bdd747b",
   "metadata": {},
   "outputs": [
    {
     "name": "stdout",
     "output_type": "stream",
     "text": [
      "appel appel\n",
      "banaan banaan\n",
      "peer peer\n"
     ]
    }
   ],
   "source": [
    "for fruit1, fruit2 in zip(fruits, fruits):\n",
    "    print(fruit1, fruit2)"
   ]
  },
  {
   "cell_type": "code",
   "execution_count": 114,
   "id": "8ab2a1d4",
   "metadata": {},
   "outputs": [
    {
     "name": "stdout",
     "output_type": "stream",
     "text": [
      "8.168892621994019\n"
     ]
    }
   ],
   "source": [
    "import time\n",
    "\n",
    "start_time = time.time()\n",
    "a = 0\n",
    "for i in range(10**5):\n",
    "    for j in range(10**3):\n",
    "        a += i\n",
    "end_time = time.time()\n",
    "\n",
    "print(end_time - start_time)"
   ]
  },
  {
   "cell_type": "code",
   "execution_count": 116,
   "id": "c31c7f1f",
   "metadata": {},
   "outputs": [
    {
     "data": {
      "text/plain": [
       "3.0"
      ]
     },
     "execution_count": 116,
     "metadata": {},
     "output_type": "execute_result"
    }
   ],
   "source": [
    "np.log10(1000)"
   ]
  },
  {
   "cell_type": "code",
   "execution_count": 117,
   "id": "dc167287",
   "metadata": {},
   "outputs": [
    {
     "data": {
      "text/plain": [
       "1000"
      ]
     },
     "execution_count": 117,
     "metadata": {},
     "output_type": "execute_result"
    }
   ],
   "source": [
    "10**3"
   ]
  },
  {
   "cell_type": "code",
   "execution_count": 121,
   "id": "548b2105",
   "metadata": {},
   "outputs": [
    {
     "data": {
      "text/plain": [
       "[<matplotlib.lines.Line2D at 0x26f10a157f0>]"
      ]
     },
     "execution_count": 121,
     "metadata": {},
     "output_type": "execute_result"
    },
    {
     "data": {
      "image/png": "[encoded data removed]",
      "text/plain": [
       "<Figure size 640x480 with 1 Axes>"
      ]
     },
     "metadata": {},
     "output_type": "display_data"
    }
   ],
   "source": [
    "xx = np.linspace(1, 5)\n",
    "import matplotlib.pyplot as plt\n",
    "\n",
    "plt.plot(xx, xx)\n",
    "plt.plot(xx, np.log(xx))"
   ]
  },
  {
   "cell_type": "code",
   "execution_count": 122,
   "id": "c49cafb0",
   "metadata": {},
   "outputs": [
    {
     "data": {
      "text/plain": [
       "1267650600228229401496703205376"
      ]
     },
     "execution_count": 122,
     "metadata": {},
     "output_type": "execute_result"
    }
   ],
   "source": [
    "2**100"
   ]
  },
  {
   "cell_type": "code",
   "execution_count": 123,
   "id": "dbdfe1ce",
   "metadata": {},
   "outputs": [],
   "source": [
    "np.sort?"
   ]
  },
  {
   "cell_type": "markdown",
   "id": "c4540ad2",
   "metadata": {},
   "source": [
    "print(2)\n",
    "`np.zeros((10**7, 10**7))`"
   ]
  },
  {
   "cell_type": "code",
   "execution_count": 131,
   "id": "93272c83",
   "metadata": {},
   "outputs": [
    {
     "name": "stdout",
     "output_type": "stream",
     "text": [
      "0\n",
      "1\n",
      "2\n",
      "3\n",
      "4\n",
      "5\n",
      "6\n",
      "7\n",
      "8\n",
      "9\n",
      "10\n",
      "11\n",
      "12\n",
      "13\n",
      "14\n",
      "15\n",
      "16\n",
      "17\n",
      "18\n",
      "19\n"
     ]
    }
   ],
   "source": [
    "x = 1\n",
    "for i in range(20):\n",
    "    print(i)\n",
    "    x += i"
   ]
  },
  {
   "cell_type": "code",
   "execution_count": 129,
   "id": "05df9e56",
   "metadata": {},
   "outputs": [
    {
     "data": {
      "text/plain": [
       "[0, 1, 2, 3, 4, 5, 6, 7, 8, 9, 10, 11, 12, 13, 14, 15, 16, 17, 18, 19]"
      ]
     },
     "execution_count": 129,
     "metadata": {},
     "output_type": "execute_result"
    }
   ],
   "source": [
    "list(range(20))"
   ]
  },
  {
   "cell_type": "code",
   "execution_count": 133,
   "id": "eebc14c8",
   "metadata": {},
   "outputs": [
    {
     "name": "stdout",
     "output_type": "stream",
     "text": [
      "a\n",
      "b\n",
      "c\n"
     ]
    }
   ],
   "source": [
    "for ipdzfhioshfduhbrf in ['a', 'b', 'c']:\n",
    "    print(ipdzfhioshfduhbrf)"
   ]
  },
  {
   "cell_type": "code",
   "execution_count": 134,
   "id": "74140ea4",
   "metadata": {},
   "outputs": [],
   "source": [
    "def fun(x):\n",
    "    return x ** 2"
   ]
  },
  {
   "cell_type": "code",
   "execution_count": 136,
   "id": "c31b046c",
   "metadata": {},
   "outputs": [
    {
     "data": {
      "text/plain": [
       "100"
      ]
     },
     "execution_count": 136,
     "metadata": {},
     "output_type": "execute_result"
    }
   ],
   "source": [
    "fun(10)"
   ]
  },
  {
   "cell_type": "code",
   "execution_count": null,
   "id": "fe2d8d39",
   "metadata": {},
   "outputs": [],
   "source": []
  }
 ],
 "metadata": {
  "kernelspec": {
   "display_name": "Python 3 (ipykernel)",
   "language": "python",
   "name": "python3"
  },
  "language_info": {
   "codemirror_mode": {
    "name": "ipython",
    "version": 3
   },
   "file_extension": ".py",
   "mimetype": "text/x-python",
   "name": "python",
   "nbconvert_exporter": "python",
   "pygments_lexer": "ipython3",
   "version": "3.9.13"
  }
 },
 "nbformat": 4,
 "nbformat_minor": 5
}
