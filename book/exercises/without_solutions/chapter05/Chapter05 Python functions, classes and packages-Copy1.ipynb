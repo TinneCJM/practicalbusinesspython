{
 "cells": [
  {
   "cell_type": "markdown",
   "id": "2f1bfb3f",
   "metadata": {},
   "source": [
    "### Exercise 1:\n",
    "Write a function that takes two numbers as arguments and returns their sum."
   ]
  },
  {
   "cell_type": "code",
   "execution_count": null,
   "id": "2880b3b5",
   "metadata": {},
   "outputs": [],
   "source": []
  },
  {
   "cell_type": "markdown",
   "id": "e7371f0d",
   "metadata": {},
   "source": [
    "### Exercise 2:\n",
    "Write a function that takes a string as an argument and returns the number of times the letter n occurs in the string."
   ]
  },
  {
   "cell_type": "code",
   "execution_count": null,
   "id": "c2e07572",
   "metadata": {},
   "outputs": [],
   "source": []
  },
  {
   "cell_type": "markdown",
   "id": "6bbb9f46",
   "metadata": {},
   "source": [
    "### Exercise 3:\n",
    "Create a class named Rectangle with attributes width and height. Add a method calculate_area() that calculates and returns the area of the rectangle. \n",
    "\n",
    "**Hint:** Class definition syntax: class ClassName:"
   ]
  },
  {
   "cell_type": "code",
   "execution_count": null,
   "id": "07333a81",
   "metadata": {},
   "outputs": [],
   "source": []
  },
  {
   "cell_type": "markdown",
   "id": "3a984358",
   "metadata": {},
   "source": [
    "### Exercise 4\n",
    "Write a function that takes a list of numbers as an argument and returns the largest prime number in the list. If there are no prime numbers in the list simply return None."
   ]
  },
  {
   "cell_type": "code",
   "execution_count": null,
   "id": "818e424f",
   "metadata": {},
   "outputs": [],
   "source": []
  },
  {
   "cell_type": "markdown",
   "id": "d9aabae0",
   "metadata": {},
   "source": [
    "### Exercise 5\n",
    "Create a package named math_operations. Inside\n",
    "the package, create a module named basic_operations.\n",
    "Implement functions for addition, subtraction, multiplication,\n",
    "and division. You should be able to do:\n",
    "from math_operations import basic_operations\n",
    "\n",
    "a = 1\n",
    "b = 2\n",
    "c = basic_operations(a, b)\n",
    "print(c)\n",
    "\n",
    "**Hint:** Package and module creation: Create a directory\n",
    "structure and include __init__.py files."
   ]
  },
  {
   "cell_type": "code",
   "execution_count": null,
   "id": "1ed605ab",
   "metadata": {},
   "outputs": [],
   "source": []
  },
  {
   "cell_type": "markdown",
   "id": "55f98709",
   "metadata": {},
   "source": [
    "### Exercise 6\n",
    "Write a function that takes a number as an argument and\n",
    "returns True if it is even, and False otherwise."
   ]
  },
  {
   "cell_type": "code",
   "execution_count": null,
   "id": "6d8b29e6",
   "metadata": {},
   "outputs": [],
   "source": []
  },
  {
   "cell_type": "markdown",
   "id": "cb96f723",
   "metadata": {},
   "source": [
    "### Exercise 7\n",
    "Create a class named Circle with an attribute radius. Add\n",
    "methods to calculate and return the area and circumference\n",
    "of the circle.\n",
    "\n",
    "**Hint:** Class method definition syntax: def method_name(self):"
   ]
  },
  {
   "cell_type": "code",
   "execution_count": null,
   "id": "dcaa481d",
   "metadata": {},
   "outputs": [],
   "source": []
  },
  {
   "cell_type": "markdown",
   "id": "e8fb89ab",
   "metadata": {},
   "source": [
    "### Exercise 8\n",
    "Create a generator which always generates the next prime\n",
    "number (low to high). For example, the following code\n",
    "should print 2, 3:\n",
    "\n",
    "`print(next(prime_generator), next(prime_generator))`\n",
    "\n",
    "**Hint:** Use the yield syntax inside a while True loop to\n",
    "always look for the next prime number."
   ]
  },
  {
   "cell_type": "code",
   "execution_count": null,
   "id": "bef7a251",
   "metadata": {},
   "outputs": [],
   "source": []
  },
  {
   "cell_type": "markdown",
   "id": "adfa7daa",
   "metadata": {},
   "source": [
    "### Exercise 9\n",
    "Import the math module and use its sqrt() function to\n",
    "calculate and print the square root of a given number.\n",
    "\n",
    "**Hint:** Module import statement: **import** math"
   ]
  },
  {
   "cell_type": "code",
   "execution_count": null,
   "id": "baea9545",
   "metadata": {},
   "outputs": [],
   "source": []
  },
  {
   "cell_type": "markdown",
   "id": "157c7b1a",
   "metadata": {},
   "source": [
    "### Exercise 10\n",
    "Create a class named Person with attributes name and age.\n",
    "Add a method to print the person’s details.\n",
    "\n",
    "**Hint:** Method definition syntax: def method_name(self):"
   ]
  },
  {
   "cell_type": "code",
   "execution_count": null,
   "id": "a3e150ec",
   "metadata": {},
   "outputs": [],
   "source": []
  },
  {
   "cell_type": "markdown",
   "id": "15773f15",
   "metadata": {},
   "source": [
    "### Exercise 11\n",
    "Write a function that takes a list of strings as an argument\n",
    "and returns a new list with all the strings converted to\n",
    "uppercase.\n",
    "\n",
    "**Hint:** String conversion to uppercase: string.upper()"
   ]
  },
  {
   "cell_type": "code",
   "execution_count": null,
   "id": "aa0d3101",
   "metadata": {},
   "outputs": [],
   "source": []
  },
  {
   "cell_type": "markdown",
   "id": "a3cf0789",
   "metadata": {},
   "source": [
    "### Exercise 12\n",
    "Create a package named utils with a module named\n",
    "logger. Implement a function in the logger module to log\n",
    "messages to a file.\n",
    "\n",
    "**Hint:** Package and module creation: Create a directory\n",
    "structure and include *__init__.py* files."
   ]
  },
  {
   "cell_type": "code",
   "execution_count": 1,
   "id": "2f6f11ef",
   "metadata": {},
   "outputs": [],
   "source": []
  }
 ],
 "metadata": {
  "kernelspec": {
   "display_name": "Python 3 (ipykernel)",
   "language": "python",
   "name": "python3"
  },
  "language_info": {
   "codemirror_mode": {
    "name": "ipython",
    "version": 3
   },
   "file_extension": ".py",
   "mimetype": "text/x-python",
   "name": "python",
   "nbconvert_exporter": "python",
   "pygments_lexer": "ipython3",
   "version": "3.9.13"
  }
 },
 "nbformat": 4,
 "nbformat_minor": 5
}
