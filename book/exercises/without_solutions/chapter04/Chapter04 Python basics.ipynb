{
 "cells": [
  {
   "cell_type": "markdown",
   "id": "eac8b615",
   "metadata": {},
   "source": [
    "### Exercise 1\n",
    "Write a program that takes some user input and then calculates the factorial of a given number\n",
    "\n",
    "**Tip:** Use a loop (for or while) and the multiplication operator (*) to calculate the factorial."
   ]
  },
  {
   "cell_type": "code",
   "execution_count": null,
   "id": "b903ce97",
   "metadata": {},
   "outputs": [],
   "source": []
  },
  {
   "cell_type": "markdown",
   "id": "44866721",
   "metadata": {},
   "source": [
    "#### Exercise 2\n",
    "Write some code that takes a string as input and checks\n",
    "if it is a palindrome.\n",
    "\n",
    "**Tip:** Use string slicing with a step of -1 to reverse the\n",
    "string and compare it with the original string."
   ]
  },
  {
   "cell_type": "code",
   "execution_count": null,
   "id": "43a93908",
   "metadata": {},
   "outputs": [],
   "source": []
  },
  {
   "cell_type": "markdown",
   "id": "3264d1da",
   "metadata": {},
   "source": [
    "#### Exercise 3\n",
    "Implement a program that counts the occurrences of\n",
    "each word in a given string.\n",
    "\n",
    "**Tip:** Use a dictionary to store the word counts, and the\n",
    "split() method to separate the words."
   ]
  },
  {
   "cell_type": "code",
   "execution_count": null,
   "id": "df7b16d2",
   "metadata": {},
   "outputs": [],
   "source": []
  },
  {
   "cell_type": "markdown",
   "id": "b1525e84",
   "metadata": {},
   "source": [
    "#### Exercise 4\n",
    "Check if a number is prime.\n",
    "\n",
    "**Tip:** Use a for loop and the modulo operator (%) to\n",
    "check if the number is divisible by any smaller number.\n",
    "Think about how you can try to minimize the time\n",
    "complexity of your program"
   ]
  },
  {
   "cell_type": "code",
   "execution_count": null,
   "id": "b71e9a6b",
   "metadata": {},
   "outputs": [],
   "source": []
  },
  {
   "cell_type": "markdown",
   "id": "1b579d9f",
   "metadata": {},
   "source": [
    "#### Exercise 5 \n",
    "Create a program that converts Celsius to Fahrenheit and vice versa.\n",
    "\n",
    "**Tip:** Use the arithmetic operators (+, -, *, /) and the\n",
    "appropriate conversion formulas."
   ]
  },
  {
   "cell_type": "code",
   "execution_count": null,
   "id": "6ff5586c",
   "metadata": {},
   "outputs": [],
   "source": []
  },
  {
   "cell_type": "markdown",
   "id": "ee48fb55",
   "metadata": {},
   "source": [
    "#### Exercise 6\n",
    "Write a program that generates a Fibonacci sequence up to a specified number of terms. The Fibonacci sequence is defined by:\n",
    "\n",
    "$x_0 = 0, x_1 = 1, x_{n+2} = x_{n+1} + x_n$\n",
    "\n",
    "**Tip:** Use a for loop and multiple assignments to\n",
    "calculate and print the Fibonacci sequence."
   ]
  },
  {
   "cell_type": "code",
   "execution_count": null,
   "id": "62076b86",
   "metadata": {},
   "outputs": [],
   "source": []
  },
  {
   "cell_type": "markdown",
   "id": "f7369e53",
   "metadata": {},
   "source": [
    "#### Exercise 7\n",
    "Create a function that finds the location of the maximum and minimum values in a list.\n",
    "\n",
    "**Tip:** Use the built-in functions max() and min() to\n",
    "find the maximum and minimum values in the list."
   ]
  },
  {
   "cell_type": "code",
   "execution_count": null,
   "id": "6bcf631d",
   "metadata": {},
   "outputs": [],
   "source": []
  },
  {
   "cell_type": "markdown",
   "id": "7c5f0ef7",
   "metadata": {},
   "source": [
    "#### Exercise 8\n",
    "Implement a function to calculate the sum of all even\n",
    "numbers in a given range.\n",
    "\n",
    "**Tip:** Use the range() function with appropriate\n",
    "arguments and the modulo operator (%) to check for\n",
    "even numbers."
   ]
  },
  {
   "cell_type": "code",
   "execution_count": null,
   "id": "f318e283",
   "metadata": {},
   "outputs": [],
   "source": []
  },
  {
   "cell_type": "markdown",
   "id": "c6b48f7f",
   "metadata": {},
   "source": [
    "#### Exercise 9\n",
    "Write a function to remove duplicates from a list\n",
    "without using a set.\n",
    "\n",
    "**Tip:** Use a loop and an auxiliary list to iterate over the\n",
    "elements and store only the unique ones.\n"
   ]
  },
  {
   "cell_type": "code",
   "execution_count": null,
   "id": "30577701",
   "metadata": {},
   "outputs": [],
   "source": []
  },
  {
   "cell_type": "markdown",
   "id": "58d317a4",
   "metadata": {},
   "source": [
    "#### Exercise 10\n",
    "Create a program that counts the number of vowels in a given string\n",
    "\n",
    "**Tip:** Use a loop and a conditional statement to iterate\n",
    "over the characters and count the vowels."
   ]
  },
  {
   "cell_type": "code",
   "execution_count": null,
   "id": "232ec7c1",
   "metadata": {},
   "outputs": [],
   "source": []
  },
  {
   "cell_type": "markdown",
   "id": "40454e1b",
   "metadata": {},
   "source": [
    "#### Exercise 11\n",
    "Implement a function to find the largest palindrome\n",
    "number within a given range. A palindrome number\n",
    "is a number that remains the same when its digits are\n",
    "reversed, such as 121 or 1331.\n",
    "\n",
    "**Tip:** Loop through the range of numbers from high to\n",
    "low."
   ]
  },
  {
   "cell_type": "code",
   "execution_count": null,
   "id": "a8126e8c",
   "metadata": {},
   "outputs": [],
   "source": []
  },
  {
   "cell_type": "markdown",
   "id": "319e6344",
   "metadata": {},
   "source": [
    "#### Exercise 12\n",
    "Write a program that calculates the area and perimeter of a circle given is radius $r$.\n",
    "\n",
    "**Tip:** The area of a circle with radius $r$ is given by $\\pi\\cdot r^2$ and its perimeter is defined as $2 \\cdot \\pi \\cdot r$."
   ]
  },
  {
   "cell_type": "code",
   "execution_count": null,
   "id": "0e0ee045",
   "metadata": {},
   "outputs": [],
   "source": []
  },
  {
   "cell_type": "markdown",
   "id": "c36c3fb2",
   "metadata": {},
   "source": [
    "#### Exercise 13\n",
    "Create a function that checks if a given year is a leap year.\n",
    "\n",
    "**Tip:** To check if a year is a leap year in the Gregorian calendar, verify if it’s divisible by 4, except for years divisible by 100 but not by 400."
   ]
  },
  {
   "cell_type": "code",
   "execution_count": null,
   "id": "98fb03a8",
   "metadata": {},
   "outputs": [],
   "source": []
  },
  {
   "cell_type": "markdown",
   "id": "2828dbd6",
   "metadata": {},
   "source": [
    "#### Exercise 14\n",
    "Create a program that converts decimal numbers to\n",
    "binary representation. Then print out the number’s\n",
    "binary representation with Q for one and W for zero\n",
    "\n",
    "**Tip:** Use the bin() function to convert decimal\n",
    "numbers to binary strings. Also: use .replace to\n",
    "replace characters in a string."
   ]
  },
  {
   "cell_type": "code",
   "execution_count": null,
   "id": "7a56794f",
   "metadata": {},
   "outputs": [],
   "source": []
  },
  {
   "cell_type": "markdown",
   "id": "70c4474c",
   "metadata": {},
   "source": [
    "#### Exercise 15\n",
    "Implement a function to find the second largest\n",
    "element in a list.\n",
    "\n",
    "**Tip:** Sort the list in descending order and return the\n",
    "element at index 1.\n"
   ]
  },
  {
   "cell_type": "code",
   "execution_count": null,
   "id": "623cc2a1",
   "metadata": {},
   "outputs": [],
   "source": []
  },
  {
   "cell_type": "markdown",
   "id": "115069d0",
   "metadata": {},
   "source": [
    "#### Exercise 16\n",
    "\n",
    "Write a program that generates a random password of a specified length.\n",
    "\n",
    "**Tip:** Use the random module and string concatenation\n",
    "to create a random password."
   ]
  },
  {
   "cell_type": "code",
   "execution_count": null,
   "id": "dea62ef9",
   "metadata": {},
   "outputs": [],
   "source": []
  },
  {
   "cell_type": "markdown",
   "id": "9b9c9e9f",
   "metadata": {},
   "source": [
    "#### Exercise 17\n",
    "Create a function to reverse the words in a given\n",
    "sentence. For example the sentence \"Tim likes to teach\n",
    "data science\" should become \"science data teach to\n",
    "likes Tim\"\n",
    "\n",
    "**Tip:** Use the split() method to separate the words,\n",
    "reverse the order, and then join them back into a\n",
    "sentence."
   ]
  },
  {
   "cell_type": "code",
   "execution_count": null,
   "id": "1a55a175",
   "metadata": {},
   "outputs": [],
   "source": []
  },
  {
   "cell_type": "markdown",
   "id": "22472855",
   "metadata": {},
   "source": [
    "#### Exercise 18\n",
    "Write a function that shows the link between\n",
    "*time.time()* and *datetime.datetime.today()*.\n",
    "\n",
    "**Tip:** Make use of the baseline date that is used for\n",
    "*time.time()*, *baseline_date = datetime.datetime(1970,\n",
    "1, 1, 0, 0, 0)*."
   ]
  },
  {
   "cell_type": "code",
   "execution_count": null,
   "id": "82c4b64c",
   "metadata": {},
   "outputs": [],
   "source": []
  }
 ],
 "metadata": {
  "kernelspec": {
   "display_name": "Python 3 (ipykernel)",
   "language": "python",
   "name": "python3"
  },
  "language_info": {
   "codemirror_mode": {
    "name": "ipython",
    "version": 3
   },
   "file_extension": ".py",
   "mimetype": "text/x-python",
   "name": "python",
   "nbconvert_exporter": "python",
   "pygments_lexer": "ipython3",
   "version": "3.9.13"
  }
 },
 "nbformat": 4,
 "nbformat_minor": 5
}
