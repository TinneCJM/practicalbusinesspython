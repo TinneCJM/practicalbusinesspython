{
 "cells": [
  {
   "cell_type": "markdown",
   "id": "3cad2cc2",
   "metadata": {},
   "source": [
    "# os package"
   ]
  },
  {
   "cell_type": "markdown",
   "id": "49d1da3a",
   "metadata": {},
   "source": [
    "## Exercise 1:\n",
    "Write a program that prints the absolute paths of all files/folders in a user-chosen directory."
   ]
  },
  {
   "cell_type": "code",
   "execution_count": 1,
   "id": "0216e996",
   "metadata": {},
   "outputs": [],
   "source": [
    "import os"
   ]
  },
  {
   "cell_type": "code",
   "execution_count": 6,
   "id": "2ea833c1",
   "metadata": {},
   "outputs": [
    {
     "name": "stdout",
     "output_type": "stream",
     "text": [
      "Give the directory of which you want to see all absolute paths to the files/folders within that directory...\n",
      "D:\\projecten\\syntra\\data science\\github 23-24\\practicalbusinesspython\\book\\exercises\\with_solutions\\chapter06\\chapter04\n",
      "D:\\projecten\\syntra\\data science\\github 23-24\\practicalbusinesspython\\book\\exercises\\with_solutions\\chapter06\\chapter05\n",
      "D:\\projecten\\syntra\\data science\\github 23-24\\practicalbusinesspython\\book\\exercises\\with_solutions\\chapter06\\chapter06\n"
     ]
    }
   ],
   "source": [
    "directory = input(\"Give the directory of which you want to see all absolute paths to the files/folders within that directory.\")\n",
    "\n",
    "for filefolder_name in os.listdir(directory):\n",
    "    print(os.path.abspath(filefolder_name))"
   ]
  },
  {
   "cell_type": "markdown",
   "id": "3ceb2d99",
   "metadata": {},
   "source": [
    "## Exercise 2:\n",
    "Create a new directory and move all text files from the current directory to the newly created directory."
   ]
  },
  {
   "cell_type": "code",
   "execution_count": 9,
   "id": "3541416c",
   "metadata": {},
   "outputs": [
    {
     "name": "stdout",
     "output_type": "stream",
     "text": [
      "Moving tekstbestandje.txt\n"
     ]
    }
   ],
   "source": [
    "# A more stable alternative is os.shutil\n",
    "\n",
    "new_dir = \"text_files\"\n",
    "if not os.path.exists(new_dir):\n",
    "    os.mkdir(new_dir)\n",
    "    \n",
    "for filename in os.listdir():\n",
    "    if filename.endswith('.txt'):\n",
    "        print(f\"Moving {filename}\")\n",
    "        os.rename(filename, os.path.join(new_dir, filename))"
   ]
  },
  {
   "cell_type": "markdown",
   "id": "138f6aa0",
   "metadata": {},
   "source": [
    "## Exercise 3\n",
    "Create a folder called alphabet and in that folder create subfolders for each letter of the alphabet (a folder called a, b, ...)."
   ]
  },
  {
   "cell_type": "code",
   "execution_count": 16,
   "id": "7ce96089",
   "metadata": {},
   "outputs": [],
   "source": [
    "alphabet_dir = \"alphabet\"\n",
    "if not os.path.exists(alphabet_dir):\n",
    "    os.mkdir(alphabet_dir)\n",
    "    \n",
    "for letter_ascii in range(ord('a'), ord('z') + 1):\n",
    "    letter = chr(letter_ascii)\n",
    "    if not os.path.exists(os.path.join(alphabet_dir, letter)):\n",
    "        os.mkdir(os.path.join(alphabet_dir, letter))"
   ]
  },
  {
   "cell_type": "markdown",
   "id": "4d67ed81",
   "metadata": {},
   "source": [
    "## Exercise 4\n",
    "Write a program that recursively deletes all empty directories within a specified directory."
   ]
  },
  {
   "cell_type": "code",
   "execution_count": 19,
   "id": "ca33adcf",
   "metadata": {},
   "outputs": [
    {
     "name": "stdout",
     "output_type": "stream",
     "text": [
      "Give a number of which you want to compute the factorial.\n",
      "10\n",
      "The factorial of 10 is 3628800\n"
     ]
    }
   ],
   "source": [
    "## Example of a recursive function\n",
    "\n",
    "def factorial(n):\n",
    "    if n == 0:\n",
    "        return 1\n",
    "    else:\n",
    "        return n * factorial(n - 1)\n",
    "\n",
    "# Test the function with some values\n",
    "n = int(input(\"Give a number of which you want to compute the factorial.\\n\"))\n",
    "result = factorial(n)\n",
    "print(f\"The factorial of {n} is {result}\")"
   ]
  },
  {
   "cell_type": "code",
   "execution_count": 17,
   "id": "e95084c4",
   "metadata": {},
   "outputs": [],
   "source": [
    "def delete_empty_directories(path):\n",
    "    # Check if the path is a directory\n",
    "    if not os.path.isdir(path):\n",
    "        return\n",
    "\n",
    "    # List all items (files and subdirectories) in the current directory\n",
    "    items = os.listdir(path)\n",
    "\n",
    "    # Recursively process subdirectories\n",
    "    for item in items:\n",
    "        item_path = os.path.join(path, item)\n",
    "\n",
    "        # If it's a directory, recursively delete empty directories within it\n",
    "        if os.path.isdir(item_path):\n",
    "            delete_empty_directories(item_path)\n",
    "\n",
    "    # After processing subdirectories, check if the current directory is empty\n",
    "    if not os.listdir(path):\n",
    "        print(f\"Deleting empty directory: {path}\")\n",
    "        os.rmdir(path)\n",
    "    return"
   ]
  },
  {
   "cell_type": "code",
   "execution_count": 18,
   "id": "de51545d",
   "metadata": {},
   "outputs": [
    {
     "name": "stdout",
     "output_type": "stream",
     "text": [
      "Choose a directory of which you want to delete all empty subdirectories.\n",
      "alphabet\n",
      "Deleting empty directory: alphabet\\a\n",
      "Deleting empty directory: alphabet\\b\n",
      "Deleting empty directory: alphabet\\c\n",
      "Deleting empty directory: alphabet\\d\n",
      "Deleting empty directory: alphabet\\e\n",
      "Deleting empty directory: alphabet\\f\n",
      "Deleting empty directory: alphabet\\g\n",
      "Deleting empty directory: alphabet\\h\n",
      "Deleting empty directory: alphabet\\i\n",
      "Deleting empty directory: alphabet\\j\n",
      "Deleting empty directory: alphabet\\k\n",
      "Deleting empty directory: alphabet\\l\n",
      "Deleting empty directory: alphabet\\m\n",
      "Deleting empty directory: alphabet\\n\n",
      "Deleting empty directory: alphabet\\o\n",
      "Deleting empty directory: alphabet\\p\n",
      "Deleting empty directory: alphabet\\q\n",
      "Deleting empty directory: alphabet\\r\n",
      "Deleting empty directory: alphabet\\s\n",
      "Deleting empty directory: alphabet\\t\n",
      "Deleting empty directory: alphabet\\u\n",
      "Deleting empty directory: alphabet\\v\n",
      "Deleting empty directory: alphabet\\w\n",
      "Deleting empty directory: alphabet\\x\n",
      "Deleting empty directory: alphabet\\y\n",
      "Deleting empty directory: alphabet\\z\n",
      "Deleting empty directory: alphabet\n"
     ]
    }
   ],
   "source": [
    "directory = input(\"Choose a directory of which you want to delete all empty subdirectories.\\n\")\n",
    "delete_empty_directories(directory)"
   ]
  },
  {
   "cell_type": "markdown",
   "id": "40428683",
   "metadata": {},
   "source": [
    "# Json files"
   ]
  },
  {
   "cell_type": "markdown",
   "id": "d4b0bb03",
   "metadata": {},
   "source": [
    "### Part 1: create json file with some contacts"
   ]
  },
  {
   "cell_type": "code",
   "execution_count": 29,
   "id": "8796c71a",
   "metadata": {},
   "outputs": [],
   "source": [
    "import json\n",
    "\n",
    "filename_contacts = \"contacts.json\"\n",
    "contacts = [{\n",
    "    \"Name\" : \"Tim Hellemans\",\n",
    "    \"Email\" : \"timhellemanssyntra@gmail.com\",\n",
    "    \"Phone Number\" : \"0032499999999\"\n",
    "},\n",
    "    {\n",
    "    \"Name\" : \"Robbe De Bobbe\",\n",
    "    \"Email\" : \"RobbeDeBobbe@gmail.com\",\n",
    "    \"Phone Number\" : \"00334911111111\"\n",
    "}\n",
    "]\n",
    "\n",
    "with open(filename_contacts, 'w') as file_contacts:\n",
    "    json.dump(contacts, file_contacts)"
   ]
  },
  {
   "cell_type": "markdown",
   "id": "9f252f71",
   "metadata": {},
   "source": [
    "## Part 2: Read & write the contacts"
   ]
  },
  {
   "cell_type": "code",
   "execution_count": 33,
   "id": "5e845b18",
   "metadata": {},
   "outputs": [
    {
     "name": "stdout",
     "output_type": "stream",
     "text": [
      "Contact number 0\n",
      "Name: Tim Hellemans\n",
      "Email: timhellemanssyntra@gmail.com\n",
      "Phone Number: 0032499999999\n",
      "______________________________\n",
      "Contact number 1\n",
      "Name: Robbe De Bobbe\n",
      "Email: RobbeDeBobbe@gmail.com\n",
      "Phone Number: 00334911111111\n",
      "______________________________\n"
     ]
    }
   ],
   "source": [
    "with open(filename_contacts, 'r') as file_contacts:\n",
    "    contacts = json.load(file_contacts)\n",
    "    \n",
    "for n, contact in enumerate(contacts):\n",
    "    print(f\"Contact number {n}\")\n",
    "    for key, value in contact.items():\n",
    "        print(f\"{key}: {value}\")\n",
    "    print(\"______________________________\")"
   ]
  },
  {
   "cell_type": "code",
   "execution_count": 35,
   "id": "e4bcd133",
   "metadata": {},
   "outputs": [
    {
     "name": "stdout",
     "output_type": "stream",
     "text": [
      "Do you want to enter a new contact (Y/N)?\n",
      "Y\n",
      "New contact name?\n",
      "1\n",
      "New contact email?\n",
      "2\n",
      "New contact phone number?\n",
      "3\n",
      "Do you want to enter a new contact (Y/N)?\n",
      "N\n"
     ]
    }
   ],
   "source": [
    "while True:\n",
    "    choice = input(\"Do you want to enter a new contact (Y/N)?\\n\")\n",
    "    if choice == 'Y':\n",
    "        new_contact = dict()\n",
    "        new_contact[\"Name\"] = input(\"New contact name?\\n\")\n",
    "        new_contact[\"Email\"] = input(\"New contact email?\\n\")\n",
    "        new_contact[\"Phone Number\"] = input(\"New contact phone number?\\n\")\n",
    "        contacts.append(new_contact)\n",
    "    else:\n",
    "        break\n",
    "        \n",
    "with open(filename_contacts, 'w') as file_contacts:\n",
    "    json.dump(contacts, file_contacts)"
   ]
  },
  {
   "cell_type": "code",
   "execution_count": null,
   "id": "611c1dbc",
   "metadata": {},
   "outputs": [],
   "source": []
  }
 ],
 "metadata": {
  "kernelspec": {
   "display_name": "Python 3 (ipykernel)",
   "language": "python",
   "name": "python3"
  },
  "language_info": {
   "codemirror_mode": {
    "name": "ipython",
    "version": 3
   },
   "file_extension": ".py",
   "mimetype": "text/x-python",
   "name": "python",
   "nbconvert_exporter": "python",
   "pygments_lexer": "ipython3",
   "version": "3.9.13"
  }
 },
 "nbformat": 4,
 "nbformat_minor": 5
}
