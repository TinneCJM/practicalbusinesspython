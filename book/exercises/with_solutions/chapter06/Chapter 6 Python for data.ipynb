{
 "cells": [
  {
   "cell_type": "markdown",
   "id": "3cad2cc2",
   "metadata": {},
   "source": [
    "# os package"
   ]
  },
  {
   "cell_type": "markdown",
   "id": "49d1da3a",
   "metadata": {},
   "source": [
    "## Exercise 1:\n",
    "Write a program that prints the absolute paths of all files/folders in a user-chosen directory."
   ]
  },
  {
   "cell_type": "code",
   "execution_count": 1,
   "id": "0216e996",
   "metadata": {},
   "outputs": [],
   "source": [
    "import os"
   ]
  },
  {
   "cell_type": "code",
   "execution_count": 5,
   "id": "2ea833c1",
   "metadata": {},
   "outputs": [
    {
     "name": "stdout",
     "output_type": "stream",
     "text": [
      "Give the directory of which you want to see all absolute paths to the files/folders within that directory..\n",
      "D:\\projecten\\syntra\\data science\\github 23-24\\practicalbusinesspython\\book\\exercises\\with_solutions\\chapter06\\.ipynb_checkpoints\n",
      "D:\\projecten\\syntra\\data science\\github 23-24\\practicalbusinesspython\\book\\exercises\\with_solutions\\chapter06\\Chapter 6 Python for data.ipynb\n",
      "D:\\projecten\\syntra\\data science\\github 23-24\\practicalbusinesspython\\book\\exercises\\with_solutions\\chapter06\\contacts.json\n",
      "D:\\projecten\\syntra\\data science\\github 23-24\\practicalbusinesspython\\book\\exercises\\with_solutions\\chapter06\\grades.xlsx\n",
      "D:\\projecten\\syntra\\data science\\github 23-24\\practicalbusinesspython\\book\\exercises\\with_solutions\\chapter06\\tekstbestandje.txt\n",
      "D:\\projecten\\syntra\\data science\\github 23-24\\practicalbusinesspython\\book\\exercises\\with_solutions\\chapter06\\text_files\n"
     ]
    }
   ],
   "source": [
    "directory = input(\"Give the directory of which you want to see all absolute paths to the files/folders within that directory.\")\n",
    "\n",
    "for filefolder_name in os.listdir(directory):\n",
    "    print(os.path.abspath(filefolder_name))"
   ]
  },
  {
   "cell_type": "markdown",
   "id": "3ceb2d99",
   "metadata": {},
   "source": [
    "## Exercise 2:\n",
    "Create a new directory and move all text files from the current directory to the newly created directory."
   ]
  },
  {
   "cell_type": "code",
   "execution_count": 9,
   "id": "3541416c",
   "metadata": {},
   "outputs": [
    {
     "name": "stdout",
     "output_type": "stream",
     "text": [
      "Moving tekstbestandje.txt\n"
     ]
    }
   ],
   "source": [
    "# A more stable alternative is os.shutil\n",
    "\n",
    "new_dir = \"text_files\"\n",
    "if not os.path.exists(new_dir):\n",
    "    os.mkdir(new_dir)\n",
    "    \n",
    "for filename in os.listdir():\n",
    "    if filename.endswith('.txt'):\n",
    "        print(f\"Moving {filename}\")\n",
    "        os.rename(filename, os.path.join(new_dir, filename))"
   ]
  },
  {
   "cell_type": "markdown",
   "id": "138f6aa0",
   "metadata": {},
   "source": [
    "## Exercise 3\n",
    "Create a folder called alphabet and in that folder create subfolders for each letter of the alphabet (a folder called a, b, ...)."
   ]
  },
  {
   "cell_type": "code",
   "execution_count": 33,
   "id": "7ce96089",
   "metadata": {},
   "outputs": [],
   "source": [
    "alphabet_dir = \"alphabet\"\n",
    "if not os.path.exists(alphabet_dir):\n",
    "    os.mkdir(alphabet_dir)\n",
    "    \n",
    "for letter_ascii in range(ord('a'), ord('z') + 1):\n",
    "    letter = chr(letter_ascii)\n",
    "    if not os.path.exists(os.path.join(alphabet_dir, letter)):\n",
    "        os.mkdir(os.path.join(alphabet_dir, letter))"
   ]
  },
  {
   "cell_type": "markdown",
   "id": "4d67ed81",
   "metadata": {},
   "source": [
    "## Exercise 4\n",
    "Write a program that recursively deletes all empty directories within a specified directory."
   ]
  },
  {
   "cell_type": "code",
   "execution_count": 34,
   "id": "ca33adcf",
   "metadata": {},
   "outputs": [
    {
     "name": "stdout",
     "output_type": "stream",
     "text": [
      "Give a number of which you want to compute the factorial.\n",
      "10\n",
      "10\n",
      "9\n",
      "8\n",
      "7\n",
      "6\n",
      "5\n",
      "4\n",
      "3\n",
      "2\n",
      "1\n",
      "0\n",
      "The factorial of 10 is 3628800\n"
     ]
    }
   ],
   "source": [
    "## Example of a recursive function\n",
    "\n",
    "def factorial(n):\n",
    "    if n == 0:\n",
    "        return 1\n",
    "    else:\n",
    "        return n * factorial(n - 1)\n",
    "\n",
    "# Test the function with some values\n",
    "n = int(input(\"Give a number of which you want to compute the factorial.\\n\"))\n",
    "result = factorial(n)\n",
    "print(f\"The factorial of {n} is {result}\")"
   ]
  },
  {
   "cell_type": "code",
   "execution_count": 41,
   "id": "e95084c4",
   "metadata": {},
   "outputs": [],
   "source": [
    "def delete_empty_directories(path):\n",
    "    # Check if the path is a directory\n",
    "    if not os.path.isdir(path):\n",
    "        return\n",
    "\n",
    "    # List all items (files and subdirectories) in the current directory\n",
    "    items = os.listdir(path)\n",
    "\n",
    "    # Recursively process subdirectories\n",
    "    for item in items:\n",
    "        item_path = os.path.join(path, item)\n",
    "\n",
    "        # If it's a directory, recursively delete empty directories within it\n",
    "        if os.path.isdir(item_path):\n",
    "            delete_empty_directories(item_path)\n",
    "\n",
    "    # After processing subdirectories, check if the current directory is empty\n",
    "    if not os.listdir(path):\n",
    "        print(f\"Deleting empty directory: {path}\")\n",
    "        os.rmdir(path)\n",
    "    return"
   ]
  },
  {
   "cell_type": "code",
   "execution_count": 42,
   "id": "de51545d",
   "metadata": {},
   "outputs": [
    {
     "name": "stdout",
     "output_type": "stream",
     "text": [
      "Choose a directory of which you want to delete all empty subdirectories.\n",
      "alphabet\n",
      "Deleting empty directory: alphabet\\a\n",
      "Deleting empty directory: alphabet\\b\n",
      "Deleting empty directory: alphabet\\c\n",
      "Deleting empty directory: alphabet\\d\n",
      "Deleting empty directory: alphabet\\e\n",
      "Deleting empty directory: alphabet\\f\n",
      "Deleting empty directory: alphabet\\g\n",
      "Deleting empty directory: alphabet\\h\n",
      "Deleting empty directory: alphabet\\i\n",
      "Deleting empty directory: alphabet\\j\n",
      "Deleting empty directory: alphabet\\k\n",
      "Deleting empty directory: alphabet\\l\n",
      "Deleting empty directory: alphabet\\m\n",
      "Deleting empty directory: alphabet\\n\n",
      "Deleting empty directory: alphabet\\o\n",
      "Deleting empty directory: alphabet\\p\n",
      "Deleting empty directory: alphabet\\q\n",
      "Deleting empty directory: alphabet\\r\n",
      "Deleting empty directory: alphabet\\s\n",
      "Deleting empty directory: alphabet\\t\n",
      "Deleting empty directory: alphabet\\u\n",
      "Deleting empty directory: alphabet\\v\n",
      "Deleting empty directory: alphabet\\w\n",
      "Deleting empty directory: alphabet\\x\n",
      "Deleting empty directory: alphabet\\y\n",
      "Deleting empty directory: alphabet\\z\n",
      "Deleting empty directory: alphabet\n"
     ]
    }
   ],
   "source": [
    "directory = input(\"Choose a directory of which you want to delete all empty subdirectories.\\n\")\n",
    "delete_empty_directories(directory)"
   ]
  },
  {
   "cell_type": "markdown",
   "id": "40428683",
   "metadata": {},
   "source": [
    "# Json files"
   ]
  },
  {
   "cell_type": "markdown",
   "id": "d4b0bb03",
   "metadata": {},
   "source": [
    "## Part 1: create json file with some contacts"
   ]
  },
  {
   "cell_type": "code",
   "execution_count": 1,
   "id": "8796c71a",
   "metadata": {},
   "outputs": [],
   "source": [
    "import json\n",
    "\n",
    "filename_contacts = \"contacts.json\"\n",
    "contacts = [{\n",
    "    \"Name\" : \"Tim Hellemans\",\n",
    "    \"Email\" : \"timhellemanssyntra@gmail.com\",\n",
    "    \"Phone Number\" : \"0032499999999\"\n",
    "},\n",
    "    {\n",
    "    \"Name\" : \"Robbe De Bobbe\",\n",
    "    \"Email\" : \"RobbeDeBobbe@gmail.com\",\n",
    "    \"Phone Number\" : \"00334911111111\"\n",
    "}\n",
    "]\n",
    "\n",
    "with open(filename_contacts, 'w') as file_contacts:\n",
    "    json.dump(contacts, file_contacts)"
   ]
  },
  {
   "cell_type": "markdown",
   "id": "9f252f71",
   "metadata": {},
   "source": [
    "## Part 2: Read & write the contacts"
   ]
  },
  {
   "cell_type": "code",
   "execution_count": 2,
   "id": "5e845b18",
   "metadata": {},
   "outputs": [
    {
     "name": "stdout",
     "output_type": "stream",
     "text": [
      "Contact number 0\n",
      "Name: Tim Hellemans\n",
      "Email: timhellemanssyntra@gmail.com\n",
      "Phone Number: 0032499999999\n",
      "______________________________\n",
      "Contact number 1\n",
      "Name: Robbe De Bobbe\n",
      "Email: RobbeDeBobbe@gmail.com\n",
      "Phone Number: 00334911111111\n",
      "______________________________\n"
     ]
    }
   ],
   "source": [
    "with open(filename_contacts, 'r') as file_contacts:\n",
    "    contacts = json.load(file_contacts)\n",
    "    \n",
    "for n, contact in enumerate(contacts):\n",
    "    print(f\"Contact number {n}\")\n",
    "    for key, value in contact.items():\n",
    "        print(f\"{key}: {value}\")\n",
    "    print(\"______________________________\")"
   ]
  },
  {
   "cell_type": "code",
   "execution_count": null,
   "id": "e4bcd133",
   "metadata": {},
   "outputs": [],
   "source": [
    "while True:\n",
    "    choice = input(\"Do you want to enter a new contact (Y/N)?\\n\")\n",
    "    if choice == 'Y':\n",
    "        new_contact = dict()\n",
    "        new_contact[\"Name\"] = input(\"New contact name?\\n\")\n",
    "        new_contact[\"Email\"] = input(\"New contact email?\\n\")\n",
    "        new_contact[\"Phone Number\"] = input(\"New contact phone number?\\n\")\n",
    "        contacts.append(new_contact)\n",
    "        with open(filename_contacts, 'w') as file_contacts:\n",
    "            json.dump(contacts, file_contacts)\n",
    "    else:\n",
    "        break"
   ]
  },
  {
   "cell_type": "markdown",
   "id": "fbabce91",
   "metadata": {},
   "source": [
    "# Excel Files"
   ]
  },
  {
   "cell_type": "code",
   "execution_count": 15,
   "id": "0ffed42b",
   "metadata": {},
   "outputs": [
    {
     "name": "stdout",
     "output_type": "stream",
     "text": [
      "Enter the number of students: 1\n",
      "Enter the name of student 1: t\n",
      "Enter the midterm grade for t (out of 20): 19\n",
      "Enter the final exam grade for t (out of 80): 80\n",
      "t 19 80\n",
      "Excel spreadsheet 'grades.xlsx' has been created in the current directory.\n"
     ]
    }
   ],
   "source": [
    "import xlsxwriter\n",
    "\n",
    "# Create a new Excel workbook and add two worksheets: 'Midterm' and 'Final Exam'\n",
    "workbook = xlsxwriter.Workbook('grades.xlsx')\n",
    "midterm_sheet = workbook.add_worksheet('Midterm')\n",
    "final_exam_sheet = workbook.add_worksheet('Final Exam')\n",
    "\n",
    "# Ask the user for the number of students in the class\n",
    "num_students = int(input(\"Enter the number of students: \"))\n",
    "\n",
    "# Initialize variables to keep track of the total over all grades\n",
    "total_all_grades = 0\n",
    "\n",
    "# Write headers for both sheets\n",
    "midterm_sheet.write('A1', 'Name')\n",
    "midterm_sheet.write('B1', 'Midterm Grade (out of 20)')\n",
    "\n",
    "final_exam_sheet.write('A1', 'Name')\n",
    "final_exam_sheet.write('B1', 'Final Exam Grade (out of 80)')\n",
    "\n",
    "# Iterate through students and collect data\n",
    "for i in range(num_students):\n",
    "    student_name = input(f\"Enter the name of student {i + 1}: \")\n",
    "    midterm_grade = int(input(f\"Enter the midterm grade for {student_name} (out of 20): \"))\n",
    "    final_exam_grade = int(input(f\"Enter the final exam grade for {student_name} (out of 80): \"))\n",
    "    \n",
    "    # Calculate the total grade\n",
    "    total_grade = midterm_grade + final_exam_grade\n",
    "    total_all_grades += total_grade\n",
    "\n",
    "    print(student_name, midterm_grade, final_exam_grade)\n",
    "    # Write data to the respective sheets\n",
    "    midterm_sheet.write(i + 1, 0, student_name)\n",
    "    midterm_sheet.write(i + 1, 1, midterm_grade)\n",
    "    final_exam_sheet.write(i + 1, 0, student_name)\n",
    "    final_exam_sheet.write(i + 1, 1, final_exam_grade)\n",
    "    total_formula = f'=B{i + 2} + Midterm!C{i + 2}'\n",
    "    final_exam_sheet.write_formula(i + 1, 2, total_formula)\n",
    "\n",
    "# Calculate the average total grade\n",
    "average_total_grade = total_all_grades / num_students\n",
    "\n",
    "# Add conditional formatting to highlight students with total grades above average\n",
    "format_above_average = workbook.add_format({'bg_color': 'yellow'})\n",
    "final_exam_sheet.conditional_format(1, \n",
    "                                        2, \n",
    "                                        num_students, \n",
    "                                        2, \n",
    "                                        {\n",
    "                                            'type': 'cell',\n",
    "                                            'criteria': 'greater than',\n",
    "                                            'value': average_total_grade,\n",
    "                                            'format': format_above_average\n",
    "                                        })\n",
    "\n",
    "# Add the average total grade next to the final exam grades\n",
    "final_exam_sheet.write('C1', 'Total Grade (out of 100)')\n",
    "\n",
    "# Save the spreadsheet\n",
    "workbook.close()\n",
    "\n",
    "print(\"Excel spreadsheet 'grades.xlsx' has been created in the current directory.\")\n"
   ]
  },
  {
   "cell_type": "markdown",
   "id": "4db7fabc",
   "metadata": {},
   "source": [
    "# SQL"
   ]
  },
  {
   "cell_type": "code",
   "execution_count": null,
   "id": "ce0fd91d",
   "metadata": {},
   "outputs": [],
   "source": [
    "import sqlite3\n",
    "\n",
    "# Connect to the Database\n",
    "conn = sqlite3.connect(\"library.db\")\n",
    "\n",
    "# Create a Cursor\n",
    "cursor = conn.cursor()\n",
    "\n",
    "# Create Tables\n",
    "cursor.execute('''\n",
    "    CREATE TABLE IF NOT EXISTS Authors (\n",
    "        AuthorID INTEGER PRIMARY KEY,\n",
    "        FirstName TEXT,\n",
    "        LastName TEXT\n",
    "    )\n",
    "''')\n",
    "\n",
    "cursor.execute('''\n",
    "    CREATE TABLE IF NOT EXISTS Books (\n",
    "        BookID INTEGER PRIMARY KEY,\n",
    "        Title TEXT,\n",
    "        AuthorID INTEGER,\n",
    "        FOREIGN KEY (AuthorID) REFERENCES Authors (AuthorID)\n",
    "    )\n",
    "''')\n",
    "\n",
    "# Insert Data\n",
    "cursor.execute(\"INSERT INTO Authors (FirstName, LastName) VALUES (?, ?)\", (\"John\", \"Doe\"))\n",
    "cursor.execute(\"INSERT INTO Authors (FirstName, LastName) VALUES (?, ?)\", (\"Jane\", \"Smith\"))\n",
    "\n",
    "cursor.execute(\"INSERT INTO Books (Title, AuthorID) VALUES (?, ?)\", (\"The Great Gatsby\", 1))\n",
    "cursor.execute(\"INSERT INTO Books (Title, AuthorID) VALUES (?, ?)\", (\"To Kill a Mockingbird\", 2))\n",
    "\n",
    "# Commit Changes\n",
    "conn.commit()\n",
    "\n",
    "# Close the Connection\n",
    "conn.close()"
   ]
  },
  {
   "cell_type": "markdown",
   "id": "21165258",
   "metadata": {},
   "source": []
  },
  {
   "cell_type": "code",
   "execution_count": null,
   "id": "fbfd9157",
   "metadata": {},
   "outputs": [],
   "source": []
  },
  {
   "cell_type": "code",
   "execution_count": null,
   "id": "af561579",
   "metadata": {},
   "outputs": [],
   "source": []
  }
 ],
 "metadata": {
  "kernelspec": {
   "display_name": "Python 3 (ipykernel)",
   "language": "python",
   "name": "python3"
  },
  "language_info": {
   "codemirror_mode": {
    "name": "ipython",
    "version": 3
   },
   "file_extension": ".py",
   "mimetype": "text/x-python",
   "name": "python",
   "nbconvert_exporter": "python",
   "pygments_lexer": "ipython3",
   "version": "3.9.13"
  }
 },
 "nbformat": 4,
 "nbformat_minor": 5
}
