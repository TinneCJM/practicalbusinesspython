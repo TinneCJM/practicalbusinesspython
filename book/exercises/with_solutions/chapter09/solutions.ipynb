{
 "cells": [
  {
   "cell_type": "markdown",
   "metadata": {},
   "source": [
    "## Exercise 1\n",
    "Create a 2-dimensional array of shape (5, 5) with random integers between 1 and 100. Extract the diagonal elements and find their sum."
   ]
  },
  {
   "cell_type": "code",
   "execution_count": 2,
   "metadata": {},
   "outputs": [
    {
     "name": "stdout",
     "output_type": "stream",
     "text": [
      "Array:\n",
      "[[53 36 60 99  6]\n",
      " [21 56 59 49 37]\n",
      " [11 38 55 50 47]\n",
      " [98 49 85 22 41]\n",
      " [20 81 46 17 77]]\n",
      "Diagonal elements:\n",
      "[53 56 55 22 77]\n",
      "Sum of diagonal elements: 263\n"
     ]
    }
   ],
   "source": [
    "import numpy as np\n",
    "\n",
    "# Create a 2-dimensional array of shape (5, 5) with random integers between 1 and 100\n",
    "array = np.random.randint(1, 101, size=(5, 5))\n",
    "\n",
    "# Extract the diagonal elements\n",
    "diagonal_elements = np.diagonal(array)\n",
    "\n",
    "# Find the sum of the diagonal elements\n",
    "diagonal_sum = np.sum(diagonal_elements)\n",
    "\n",
    "print(\"Array:\")\n",
    "print(array)\n",
    "print(\"Diagonal elements:\")\n",
    "print(diagonal_elements)\n",
    "print(\"Sum of diagonal elements:\", diagonal_sum)"
   ]
  },
  {
   "cell_type": "markdown",
   "metadata": {},
   "source": [
    "## Exercise 2\n",
    "Normalize the values of a $2$-dimensional array to have a mean of $0$ and a standard deviation of $1$. To normalize an array $x$, you perform the operation $\\frac{x-\\mu}{\\sigma}$ with $\\mu$ the mean and σ the standard deviation of $x$."
   ]
  },
  {
   "cell_type": "code",
   "execution_count": 6,
   "metadata": {},
   "outputs": [
    {
     "name": "stdout",
     "output_type": "stream",
     "text": [
      "[18 12 18 19  2  4  1 26 12  3 18 11 19  6 19 17  1  8 26 22  5 21 15]\n",
      "[ 0.36633663 -0.08910891  0.36633663  0.44224422 -0.84818482 -0.69636964\n",
      " -0.92409241  0.97359736 -0.08910891 -0.77227723  0.36633663 -0.1650165\n",
      "  0.44224422 -0.54455446  0.44224422  0.29042904 -0.92409241 -0.39273927\n",
      "  0.97359736  0.669967   -0.62046205  0.59405941  0.13861386]\n"
     ]
    }
   ],
   "source": [
    "def normalize(x):\n",
    "    mu = np.mean(x)\n",
    "    sigma = np.mean(x)\n",
    "    return (x - mu) / sigma\n",
    "\n",
    "x = np.random.randint(1, 27, 23)\n",
    "normalized_x = normalize(x)\n",
    "\n",
    "print(x)\n",
    "print(normalized_x)"
   ]
  },
  {
   "cell_type": "markdown",
   "metadata": {},
   "source": [
    "## Exercise 3\n",
    "Create a function that takes in a $2$-dimensional array and extract rows where the sum of elements is greater than a certain threshold."
   ]
  },
  {
   "cell_type": "code",
   "execution_count": 7,
   "metadata": {},
   "outputs": [
    {
     "name": "stdout",
     "output_type": "stream",
     "text": [
      "Selected rows:\n",
      "[[4 5 6]\n",
      " [7 8 9]]\n"
     ]
    }
   ],
   "source": [
    "import numpy as np\n",
    "\n",
    "def extract_rows_above_threshold(array, threshold):\n",
    "    # Calculate the sum of elements in each row\n",
    "    row_sums = np.sum(array, axis=1)\n",
    "    \n",
    "    # Extract rows where the sum of elements is greater than the threshold\n",
    "    selected_rows = array[row_sums > threshold]\n",
    "    \n",
    "    return selected_rows\n",
    "\n",
    "\n",
    "array = np.array([[1, 2, 3],\n",
    "                  [4, 5, 6],\n",
    "                  [7, 8, 9]])\n",
    "\n",
    "threshold = 6\n",
    "\n",
    "selected_rows = extract_rows_above_threshold(array, threshold)\n",
    "\n",
    "print(\"Selected rows:\")\n",
    "print(selected_rows)"
   ]
  },
  {
   "cell_type": "markdown",
   "metadata": {},
   "source": [
    "## Exercise 4\n",
    "Compute the element-wise absolute difference between two arrays of the same shape."
   ]
  },
  {
   "cell_type": "code",
   "execution_count": 10,
   "metadata": {},
   "outputs": [
    {
     "name": "stdout",
     "output_type": "stream",
     "text": [
      "Array 1: [1.24427104 2.56008138 0.4229188  0.96912287]\n",
      "Array 2: [ 5.33450644 -1.34288937  3.11215595  2.57254355]\n",
      "Element-wise absolute difference: [4.09023541 3.90297075 2.68923715 1.60342068]\n"
     ]
    }
   ],
   "source": [
    "import numpy as np\n",
    "\n",
    "# Create two arrays of the same shape\n",
    "array1 = np.random.normal(1, 2, 4)\n",
    "array2 = np.random.normal(1, 2, 4)\n",
    "\n",
    "# Compute the element-wise absolute difference\n",
    "abs_diff = np.abs(array1 - array2)\n",
    "\n",
    "print(\"Array 1:\", array1)\n",
    "print(\"Array 2:\", array2)\n",
    "print(\"Element-wise absolute difference:\", abs_diff)"
   ]
  },
  {
   "cell_type": "markdown",
   "metadata": {},
   "source": [
    "## Exercise 5\n",
    "Calculate the cumulative sum along both rows and columns of a $2$-dimensional array."
   ]
  },
  {
   "cell_type": "code",
   "execution_count": 12,
   "metadata": {},
   "outputs": [
    {
     "name": "stdout",
     "output_type": "stream",
     "text": [
      "[[8 8 1 8 9]\n",
      " [2 9 8 3 2]\n",
      " [7 8 4 2 4]\n",
      " [6 9 8 4 6]\n",
      " [3 6 6 4 7]]\n",
      "[[ 8  8  1  8  9]\n",
      " [10 17  9 11 11]\n",
      " [17 25 13 13 15]\n",
      " [23 34 21 17 21]\n",
      " [26 40 27 21 28]]\n",
      "[[ 8 16 17 25 34]\n",
      " [ 2 11 19 22 24]\n",
      " [ 7 15 19 21 25]\n",
      " [ 6 15 23 27 33]\n",
      " [ 3  9 15 19 26]]\n"
     ]
    }
   ],
   "source": [
    "matrix = np.random.randint(1, 10, (5, 5))\n",
    "cumsum_rows = np.cumsum(matrix, axis = 0)\n",
    "cumsum_columns = np.cumsum(matrix, axis = 1)\n",
    "\n",
    "print(matrix)\n",
    "print(cumsum_rows)\n",
    "print(cumsum_columns)"
   ]
  },
  {
   "cell_type": "markdown",
   "metadata": {},
   "source": [
    "## Exercise 6\n",
    "Rescale the values of a $1$-dimensional array to lie between $0$ and $1$ using min-max scaling. Min max scaling means that we replace $x$ by $\\frac{x - \\min(x)}{\\max(x) - \\min(x)}$."
   ]
  },
  {
   "cell_type": "code",
   "execution_count": 15,
   "metadata": {},
   "outputs": [
    {
     "name": "stdout",
     "output_type": "stream",
     "text": [
      "Original array:\n",
      "[3 2 3 5 1]\n",
      "Min/max scaled version of x\n",
      "[0.5  0.25 0.5  1.   0.  ]\n"
     ]
    }
   ],
   "source": [
    "def min_max_scaling(x):\n",
    "    min_x = np.min(x)\n",
    "    max_x = np.max(x)\n",
    "    return (x - min_x) / (max_x - min_x)\n",
    "\n",
    "x = np.random.randint(1, 9, 5)\n",
    "min_max_scaled_x = min_max_scaling(x)\n",
    "\n",
    "print(\"Original array:\")\n",
    "print(x)\n",
    "print(\"Min/max scaled version of x\")\n",
    "print(min_max_scaled_x)"
   ]
  },
  {
   "cell_type": "markdown",
   "metadata": {},
   "source": [
    "## Exercise 7\n",
    "Compute the matrix multiplication between a $2$-dimensional array and its transpose."
   ]
  },
  {
   "cell_type": "code",
   "execution_count": 14,
   "metadata": {},
   "outputs": [
    {
     "name": "stdout",
     "output_type": "stream",
     "text": [
      "Array:\n",
      "[[1 2 3]\n",
      " [4 5 6]]\n",
      "Matrix multiplication result:\n",
      "[[14 32]\n",
      " [32 77]]\n"
     ]
    }
   ],
   "source": [
    "import numpy as np\n",
    "\n",
    "# Create a 2-dimensional array\n",
    "array = np.array([[1, 2, 3],\n",
    "                  [4, 5, 6]])\n",
    "\n",
    "# Compute the matrix multiplication between the array and its transpose\n",
    "result = np.dot(array, array.T)\n",
    "\n",
    "print(\"Array:\")\n",
    "print(array)\n",
    "print(\"Matrix multiplication result:\")\n",
    "print(result)"
   ]
  },
  {
   "cell_type": "markdown",
   "metadata": {},
   "source": [
    "## Exercise 8\n",
    "Replace all even numbers in an array with the negative of their value."
   ]
  },
  {
   "cell_type": "code",
   "execution_count": 17,
   "metadata": {},
   "outputs": [
    {
     "name": "stdout",
     "output_type": "stream",
     "text": [
      "New array:\n",
      "[ 1 -2  3 -4  5 -6  7 -8  9]\n"
     ]
    }
   ],
   "source": [
    "import numpy as np\n",
    "\n",
    "# Create an array\n",
    "array = np.array([1, 2, 3, 4, 5, 6, 7, 8, 9])\n",
    "\n",
    "# Replace even numbers with their negative value\n",
    "array[array % 2 == 0] *= -1\n",
    "\n",
    "print(\"New array:\")\n",
    "print(array)"
   ]
  },
  {
   "cell_type": "markdown",
   "metadata": {},
   "source": [
    "## Exercise 9\n",
    "Create a $2$-dimensional array with a checkerboard pattern of $0$’s and $1$’s."
   ]
  },
  {
   "cell_type": "code",
   "execution_count": 18,
   "metadata": {},
   "outputs": [
    {
     "name": "stdout",
     "output_type": "stream",
     "text": [
      "Checkerboard array:\n",
      "[[1 0 1 0 1 0 1 0]\n",
      " [0 1 0 1 0 1 0 1]\n",
      " [1 0 1 0 1 0 1 0]\n",
      " [0 1 0 1 0 1 0 1]\n",
      " [1 0 1 0 1 0 1 0]\n",
      " [0 1 0 1 0 1 0 1]\n",
      " [1 0 1 0 1 0 1 0]\n",
      " [0 1 0 1 0 1 0 1]]\n"
     ]
    }
   ],
   "source": [
    "import numpy as np\n",
    "\n",
    "# Define the size of the checkerboard\n",
    "rows = 8\n",
    "cols = 8\n",
    "\n",
    "# Create a 2-dimensional array with a checkerboard pattern\n",
    "array = np.zeros((rows, cols), dtype=int)\n",
    "array[::2, ::2] = 1\n",
    "array[1::2, 1::2] = 1\n",
    "\n",
    "print(\"Checkerboard array:\")\n",
    "print(array)"
   ]
  }
 ],
 "metadata": {
  "kernelspec": {
   "display_name": "base",
   "language": "python",
   "name": "python3"
  },
  "language_info": {
   "codemirror_mode": {
    "name": "ipython",
    "version": 3
   },
   "file_extension": ".py",
   "mimetype": "text/x-python",
   "name": "python",
   "nbconvert_exporter": "python",
   "pygments_lexer": "ipython3",
   "version": "3.9.13"
  }
 },
 "nbformat": 4,
 "nbformat_minor": 2
}
