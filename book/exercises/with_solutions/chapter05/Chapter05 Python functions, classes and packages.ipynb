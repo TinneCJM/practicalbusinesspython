{
 "cells": [
  {
   "cell_type": "markdown",
   "id": "2f1bfb3f",
   "metadata": {},
   "source": [
    "### Exercise 1:\n",
    "Write a function that takes two numbers as arguments and returns their sum."
   ]
  },
  {
   "cell_type": "code",
   "execution_count": null,
   "id": "7a403f9c",
   "metadata": {},
   "outputs": [],
   "source": [
    "def add_numbers(number1, number2):\n",
    "    \n",
    "    return number1 + number2\n",
    "\n",
    "a = 1\n",
    "b = 2\n",
    "add_numbers(a, b)"
   ]
  },
  {
   "cell_type": "markdown",
   "id": "e7371f0d",
   "metadata": {},
   "source": [
    "### Exercise 2:\n",
    "Write a function that takes a string as an argument and returns the number of times the letter n occurs in the string."
   ]
  },
  {
   "cell_type": "code",
   "execution_count": null,
   "id": "c2e07572",
   "metadata": {},
   "outputs": [],
   "source": [
    "def count_occurences(given_str, character = 'n'):\n",
    "    \n",
    "    total_occurences = 0\n",
    "    given_str = given_str.lower()\n",
    "    for char in given_str:\n",
    "        if char == character:\n",
    "            total_occurences += 1\n",
    "    \n",
    "    return total_occurences\n",
    "\n",
    "given_str = 'Negen nagels naast niemand'\n",
    "count_occurences(given_str)"
   ]
  },
  {
   "cell_type": "markdown",
   "id": "6bbb9f46",
   "metadata": {},
   "source": [
    "### Exercise 3:\n",
    "Create a class named Rectangle with attributes width and height. Add a method calculate_area() that calculates and returns the area of the rectangle. \n",
    "\n",
    "**Hint:** Class definition syntax: class ClassName:"
   ]
  },
  {
   "cell_type": "code",
   "execution_count": null,
   "id": "07333a81",
   "metadata": {},
   "outputs": [],
   "source": [
    "class Rectangle():\n",
    "    \n",
    "    def __init__(self, width, height):\n",
    "        \n",
    "        self.width = width\n",
    "        self.height = height\n",
    "        return\n",
    "    \n",
    "    def calculate_area(self):\n",
    "        return self.width * self.height"
   ]
  },
  {
   "cell_type": "code",
   "execution_count": null,
   "id": "611fb965",
   "metadata": {},
   "outputs": [],
   "source": [
    "rect = Rectangle(3, 5)\n",
    "print(rect.calculate_area())"
   ]
  },
  {
   "cell_type": "markdown",
   "id": "3a984358",
   "metadata": {},
   "source": [
    "### Exercise 4\n",
    "Write a function that takes a list of numbers as an argument and returns the largest prime number in the list. If there are no prime numbers in the list simply return None."
   ]
  },
  {
   "cell_type": "code",
   "execution_count": null,
   "id": "818e424f",
   "metadata": {},
   "outputs": [],
   "source": [
    "import numpy as np\n",
    "\n",
    "def is_prime(number):\n",
    "    \n",
    "    if number <= 1:\n",
    "        return False\n",
    "    \n",
    "    for n in range(int(np.sqrt(number)), 1, -1):\n",
    "        if number % n == 0:\n",
    "            return False\n",
    "        \n",
    "    return True"
   ]
  },
  {
   "cell_type": "code",
   "execution_count": null,
   "id": "fadcfdf5",
   "metadata": {},
   "outputs": [],
   "source": [
    "is_prime(11)"
   ]
  },
  {
   "cell_type": "markdown",
   "id": "d9aabae0",
   "metadata": {},
   "source": [
    "### Exercise 5\n",
    "Create a package named math_operations. Inside\n",
    "the package, create a module named basic_operations.\n",
    "Implement functions for addition, subtraction, multiplication,\n",
    "and division. You should be able to do:\n",
    "from math_operations import basic_operations\n",
    "\n",
    "a = 1\n",
    "b = 2\n",
    "c = basic_operations(a, b)\n",
    "print(c)\n",
    "\n",
    "**Hint:** Package and module creation: Create a directory\n",
    "structure and include __init__.py files."
   ]
  },
  {
   "cell_type": "code",
   "execution_count": null,
   "id": "1ed605ab",
   "metadata": {},
   "outputs": [],
   "source": [
    "from math_operations import basic_operations\n",
    "a = 1\n",
    "b = 2\n",
    "c = basic_operations.add(a, b)\n",
    "print(c)"
   ]
  },
  {
   "cell_type": "markdown",
   "id": "55f98709",
   "metadata": {},
   "source": [
    "### Exercise 6\n",
    "Write a function that takes a number as an argument and\n",
    "returns True if it is even, and False otherwise."
   ]
  },
  {
   "cell_type": "code",
   "execution_count": null,
   "id": "6d8b29e6",
   "metadata": {},
   "outputs": [],
   "source": [
    "def is_even(x):\n",
    "    return True if x % 2 == 0 else False\n",
    "\n",
    "is_even(1)"
   ]
  },
  {
   "cell_type": "markdown",
   "id": "cb96f723",
   "metadata": {},
   "source": [
    "### Exercise 7\n",
    "Create a class named Circle with an attribute radius. Add\n",
    "methods to calculate and return the area and circumference\n",
    "of the circle.\n",
    "\n",
    "**Hint:** Class method definition syntax: def method_name(self):"
   ]
  },
  {
   "cell_type": "code",
   "execution_count": null,
   "id": "dcaa481d",
   "metadata": {},
   "outputs": [],
   "source": [
    "class Circle():\n",
    "    \n",
    "    def __init__(self, r):\n",
    "        self.r = r\n",
    "        return\n",
    "    \n",
    "    def area(self):\n",
    "        return self.r ** 2 * np.pi\n",
    "    \n",
    "    def circumference(self):\n",
    "        return 2 * self.r * np.pi\n",
    "    \n",
    "circle = Circle(1)\n",
    "print(circle.area())\n",
    "print(circle.circumference())"
   ]
  },
  {
   "cell_type": "markdown",
   "id": "e8fb89ab",
   "metadata": {},
   "source": [
    "### Exercise 8\n",
    "Create a generator which always generates the next prime\n",
    "number (low to high). For example, the following code\n",
    "should print 2, 3:\n",
    "\n",
    "`print(next(prime_generator), next(prime_generator))`\n",
    "\n",
    "**Hint:** Use the yield syntax inside a while True loop to\n",
    "always look for the next prime number."
   ]
  },
  {
   "cell_type": "code",
   "execution_count": null,
   "id": "bef7a251",
   "metadata": {},
   "outputs": [],
   "source": [
    "def generate_primes():\n",
    "    \n",
    "    last_prime = 2\n",
    "    while True:\n",
    "        yield last_prime\n",
    "        while True:\n",
    "            last_prime += 1\n",
    "            if is_prime(last_prime):\n",
    "                break\n",
    "    return"
   ]
  },
  {
   "cell_type": "code",
   "execution_count": null,
   "id": "417f3275",
   "metadata": {},
   "outputs": [],
   "source": [
    "prime_generator = generate_primes()"
   ]
  },
  {
   "cell_type": "code",
   "execution_count": null,
   "id": "cc380f73",
   "metadata": {},
   "outputs": [],
   "source": [
    "print(next(prime_generator))\n",
    "print(next(prime_generator))\n",
    "print(next(prime_generator))\n",
    "print(next(prime_generator))"
   ]
  },
  {
   "cell_type": "markdown",
   "id": "adfa7daa",
   "metadata": {},
   "source": [
    "### Exercise 9\n",
    "Import the math module and use its sqrt() function to\n",
    "calculate and print the square root of a given number.\n",
    "\n",
    "**Hint:** Module import statement: **import** math"
   ]
  },
  {
   "cell_type": "code",
   "execution_count": null,
   "id": "baea9545",
   "metadata": {},
   "outputs": [],
   "source": [
    "import math\n",
    "\n",
    "def compute_sqrt(number):\n",
    "    \n",
    "    return math.sqrt(number)\n",
    "\n",
    "compute_sqrt(3)"
   ]
  },
  {
   "cell_type": "markdown",
   "id": "157c7b1a",
   "metadata": {},
   "source": [
    "### Exercise 10\n",
    "Create a class named Person with attributes name and age.\n",
    "Add a method to print the person’s details.\n",
    "\n",
    "**Hint:** Method definition syntax: def method_name(self):"
   ]
  },
  {
   "cell_type": "code",
   "execution_count": null,
   "id": "a3e150ec",
   "metadata": {},
   "outputs": [],
   "source": [
    "class Person():\n",
    "    \n",
    "    def __init__(self, name, age):\n",
    "        self.name = name\n",
    "        self.age = age\n",
    "        return\n",
    "    \n",
    "    def __str__(self):\n",
    "        return f\"Person with name {self.name} and age {self.age}.\"\n",
    "    \n",
    "    def details(self):\n",
    "        return self.name, self.age"
   ]
  },
  {
   "cell_type": "code",
   "execution_count": null,
   "id": "24b5582f",
   "metadata": {},
   "outputs": [],
   "source": [
    "person = Person(\"Tim\", 30)\n",
    "print(person.details())\n",
    "print(person)"
   ]
  },
  {
   "cell_type": "markdown",
   "id": "15773f15",
   "metadata": {},
   "source": [
    "### Exercise 11\n",
    "Write a function that takes a list of strings as an argument\n",
    "and returns a new list with all the strings converted to\n",
    "uppercase.\n",
    "\n",
    "**Hint:** String conversion to uppercase: string.upper()"
   ]
  },
  {
   "cell_type": "code",
   "execution_count": null,
   "id": "aa0d3101",
   "metadata": {},
   "outputs": [],
   "source": [
    "def make_upper(lst):\n",
    "    return [string.upper() for string in lst]\n",
    "\n",
    "make_upper(['a', 'abc', 'TiM'])"
   ]
  },
  {
   "cell_type": "markdown",
   "id": "a3cf0789",
   "metadata": {},
   "source": [
    "### Exercise 12\n",
    "Create a package named utils with a module named\n",
    "logger. Implement a function in the logger module to log\n",
    "messages to a file.\n",
    "\n",
    "**Hint:** Package and module creation: Create a directory\n",
    "structure and include *__init__.py* files."
   ]
  },
  {
   "cell_type": "code",
   "execution_count": 1,
   "id": "2f6f11ef",
   "metadata": {},
   "outputs": [],
   "source": [
    "from utils import logger"
   ]
  },
  {
   "cell_type": "code",
   "execution_count": 2,
   "id": "7ca6604f",
   "metadata": {},
   "outputs": [],
   "source": [
    "logger.logger(\"mylogfile.log\", \"My first log message!\")\n",
    "logger.logger(\"mylogfile.log\", \"My second log message!\")"
   ]
  }
 ],
 "metadata": {
  "kernelspec": {
   "display_name": "Python 3 (ipykernel)",
   "language": "python",
   "name": "python3"
  },
  "language_info": {
   "codemirror_mode": {
    "name": "ipython",
    "version": 3
   },
   "file_extension": ".py",
   "mimetype": "text/x-python",
   "name": "python",
   "nbconvert_exporter": "python",
   "pygments_lexer": "ipython3",
   "version": "3.9.13"
  }
 },
 "nbformat": 4,
 "nbformat_minor": 5
}
