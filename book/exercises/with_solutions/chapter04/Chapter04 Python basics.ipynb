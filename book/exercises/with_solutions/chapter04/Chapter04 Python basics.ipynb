{
 "cells": [
  {
   "cell_type": "markdown",
   "id": "eac8b615",
   "metadata": {},
   "source": [
    "### Exercise 1\n",
    "Write a program that takes some user input and then calculates the factorial of a given number\n",
    "\n",
    "**Tip:** Use a loop (for or while) and the multiplication operator (*) to calculate the factorial."
   ]
  },
  {
   "cell_type": "code",
   "execution_count": 5,
   "id": "a11362c4",
   "metadata": {},
   "outputs": [
    {
     "name": "stdout",
     "output_type": "stream",
     "text": [
      "Give a number of which you want to compute the factorial\n",
      "7\n",
      "The result is 7!=5040\n"
     ]
    }
   ],
   "source": [
    "n = int(input(\"Give a number of which you want to compute the factorial\\n\"))\n",
    "\n",
    "if n == 0:\n",
    "    fact = 1\n",
    "else:\n",
    "    fact = 1\n",
    "    for i in range(2, n+1):\n",
    "        fact *= i\n",
    "\n",
    "print(f\"The result is {n}!={fact}\")"
   ]
  },
  {
   "cell_type": "markdown",
   "id": "44866721",
   "metadata": {},
   "source": [
    "#### Exercise 2\n",
    "Write some code that takes a string as input and checks\n",
    "if it is a palindrome.\n",
    "\n",
    "**Tip:** Use string slicing with a step of -1 to reverse the\n",
    "string and compare it with the original string."
   ]
  },
  {
   "cell_type": "code",
   "execution_count": 6,
   "id": "6ae6703b",
   "metadata": {},
   "outputs": [
    {
     "name": "stdout",
     "output_type": "stream",
     "text": [
      "Give a string for which you want to test if it's a palindrome\n",
      "lepel\n",
      "Your string is a palindrome\n"
     ]
    }
   ],
   "source": [
    "given_str = input(\"Give a string for which you want to test if it's a palindrome\\n\")\n",
    "given_str = given_str.replace(' ', '').lower()\n",
    "is_palindrome = (given_str == given_str[::-1])\n",
    "print(f\"Your string is {'' if is_palindrome else 'not '}a palindrome\")"
   ]
  },
  {
   "cell_type": "markdown",
   "id": "3264d1da",
   "metadata": {},
   "source": [
    "#### Exercise 3\n",
    "Implement a program that counts the occurrences of\n",
    "each word in a given string.\n",
    "\n",
    "**Tip:** Use a dictionary to store the word counts, and the\n",
    "split() method to separate the words."
   ]
  },
  {
   "cell_type": "code",
   "execution_count": 9,
   "id": "564af02d",
   "metadata": {},
   "outputs": [
    {
     "name": "stdout",
     "output_type": "stream",
     "text": [
      "Enter a string, we count the occurence of each word: \n",
      "Tim is Tim\n",
      "The word tim occured 2 times!\n",
      "The word is occured 1 times!\n"
     ]
    }
   ],
   "source": [
    "given_str = input(\"Enter a string, we count the occurence of each word: \\n\")\n",
    "\n",
    "# Dictionary in which we save the counts of all words\n",
    "word_count = dict()\n",
    "\n",
    "# Split the input string into words\n",
    "words = given_str.split(' ')\n",
    "for word in words:\n",
    "    # Remove punctuation and convert to lowercase for consistent counting\n",
    "    word = word.strip(\".,!?\").lower()\n",
    "    # If we already had this word, increment its count by 1\n",
    "    if word in word_count:\n",
    "        word_count[word] += 1\n",
    "    # Otherwise: set its count to 1\n",
    "    else:\n",
    "        word_count[word] = 1\n",
    "        \n",
    "for word, count in word_count.items():\n",
    "    print(f\"The word {word} occured {count} times!\")"
   ]
  },
  {
   "cell_type": "markdown",
   "id": "b1525e84",
   "metadata": {},
   "source": [
    "#### Exercise 4\n",
    "Check if a number is prime.\n",
    "\n",
    "**Tip:** Use a for loop and the modulo operator (%) to\n",
    "check if the number is divisible by any smaller number.\n",
    "Think about how you can try to minimize the time\n",
    "complexity of your program"
   ]
  },
  {
   "cell_type": "code",
   "execution_count": 11,
   "id": "d1f41295",
   "metadata": {},
   "outputs": [
    {
     "data": {
      "text/plain": [
       "25"
      ]
     },
     "execution_count": 11,
     "metadata": {},
     "output_type": "execute_result"
    }
   ],
   "source": [
    "import numpy as np\n",
    "from icecream import ic\n",
    "\n",
    "def is_prime(number, primes):\n",
    "    \n",
    "    for prime in primes:\n",
    "        if prime > np.sqrt(number):\n",
    "            break\n",
    "        if (number % prime) == 0:\n",
    "            return False\n",
    "    return True\n",
    "\n",
    "primes = list()\n",
    "max_number = 10**2\n",
    "\n",
    "for number in range(2, max_number):\n",
    "    if is_prime(number, primes):\n",
    "        primes.append(number)\n",
    "        \n",
    "len(primes)"
   ]
  },
  {
   "cell_type": "code",
   "execution_count": 12,
   "id": "e31bc2df",
   "metadata": {},
   "outputs": [
    {
     "name": "stdout",
     "output_type": "stream",
     "text": [
      "Give the number for which you want to check if it's prime.6\n",
      "The number 6 is not  prime!\n"
     ]
    }
   ],
   "source": [
    "import numpy as np\n",
    "\n",
    "n = int(input(\"Give the number for which you want to check if it's prime.\"))\n",
    "\n",
    "is_prime = True\n",
    "for i in range(2, int(np.sqrt(n)) + 1):\n",
    "    if n % i == 0:\n",
    "        is_prime = False\n",
    "\n",
    "print(f\"The number {n} is {'' if is_prime else 'not '} prime!\")"
   ]
  },
  {
   "cell_type": "markdown",
   "id": "1b579d9f",
   "metadata": {},
   "source": [
    "#### Exercise 5 \n",
    "Create a program that converts Celsius to Fahrenheit and vice versa.\n",
    "\n",
    "**Tip:** Use the arithmetic operators (+, -, *, /) and the\n",
    "appropriate conversion formulas."
   ]
  },
  {
   "cell_type": "code",
   "execution_count": 15,
   "id": "346422ad",
   "metadata": {},
   "outputs": [
    {
     "name": "stdout",
     "output_type": "stream",
     "text": [
      "Enter the degrees in Celsius that you want to convert: 37.75\n",
      "37.75° is equal to 99.95° Fahrenheit\n"
     ]
    }
   ],
   "source": [
    "degrees_celsius = float(input(\"Enter the degrees in Celsius that you want to convert: \"))\n",
    "degrees_fahrenheit = (degrees_celsius * 9 / 5) + 32\n",
    "print(f\"{degrees_celsius}° is equal to {degrees_fahrenheit}° Fahrenheit\")"
   ]
  },
  {
   "cell_type": "markdown",
   "id": "ee48fb55",
   "metadata": {},
   "source": [
    "#### Exercise 6\n",
    "Write a program that generates a Fibonacci sequence up to a specified number of terms. The Fibonacci sequence is defined by:\n",
    "\n",
    "$x_0 = 0, x_1 = 1, x_{n+2} = x_{n+1} + x_n$\n",
    "\n",
    "**Tip:** Use a for loop and multiple assignments to\n",
    "calculate and print the Fibonacci sequence."
   ]
  },
  {
   "cell_type": "code",
   "execution_count": 16,
   "id": "5c461398",
   "metadata": {},
   "outputs": [
    {
     "name": "stdout",
     "output_type": "stream",
     "text": [
      "How many Fibonacci terms do you want?20\n",
      "The first 20 Fibonacci numbers are 0, 1, 1, 2, 3, 5, 8, 13, 21, 34, 55, 89, 144, 233, 377, 610, 987, 1597, 2584, 4181\n"
     ]
    }
   ],
   "source": [
    "num_fib = int(input(\"How many Fibonacci terms do you want?\"))\n",
    "\n",
    "if num_fib == 0:\n",
    "    fib = list()\n",
    "elif num_fib == 1:\n",
    "    fib = [0]\n",
    "elif num_fib >= 2:\n",
    "    fib = [0, 1]\n",
    "\n",
    "for n in range(0, num_fib - 2):\n",
    "    fib.append(fib[n + 1] + fib[n])\n",
    "\n",
    "fib_str = ', '.join([str(num) for num in fib])\n",
    "print(f\"The first {num_fib} Fibonacci number{'s are' if num_fib > 1 else ' is'} {fib_str}\")"
   ]
  },
  {
   "cell_type": "markdown",
   "id": "f7369e53",
   "metadata": {},
   "source": [
    "#### Exercise 7\n",
    "Create a function that finds the location of the maximum and minimum values in a list.\n",
    "\n",
    "**Tip:** Use the built-in functions max() and min() to\n",
    "find the maximum and minimum values in the list."
   ]
  },
  {
   "cell_type": "code",
   "execution_count": 18,
   "id": "502fc141",
   "metadata": {},
   "outputs": [
    {
     "name": "stdout",
     "output_type": "stream",
     "text": [
      "The minimum value(s) can be found at 0, 1.\n",
      "The maximum value(s) can be found at 4, 5.\n"
     ]
    }
   ],
   "source": [
    "def find_minmax(lst):\n",
    "    \n",
    "    # Compute the min and max values\n",
    "    min_val = min(lst)\n",
    "    max_val = max(lst)\n",
    "    \n",
    "    # Go through the list finding the locations of the minimum and maximum value\n",
    "    arg_min = list()\n",
    "    arg_max = list()\n",
    "    for n, val in enumerate(lst):\n",
    "        if min_val == val:\n",
    "            arg_min.append(n)\n",
    "        if max_val == val:\n",
    "            arg_max.append(n)\n",
    "    return arg_min, arg_max\n",
    "\n",
    "lst = [0, 0, 1, 1, 2, 2]\n",
    "arg_min, arg_max = find_minmax(lst)\n",
    "arg_min_str = \", \".join([str(val) for val in arg_min])\n",
    "arg_max_str = \", \".join([str(val) for val in arg_max])\n",
    "print(f\"The minimum value(s) can be found at {arg_min_str}.\")\n",
    "print(f\"The maximum value(s) can be found at {arg_max_str}.\")"
   ]
  },
  {
   "cell_type": "code",
   "execution_count": 19,
   "id": "bde31c50",
   "metadata": {},
   "outputs": [],
   "source": [
    "## In short:\n",
    "arg_max = np.argwhere(lst == np.amax(lst)) # np.argmax\n",
    "arg_min = np.argwhere(lst == np.amin(lst)) # np.argmin"
   ]
  },
  {
   "cell_type": "markdown",
   "id": "7c5f0ef7",
   "metadata": {},
   "source": [
    "#### Exercise 8\n",
    "Implement a function to calculate the sum of all even\n",
    "numbers in a given range.\n",
    "\n",
    "**Tip:** Use the range() function with appropriate\n",
    "arguments and the modulo operator (%) to check for\n",
    "even numbers."
   ]
  },
  {
   "cell_type": "code",
   "execution_count": 21,
   "id": "2a17ab47",
   "metadata": {},
   "outputs": [
    {
     "name": "stdout",
     "output_type": "stream",
     "text": [
      "The sum of all even numbers from 1 up to 100 is equal to 2450\n"
     ]
    }
   ],
   "source": [
    "def compute_sum_even(start, stop, step = 1):\n",
    "    \n",
    "    total_sum_even = 0\n",
    "    for val in range(start, stop, step):\n",
    "        if val % 2 == 0:\n",
    "            total_sum_even += val\n",
    "    return total_sum_even\n",
    "\n",
    "start = 1\n",
    "stop = 100\n",
    "print(f\"The sum of all even numbers from {start} up to {stop} is equal to {compute_sum_even(start, stop)}\")"
   ]
  },
  {
   "cell_type": "markdown",
   "id": "c6b48f7f",
   "metadata": {},
   "source": [
    "#### Exercise 9\n",
    "Write a function to remove duplicates from a list\n",
    "without using a set.\n",
    "\n",
    "**Tip:** Use a loop and an auxiliary list to iterate over the\n",
    "elements and store only the unique ones.\n"
   ]
  },
  {
   "cell_type": "code",
   "execution_count": 39,
   "id": "25e62421",
   "metadata": {},
   "outputs": [
    {
     "data": {
      "text/plain": [
       "[0, 1, 2]"
      ]
     },
     "execution_count": 39,
     "metadata": {},
     "output_type": "execute_result"
    }
   ],
   "source": [
    "def make_unique(lst):\n",
    "    \"\"\"\n",
    "    Algorithm is O(n**2) which is not very good!\n",
    "    \"\"\"\n",
    "    unique_lst = list()\n",
    "    for val in lst:\n",
    "        if val not in unique_lst:\n",
    "            unique_lst.append(val)\n",
    "            \n",
    "    return unique_lst\n",
    "\n",
    "lst = [0, 0, 1, 2, 0, 1]\n",
    "unique_lst = make_unique(lst)\n",
    "unique_lst"
   ]
  },
  {
   "cell_type": "markdown",
   "id": "58d317a4",
   "metadata": {},
   "source": [
    "#### Exercise 10\n",
    "Create a program that counts the number of vowels in a given string\n",
    "\n",
    "**Tip:** Use a loop and a conditional statement to iterate\n",
    "over the characters and count the vowels."
   ]
  },
  {
   "cell_type": "code",
   "execution_count": 23,
   "id": "306531be",
   "metadata": {},
   "outputs": [
    {
     "name": "stdout",
     "output_type": "stream",
     "text": [
      "Give me a string for which I need to count the number of vowels!\n",
      "huksdfbsduvfksgadvfkgsdvagaf\n",
      "The number of vowels is 5!\n"
     ]
    }
   ],
   "source": [
    "given_str = input(\"Give me a string for which I need to count the number of vowels!\\n\")\n",
    "given_str = given_str.lower()\n",
    "vowels = 'aeiou'\n",
    "is_vowel = [letter in vowels for letter in given_str]\n",
    "num_vowels = sum(is_vowel)\n",
    "\n",
    "print(f\"The number of vowels is {num_vowels}!\")"
   ]
  },
  {
   "cell_type": "markdown",
   "id": "40454e1b",
   "metadata": {},
   "source": [
    "#### Exercise 11\n",
    "Implement a function to find the largest palindrome\n",
    "number within a given range. A palindrome number\n",
    "is a number that remains the same when its digits are\n",
    "reversed, such as 121 or 1331.\n",
    "\n",
    "**Tip:** Loop through the range of numbers from high to\n",
    "low."
   ]
  },
  {
   "cell_type": "code",
   "execution_count": 26,
   "id": "955c6ae9",
   "metadata": {},
   "outputs": [
    {
     "name": "stdout",
     "output_type": "stream",
     "text": [
      "We are going to find the largest palindrome in a range of numbers!\n",
      "Give the start of your number sequence.\n",
      "1\n",
      "Give the end of your number sequence (not included).\n",
      "98\n",
      "Largest palindrome in your range is 88!\n"
     ]
    }
   ],
   "source": [
    "def is_palindrome(number):\n",
    "    \n",
    "    return str(number) == str(number)[::-1]\n",
    "\n",
    "print(\"We are going to find the largest palindrome in a range of numbers!\")\n",
    "start = int(input(\"Give the start of your number sequence.\\n\"))\n",
    "stop = int(input(\"Give the end of your number sequence (not included).\\n\"))\n",
    "\n",
    "largest_palindrome = None\n",
    "for val in range(stop, start, -1):\n",
    "    if is_palindrome(val):\n",
    "        largest_palindrome = val\n",
    "        print(f\"Largest palindrome in your range is {val}!\")\n",
    "        break\n",
    "else:\n",
    "    print(\"No palindromes in your range!\")"
   ]
  },
  {
   "cell_type": "markdown",
   "id": "319e6344",
   "metadata": {},
   "source": [
    "#### Exercise 12\n",
    "Write a program that calculates the area and perimeter of a circle given is radius $r$.\n",
    "\n",
    "**Tip:** The area of a circle with radius $r$ is given by $\\pi\\cdot r^2$ and its perimeter is defined as $2 \\cdot \\pi \\cdot r$."
   ]
  },
  {
   "cell_type": "code",
   "execution_count": 27,
   "id": "68793125",
   "metadata": {},
   "outputs": [
    {
     "name": "stdout",
     "output_type": "stream",
     "text": [
      "Give the radius of the circle you want to analyze!\n",
      "2\n",
      "Your circle has an area of 12.566370614359172 and a perimeter of 12.566370614359172\n"
     ]
    }
   ],
   "source": [
    "import numpy as np\n",
    "\n",
    "r = float(input(\"Give the radius of the circle you want to analyze!\\n\"))\n",
    "print(f\"Your circle has an area of {np.pi * r ** 2} and a perimeter of {2 * np.pi * r}\")"
   ]
  },
  {
   "cell_type": "markdown",
   "id": "c36c3fb2",
   "metadata": {},
   "source": [
    "#### Exercise 13\n",
    "Create a function that checks if a given year is a leap year.\n",
    "\n",
    "**Tip:** To check if a year is a leap year in the Gregorian calendar, verify if it’s divisible by 4, except for years divisible by 100 but not by 400."
   ]
  },
  {
   "cell_type": "code",
   "execution_count": 28,
   "id": "5c481486",
   "metadata": {},
   "outputs": [
    {
     "ename": "SyntaxError",
     "evalue": "invalid syntax (773594703.py, line 3)",
     "output_type": "error",
     "traceback": [
      "\u001b[1;36m  File \u001b[1;32m\"C:\\Users\\timH\\AppData\\Local\\Temp\\ipykernel_812\\773594703.py\"\u001b[1;36m, line \u001b[1;32m3\u001b[0m\n\u001b[1;33m    return (year % 4 == 0) and ! ((year % 100 == 0 ) and (year % 400 != 0))\u001b[0m\n\u001b[1;37m                               ^\u001b[0m\n\u001b[1;31mSyntaxError\u001b[0m\u001b[1;31m:\u001b[0m invalid syntax\n"
     ]
    }
   ],
   "source": [
    "def is_leap_year(year):\n",
    "    \n",
    "    return (year % 4 == 0) and not ((year % 100 == 0 ) and (year % 400 != 0))\n",
    "\n",
    "year = int(input(\"Give a year for which we check if it's a leap year! \\n\"))\n",
    "print(f\"{year} is {'' if is_leap_year(year) else 'not '}a leap year.\")"
   ]
  },
  {
   "cell_type": "markdown",
   "id": "2828dbd6",
   "metadata": {},
   "source": [
    "#### Exercise 14\n",
    "Create a program that converts integer numbers to\n",
    "binary representation. Then print out the number’s\n",
    "binary representation with Q for one and W for zero\n",
    "\n",
    "**Tip:** Use the bin() function to convert decimal\n",
    "numbers to binary strings. Also: use .replace to\n",
    "replace characters in a string."
   ]
  },
  {
   "cell_type": "code",
   "execution_count": 29,
   "id": "515cfd67",
   "metadata": {},
   "outputs": [
    {
     "name": "stdout",
     "output_type": "stream",
     "text": [
      "Give a number for which we want to look at the binary representation!\n",
      "213\n",
      "Binary representation (with Q=1 and W=0) QQWQWQWQ\n"
     ]
    }
   ],
   "source": [
    "number = int(input(\"Give a number for which we want to look at the binary representation!\\n\"))\n",
    "bin_number = bin(number)[2:]\n",
    "bin_number = bin_number.replace('1', 'Q').replace('0', 'W')\n",
    "print(f\"Binary representation (with Q=1 and W=0) {bin_number}\")"
   ]
  },
  {
   "cell_type": "markdown",
   "id": "70c4474c",
   "metadata": {},
   "source": [
    "#### Exercise 15\n",
    "Implement a function to find the second largest\n",
    "element in a list.\n",
    "\n",
    "**Tip:** Sort the list in descending order and return the\n",
    "element at index 1.\n"
   ]
  },
  {
   "cell_type": "code",
   "execution_count": 31,
   "id": "2a544ac2",
   "metadata": {},
   "outputs": [
    {
     "name": "stdout",
     "output_type": "stream",
     "text": [
      "The second largest element is 4\n"
     ]
    }
   ],
   "source": [
    "def second_largest(lst):\n",
    "    \n",
    "   return sorted(lst, reverse = True)[1] \n",
    "\n",
    "lst = [1, 2, 1, 4, 3, 1, 2, 10]\n",
    "print(f\"The second largest element is {second_largest(lst)}\")"
   ]
  },
  {
   "cell_type": "markdown",
   "id": "115069d0",
   "metadata": {},
   "source": [
    "#### Exercise 16\n",
    "\n",
    "Write a program that generates a random password of a specified length.\n",
    "\n",
    "**Tip:** Use the random module and string concatenation\n",
    "to create a random password."
   ]
  },
  {
   "cell_type": "code",
   "execution_count": 32,
   "id": "7f32f76e",
   "metadata": {},
   "outputs": [
    {
     "name": "stdout",
     "output_type": "stream",
     "text": [
      "Enter the desired password length: \n",
      "321\n",
      "Your generated password is: >k;z;sT/E7q#GED#N[.|'3/t9B#yJM]<1Np'oTO4\\t`tn^/V_t,`>O5))fTqwMwLSr_PptyP)!![\\,Xe2CufW6Fh7%I(QW+Y}\"'o{yNvboQI6U_0]B2>IF__AS{|cBA57vg6&lSAo<9pf)`{Fm=X%,.('-<EzSkd;*D(@8gb~`:=cBk'OaoMh}q;D0OM{&\")[4e\\.C9;z|VCI$&6\"Y?@NW\"?Qel2u;+LDrI:w!/FQMvr/{i+]]#dq7v)Z!}FQAI1D`}31[!['~_g-Ex!q25LeT<QHv_7}9y/V]4t}KYCR:tuquhA5)caST05MB5QK;{!b\n"
     ]
    }
   ],
   "source": [
    "import string\n",
    "import random\n",
    "\n",
    "password_length = int(input(\"Enter the desired password length: \\n\"))\n",
    "\n",
    "# Define a string containing all possible characters for the password\n",
    "characters = string.ascii_letters + string.digits + string.punctuation\n",
    "\n",
    "# Use random.choice() to select random characters from the string\n",
    "password = ''.join(random.choice(characters) for _ in range(password_length))\n",
    "\n",
    "print(f\"Your generated password is: {password}\")"
   ]
  },
  {
   "cell_type": "markdown",
   "id": "9b9c9e9f",
   "metadata": {},
   "source": [
    "#### Exercise 17\n",
    "Create a function to reverse the words in a given\n",
    "sentence. For example the sentence \"Tim likes to teach\n",
    "data science\" should become \"science data teach to\n",
    "likes Tim\"\n",
    "\n",
    "**Tip:** Use the split() method to separate the words,\n",
    "reverse the order, and then join them back into a\n",
    "sentence."
   ]
  },
  {
   "cell_type": "code",
   "execution_count": 34,
   "id": "7091c0f4",
   "metadata": {},
   "outputs": [
    {
     "name": "stdout",
     "output_type": "stream",
     "text": [
      "Give the string you want to reverse\n",
      "plop gaat naar de kabouterdans\n",
      "Your reversed string is:\n",
      "kabouterdans de naar gaat plop\n"
     ]
    }
   ],
   "source": [
    "given_str = input(\"Give the string you want to reverse\\n\")\n",
    "reversed_str = ' '.join(given_str.split(' ')[::-1])\n",
    "print(\"Your reversed string is:\")\n",
    "print(reversed_str)"
   ]
  },
  {
   "cell_type": "markdown",
   "id": "22472855",
   "metadata": {},
   "source": [
    "#### Exercise 18\n",
    "Write a function that shows the link between\n",
    "*time.time()* and *datetime.datetime.today()*.\n",
    "\n",
    "**Tip:** Make use of the baseline date that is used for\n",
    "*time.time()*, *baseline_date = datetime.datetime(1970,\n",
    "1, 1, 0, 0, 0)*."
   ]
  },
  {
   "cell_type": "code",
   "execution_count": 39,
   "id": "2d7e9f24",
   "metadata": {},
   "outputs": [
    {
     "name": "stdout",
     "output_type": "stream",
     "text": [
      "Current DateTime using time.time(): 2023-11-07 18:40:13.048054\n",
      "Current DateTime using datetime.datetime.today(): 2023-11-07 19:40:13.048562\n"
     ]
    }
   ],
   "source": [
    "import time\n",
    "from datetime import datetime, timedelta\n",
    "\n",
    "def time_to_datetime(timestamp):\n",
    "    # Define the baseline date\n",
    "    baseline_date = datetime(1970, 1, 1, 0, 0, 0)\n",
    "\n",
    "    # Convert the timestamp to a datetime object\n",
    "    current_datetime = baseline_date + timedelta(seconds=timestamp)\n",
    "\n",
    "    return current_datetime\n",
    "\n",
    "# Compute current timestamp with time.time()\n",
    "timestamp = time.time()\n",
    "current_datetime = time_to_datetime(timestamp)\n",
    "print(f\"Current DateTime using time.time(): {current_datetime}\")\n",
    "\n",
    "# Get the current DateTime using datetime.datetime.today()\n",
    "current_datetime_today = datetime.today()\n",
    "print(f\"Current DateTime using datetime.datetime.today(): {current_datetime_today}\")"
   ]
  }
 ],
 "metadata": {
  "kernelspec": {
   "display_name": "Python 3 (ipykernel)",
   "language": "python",
   "name": "python3"
  },
  "language_info": {
   "codemirror_mode": {
    "name": "ipython",
    "version": 3
   },
   "file_extension": ".py",
   "mimetype": "text/x-python",
   "name": "python",
   "nbconvert_exporter": "python",
   "pygments_lexer": "ipython3",
   "version": "3.9.13"
  }
 },
 "nbformat": 4,
 "nbformat_minor": 5
}
