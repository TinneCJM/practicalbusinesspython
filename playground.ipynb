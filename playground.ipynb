{
 "cells": [
  {
   "cell_type": "code",
   "execution_count": null,
   "id": "33e3b49c",
   "metadata": {},
   "outputs": [],
   "source": [
    "import os\n"
   ]
  },
  {
   "cell_type": "code",
   "execution_count": null,
   "id": "c8bb20a2",
   "metadata": {},
   "outputs": [],
   "source": [
    "os.mkdir('../../evaluatiies/nieuwe_folder')"
   ]
  },
  {
   "cell_type": "code",
   "execution_count": null,
   "id": "60c87e57",
   "metadata": {},
   "outputs": [],
   "source": [
    "os.getcwd()"
   ]
  },
  {
   "cell_type": "code",
   "execution_count": null,
   "id": "812599b6",
   "metadata": {},
   "outputs": [],
   "source": [
    "os.getcwd()"
   ]
  },
  {
   "cell_type": "code",
   "execution_count": null,
   "id": "d7ed3bb0",
   "metadata": {},
   "outputs": [],
   "source": [
    "os.path.basename('a/b/dsad/asddsdaplo/p')"
   ]
  },
  {
   "cell_type": "code",
   "execution_count": null,
   "id": "acc2fe82",
   "metadata": {},
   "outputs": [],
   "source": [
    "'a/b/dsad/asddsdaplo/p'.split('/')[-1]"
   ]
  },
  {
   "cell_type": "code",
   "execution_count": null,
   "id": "590641a3",
   "metadata": {},
   "outputs": [],
   "source": [
    "import numpy as np"
   ]
  },
  {
   "cell_type": "code",
   "execution_count": null,
   "id": "4e8ef425",
   "metadata": {},
   "outputs": [],
   "source": [
    "def is_prime(num):\n",
    "    \n",
    "    for i in range(2, int(np.sqrt(num)) + 1):\n",
    "        if num % i:\n",
    "            return False\n",
    "    return True"
   ]
  },
  {
   "cell_type": "code",
   "execution_count": null,
   "id": "f20cfb15",
   "metadata": {},
   "outputs": [],
   "source": [
    "def generate_primes():\n",
    "    \n",
    "    p = 2\n",
    "    yield p\n",
    "    p += 1\n",
    "    while True:\n",
    "        if is_prime(p):\n",
    "            yield p\n",
    "        p += 1"
   ]
  },
  {
   "cell_type": "code",
   "execution_count": null,
   "id": "062ce26f",
   "metadata": {},
   "outputs": [],
   "source": [
    "gen = generate_primes()"
   ]
  },
  {
   "cell_type": "code",
   "execution_count": null,
   "id": "19074c0b",
   "metadata": {},
   "outputs": [],
   "source": [
    "for _ in range(100):\n",
    "    print(next(gen))"
   ]
  },
  {
   "cell_type": "code",
   "execution_count": null,
   "id": "645537e1",
   "metadata": {},
   "outputs": [],
   "source": [
    "with open(\"Leukbestandje.txt\", \"r\") as file:\n",
    "    inhoud = file.read()\n",
    "    lijnen = inhoud.split('\\n')"
   ]
  },
  {
   "cell_type": "code",
   "execution_count": null,
   "id": "6d1d4417",
   "metadata": {},
   "outputs": [],
   "source": [
    "lijnen"
   ]
  },
  {
   "cell_type": "code",
   "execution_count": null,
   "id": "5d3e5fed",
   "metadata": {},
   "outputs": [],
   "source": [
    "file.write(\"a\")"
   ]
  },
  {
   "cell_type": "code",
   "execution_count": null,
   "id": "0d6a2e78",
   "metadata": {},
   "outputs": [],
   "source": [
    "file.read()"
   ]
  },
  {
   "cell_type": "code",
   "execution_count": null,
   "id": "4c69c010",
   "metadata": {},
   "outputs": [],
   "source": [
    "import json"
   ]
  },
  {
   "cell_type": "code",
   "execution_count": null,
   "id": "49b6e569",
   "metadata": {},
   "outputs": [],
   "source": [
    "inhoud_van_json = {}\n",
    "for i in range(100):\n",
    "    inhoud_van_json[f\"De {i}de key van mijn dictionary\"] = [i ** 2, i**3, i**4]\n",
    "with open(\"mijneerstejsonbestandje.json\", \"w\") as huppeldepup:\n",
    "    json.dump(inhoud_van_json, huppeldepup, indent = 4)"
   ]
  },
  {
   "cell_type": "code",
   "execution_count": null,
   "id": "4eb37cd3",
   "metadata": {},
   "outputs": [],
   "source": [
    "inhoud_van_json"
   ]
  },
  {
   "cell_type": "code",
   "execution_count": null,
   "id": "1a3e6c1c",
   "metadata": {},
   "outputs": [],
   "source": [
    "with open(\"mijneerstejsonbestandje.json\", \"r\") as huppeldepup:\n",
    "    qwerty = json.load(huppeldepup)"
   ]
  },
  {
   "cell_type": "code",
   "execution_count": null,
   "id": "41f1f434",
   "metadata": {},
   "outputs": [],
   "source": [
    "qwerty['1']"
   ]
  },
  {
   "cell_type": "code",
   "execution_count": null,
   "id": "90b8dad7",
   "metadata": {},
   "outputs": [],
   "source": [
    "contacts = [\n",
    "    {},\n",
    "    {},\n",
    "    {}\n",
    "]\n",
    "\n",
    "while True:\n",
    "    n = input()\n",
    "    e = input()\n",
    "    t = input()\n",
    "    contacts.append({\n",
    "        \n",
    "    })"
   ]
  },
  {
   "cell_type": "markdown",
   "id": "584abe4f",
   "metadata": {},
   "source": [
    "## Excel bestanden"
   ]
  },
  {
   "cell_type": "code",
   "execution_count": null,
   "id": "be10061e",
   "metadata": {},
   "outputs": [],
   "source": [
    "import pandas as pd\n",
    "loc = 'lessenrooster_dagopleiding_data_scientist.xlsx'\n",
    "df = pd.read_excel(loc)"
   ]
  },
  {
   "cell_type": "code",
   "execution_count": null,
   "id": "903f666d",
   "metadata": {},
   "outputs": [],
   "source": [
    "for sheet_name in xlsx.sheet_names:\n",
    "    df = pd.read_excel(xlsx, sheet_name = sheet_name)\n",
    "    df['Datum'] = pd.to_datetime( df.Datum, format = '%Y-%m-%d' )\n",
    "    for plop, row in df.iterrows():\n",
    "        print(f\"Op {row['Datum'].strftime('%A')} staat Lokaal {row['Lokaal']}\")"
   ]
  },
  {
   "cell_type": "code",
   "execution_count": null,
   "id": "a3bf57da",
   "metadata": {},
   "outputs": [],
   "source": [
    "a = '12\\n12'\n",
    "print(a)"
   ]
  },
  {
   "cell_type": "code",
   "execution_count": null,
   "id": "6c826125",
   "metadata": {},
   "outputs": [],
   "source": [
    "df = pd.read_excel()"
   ]
  },
  {
   "cell_type": "code",
   "execution_count": null,
   "id": "082ec3d8",
   "metadata": {},
   "outputs": [],
   "source": [
    "xlsx.to_csv(\"hop.tsv\", sep = \"\\t\", index = False)"
   ]
  },
  {
   "cell_type": "code",
   "execution_count": null,
   "id": "65fb90a6",
   "metadata": {},
   "outputs": [],
   "source": [
    "{\n",
    "    'Sheet1' : df,\n",
    "    'Sheet2' : df_over_iets_anders,\n",
    "}"
   ]
  },
  {
   "cell_type": "code",
   "execution_count": null,
   "id": "507f422e",
   "metadata": {},
   "outputs": [],
   "source": [
    "import requests"
   ]
  },
  {
   "cell_type": "code",
   "execution_count": null,
   "id": "dc1ff495",
   "metadata": {},
   "outputs": [],
   "source": [
    "page = requests.get('https://www.zimmo.be/nl/stevoort-3512/te-koop/huis/KJKDM/?search=eyJmaWx0ZXIiOnsic3RhdHVzIjp7ImluIjpbIkZPUl9TQUxFIiwiVEFLRV9PVkVSIl19fX0%3D')"
   ]
  },
  {
   "cell_type": "code",
   "execution_count": null,
   "id": "a60e70b8",
   "metadata": {},
   "outputs": [],
   "source": [
    "requests.get??"
   ]
  },
  {
   "cell_type": "code",
   "execution_count": null,
   "id": "1b2115a3",
   "metadata": {},
   "outputs": [],
   "source": [
    "from bs4 import BeautifulSoup"
   ]
  },
  {
   "cell_type": "code",
   "execution_count": null,
   "id": "1bc1cd1c",
   "metadata": {},
   "outputs": [],
   "source": [
    "soup = BeautifulSoup(page.content, \"html.parser\")"
   ]
  },
  {
   "cell_type": "code",
   "execution_count": null,
   "id": "a6cf52bf",
   "metadata": {},
   "outputs": [],
   "source": [
    "soup.find"
   ]
  },
  {
   "cell_type": "markdown",
   "id": "21e81485",
   "metadata": {},
   "source": [
    "### Lokaal vs globaal"
   ]
  },
  {
   "cell_type": "code",
   "execution_count": null,
   "id": "2ff6bf03",
   "metadata": {},
   "outputs": [],
   "source": [
    "def fun(y):\n",
    "    return x * y\n",
    "\n",
    "fun(4)"
   ]
  },
  {
   "cell_type": "code",
   "execution_count": null,
   "id": "7636a3cb",
   "metadata": {},
   "outputs": [],
   "source": [
    "globals()['x']"
   ]
  },
  {
   "cell_type": "code",
   "execution_count": null,
   "id": "763b86b0",
   "metadata": {},
   "outputs": [],
   "source": [
    "'x' in globals()"
   ]
  },
  {
   "cell_type": "code",
   "execution_count": null,
   "id": "cf125538",
   "metadata": {},
   "outputs": [],
   "source": [
    "def fun2(x):\n",
    "    y = 2\n",
    "    return locals()"
   ]
  },
  {
   "cell_type": "code",
   "execution_count": null,
   "id": "f0e3a5b5",
   "metadata": {},
   "outputs": [],
   "source": [
    "plop = fun2(2)"
   ]
  },
  {
   "cell_type": "code",
   "execution_count": null,
   "id": "6079c3f4",
   "metadata": {},
   "outputs": [],
   "source": [
    "plop['q']"
   ]
  },
  {
   "cell_type": "code",
   "execution_count": null,
   "id": "73d35910",
   "metadata": {},
   "outputs": [],
   "source": [
    "qq = globals()"
   ]
  },
  {
   "cell_type": "code",
   "execution_count": null,
   "id": "d46d4e48",
   "metadata": {},
   "outputs": [],
   "source": [
    "type(qq)"
   ]
  },
  {
   "cell_type": "code",
   "execution_count": null,
   "id": "ced7a14d",
   "metadata": {},
   "outputs": [],
   "source": [
    "def fun():\n",
    "    return locals()"
   ]
  },
  {
   "cell_type": "code",
   "execution_count": null,
   "id": "a9cc2eef",
   "metadata": {},
   "outputs": [],
   "source": [
    "a = fun()"
   ]
  },
  {
   "cell_type": "code",
   "execution_count": null,
   "id": "1b5ce6bf",
   "metadata": {},
   "outputs": [],
   "source": [
    "a"
   ]
  },
  {
   "cell_type": "code",
   "execution_count": null,
   "id": "e28bc945",
   "metadata": {},
   "outputs": [],
   "source": [
    "func = lambda x, y : x + y"
   ]
  },
  {
   "cell_type": "code",
   "execution_count": null,
   "id": "5e3d8078",
   "metadata": {},
   "outputs": [],
   "source": [
    "def func(x, y):\n",
    "    return x + y"
   ]
  },
  {
   "cell_type": "code",
   "execution_count": null,
   "id": "090a8139",
   "metadata": {},
   "outputs": [],
   "source": [
    "group_to_idx = {\n",
    "    'very old' : 3,\n",
    "    'old' : 2,\n",
    "    'young' : 1,\n",
    "    'born' : 0\n",
    "}"
   ]
  },
  {
   "cell_type": "code",
   "execution_count": null,
   "id": "948c0055",
   "metadata": {},
   "outputs": [],
   "source": [
    "lst = ['old', 'old', 'young', 'born', 'born']"
   ]
  },
  {
   "cell_type": "code",
   "execution_count": null,
   "id": "5e2d88a5",
   "metadata": {},
   "outputs": [],
   "source": [
    "sorted(lst, \n",
    "           key=lambda age_group : group_to_idx[age_group],\n",
    "           reverse = True)"
   ]
  },
  {
   "cell_type": "code",
   "execution_count": null,
   "id": "31ec4925",
   "metadata": {},
   "outputs": [],
   "source": [
    "sorted?"
   ]
  },
  {
   "cell_type": "code",
   "execution_count": null,
   "id": "bff931b8",
   "metadata": {},
   "outputs": [],
   "source": [
    "import numpy as np\n",
    "def sorter(lst):\n",
    "    return sorted(lst,\n",
    "                     key = lambda x : (np.sin(x) + np.cos(x)) / np.tan(x))"
   ]
  },
  {
   "cell_type": "code",
   "execution_count": null,
   "id": "34d6bc5b",
   "metadata": {},
   "outputs": [],
   "source": [
    "lst_sorted = sorter([1,2,3])"
   ]
  },
  {
   "cell_type": "code",
   "execution_count": null,
   "id": "7b6bd659",
   "metadata": {},
   "outputs": [],
   "source": [
    "list(map(lambda x : (np.sin(x) + np.cos(x)) / np.tan(x), lst_sorted))"
   ]
  },
  {
   "cell_type": "code",
   "execution_count": null,
   "id": "ba46fad3",
   "metadata": {},
   "outputs": [],
   "source": [
    "def func(x : int, y : int):\n",
    "    \"\"\"\n",
    "    Dit is mijn docstring!\n",
    "    \"\"\"\n",
    "    assert(type(x) == int)\n",
    "    return x + y"
   ]
  },
  {
   "cell_type": "code",
   "execution_count": null,
   "id": "7b2e6eb6",
   "metadata": {},
   "outputs": [],
   "source": [
    "dit_is_een_string = \"\"\"sa\n",
    "dsa\n",
    "sad\n",
    "dsa\n",
    "asd\n",
    "sad\n",
    "dsa\n",
    "asd\n",
    "sda\n",
    "dsa\n",
    "sda\"\"\""
   ]
  },
  {
   "cell_type": "code",
   "execution_count": null,
   "id": "86a73760",
   "metadata": {},
   "outputs": [],
   "source": [
    "sorted([1,2,3], lambda x : x**2)"
   ]
  },
  {
   "cell_type": "code",
   "execution_count": null,
   "id": "16d83e88",
   "metadata": {},
   "outputs": [],
   "source": [
    "def fun(a, key = None):\n",
    "    return a"
   ]
  },
  {
   "cell_type": "code",
   "execution_count": null,
   "id": "2deb03e6",
   "metadata": {},
   "outputs": [],
   "source": [
    "print(sorted.__doc__)"
   ]
  },
  {
   "cell_type": "code",
   "execution_count": null,
   "id": "c7df1c6a",
   "metadata": {},
   "outputs": [],
   "source": [
    "x = 1"
   ]
  },
  {
   "cell_type": "code",
   "execution_count": null,
   "id": "7e01e8a4",
   "metadata": {},
   "outputs": [],
   "source": [
    "x.__eq__(1) # --> x == 1"
   ]
  },
  {
   "cell_type": "code",
   "execution_count": null,
   "id": "290b82d8",
   "metadata": {},
   "outputs": [],
   "source": [
    "a = [1,2,3]\n",
    "def fun(b):\n",
    "    b[1] = 1000000\n",
    "    return\n",
    "fun(a)\n",
    "print(a)"
   ]
  },
  {
   "cell_type": "code",
   "execution_count": null,
   "id": "84161f1f",
   "metadata": {},
   "outputs": [],
   "source": [
    "a = [1, 6, 2, 3]\n",
    "b = sorted(a)"
   ]
  },
  {
   "cell_type": "code",
   "execution_count": null,
   "id": "a9dd909f",
   "metadata": {},
   "outputs": [],
   "source": [
    "b = a.sort()"
   ]
  },
  {
   "cell_type": "code",
   "execution_count": null,
   "id": "059a8c29",
   "metadata": {},
   "outputs": [],
   "source": [
    "def fun(a):\n",
    "    a.sort()\n",
    "    return a"
   ]
  },
  {
   "cell_type": "code",
   "execution_count": null,
   "id": "47e22743",
   "metadata": {},
   "outputs": [],
   "source": [
    "b = fun(a)"
   ]
  },
  {
   "cell_type": "code",
   "execution_count": null,
   "id": "d1079c9e",
   "metadata": {},
   "outputs": [],
   "source": [
    "b"
   ]
  },
  {
   "cell_type": "code",
   "execution_count": null,
   "id": "3abe102a",
   "metadata": {},
   "outputs": [],
   "source": [
    "a =  [1, 2, [3, 4]]"
   ]
  },
  {
   "cell_type": "code",
   "execution_count": null,
   "id": "0f04f6df",
   "metadata": {},
   "outputs": [],
   "source": [
    "b = a.copy()"
   ]
  },
  {
   "cell_type": "code",
   "execution_count": null,
   "id": "960f784f",
   "metadata": {},
   "outputs": [],
   "source": [
    "b[-1][0] = 100"
   ]
  },
  {
   "cell_type": "code",
   "execution_count": null,
   "id": "341fd935",
   "metadata": {},
   "outputs": [],
   "source": [
    "a"
   ]
  },
  {
   "cell_type": "code",
   "execution_count": null,
   "id": "60ebfc02",
   "metadata": {},
   "outputs": [],
   "source": [
    "b"
   ]
  },
  {
   "cell_type": "code",
   "execution_count": null,
   "id": "facb354f",
   "metadata": {},
   "outputs": [],
   "source": [
    "from datetime import datetime, timedelta\n",
    "a = datetime(2020, 1, 1)\n",
    "b = a\n",
    "b += timedelta(days = 1000)"
   ]
  },
  {
   "cell_type": "code",
   "execution_count": null,
   "id": "c28eb60b",
   "metadata": {},
   "outputs": [],
   "source": [
    "b"
   ]
  },
  {
   "cell_type": "code",
   "execution_count": null,
   "id": "077665b3",
   "metadata": {},
   "outputs": [],
   "source": [
    "a"
   ]
  },
  {
   "cell_type": "code",
   "execution_count": null,
   "id": "7ae93d53",
   "metadata": {},
   "outputs": [],
   "source": []
  },
  {
   "cell_type": "code",
   "execution_count": null,
   "id": "ef566f2b",
   "metadata": {},
   "outputs": [],
   "source": [
    "import pandas as pd"
   ]
  },
  {
   "cell_type": "code",
   "execution_count": null,
   "id": "2b319dde",
   "metadata": {},
   "outputs": [],
   "source": [
    "df1 = pd.DataFrame({'1' : [1,2,3]})\n",
    "df2 = pd.DataFrame({'2' : [4, 5, 6]})\n",
    "lst = [df1, df2]\n",
    "lst2 = lst.copy()\n",
    "lst2[0].iloc[0,0] = 100\n",
    "lst"
   ]
  },
  {
   "cell_type": "code",
   "execution_count": null,
   "id": "6848f2c2",
   "metadata": {},
   "outputs": [],
   "source": [
    "from copy import deepcopy\n",
    "lst1 = [1, 5, 3, 2, 1, 4, [8, 3, 2, 1, 3]]\n",
    "lst2 = deepcopy(lst1)\n",
    "lst2[-1][-1] = 1000"
   ]
  },
  {
   "cell_type": "code",
   "execution_count": null,
   "id": "ec4e4b23",
   "metadata": {},
   "outputs": [],
   "source": [
    "def "
   ]
  },
  {
   "cell_type": "code",
   "execution_count": null,
   "id": "f9c282be",
   "metadata": {},
   "outputs": [],
   "source": [
    "dct = {1 : [1,2,3]}\n",
    "p = dct.copy()"
   ]
  },
  {
   "cell_type": "code",
   "execution_count": null,
   "id": "18867a21",
   "metadata": {},
   "outputs": [],
   "source": [
    "p[1][0]= 1000"
   ]
  },
  {
   "cell_type": "code",
   "execution_count": null,
   "id": "e039d333",
   "metadata": {},
   "outputs": [],
   "source": [
    "dct"
   ]
  },
  {
   "cell_type": "code",
   "execution_count": null,
   "id": "4ee01633",
   "metadata": {},
   "outputs": [],
   "source": [
    "df1"
   ]
  },
  {
   "cell_type": "code",
   "execution_count": null,
   "id": "c184412a",
   "metadata": {},
   "outputs": [],
   "source": [
    "df3 = df1"
   ]
  },
  {
   "cell_type": "code",
   "execution_count": null,
   "id": "9874dc4d",
   "metadata": {},
   "outputs": [],
   "source": [
    "df3.iloc[0,0] = -2"
   ]
  },
  {
   "cell_type": "code",
   "execution_count": null,
   "id": "a269bfe4",
   "metadata": {},
   "outputs": [],
   "source": [
    "df1"
   ]
  },
  {
   "cell_type": "code",
   "execution_count": 3,
   "id": "8f3299c5",
   "metadata": {},
   "outputs": [],
   "source": [
    "import datetime"
   ]
  },
  {
   "cell_type": "code",
   "execution_count": 7,
   "id": "38fcdce4",
   "metadata": {},
   "outputs": [],
   "source": [
    "datum = datetime.datetime(2020, 12, 12)"
   ]
  },
  {
   "cell_type": "code",
   "execution_count": 10,
   "id": "9e39f6bd",
   "metadata": {},
   "outputs": [
    {
     "data": {
      "text/plain": [
       "'Saturday'"
      ]
     },
     "execution_count": 10,
     "metadata": {},
     "output_type": "execute_result"
    }
   ],
   "source": [
    "datum.strftime(\"%A\")"
   ]
  },
  {
   "cell_type": "raw",
   "id": "0ba3c1d7",
   "metadata": {},
   "source": []
  },
  {
   "cell_type": "code",
   "execution_count": 36,
   "id": "f83ce3b8",
   "metadata": {},
   "outputs": [],
   "source": [
    "from dataclasses import dataclass\n",
    "\n",
    "@dataclass\n",
    "class Person:\n",
    "    name : str\n",
    "    def __init__(self, name):\n",
    "        self.name = name\n",
    "        \n",
    "    def __str__(self):\n",
    "        return self.name"
   ]
  },
  {
   "cell_type": "code",
   "execution_count": 37,
   "id": "7924409c",
   "metadata": {},
   "outputs": [],
   "source": [
    "\n",
    "ddasda"
   ]
  },
  {
   "cell_type": "code",
   "execution_count": 38,
   "id": "1383b8ec",
   "metadata": {},
   "outputs": [
    {
     "name": "stdout",
     "output_type": "stream",
     "text": [
      "Tim\n"
     ]
    }
   ],
   "source": [
    "for i in range(10):\n",
    "    print(i)"
   ]
  },
  {
   "cell_type": "code",
   "execution_count": 6,
   "id": "ba823fe4",
   "metadata": {},
   "outputs": [
    {
     "data": {
      "text/plain": [
       "[1, 2, 3]"
      ]
     },
     "execution_count": 6,
     "metadata": {},
     "output_type": "execute_result"
    }
   ],
   "source": [
    "import numpy as np\n",
    "a = [1,2,3]\n",
    "b = np.array(a, copy = False)\n",
    "b[1] = -10\n",
    "a"
   ]
  },
  {
   "cell_type": "code",
   "execution_count": 18,
   "id": "f8977260",
   "metadata": {},
   "outputs": [
    {
     "data": {
      "text/plain": [
       "array([0. , 0.3, 0.6, 0.9])"
      ]
     },
     "execution_count": 18,
     "metadata": {},
     "output_type": "execute_result"
    }
   ],
   "source": [
    "np.arange(0., 0.9001, 0.3)"
   ]
  },
  {
   "cell_type": "code",
   "execution_count": 15,
   "id": "4128d6d6",
   "metadata": {},
   "outputs": [
    {
     "data": {
      "text/plain": [
       "True"
      ]
     },
     "execution_count": 15,
     "metadata": {},
     "output_type": "execute_result"
    }
   ],
   "source": [
    "0.3 + 0.3 + 0.3 < 0.9"
   ]
  },
  {
   "cell_type": "code",
   "execution_count": 20,
   "id": "aba728d0",
   "metadata": {},
   "outputs": [],
   "source": [
    "a = np.ones(3)\n",
    "b = np.ones_like(a)"
   ]
  },
  {
   "cell_type": "code",
   "execution_count": 21,
   "id": "436aff1e",
   "metadata": {},
   "outputs": [
    {
     "data": {
      "text/plain": [
       "array([1., 1., 1.])"
      ]
     },
     "execution_count": 21,
     "metadata": {},
     "output_type": "execute_result"
    }
   ],
   "source": [
    "a"
   ]
  },
  {
   "cell_type": "code",
   "execution_count": 22,
   "id": "56828a3b",
   "metadata": {},
   "outputs": [
    {
     "data": {
      "text/plain": [
       "array([1., 1., 1.])"
      ]
     },
     "execution_count": 22,
     "metadata": {},
     "output_type": "execute_result"
    }
   ],
   "source": [
    "b"
   ]
  },
  {
   "cell_type": "code",
   "execution_count": 24,
   "id": "ab54b5f0",
   "metadata": {},
   "outputs": [
    {
     "data": {
      "text/plain": [
       "(2, 3)"
      ]
     },
     "execution_count": 24,
     "metadata": {},
     "output_type": "execute_result"
    }
   ],
   "source": [
    "a = np.array([[1,2,3], [4,5,6]])\n",
    "a.shape"
   ]
  },
  {
   "cell_type": "code",
   "execution_count": 25,
   "id": "e4b35771",
   "metadata": {},
   "outputs": [
    {
     "data": {
      "text/plain": [
       "array([0.5, 0.6, 0.7, 0.8])"
      ]
     },
     "execution_count": 25,
     "metadata": {},
     "output_type": "execute_result"
    }
   ],
   "source": [
    "np.arange(0.5, 0.8, 0.1)"
   ]
  },
  {
   "cell_type": "code",
   "execution_count": 27,
   "id": "2a37f793",
   "metadata": {},
   "outputs": [
    {
     "data": {
      "text/plain": [
       "9"
      ]
     },
     "execution_count": 27,
     "metadata": {},
     "output_type": "execute_result"
    }
   ],
   "source": [
    "np.max(np.random.randint(0, 10, 10 ** 6))"
   ]
  },
  {
   "cell_type": "code",
   "execution_count": 29,
   "id": "3718e5c8",
   "metadata": {},
   "outputs": [
    {
     "data": {
      "text/plain": [
       "10"
      ]
     },
     "execution_count": 29,
     "metadata": {},
     "output_type": "execute_result"
    }
   ],
   "source": [
    "import random\n",
    "\n",
    "np.max([random.randint(0, 10) for _ in range(10 ** 6)])"
   ]
  },
  {
   "cell_type": "code",
   "execution_count": 41,
   "id": "c4343d8c",
   "metadata": {},
   "outputs": [
    {
     "data": {
      "text/plain": [
       "19.0"
      ]
     },
     "execution_count": 41,
     "metadata": {},
     "output_type": "execute_result"
    }
   ],
   "source": [
    "a = np.arange(1, 20, dtype = float)\n",
    "a[1] = np.nan\n",
    "np.nanmax(a)"
   ]
  },
  {
   "cell_type": "code",
   "execution_count": 43,
   "id": "2edea4f6",
   "metadata": {},
   "outputs": [
    {
     "data": {
      "text/plain": [
       "2.0"
      ]
     },
     "execution_count": 43,
     "metadata": {},
     "output_type": "execute_result"
    }
   ],
   "source": [
    "a = np.array([1, np.nan, 3])\n",
    "np.nanmean(a)"
   ]
  },
  {
   "cell_type": "code",
   "execution_count": null,
   "id": "675b9200",
   "metadata": {},
   "outputs": [],
   "source": []
  }
 ],
 "metadata": {
  "kernelspec": {
   "display_name": "Python 3 (ipykernel)",
   "language": "python",
   "name": "python3"
  },
  "language_info": {
   "codemirror_mode": {
    "name": "ipython",
    "version": 3
   },
   "file_extension": ".py",
   "mimetype": "text/x-python",
   "name": "python",
   "nbconvert_exporter": "python",
   "pygments_lexer": "ipython3",
   "version": "3.9.13"
  }
 },
 "nbformat": 4,
 "nbformat_minor": 5
}
