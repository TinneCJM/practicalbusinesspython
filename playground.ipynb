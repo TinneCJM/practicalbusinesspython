{
 "cells": [
  {
   "cell_type": "code",
   "execution_count": null,
   "id": "5fd92995",
   "metadata": {},
   "outputs": [],
   "source": [
    "import datetime"
   ]
  },
  {
   "cell_type": "code",
   "execution_count": null,
   "id": "f5930ebd",
   "metadata": {},
   "outputs": [],
   "source": [
    "tijdstip = datetime.datetime(1, 2, 28, 22, 40)"
   ]
  },
  {
   "cell_type": "code",
   "execution_count": null,
   "id": "6847c1c3",
   "metadata": {},
   "outputs": [],
   "source": [
    "tijdstip.strftime(\"The date %Y-%m-%d was a %A and it was very good weather at %H:%M\")"
   ]
  },
  {
   "cell_type": "code",
   "execution_count": null,
   "id": "2d323a65",
   "metadata": {},
   "outputs": [],
   "source": [
    "tijdstip"
   ]
  },
  {
   "cell_type": "code",
   "execution_count": null,
   "id": "7aef93dc",
   "metadata": {},
   "outputs": [],
   "source": [
    "import astropy"
   ]
  },
  {
   "cell_type": "code",
   "execution_count": null,
   "id": "b7af0798",
   "metadata": {},
   "outputs": [],
   "source": [
    "now_datetime = datetime.datetime.now()\n",
    "now_datetime.strftime(\"Het is nu %A\")"
   ]
  },
  {
   "cell_type": "code",
   "execution_count": null,
   "id": "c6a623b4",
   "metadata": {},
   "outputs": [],
   "source": [
    "datetime.datetime.today()"
   ]
  },
  {
   "cell_type": "code",
   "execution_count": null,
   "id": "940e25ef",
   "metadata": {},
   "outputs": [],
   "source": [
    "tomorrow = datetime.datetime.now() + datetime.timedelta(days = 1, hours = 2)\n",
    "print(tomorrow.strftime(\"Tomorrow it will be %A, %HHOPPELDEPOPPELDE%M\"))"
   ]
  },
  {
   "cell_type": "code",
   "execution_count": null,
   "id": "265cc26a",
   "metadata": {},
   "outputs": [],
   "source": [
    "f\"Tomorrow it will be {tomorrow.strftime('%A')}\""
   ]
  },
  {
   "cell_type": "code",
   "execution_count": null,
   "id": "155d88bc",
   "metadata": {},
   "outputs": [],
   "source": [
    "today = datetime.datetime.today()\n",
    "tomorrow = today + datetime.timedelta(days = 5)"
   ]
  },
  {
   "cell_type": "code",
   "execution_count": null,
   "id": "8e012d89",
   "metadata": {},
   "outputs": [],
   "source": [
    "today = datetime.datetime.today()\n",
    "today_in_20_days = today + datetime.timedelta(days = 60)\n",
    "\n",
    "print(today_in_20_days - today)"
   ]
  },
  {
   "cell_type": "code",
   "execution_count": null,
   "id": "9da5b1fb",
   "metadata": {},
   "outputs": [],
   "source": [
    "today"
   ]
  },
  {
   "cell_type": "code",
   "execution_count": null,
   "id": "ecbe8e88",
   "metadata": {},
   "outputs": [],
   "source": [
    "from datetime import datetime\n",
    "\n",
    "# Define summertime and wintertime dates\n",
    "summertime_date = datetime(2023, 6, 21)  # For example, June 21st\n",
    "wintertime_date = datetime(2023, 12, 21)  # For example, December 21st\n",
    "\n",
    "# Calculate the time difference\n",
    "time_difference = wintertime_date - summertime_date\n",
    "\n",
    "# Convert the time difference to days, seconds, or other units as needed\n",
    "days_difference = time_difference.days\n",
    "seconds_difference = time_difference.total_seconds()\n",
    "\n",
    "print(f\"Time difference between summertime and wintertime: {days_difference} days or {seconds_difference} seconds\")\n"
   ]
  },
  {
   "cell_type": "code",
   "execution_count": null,
   "id": "bcedb7bd",
   "metadata": {},
   "outputs": [],
   "source": [
    "import pytz"
   ]
  },
  {
   "cell_type": "code",
   "execution_count": null,
   "id": "74bcd1e2",
   "metadata": {},
   "outputs": [],
   "source": [
    "now = utc.localize(datetime.datetime.utcnow())"
   ]
  },
  {
   "cell_type": "code",
   "execution_count": null,
   "id": "f04bfb85",
   "metadata": {},
   "outputs": [],
   "source": [
    "date_now = datetime.today()\n",
    "date_now.strftime(\"!%Y|_|%m|_|%d!\")"
   ]
  },
  {
   "cell_type": "code",
   "execution_count": 6,
   "id": "c3312baf",
   "metadata": {},
   "outputs": [
    {
     "name": "stdout",
     "output_type": "stream",
     "text": [
      "Geef een datum in d-m-Y12-12-2012\n",
      "2012-12-12\n"
     ]
    }
   ],
   "source": [
    "date_given_str = input(\"Geef een datum in d-m-Y\")\n",
    "date_given = datetime.datetime.strptime(date_given_str, '%d-%m-%Y')\n",
    "print(date_given.strftime('%Y-%m-%d'))"
   ]
  },
  {
   "cell_type": "code",
   "execution_count": 32,
   "id": "46bb7c5b",
   "metadata": {},
   "outputs": [
    {
     "name": "stdout",
     "output_type": "stream",
     "text": [
      "time data '12/12/2012' does not match format '%d-%m-%Y'\n"
     ]
    },
    {
     "data": {
      "text/plain": [
       "True"
      ]
     },
     "execution_count": 32,
     "metadata": {},
     "output_type": "execute_result"
    }
   ],
   "source": [
    "date_formats = ['%d-%m-%Y', '%d/%m/%Y']\n",
    "date_input = '12/12/2012'\n",
    "found_it = False\n",
    "\n",
    "for n, date_format in enumerate(date_formats):\n",
    "    try:\n",
    "        date_obj = datetime.datetime.strptime(date_input, date_formats[n])\n",
    "        found_it = True\n",
    "        break\n",
    "    except ValueError as naampje:\n",
    "        print(naampje)\n",
    "    finally:\n",
    "        pass\n",
    "        \n",
    "found_it"
   ]
  },
  {
   "cell_type": "code",
   "execution_count": 29,
   "id": "fe496d83",
   "metadata": {},
   "outputs": [
    {
     "ename": "ValueError",
     "evalue": "time data '12/12/2012' does not match format '%Y'",
     "output_type": "error",
     "traceback": [
      "\u001b[1;31m---------------------------------------------------------------------------\u001b[0m",
      "\u001b[1;31mValueError\u001b[0m                                Traceback (most recent call last)",
      "\u001b[1;32m~\\AppData\\Local\\Temp\\ipykernel_804\\2168802024.py\u001b[0m in \u001b[0;36m<module>\u001b[1;34m\u001b[0m\n\u001b[1;32m----> 1\u001b[1;33m \u001b[0mdatetime\u001b[0m\u001b[1;33m.\u001b[0m\u001b[0mdatetime\u001b[0m\u001b[1;33m.\u001b[0m\u001b[0mstrptime\u001b[0m\u001b[1;33m(\u001b[0m\u001b[0mdate_input\u001b[0m\u001b[1;33m,\u001b[0m \u001b[1;34m'%Y'\u001b[0m\u001b[1;33m)\u001b[0m\u001b[1;33m\u001b[0m\u001b[1;33m\u001b[0m\u001b[0m\n\u001b[0m",
      "\u001b[1;32m~\\Anaconda3\\lib\\_strptime.py\u001b[0m in \u001b[0;36m_strptime_datetime\u001b[1;34m(cls, data_string, format)\u001b[0m\n\u001b[0;32m    566\u001b[0m     \"\"\"Return a class cls instance based on the input string and the\n\u001b[0;32m    567\u001b[0m     format string.\"\"\"\n\u001b[1;32m--> 568\u001b[1;33m     \u001b[0mtt\u001b[0m\u001b[1;33m,\u001b[0m \u001b[0mfraction\u001b[0m\u001b[1;33m,\u001b[0m \u001b[0mgmtoff_fraction\u001b[0m \u001b[1;33m=\u001b[0m \u001b[0m_strptime\u001b[0m\u001b[1;33m(\u001b[0m\u001b[0mdata_string\u001b[0m\u001b[1;33m,\u001b[0m \u001b[0mformat\u001b[0m\u001b[1;33m)\u001b[0m\u001b[1;33m\u001b[0m\u001b[1;33m\u001b[0m\u001b[0m\n\u001b[0m\u001b[0;32m    569\u001b[0m     \u001b[0mtzname\u001b[0m\u001b[1;33m,\u001b[0m \u001b[0mgmtoff\u001b[0m \u001b[1;33m=\u001b[0m \u001b[0mtt\u001b[0m\u001b[1;33m[\u001b[0m\u001b[1;33m-\u001b[0m\u001b[1;36m2\u001b[0m\u001b[1;33m:\u001b[0m\u001b[1;33m]\u001b[0m\u001b[1;33m\u001b[0m\u001b[1;33m\u001b[0m\u001b[0m\n\u001b[0;32m    570\u001b[0m     \u001b[0margs\u001b[0m \u001b[1;33m=\u001b[0m \u001b[0mtt\u001b[0m\u001b[1;33m[\u001b[0m\u001b[1;33m:\u001b[0m\u001b[1;36m6\u001b[0m\u001b[1;33m]\u001b[0m \u001b[1;33m+\u001b[0m \u001b[1;33m(\u001b[0m\u001b[0mfraction\u001b[0m\u001b[1;33m,\u001b[0m\u001b[1;33m)\u001b[0m\u001b[1;33m\u001b[0m\u001b[1;33m\u001b[0m\u001b[0m\n",
      "\u001b[1;32m~\\Anaconda3\\lib\\_strptime.py\u001b[0m in \u001b[0;36m_strptime\u001b[1;34m(data_string, format)\u001b[0m\n\u001b[0;32m    347\u001b[0m     \u001b[0mfound\u001b[0m \u001b[1;33m=\u001b[0m \u001b[0mformat_regex\u001b[0m\u001b[1;33m.\u001b[0m\u001b[0mmatch\u001b[0m\u001b[1;33m(\u001b[0m\u001b[0mdata_string\u001b[0m\u001b[1;33m)\u001b[0m\u001b[1;33m\u001b[0m\u001b[1;33m\u001b[0m\u001b[0m\n\u001b[0;32m    348\u001b[0m     \u001b[1;32mif\u001b[0m \u001b[1;32mnot\u001b[0m \u001b[0mfound\u001b[0m\u001b[1;33m:\u001b[0m\u001b[1;33m\u001b[0m\u001b[1;33m\u001b[0m\u001b[0m\n\u001b[1;32m--> 349\u001b[1;33m         raise ValueError(\"time data %r does not match format %r\" %\n\u001b[0m\u001b[0;32m    350\u001b[0m                          (data_string, format))\n\u001b[0;32m    351\u001b[0m     \u001b[1;32mif\u001b[0m \u001b[0mlen\u001b[0m\u001b[1;33m(\u001b[0m\u001b[0mdata_string\u001b[0m\u001b[1;33m)\u001b[0m \u001b[1;33m!=\u001b[0m \u001b[0mfound\u001b[0m\u001b[1;33m.\u001b[0m\u001b[0mend\u001b[0m\u001b[1;33m(\u001b[0m\u001b[1;33m)\u001b[0m\u001b[1;33m:\u001b[0m\u001b[1;33m\u001b[0m\u001b[1;33m\u001b[0m\u001b[0m\n",
      "\u001b[1;31mValueError\u001b[0m: time data '12/12/2012' does not match format '%Y'"
     ]
    }
   ],
   "source": [
    "datetime.datetime.strptime(date_input, '%Y')"
   ]
  },
  {
   "cell_type": "code",
   "execution_count": 33,
   "id": "4dfd81a2",
   "metadata": {},
   "outputs": [],
   "source": [
    "import time"
   ]
  },
  {
   "cell_type": "code",
   "execution_count": 40,
   "id": "a62d0fca",
   "metadata": {},
   "outputs": [
    {
     "data": {
      "text/plain": [
       "1697548173.1192575"
      ]
     },
     "execution_count": 40,
     "metadata": {},
     "output_type": "execute_result"
    }
   ],
   "source": [
    "time.time()"
   ]
  },
  {
   "cell_type": "code",
   "execution_count": 41,
   "id": "6a49321e",
   "metadata": {},
   "outputs": [
    {
     "data": {
      "text/plain": [
       "datetime.datetime(2023, 10, 17, 15, 9, 33, 331835)"
      ]
     },
     "execution_count": 41,
     "metadata": {},
     "output_type": "execute_result"
    }
   ],
   "source": [
    "datetime.datetime.now()"
   ]
  },
  {
   "cell_type": "code",
   "execution_count": null,
   "id": "82ba478b",
   "metadata": {},
   "outputs": [],
   "source": []
  },
  {
   "cell_type": "code",
   "execution_count": 42,
   "id": "b88aa7f2",
   "metadata": {},
   "outputs": [],
   "source": [
    "import time\n",
    "import datetime"
   ]
  },
  {
   "cell_type": "markdown",
   "id": "af19cd6f",
   "metadata": {},
   "source": [
    "## Method 1 : all in seconds"
   ]
  },
  {
   "cell_type": "code",
   "execution_count": 56,
   "id": "56a23ee8",
   "metadata": {},
   "outputs": [
    {
     "name": "stdout",
     "output_type": "stream",
     "text": [
      "-0.0003571510314941406\n"
     ]
    }
   ],
   "source": [
    "today = datetime.datetime.now()\n",
    "start = datetime.datetime(1970, 1, 1, 2)\n",
    "datetime_delta_seconds = (today - start).total_seconds()\n",
    "\n",
    "time_seconds = time.time()\n",
    "\n",
    "print(datetime_delta_seconds - time_seconds)"
   ]
  },
  {
   "cell_type": "markdown",
   "id": "63a81c48",
   "metadata": {},
   "source": [
    "## Method 2: all to dates"
   ]
  },
  {
   "cell_type": "code",
   "execution_count": 57,
   "id": "099e66fb",
   "metadata": {},
   "outputs": [],
   "source": [
    "today = datetime.datetime.now()\n",
    "start = datetime.datetime(1970, 1, 1, 2)\n",
    "today_time = start + datetime.timedelta(seconds = time.time())"
   ]
  },
  {
   "cell_type": "code",
   "execution_count": 58,
   "id": "a4281c85",
   "metadata": {},
   "outputs": [
    {
     "data": {
      "text/plain": [
       "datetime.timedelta(microseconds=1)"
      ]
     },
     "execution_count": 58,
     "metadata": {},
     "output_type": "execute_result"
    }
   ],
   "source": [
    "today_time - today"
   ]
  },
  {
   "cell_type": "code",
   "execution_count": 67,
   "id": "0729d434",
   "metadata": {},
   "outputs": [],
   "source": [
    "def fun(x):\n",
    "    \"\"\"\n",
    "    Dit is een docstring\n",
    "    \"\"\"\n",
    "    return x**2"
   ]
  },
  {
   "cell_type": "code",
   "execution_count": 68,
   "id": "a13edfc6",
   "metadata": {},
   "outputs": [],
   "source": [
    "fun?"
   ]
  },
  {
   "cell_type": "code",
   "execution_count": 78,
   "id": "ec3f3eb3",
   "metadata": {},
   "outputs": [
    {
     "name": "stdout",
     "output_type": "stream",
     "text": [
      "2.0\n"
     ]
    }
   ],
   "source": [
    "def calculate_mean(numbers : list) -> float:\n",
    "    sum_num = sum(numbers)\n",
    "    average = sum_num / len(numbers)\n",
    "    return average\n",
    "\n",
    "scores = [1, 2, 3]\n",
    "average_score = calculate_mean(scores)\n",
    "print(average_score)"
   ]
  },
  {
   "cell_type": "code",
   "execution_count": 79,
   "id": "9377b8d0",
   "metadata": {},
   "outputs": [],
   "source": [
    "calculate_mean?"
   ]
  },
  {
   "cell_type": "code",
   "execution_count": 75,
   "id": "dc6f656a",
   "metadata": {},
   "outputs": [
    {
     "ename": "NameError",
     "evalue": "name 'sum_num' is not defined",
     "output_type": "error",
     "traceback": [
      "\u001b[1;31m---------------------------------------------------------------------------\u001b[0m",
      "\u001b[1;31mNameError\u001b[0m                                 Traceback (most recent call last)",
      "\u001b[1;32m~\\AppData\\Local\\Temp\\ipykernel_804\\3462632929.py\u001b[0m in \u001b[0;36m<module>\u001b[1;34m\u001b[0m\n\u001b[1;32m----> 1\u001b[1;33m \u001b[0msum_num\u001b[0m\u001b[1;33m\u001b[0m\u001b[1;33m\u001b[0m\u001b[0m\n\u001b[0m",
      "\u001b[1;31mNameError\u001b[0m: name 'sum_num' is not defined"
     ]
    }
   ],
   "source": [
    "sum_num"
   ]
  },
  {
   "cell_type": "code",
   "execution_count": 92,
   "id": "8aa11bbe",
   "metadata": {},
   "outputs": [
    {
     "name": "stdout",
     "output_type": "stream",
     "text": [
      "age: 16 | name: Tim\n"
     ]
    }
   ],
   "source": [
    "def fun(age, name):\n",
    "    print(f\"age: {age} | name: {name}\")\n",
    "    return 1, 2, 3\n",
    "    \n",
    "a, b, c = fun(16, name = \"Tim\")"
   ]
  },
  {
   "cell_type": "code",
   "execution_count": 97,
   "id": "6127e998",
   "metadata": {},
   "outputs": [],
   "source": [
    "lst = [1, 2, 3]\n",
    "\n",
    "def fun(qq):\n",
    "    qq[1] = 100\n",
    "    return"
   ]
  },
  {
   "cell_type": "code",
   "execution_count": 98,
   "id": "a8187bb8",
   "metadata": {},
   "outputs": [
    {
     "name": "stdout",
     "output_type": "stream",
     "text": [
      "[1, 2, 3]\n",
      "[1, 100, 3]\n"
     ]
    }
   ],
   "source": [
    "print(lst)\n",
    "fun(lst)\n",
    "print(lst)"
   ]
  },
  {
   "cell_type": "code",
   "execution_count": 95,
   "id": "3f060d86",
   "metadata": {},
   "outputs": [
    {
     "data": {
      "text/plain": [
       "3"
      ]
     },
     "execution_count": 95,
     "metadata": {},
     "output_type": "execute_result"
    }
   ],
   "source": [
    "c"
   ]
  },
  {
   "cell_type": "code",
   "execution_count": 105,
   "id": "eff69843",
   "metadata": {},
   "outputs": [
    {
     "name": "stdout",
     "output_type": "stream",
     "text": [
      "<class 'tuple'>\n"
     ]
    }
   ],
   "source": [
    "def fun(a, b, c, *qw):\n",
    "    print(type(qw))\n",
    "    \n",
    "fun(1,2,3,12,324,124,214,421,12,412,124,41,24)"
   ]
  },
  {
   "cell_type": "code",
   "execution_count": 9,
   "id": "6670292a",
   "metadata": {},
   "outputs": [
    {
     "name": "stderr",
     "output_type": "stream",
     "text": [
      "ic| num_apples: 5\n",
      "ic| eat_an_apple(num_apples): 4\n",
      "ic| num_apples: 4\n",
      "ic| eat_an_apple(num_apples): 3\n",
      "ic| num_apples: 3\n",
      "ic| eat_an_apple(num_apples): 2\n",
      "ic| num_apples: 2\n",
      "ic| eat_an_apple(num_apples): 1\n",
      "ic| num_apples: 1\n",
      "ic| eat_an_apple(num_apples): 0\n",
      "ic| num_apples: 0\n",
      "ic| eat_an_apple(num_apples): 0\n",
      "ic| num_apples: 0\n",
      "ic| eat_an_apple(num_apples): 0\n",
      "ic| num_apples: 0\n",
      "ic| eat_an_apple(num_apples): 0\n",
      "ic| num_apples: 0\n",
      "ic| eat_an_apple(num_apples): 0\n",
      "ic| num_apples: 0\n",
      "ic| eat_an_apple(num_apples): 0\n"
     ]
    },
    {
     "name": "stdout",
     "output_type": "stream",
     "text": [
      "No apples left!\n",
      "No apples left!\n",
      "No apples left!\n",
      "No apples left!\n",
      "No apples left!\n"
     ]
    }
   ],
   "source": [
    "from icecream import ic\n",
    "\n",
    "def eat_an_apple(num_apples):\n",
    "    \"\"\"\n",
    "    Dit is een docstring die uitleg geeft over de functie eat_an_apple\n",
    "    \"\"\"\n",
    "    if num_apples <= 0:\n",
    "        print(\"No apples left!\")\n",
    "        return num_apples\n",
    "    num_apples -= 1\n",
    "    return num_apples\n",
    "\n",
    "num_apples = 5\n",
    "for i in range(10):\n",
    "    ic(num_apples)\n",
    "    num_apples = ic(eat_an_apple(num_apples))"
   ]
  },
  {
   "cell_type": "code",
   "execution_count": 10,
   "id": "47a8ca64",
   "metadata": {},
   "outputs": [],
   "source": [
    "num_apples?"
   ]
  },
  {
   "cell_type": "code",
   "execution_count": 12,
   "id": "cf0a18d5",
   "metadata": {},
   "outputs": [],
   "source": [
    "import math"
   ]
  },
  {
   "cell_type": "code",
   "execution_count": 18,
   "id": "3bfe165c",
   "metadata": {},
   "outputs": [],
   "source": [
    "import numpy as np\n",
    "np.round??"
   ]
  },
  {
   "cell_type": "code",
   "execution_count": 19,
   "id": "b43c59ee",
   "metadata": {},
   "outputs": [],
   "source": [
    "len??"
   ]
  },
  {
   "cell_type": "code",
   "execution_count": 20,
   "id": "d96ab6b7",
   "metadata": {},
   "outputs": [],
   "source": [
    "x = 1\n",
    "x = 'paard'"
   ]
  },
  {
   "cell_type": "code",
   "execution_count": 21,
   "id": "36268a91",
   "metadata": {},
   "outputs": [
    {
     "data": {
      "text/plain": [
       "str"
      ]
     },
     "execution_count": 21,
     "metadata": {},
     "output_type": "execute_result"
    }
   ],
   "source": [
    "type(x)"
   ]
  },
  {
   "cell_type": "code",
   "execution_count": 22,
   "id": "63a91fe8",
   "metadata": {},
   "outputs": [],
   "source": [
    "student_name = \"Tim\""
   ]
  },
  {
   "cell_type": "code",
   "execution_count": 23,
   "id": "0ae77da2",
   "metadata": {},
   "outputs": [],
   "source": [
    "PI = 3.1415\n",
    "PLANCK = 1.24632183 * 10 ** (-18)\n",
    "RED = (235, 10, 3)"
   ]
  },
  {
   "cell_type": "code",
   "execution_count": 29,
   "id": "36efae10",
   "metadata": {},
   "outputs": [
    {
     "data": {
      "text/plain": [
       "6"
      ]
     },
     "execution_count": 29,
     "metadata": {},
     "output_type": "execute_result"
    }
   ],
   "source": [
    "sum([1,2,3])"
   ]
  },
  {
   "cell_type": "code",
   "execution_count": 25,
   "id": "28c317c7",
   "metadata": {},
   "outputs": [],
   "source": [
    "sum = 1 + 2"
   ]
  },
  {
   "cell_type": "code",
   "execution_count": 28,
   "id": "3694d9c3",
   "metadata": {},
   "outputs": [],
   "source": [
    "# Correct:\n",
    "# easy to match operators with operands\n",
    "income = (gross_wages +\n",
    "          taxable_interest +\n",
    "          (dividends - qualified_dividends) -\n",
    "          ira_deduction -\n",
    "          student_loan_interest)"
   ]
  },
  {
   "cell_type": "code",
   "execution_count": 46,
   "id": "1fb8bc2c",
   "metadata": {},
   "outputs": [
    {
     "data": {
      "text/plain": [
       "True"
      ]
     },
     "execution_count": 46,
     "metadata": {},
     "output_type": "execute_result"
    }
   ],
   "source": [
    "(13 % 4)"
   ]
  },
  {
   "cell_type": "code",
   "execution_count": 61,
   "id": "0c775ef1",
   "metadata": {},
   "outputs": [],
   "source": [
    "this_very_long_variable += 1"
   ]
  },
  {
   "cell_type": "code",
   "execution_count": 68,
   "id": "f2318a86",
   "metadata": {},
   "outputs": [
    {
     "name": "stdout",
     "output_type": "stream",
     "text": [
      "Hallo, Jeffrey, proficiat met je 99 leeftijd!\n"
     ]
    }
   ],
   "source": [
    "naam = \"Jeffrey\"\n",
    "age = 99\n",
    "print(f\"Hallo, {naam}, proficiat met je {age} leeftijd!\")"
   ]
  },
  {
   "cell_type": "code",
   "execution_count": 73,
   "id": "0d5c1e6a",
   "metadata": {},
   "outputs": [
    {
     "name": "stdout",
     "output_type": "stream",
     "text": [
      "Niet gelijk!\n"
     ]
    }
   ],
   "source": [
    "eps = 10 ** (-8)\n",
    "\n",
    "if np.abs(0.1 + 0.1 + 0.1001 - 0.3) > eps:\n",
    "    print(\"Niet gelijk!\")"
   ]
  },
  {
   "cell_type": "code",
   "execution_count": 72,
   "id": "b8102b63",
   "metadata": {},
   "outputs": [
    {
     "data": {
      "text/plain": [
       "5.551115123125783e-17"
      ]
     },
     "execution_count": 72,
     "metadata": {},
     "output_type": "execute_result"
    }
   ],
   "source": [
    "np.abs(0.1 + 0.1 + 0.1 - 0.3)"
   ]
  },
  {
   "cell_type": "code",
   "execution_count": 74,
   "id": "5c12f3fc",
   "metadata": {},
   "outputs": [
    {
     "data": {
      "text/plain": [
       "False"
      ]
     },
     "execution_count": 74,
     "metadata": {},
     "output_type": "execute_result"
    }
   ],
   "source": [
    "(1 == 1) and (2 == 2) and not (3 == 2 or 5 == 5)"
   ]
  },
  {
   "cell_type": "code",
   "execution_count": 75,
   "id": "e78cbd2b",
   "metadata": {},
   "outputs": [
    {
     "data": {
      "text/plain": [
       "True"
      ]
     },
     "execution_count": 75,
     "metadata": {},
     "output_type": "execute_result"
    }
   ],
   "source": [
    "1 in [1,2,3]"
   ]
  },
  {
   "cell_type": "code",
   "execution_count": 78,
   "id": "887eafb8",
   "metadata": {},
   "outputs": [
    {
     "data": {
      "text/plain": [
       "True"
      ]
     },
     "execution_count": 78,
     "metadata": {},
     "output_type": "execute_result"
    }
   ],
   "source": [
    "'bc' in 'abc'"
   ]
  },
  {
   "cell_type": "code",
   "execution_count": 83,
   "id": "ea04f8a3",
   "metadata": {},
   "outputs": [
    {
     "name": "stdout",
     "output_type": "stream",
     "text": [
      "Dit neemt input aan7\n"
     ]
    }
   ],
   "source": [
    "x = int(input(\"Dit neemt input aan\"))"
   ]
  },
  {
   "cell_type": "code",
   "execution_count": 85,
   "id": "2e9abb09",
   "metadata": {},
   "outputs": [
    {
     "data": {
      "text/plain": [
       "7"
      ]
     },
     "execution_count": 85,
     "metadata": {},
     "output_type": "execute_result"
    }
   ],
   "source": [
    "x"
   ]
  },
  {
   "cell_type": "code",
   "execution_count": 86,
   "id": "f4827813",
   "metadata": {},
   "outputs": [
    {
     "name": "stdout",
     "output_type": "stream",
     "text": [
      "Geef teller123\n",
      "Geef noemer7\n",
      "123 = 17 * 7 + 4\n"
     ]
    }
   ],
   "source": [
    "teller = int(input(\"Geef teller\"))\n",
    "noemer = int(input(\"Geef noemer\"))\n",
    "\n",
    "int_deling = teller // noemer\n",
    "rest = teller % noemer\n",
    "\n",
    "print(f\"{teller} = {int_deling} * {noemer} + {rest}\")"
   ]
  },
  {
   "cell_type": "code",
   "execution_count": 87,
   "id": "ac06103c",
   "metadata": {},
   "outputs": [
    {
     "data": {
      "text/plain": [
       "123"
      ]
     },
     "execution_count": 87,
     "metadata": {},
     "output_type": "execute_result"
    }
   ],
   "source": [
    "17*7+4"
   ]
  },
  {
   "cell_type": "code",
   "execution_count": 92,
   "id": "80f25275",
   "metadata": {},
   "outputs": [
    {
     "name": "stdout",
     "output_type": "stream",
     "text": [
      "tis 0!\n"
     ]
    }
   ],
   "source": [
    "x = 0\n",
    "if x > 0:\n",
    "    print('pos')\n",
    "elif x < 0:\n",
    "    print('neg')\n",
    "else:\n",
    "    print('tis 0!')"
   ]
  },
  {
   "cell_type": "code",
   "execution_count": 93,
   "id": "e9252770",
   "metadata": {},
   "outputs": [],
   "source": [
    "u = (\"even\" if x % 2 == 0 else \"odd\")\n",
    "\n",
    "if x % 2 == 0:\n",
    "    u = \"even\"\n",
    "else:\n",
    "    u = \"odd\""
   ]
  },
  {
   "cell_type": "code",
   "execution_count": 94,
   "id": "0a715752",
   "metadata": {},
   "outputs": [
    {
     "name": "stdout",
     "output_type": "stream",
     "text": [
      "Leeftijd?\n",
      "65\n",
      "Senior\n"
     ]
    }
   ],
   "source": [
    "leeftijd = int(input(\"Leeftijd?\\n\"))\n",
    "if leeftijd <= 18:\n",
    "    print(\"Minderjarig\")\n",
    "elif leeftijd <= 64:\n",
    "    print(\"Meerderjarig\")\n",
    "else:\n",
    "    print(\"Senior\")"
   ]
  },
  {
   "cell_type": "code",
   "execution_count": 95,
   "id": "dc32d676",
   "metadata": {},
   "outputs": [
    {
     "name": "stdout",
     "output_type": "stream",
     "text": [
      "Cijfer?77\n",
      "B\n"
     ]
    }
   ],
   "source": [
    "cijfer = int(input(\"Cijfer?\"))\n",
    "if cijfer < 50:\n",
    "    print(\"N\")\n",
    "elif cijfer < 60:\n",
    "    print(\"D\")\n",
    "elif cijfer < 70:\n",
    "    print(\"C\")\n",
    "elif cijfer < 80:\n",
    "    print(\"B\")\n",
    "else:\n",
    "    print(\"A\")"
   ]
  },
  {
   "cell_type": "code",
   "execution_count": 96,
   "id": "5e482f6a",
   "metadata": {},
   "outputs": [],
   "source": [
    "weekdays = {\n",
    "    1 : 'maandag',\n",
    "    2 : 'dinsdag',\n",
    "    3 : 'woensdag',\n",
    "    4 : 'donderdag',\n",
    "    5 : 'vrijdag',\n",
    "    6 : 'zaterdag',\n",
    "    7 : 'zondag'\n",
    "}"
   ]
  },
  {
   "cell_type": "code",
   "execution_count": 102,
   "id": "0bb51956",
   "metadata": {},
   "outputs": [
    {
     "data": {
      "text/plain": [
       "'vrijdag'"
      ]
     },
     "execution_count": 102,
     "metadata": {},
     "output_type": "execute_result"
    }
   ],
   "source": [
    "weekdays[5]"
   ]
  },
  {
   "cell_type": "code",
   "execution_count": 103,
   "id": "db5d8a2a",
   "metadata": {},
   "outputs": [
    {
     "name": "stdout",
     "output_type": "stream",
     "text": [
      "Geef een letter\n",
      "a\n",
      "Kleine letter\n"
     ]
    }
   ],
   "source": [
    "letter = input(\"Geef een letter\\n\")\n",
    "print(f\"{'Kleine ' if letter.islower() else 'Hoofd'}letter\")"
   ]
  },
  {
   "cell_type": "code",
   "execution_count": 104,
   "id": "b78bca02",
   "metadata": {},
   "outputs": [],
   "source": [
    "letter."
   ]
  },
  {
   "cell_type": "code",
   "execution_count": 106,
   "id": "7016f9ce",
   "metadata": {},
   "outputs": [],
   "source": [
    "ihsdfbsdhufuos = 'a'"
   ]
  },
  {
   "cell_type": "code",
   "execution_count": 109,
   "id": "dce60089",
   "metadata": {},
   "outputs": [
    {
     "name": "stdout",
     "output_type": "stream",
     "text": [
      "dit\\nis\\neen\\nstring\n"
     ]
    }
   ],
   "source": [
    "lol = r\"dit\\nis\\neen\\nstring\"\n",
    "print(lol)"
   ]
  },
  {
   "cell_type": "code",
   "execution_count": 123,
   "id": "11ef5daf",
   "metadata": {},
   "outputs": [],
   "source": [
    "a = list(range(1, 100, 12))"
   ]
  },
  {
   "cell_type": "code",
   "execution_count": 137,
   "id": "756f4586",
   "metadata": {},
   "outputs": [
    {
     "data": {
      "text/plain": [
       "[]"
      ]
     },
     "execution_count": 137,
     "metadata": {},
     "output_type": "execute_result"
    }
   ],
   "source": [
    "a[-3:2:2]"
   ]
  },
  {
   "cell_type": "code",
   "execution_count": 141,
   "id": "c927eace",
   "metadata": {},
   "outputs": [
    {
     "data": {
      "text/plain": [
       "[10, 13, 25, 37, 49, 61, 73, 85, 97]"
      ]
     },
     "execution_count": 141,
     "metadata": {},
     "output_type": "execute_result"
    }
   ],
   "source": [
    "a"
   ]
  },
  {
   "cell_type": "code",
   "execution_count": 142,
   "id": "b1a11c40",
   "metadata": {},
   "outputs": [],
   "source": [
    "t = (1,2,3)"
   ]
  },
  {
   "cell_type": "code",
   "execution_count": 145,
   "id": "a35a490a",
   "metadata": {},
   "outputs": [],
   "source": [
    "lijst = [1,5,2,3,9,2]"
   ]
  },
  {
   "cell_type": "code",
   "execution_count": 149,
   "id": "54b3fde1",
   "metadata": {},
   "outputs": [],
   "source": [
    "lijst.sort()"
   ]
  },
  {
   "cell_type": "code",
   "execution_count": 163,
   "id": "7b1f68d0",
   "metadata": {},
   "outputs": [
    {
     "data": {
      "text/plain": [
       "[1, 2, 2, 5, 1]"
      ]
     },
     "execution_count": 163,
     "metadata": {},
     "output_type": "execute_result"
    }
   ],
   "source": [
    "lijst"
   ]
  },
  {
   "cell_type": "code",
   "execution_count": 164,
   "id": "2b4c4960",
   "metadata": {},
   "outputs": [],
   "source": [
    "a = [1,2,3]"
   ]
  },
  {
   "cell_type": "code",
   "execution_count": 169,
   "id": "d02c3c0f",
   "metadata": {},
   "outputs": [],
   "source": [
    "lijst.append(lijst)"
   ]
  },
  {
   "cell_type": "code",
   "execution_count": 173,
   "id": "dfe4724e",
   "metadata": {},
   "outputs": [],
   "source": [
    "a = [1,2]\n",
    "a.extend(a)"
   ]
  },
  {
   "cell_type": "code",
   "execution_count": 174,
   "id": "e37b62cc",
   "metadata": {},
   "outputs": [
    {
     "data": {
      "text/plain": [
       "[1, 2, 1, 2]"
      ]
     },
     "execution_count": 174,
     "metadata": {},
     "output_type": "execute_result"
    }
   ],
   "source": [
    "a"
   ]
  },
  {
   "cell_type": "code",
   "execution_count": 178,
   "id": "9f17408c",
   "metadata": {},
   "outputs": [
    {
     "data": {
      "text/plain": [
       "{0, 4, 16, 36, 64}"
      ]
     },
     "execution_count": 178,
     "metadata": {},
     "output_type": "execute_result"
    }
   ],
   "source": [
    "set([x**2 for x in range(10) if x % 2 == 0])"
   ]
  },
  {
   "cell_type": "code",
   "execution_count": null,
   "id": "e28bd281",
   "metadata": {},
   "outputs": [],
   "source": [
    "lijst = list()\n",
    "for x in range(10):\n",
    "    if x % 2 == 0:\n",
    "        lijst.append(x**2)"
   ]
  },
  {
   "cell_type": "code",
   "execution_count": 181,
   "id": "85e9ce70",
   "metadata": {},
   "outputs": [],
   "source": [
    "testdict = {'appel' : 1, \n",
    "                'banaan' : 2, \n",
    "                'mango' : 5}\n"
   ]
  },
  {
   "cell_type": "code",
   "execution_count": 182,
   "id": "fe01017c",
   "metadata": {},
   "outputs": [],
   "source": [
    "testdict['peer'] = 1"
   ]
  },
  {
   "cell_type": "code",
   "execution_count": 187,
   "id": "b2927e11",
   "metadata": {},
   "outputs": [
    {
     "name": "stdout",
     "output_type": "stream",
     "text": [
      "appel 1\n",
      "banaan 2\n",
      "mango 5\n",
      "peer 1\n"
     ]
    }
   ],
   "source": [
    "for key in testdict:\n",
    "    print(key, testdict[key])"
   ]
  },
  {
   "cell_type": "code",
   "execution_count": 190,
   "id": "be33b601",
   "metadata": {},
   "outputs": [
    {
     "data": {
      "text/plain": [
       "{1: 1, 2: 4}"
      ]
     },
     "execution_count": 190,
     "metadata": {},
     "output_type": "execute_result"
    }
   ],
   "source": [
    "{x : x**2 for x in [1,2,1]}"
   ]
  },
  {
   "cell_type": "code",
   "execution_count": 191,
   "id": "2b4fe3ce",
   "metadata": {},
   "outputs": [],
   "source": [
    "testdict['mango'] = 'p'"
   ]
  },
  {
   "cell_type": "code",
   "execution_count": 192,
   "id": "8a985076",
   "metadata": {},
   "outputs": [
    {
     "data": {
      "text/plain": [
       "{'appel': 1, 'banaan': 2, 'mango': 'p', 'peer': 1}"
      ]
     },
     "execution_count": 192,
     "metadata": {},
     "output_type": "execute_result"
    }
   ],
   "source": [
    "testdict"
   ]
  },
  {
   "cell_type": "code",
   "execution_count": 201,
   "id": "a360bbc6",
   "metadata": {},
   "outputs": [],
   "source": [
    "info = dict()\n",
    "info[('appel', 'Jumbo')] = {'prijs' : 1.23, 'kleur' : 'rood'}\n",
    "info[('appel', 'Delhaize')] = {'prijs' : 1.33, 'kleur' : 'groen'}"
   ]
  },
  {
   "cell_type": "code",
   "execution_count": 199,
   "id": "10f183b5",
   "metadata": {},
   "outputs": [
    {
     "data": {
      "text/plain": [
       "{('appel', 'Jumbo'): {'prijs': 1.23, 'kleur': 'rood'},\n",
       " ('appel', 'Delhaize'): {'prijs': 1.33, 'kleur': 'groen'}}"
      ]
     },
     "execution_count": 199,
     "metadata": {},
     "output_type": "execute_result"
    }
   ],
   "source": [
    "info"
   ]
  },
  {
   "cell_type": "markdown",
   "id": "624e9fab",
   "metadata": {},
   "source": [
    "## Les functies klasses etc."
   ]
  },
  {
   "cell_type": "code",
   "execution_count": 1,
   "id": "1a879b2b",
   "metadata": {},
   "outputs": [],
   "source": [
    "def fun(a):\n",
    "    \"\"\"\n",
    "    DIt is een docstring\n",
    "    \"\"\"\n",
    "    return a**2"
   ]
  },
  {
   "cell_type": "code",
   "execution_count": 11,
   "id": "c5b31083",
   "metadata": {},
   "outputs": [
    {
     "data": {
      "text/plain": [
       "'<function fun at 0x000001DCF7A1F9D0>'"
      ]
     },
     "execution_count": 11,
     "metadata": {},
     "output_type": "execute_result"
    }
   ],
   "source": [
    "fun.__str__()"
   ]
  },
  {
   "cell_type": "code",
   "execution_count": 7,
   "id": "4d45e8ee",
   "metadata": {},
   "outputs": [],
   "source": [
    "a = 123"
   ]
  },
  {
   "cell_type": "code",
   "execution_count": 16,
   "id": "496e87d2",
   "metadata": {},
   "outputs": [
    {
     "data": {
      "text/plain": [
       "True"
      ]
     },
     "execution_count": 16,
     "metadata": {},
     "output_type": "execute_result"
    }
   ],
   "source": [
    "a == 123"
   ]
  },
  {
   "cell_type": "code",
   "execution_count": 12,
   "id": "aae3e7d7",
   "metadata": {},
   "outputs": [
    {
     "data": {
      "text/plain": [
       "True"
      ]
     },
     "execution_count": 12,
     "metadata": {},
     "output_type": "execute_result"
    }
   ],
   "source": [
    "a = 123"
   ]
  },
  {
   "cell_type": "code",
   "execution_count": 17,
   "id": "19b23d40",
   "metadata": {},
   "outputs": [],
   "source": [
    "a.__init__?"
   ]
  },
  {
   "cell_type": "code",
   "execution_count": 33,
   "id": "2559e495",
   "metadata": {},
   "outputs": [],
   "source": [
    "def return_squares(n):\n",
    "    for i in range(n):\n",
    "        return i**2\n",
    "\n",
    "def generate_squares(n):\n",
    "    for i in range(n):\n",
    "        yield(i**2)\n",
    "    yield(\"De inhoud is helemaal op\")"
   ]
  },
  {
   "cell_type": "code",
   "execution_count": 44,
   "id": "4973b109",
   "metadata": {},
   "outputs": [],
   "source": [
    "wololo = generate_squares(5)\n",
    "\n",
    "#for i in gen_squares:\n",
    "#    print(i)"
   ]
  },
  {
   "cell_type": "code",
   "execution_count": 48,
   "id": "8889321a",
   "metadata": {},
   "outputs": [
    {
     "data": {
      "text/plain": [
       "function"
      ]
     },
     "execution_count": 48,
     "metadata": {},
     "output_type": "execute_result"
    }
   ],
   "source": [
    "type(generate_squares)"
   ]
  },
  {
   "cell_type": "code",
   "execution_count": 47,
   "id": "38c77bb4",
   "metadata": {},
   "outputs": [
    {
     "data": {
      "text/plain": [
       "generator"
      ]
     },
     "execution_count": 47,
     "metadata": {},
     "output_type": "execute_result"
    }
   ],
   "source": [
    "type(wololo)"
   ]
  },
  {
   "cell_type": "code",
   "execution_count": 53,
   "id": "265dcd0d",
   "metadata": {},
   "outputs": [
    {
     "name": "stdout",
     "output_type": "stream",
     "text": [
      "0\n",
      "1\n",
      "4\n",
      "9\n",
      "16\n",
      "25\n",
      "36\n",
      "49\n",
      "64\n",
      "81\n",
      "100\n",
      "121\n",
      "144\n",
      "169\n",
      "196\n",
      "225\n",
      "256\n",
      "289\n",
      "324\n",
      "361\n",
      "400\n",
      "441\n",
      "484\n",
      "529\n",
      "576\n",
      "625\n",
      "676\n",
      "729\n",
      "784\n",
      "841\n",
      "900\n",
      "961\n",
      "De inhoud is helemaal op\n"
     ]
    }
   ],
   "source": [
    "for i in generate_squares(32):\n",
    "    print(i)"
   ]
  },
  {
   "cell_type": "code",
   "execution_count": 68,
   "id": "b063f1b9",
   "metadata": {},
   "outputs": [],
   "source": [
    "import numpy as np\n",
    "\n",
    "def is_prime(num : int) -> bool:\n",
    "    \"\"\"\n",
    "    This function ...\n",
    "    \"\"\"\n",
    "    is_prime = True\n",
    "    for i in range(2, int(np.sqrt(num)) + 1):\n",
    "        if num % i == 0:\n",
    "            is_prime = False\n",
    "            break\n",
    "    return is_prime\n",
    "\n",
    "def find_primes():\n",
    "    p = 2\n",
    "    while True:\n",
    "        if is_prime(p):\n",
    "            yield(p)\n",
    "        p += 1"
   ]
  },
  {
   "cell_type": "code",
   "execution_count": 64,
   "id": "eb7a142a",
   "metadata": {},
   "outputs": [],
   "source": [
    "prime_hunter = find_primes()"
   ]
  },
  {
   "cell_type": "code",
   "execution_count": 65,
   "id": "ea605298",
   "metadata": {},
   "outputs": [
    {
     "name": "stdout",
     "output_type": "stream",
     "text": [
      "2\n",
      "3\n",
      "5\n",
      "7\n",
      "11\n",
      "13\n",
      "17\n",
      "19\n",
      "23\n",
      "29\n",
      "31\n",
      "37\n",
      "41\n",
      "43\n",
      "47\n",
      "53\n",
      "59\n",
      "61\n",
      "67\n",
      "71\n",
      "73\n",
      "79\n",
      "83\n",
      "89\n",
      "97\n",
      "101\n",
      "103\n",
      "107\n",
      "109\n",
      "113\n",
      "127\n",
      "131\n",
      "137\n",
      "139\n",
      "149\n",
      "151\n",
      "157\n",
      "163\n",
      "167\n",
      "173\n",
      "179\n",
      "181\n",
      "191\n",
      "193\n",
      "197\n",
      "199\n",
      "211\n",
      "223\n",
      "227\n",
      "229\n",
      "233\n",
      "239\n",
      "241\n",
      "251\n",
      "257\n",
      "263\n",
      "269\n",
      "271\n",
      "277\n",
      "281\n",
      "283\n",
      "293\n",
      "307\n",
      "311\n",
      "313\n",
      "317\n",
      "331\n",
      "337\n",
      "347\n",
      "349\n",
      "353\n",
      "359\n",
      "367\n",
      "373\n",
      "379\n",
      "383\n",
      "389\n",
      "397\n",
      "401\n",
      "409\n",
      "419\n",
      "421\n",
      "431\n",
      "433\n",
      "439\n",
      "443\n",
      "449\n",
      "457\n",
      "461\n",
      "463\n",
      "467\n",
      "479\n",
      "487\n",
      "491\n",
      "499\n",
      "503\n",
      "509\n",
      "521\n",
      "523\n",
      "541\n"
     ]
    }
   ],
   "source": [
    "for i in range(100):\n",
    "    print(next(prime_hunter))"
   ]
  },
  {
   "cell_type": "code",
   "execution_count": 66,
   "id": "393a0289",
   "metadata": {},
   "outputs": [
    {
     "data": {
      "text/plain": [
       "547"
      ]
     },
     "execution_count": 66,
     "metadata": {},
     "output_type": "execute_result"
    }
   ],
   "source": [
    "next(prime_hunter)"
   ]
  },
  {
   "cell_type": "code",
   "execution_count": 67,
   "id": "f0f979e9",
   "metadata": {},
   "outputs": [
    {
     "data": {
      "text/plain": [
       "557"
      ]
     },
     "execution_count": 67,
     "metadata": {},
     "output_type": "execute_result"
    }
   ],
   "source": [
    "next(prime_hunter)"
   ]
  },
  {
   "cell_type": "code",
   "execution_count": 72,
   "id": "ce1d0a23",
   "metadata": {},
   "outputs": [],
   "source": [
    "def fun_sum(lst):\n",
    "    lst[1] = 10\n",
    "    return sum(lst)"
   ]
  },
  {
   "cell_type": "code",
   "execution_count": 73,
   "id": "5219c213",
   "metadata": {},
   "outputs": [
    {
     "data": {
      "text/plain": [
       "14"
      ]
     },
     "execution_count": 73,
     "metadata": {},
     "output_type": "execute_result"
    }
   ],
   "source": [
    "a = [1,2,3]\n",
    "fun_sum(a)"
   ]
  },
  {
   "cell_type": "code",
   "execution_count": 75,
   "id": "64816126",
   "metadata": {},
   "outputs": [],
   "source": [
    "a = [3,2,1]"
   ]
  },
  {
   "cell_type": "code",
   "execution_count": 76,
   "id": "3639c41c",
   "metadata": {},
   "outputs": [],
   "source": [
    "a.sort()"
   ]
  },
  {
   "cell_type": "code",
   "execution_count": 77,
   "id": "dd44ae09",
   "metadata": {},
   "outputs": [
    {
     "data": {
      "text/plain": [
       "[1, 2, 3]"
      ]
     },
     "execution_count": 77,
     "metadata": {},
     "output_type": "execute_result"
    }
   ],
   "source": [
    "a"
   ]
  },
  {
   "cell_type": "code",
   "execution_count": 79,
   "id": "4eebeca4",
   "metadata": {},
   "outputs": [],
   "source": [
    "b = sorted(a)"
   ]
  },
  {
   "cell_type": "code",
   "execution_count": 80,
   "id": "f688eceb",
   "metadata": {},
   "outputs": [
    {
     "name": "stdout",
     "output_type": "stream",
     "text": [
      "[1, 10, 3]\n"
     ]
    }
   ],
   "source": [
    "a = [1, 2, 3]\n",
    "b = a\n",
    "b[1] = 10\n",
    "\n",
    "print(b)"
   ]
  },
  {
   "cell_type": "code",
   "execution_count": null,
   "id": "73b07a31",
   "metadata": {},
   "outputs": [],
   "source": []
  },
  {
   "cell_type": "code",
   "execution_count": 90,
   "id": "9c2ac202",
   "metadata": {},
   "outputs": [
    {
     "data": {
      "text/plain": [
       "(1, 2, 3, 4)"
      ]
     },
     "execution_count": 90,
     "metadata": {},
     "output_type": "execute_result"
    }
   ],
   "source": [
    "a = (1,2,3)\n",
    "a = list(a)\n",
    "a.append(4)\n",
    "tuple(a)"
   ]
  },
  {
   "cell_type": "code",
   "execution_count": 85,
   "id": "403ad75c",
   "metadata": {},
   "outputs": [
    {
     "ename": "TypeError",
     "evalue": "'str' object does not support item assignment",
     "output_type": "error",
     "traceback": [
      "\u001b[1;31m--------------------------------------------------------------------------\u001b[0m",
      "\u001b[1;31mTypeError\u001b[0m                                Traceback (most recent call last)",
      "\u001b[1;32m~\\AppData\\Local\\Temp\\ipykernel_12176\\2502563566.py\u001b[0m in \u001b[0;36m<module>\u001b[1;34m\u001b[0m\n\u001b[1;32m----> 1\u001b[1;33m \u001b[0ma\u001b[0m\u001b[1;33m[\u001b[0m\u001b[1;36m1\u001b[0m\u001b[1;33m]\u001b[0m \u001b[1;33m=\u001b[0m \u001b[1;34m'd'\u001b[0m\u001b[1;33m\u001b[0m\u001b[1;33m\u001b[0m\u001b[0m\n\u001b[0m",
      "\u001b[1;31mTypeError\u001b[0m: 'str' object does not support item assignment"
     ]
    }
   ],
   "source": [
    "a[1] = 'd'"
   ]
  },
  {
   "cell_type": "code",
   "execution_count": 101,
   "id": "0d44fe9a",
   "metadata": {},
   "outputs": [],
   "source": [
    "import copy\n",
    "a = [1, 5, 3, 2, 1, 4, [[1,2,3], 3, 2, 1, 3]]"
   ]
  },
  {
   "cell_type": "code",
   "execution_count": 102,
   "id": "0cffbfe9",
   "metadata": {},
   "outputs": [],
   "source": [
    "b = copy.deepcopy(a)"
   ]
  },
  {
   "cell_type": "code",
   "execution_count": 103,
   "id": "1ed2bf1c",
   "metadata": {},
   "outputs": [],
   "source": [
    "b[-1][0][0] = 100"
   ]
  },
  {
   "cell_type": "code",
   "execution_count": 104,
   "id": "ccfea61c",
   "metadata": {},
   "outputs": [
    {
     "data": {
      "text/plain": [
       "[1, 5, 3, 2, 1, 4, [[1, 2, 3], 3, 2, 1, 3]]"
      ]
     },
     "execution_count": 104,
     "metadata": {},
     "output_type": "execute_result"
    }
   ],
   "source": [
    "a"
   ]
  },
  {
   "cell_type": "code",
   "execution_count": 106,
   "id": "f7e5f8c7",
   "metadata": {},
   "outputs": [],
   "source": [
    "copy.deepcopy?"
   ]
  },
  {
   "cell_type": "code",
   "execution_count": 107,
   "id": "33a431ee",
   "metadata": {},
   "outputs": [],
   "source": [
    "import datetime"
   ]
  },
  {
   "cell_type": "code",
   "execution_count": 108,
   "id": "0e080e15",
   "metadata": {},
   "outputs": [
    {
     "data": {
      "text/plain": [
       "datetime.datetime"
      ]
     },
     "execution_count": 108,
     "metadata": {},
     "output_type": "execute_result"
    }
   ],
   "source": [
    "datetime.timezone\n",
    "\n",
    "datetime.date"
   ]
  },
  {
   "cell_type": "code",
   "execution_count": 110,
   "id": "4d965a07",
   "metadata": {},
   "outputs": [
    {
     "data": {
      "text/plain": [
       "1"
      ]
     },
     "execution_count": 110,
     "metadata": {},
     "output_type": "execute_result"
    }
   ],
   "source": [
    "datetime.MINYEAR"
   ]
  },
  {
   "cell_type": "code",
   "execution_count": 113,
   "id": "1a592d50",
   "metadata": {},
   "outputs": [],
   "source": [
    "obj1 = datetime.datetime(2020, 1, 1, 1, 1, 1)\n",
    "obj2 = datetime.datetime(2020, 2, 4, 12, 11, 19)"
   ]
  },
  {
   "cell_type": "code",
   "execution_count": 114,
   "id": "a0df86e3",
   "metadata": {},
   "outputs": [
    {
     "data": {
      "text/plain": [
       "datetime.datetime(2020, 1, 1, 1, 1, 1)"
      ]
     },
     "execution_count": 114,
     "metadata": {},
     "output_type": "execute_result"
    }
   ],
   "source": [
    "obj1"
   ]
  },
  {
   "cell_type": "code",
   "execution_count": 115,
   "id": "3e5eb993",
   "metadata": {},
   "outputs": [
    {
     "data": {
      "text/plain": [
       "datetime.datetime(2020, 2, 4, 12, 11, 19)"
      ]
     },
     "execution_count": 115,
     "metadata": {},
     "output_type": "execute_result"
    }
   ],
   "source": [
    "obj2"
   ]
  },
  {
   "cell_type": "code",
   "execution_count": 118,
   "id": "4e1790a2",
   "metadata": {},
   "outputs": [],
   "source": [
    "datetime.timezone?"
   ]
  },
  {
   "cell_type": "code",
   "execution_count": 153,
   "id": "39b360eb",
   "metadata": {},
   "outputs": [],
   "source": [
    "from numpy import vectorize\n",
    "@vectorize?"
   ]
  },
  {
   "cell_type": "code",
   "execution_count": null,
   "id": "8c61cd37",
   "metadata": {},
   "outputs": [],
   "source": [
    "@vectorize"
   ]
  },
  {
   "cell_type": "code",
   "execution_count": 148,
   "id": "be87f156",
   "metadata": {},
   "outputs": [],
   "source": [
    "dog1 = Dog('wololo')\n",
    "dog2 = Dog('Johnny')"
   ]
  },
  {
   "cell_type": "code",
   "execution_count": 149,
   "id": "6c3e50e9",
   "metadata": {},
   "outputs": [
    {
     "name": "stdout",
     "output_type": "stream",
     "text": [
      "Dog(breed='wololo')\n"
     ]
    }
   ],
   "source": [
    "print(dog1)"
   ]
  },
  {
   "cell_type": "code",
   "execution_count": 129,
   "id": "98bde211",
   "metadata": {},
   "outputs": [
    {
     "data": {
      "text/plain": [
       "datetime.datetime(2020, 1, 1, 1, 1, 1)"
      ]
     },
     "execution_count": 129,
     "metadata": {},
     "output_type": "execute_result"
    }
   ],
   "source": [
    "obj1"
   ]
  },
  {
   "cell_type": "code",
   "execution_count": null,
   "id": "9054745c",
   "metadata": {},
   "outputs": [],
   "source": [
    "a = [3,2,1]\n",
    "a.sort()"
   ]
  },
  {
   "cell_type": "code",
   "execution_count": 156,
   "id": "49bb8782",
   "metadata": {},
   "outputs": [
    {
     "data": {
      "text/plain": [
       "array([3, 4, 1, 2])"
      ]
     },
     "execution_count": 156,
     "metadata": {},
     "output_type": "execute_result"
    }
   ],
   "source": [
    "import numpy as np\n",
    "def myfunc(a, b):\n",
    "    \"Return a-b if a>b, otherwise return a+b\"\n",
    "    if (a > b):\n",
    "        return a - b\n",
    "    else:\n",
    "        return a + b\n",
    "\n",
    "vfunc = np.vectorize(myfunc)\n",
    "vfunc([1, 2, 3, 4], 2)\n",
    "np.array([3, 4, 1, 2])"
   ]
  },
  {
   "cell_type": "code",
   "execution_count": 157,
   "id": "a326d97b",
   "metadata": {},
   "outputs": [
    {
     "ename": "TypeError",
     "evalue": "'>' not supported between instances of 'list' and 'int'",
     "output_type": "error",
     "traceback": [
      "\u001b[1;31m--------------------------------------------------------------------------\u001b[0m",
      "\u001b[1;31mTypeError\u001b[0m                                Traceback (most recent call last)",
      "\u001b[1;32m~\\AppData\\Local\\Temp\\ipykernel_12176\\1928866830.py\u001b[0m in \u001b[0;36m<module>\u001b[1;34m\u001b[0m\n\u001b[1;32m----> 1\u001b[1;33m \u001b[0mmyfunc\u001b[0m\u001b[1;33m(\u001b[0m\u001b[1;33m[\u001b[0m\u001b[1;36m1\u001b[0m\u001b[1;33m,\u001b[0m\u001b[1;36m2\u001b[0m\u001b[1;33m,\u001b[0m\u001b[1;36m3\u001b[0m\u001b[1;33m,\u001b[0m\u001b[1;36m4\u001b[0m\u001b[1;33m]\u001b[0m\u001b[1;33m,\u001b[0m \u001b[1;36m2\u001b[0m\u001b[1;33m)\u001b[0m\u001b[1;33m\u001b[0m\u001b[1;33m\u001b[0m\u001b[0m\n\u001b[0m",
      "\u001b[1;32m~\\AppData\\Local\\Temp\\ipykernel_12176\\2695147387.py\u001b[0m in \u001b[0;36mmyfunc\u001b[1;34m(a, b)\u001b[0m\n\u001b[0;32m      2\u001b[0m \u001b[1;32mdef\u001b[0m \u001b[0mmyfunc\u001b[0m\u001b[1;33m(\u001b[0m\u001b[0ma\u001b[0m\u001b[1;33m,\u001b[0m \u001b[0mb\u001b[0m\u001b[1;33m)\u001b[0m\u001b[1;33m:\u001b[0m\u001b[1;33m\u001b[0m\u001b[1;33m\u001b[0m\u001b[0m\n\u001b[0;32m      3\u001b[0m     \u001b[1;34m\"Return a-b if a>b, otherwise return a+b\"\u001b[0m\u001b[1;33m\u001b[0m\u001b[1;33m\u001b[0m\u001b[0m\n\u001b[1;32m----> 4\u001b[1;33m     \u001b[1;32mif\u001b[0m \u001b[1;33m(\u001b[0m\u001b[0ma\u001b[0m \u001b[1;33m>\u001b[0m \u001b[0mb\u001b[0m\u001b[1;33m)\u001b[0m\u001b[1;33m:\u001b[0m\u001b[1;33m\u001b[0m\u001b[1;33m\u001b[0m\u001b[0m\n\u001b[0m\u001b[0;32m      5\u001b[0m         \u001b[1;32mreturn\u001b[0m \u001b[0ma\u001b[0m \u001b[1;33m-\u001b[0m \u001b[0mb\u001b[0m\u001b[1;33m\u001b[0m\u001b[1;33m\u001b[0m\u001b[0m\n\u001b[0;32m      6\u001b[0m     \u001b[1;32melse\u001b[0m\u001b[1;33m:\u001b[0m\u001b[1;33m\u001b[0m\u001b[1;33m\u001b[0m\u001b[0m\n",
      "\u001b[1;31mTypeError\u001b[0m: '>' not supported between instances of 'list' and 'int'"
     ]
    }
   ],
   "source": [
    "myfunc([1,2,3,4], 2)"
   ]
  },
  {
   "cell_type": "code",
   "execution_count": 158,
   "id": "6bb442c9",
   "metadata": {},
   "outputs": [],
   "source": [
    "import sys"
   ]
  },
  {
   "cell_type": "code",
   "execution_count": 159,
   "id": "bfd2127d",
   "metadata": {},
   "outputs": [
    {
     "data": {
      "text/plain": [
       "['D:\\\\projecten\\\\syntra\\\\data science\\\\github 23-24\\\\practicalbusinesspython',\n",
       " 'C:\\\\Users\\\\timH\\\\Anaconda3\\\\python39.zip',\n",
       " 'C:\\\\Users\\\\timH\\\\Anaconda3\\\\DLLs',\n",
       " 'C:\\\\Users\\\\timH\\\\Anaconda3\\\\lib',\n",
       " 'C:\\\\Users\\\\timH\\\\Anaconda3',\n",
       " '',\n",
       " 'C:\\\\Users\\\\timH\\\\Anaconda3\\\\lib\\\\site-packages',\n",
       " 'C:\\\\Users\\\\timH\\\\Anaconda3\\\\lib\\\\site-packages\\\\win32',\n",
       " 'C:\\\\Users\\\\timH\\\\Anaconda3\\\\lib\\\\site-packages\\\\win32\\\\lib',\n",
       " 'C:\\\\Users\\\\timH\\\\Anaconda3\\\\lib\\\\site-packages\\\\Pythonwin',\n",
       " 'C:\\\\Users\\\\timH\\\\Anaconda3\\\\lib\\\\site-packages\\\\IPython\\\\extensions',\n",
       " 'C:\\\\Users\\\\timH\\\\.ipython']"
      ]
     },
     "execution_count": 159,
     "metadata": {},
     "output_type": "execute_result"
    }
   ],
   "source": [
    "sys.path"
   ]
  },
  {
   "cell_type": "code",
   "execution_count": 160,
   "id": "1268697c",
   "metadata": {},
   "outputs": [],
   "source": [
    "import numpy as np"
   ]
  },
  {
   "cell_type": "code",
   "execution_count": 163,
   "id": "0eb39438",
   "metadata": {},
   "outputs": [],
   "source": [
    "np.sqrt??"
   ]
  },
  {
   "cell_type": "code",
   "execution_count": 170,
   "id": "657c3578",
   "metadata": {},
   "outputs": [],
   "source": [
    "import datetime"
   ]
  },
  {
   "cell_type": "code",
   "execution_count": 172,
   "id": "55e81819",
   "metadata": {},
   "outputs": [
    {
     "data": {
      "text/plain": [
       "1"
      ]
     },
     "execution_count": 172,
     "metadata": {},
     "output_type": "execute_result"
    }
   ],
   "source": [
    "datetime.MINYEAR"
   ]
  },
  {
   "cell_type": "code",
   "execution_count": 1,
   "id": "026845d5",
   "metadata": {},
   "outputs": [],
   "source": [
    "from datetime import datetime"
   ]
  },
  {
   "cell_type": "code",
   "execution_count": 2,
   "id": "3fd4d9ad",
   "metadata": {},
   "outputs": [
    {
     "data": {
      "text/plain": [
       "datetime.datetime(2023, 10, 24, 11, 33, 25, 396613)"
      ]
     },
     "execution_count": 2,
     "metadata": {},
     "output_type": "execute_result"
    }
   ],
   "source": [
    "datetime.now()"
   ]
  },
  {
   "cell_type": "code",
   "execution_count": 3,
   "id": "6aa2a15f",
   "metadata": {},
   "outputs": [],
   "source": [
    "from numpy import sqrt"
   ]
  },
  {
   "cell_type": "code",
   "execution_count": 4,
   "id": "577f1f47",
   "metadata": {},
   "outputs": [
    {
     "data": {
      "text/plain": [
       "3.1622776601683795"
      ]
     },
     "execution_count": 4,
     "metadata": {},
     "output_type": "execute_result"
    }
   ],
   "source": [
    "sqrt(10)"
   ]
  },
  {
   "cell_type": "code",
   "execution_count": 5,
   "id": "f1c86b50",
   "metadata": {},
   "outputs": [],
   "source": [
    "from datetime import *"
   ]
  },
  {
   "cell_type": "code",
   "execution_count": 6,
   "id": "e33d4e64",
   "metadata": {},
   "outputs": [
    {
     "data": {
      "text/plain": [
       "datetime.timedelta"
      ]
     },
     "execution_count": 6,
     "metadata": {},
     "output_type": "execute_result"
    }
   ],
   "source": [
    "timedelta"
   ]
  },
  {
   "cell_type": "code",
   "execution_count": 7,
   "id": "0e318074",
   "metadata": {},
   "outputs": [],
   "source": [
    "from numpy import *"
   ]
  },
  {
   "cell_type": "code",
   "execution_count": 8,
   "id": "b9093e35",
   "metadata": {},
   "outputs": [],
   "source": [
    "import numpy as np"
   ]
  },
  {
   "cell_type": "code",
   "execution_count": 9,
   "id": "df7edab3",
   "metadata": {},
   "outputs": [
    {
     "data": {
      "text/plain": [
       "'1.21.6'"
      ]
     },
     "execution_count": 9,
     "metadata": {},
     "output_type": "execute_result"
    }
   ],
   "source": [
    "np.version.version"
   ]
  },
  {
   "cell_type": "code",
   "execution_count": 17,
   "id": "7aca073b",
   "metadata": {},
   "outputs": [],
   "source": [
    "x = 1\n",
    "x;"
   ]
  },
  {
   "cell_type": "code",
   "execution_count": 3,
   "id": "87610737",
   "metadata": {},
   "outputs": [
    {
     "ename": "ModuleNotFoundError",
     "evalue": "No module named 'nieuwpythonbestandje'",
     "output_type": "error",
     "traceback": [
      "\u001b[1;31m--------------------------------------------------------------------------\u001b[0m",
      "\u001b[1;31mModuleNotFoundError\u001b[0m                      Traceback (most recent call last)",
      "\u001b[1;32m~\\AppData\\Local\\Temp\\ipykernel_24856\\979306322.py\u001b[0m in \u001b[0;36m<module>\u001b[1;34m\u001b[0m\n\u001b[1;32m----> 1\u001b[1;33m \u001b[1;32mimport\u001b[0m \u001b[0mnieuwpythonbestandje\u001b[0m\u001b[1;33m\u001b[0m\u001b[1;33m\u001b[0m\u001b[0m\n\u001b[0m",
      "\u001b[1;31mModuleNotFoundError\u001b[0m: No module named 'nieuwpythonbestandje'"
     ]
    }
   ],
   "source": []
  },
  {
   "cell_type": "code",
   "execution_count": 1,
   "id": "096a6df6",
   "metadata": {},
   "outputs": [
    {
     "name": "stdout",
     "output_type": "stream",
     "text": [
      "supertemporaryfolder.nieuwpythonbestandje\n"
     ]
    }
   ],
   "source": [
    "from supertemporaryfolder import nieuwpythonbestandje"
   ]
  },
  {
   "cell_type": "code",
   "execution_count": 3,
   "id": "d2b5be63",
   "metadata": {},
   "outputs": [
    {
     "data": {
      "text/plain": [
       "'datetime'"
      ]
     },
     "execution_count": 3,
     "metadata": {},
     "output_type": "execute_result"
    }
   ],
   "source": [
    "import datetime\n",
    "datetime.__name__"
   ]
  },
  {
   "cell_type": "code",
   "execution_count": 10,
   "id": "5d964767",
   "metadata": {},
   "outputs": [
    {
     "name": "stdout",
     "output_type": "stream",
     "text": [
      "hopla is super cool!\n"
     ]
    },
    {
     "data": {
      "text/plain": [
       "123"
      ]
     },
     "execution_count": 10,
     "metadata": {},
     "output_type": "execute_result"
    }
   ],
   "source": [
    "supertemporaryfolder.nieuwpythonbestandje.coole_functie('hopla')"
   ]
  },
  {
   "cell_type": "code",
   "execution_count": 5,
   "id": "5f8a71ef",
   "metadata": {},
   "outputs": [],
   "source": []
  },
  {
   "cell_type": "code",
   "execution_count": null,
   "id": "30ed47ce",
   "metadata": {},
   "outputs": [],
   "source": []
  }
 ],
 "metadata": {
  "kernelspec": {
   "display_name": "Python 3 (ipykernel)",
   "language": "python",
   "name": "python3"
  },
  "language_info": {
   "codemirror_mode": {
    "name": "ipython",
    "version": 3
   },
   "file_extension": ".py",
   "mimetype": "text/x-python",
   "name": "python",
   "nbconvert_exporter": "python",
   "pygments_lexer": "ipython3",
   "version": "3.9.13"
  }
 },
 "nbformat": 4,
 "nbformat_minor": 5
}
