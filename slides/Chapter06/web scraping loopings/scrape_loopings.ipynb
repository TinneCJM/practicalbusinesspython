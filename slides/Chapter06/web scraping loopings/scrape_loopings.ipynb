{
 "cells": [
  {
   "cell_type": "code",
   "execution_count": 1,
   "metadata": {},
   "outputs": [],
   "source": [
    "import requests\n",
    "from bs4 import BeautifulSoup\n",
    "import re\n",
    "from datetime import datetime, timedelta\n",
    "from threading import Timer\n",
    "import pandas as pd\n",
    "import os\n",
    "import json\n",
    "import time"
   ]
  },
  {
   "cell_type": "markdown",
   "metadata": {},
   "source": [
    "## Define data locations"
   ]
  },
  {
   "cell_type": "code",
   "execution_count": 2,
   "metadata": {},
   "outputs": [],
   "source": [
    "loc_park_urls = os.path.join('auxiliary', 'parks.json')"
   ]
  },
  {
   "cell_type": "markdown",
   "metadata": {},
   "source": [
    "## Generally useful functions"
   ]
  },
  {
   "cell_type": "code",
   "execution_count": 3,
   "metadata": {},
   "outputs": [],
   "source": [
    "def create_start_times(freq = '5min'):\n",
    "\n",
    "    now = datetime.today()\n",
    "    start_day = now.replace(day = now.day + 1, hour = 0, minute = 0, second = 0, microsecond = 0)\n",
    "    days = pd.date_range(start_day, periods = 365, freq = '1D')\n",
    "\n",
    "    start_times = list()\n",
    "    freq = '5min'\n",
    "    for day in days:\n",
    "        log_times = pd.date_range(\n",
    "            start = day.replace(hour = 9),\n",
    "            end = day.replace(hour = 22),\n",
    "            freq = freq\n",
    "        )\n",
    "        start_times.extend(log_times)\n",
    "    return start_times\n",
    "\n",
    "def scrape_wait_times(start_time, park, url):\n",
    "    print(f\"Scraping {park} at {start_time}\")\n",
    "    page = requests.get(url)\n",
    "    soup = BeautifulSoup(page.content, \"html.parser\")\n",
    "    #table_waiting = soup.find(id = 'container')\\\n",
    "    #                    .find(id = 'content-wrapper')\\\n",
    "    #                    .find(id = 'content')\\\n",
    "    #                    .find(id = 'rides')\n",
    "    table_waiting = soup.find(lambda tag: tag.name=='table' and tag.has_attr('id') and tag['id']==\"rides\")\n",
    "    #rows_waiting_rows = table_waiting.findAll(lambda tag: tag.name=='tr')\n",
    "\n",
    "    rows = list()\n",
    "    states = list()\n",
    "    for i in range(1, 10):\n",
    "        if not states:\n",
    "            states = table_waiting.find_all('td', class_ = f'state state_{i}')\n",
    "            if states:\n",
    "                break\n",
    "    else:\n",
    "        print(f\"Found no valid table for state state_i for {park}\")\n",
    "\n",
    "    for name_html, waittime_html, state_html in zip(table_waiting.find_all('td', class_ = 'name'), \n",
    "                                                table_waiting.find_all('td', class_ = 'waittime'),\n",
    "                                                states):\n",
    "        name = name_html.getText()\n",
    "        state = state_html.getText()\n",
    "\n",
    "        waittime = re.sub(\"[^0-9]\", \"\", waittime_html.getText())\n",
    "        if waittime == \"\":\n",
    "            waittime = 0\n",
    "        else:\n",
    "            waittime = int(waittime)\n",
    "\n",
    "        rows.append({\n",
    "            \"name\" : name,\n",
    "            \"waittime (min)\" : waittime,\n",
    "            \"state\" : state\n",
    "        })\n",
    "\n",
    "    df = pd.DataFrame(rows)\n",
    "\n",
    "    foldername = os.path.join(\"data\", park)\n",
    "    filename = start_time.strftime(f\"%Y%m%d_%H%M_{park}.csv\")\n",
    "    if not os.path.exists(foldername):\n",
    "        os.makedirs(foldername)\n",
    "    df.to_csv(os.path.join(foldername, filename))\n",
    "    return"
   ]
  },
  {
   "cell_type": "markdown",
   "metadata": {},
   "source": [
    "## Demo"
   ]
  },
  {
   "cell_type": "code",
   "execution_count": null,
   "metadata": {},
   "outputs": [],
   "source": [
    "# Read all urls\n",
    "with open(loc_park_urls, \"r\") as park_url_file:\n",
    "    park_urls = json.load(park_url_file)\n",
    "\n",
    "# Select start times\n",
    "start_times = create_start_times(freq = '5min')\n",
    "\n",
    "for start_time in start_times:\n",
    "    num_seconds = (start_time - datetime.now()).seconds\n",
    "    for park, url in park_urls.items():\n",
    "        t = Timer(10, scrape_wait_times, [start_time, park, url])\n",
    "        t.start()"
   ]
  },
  {
   "cell_type": "code",
   "execution_count": null,
   "metadata": {},
   "outputs": [],
   "source": []
  }
 ],
 "metadata": {
  "kernelspec": {
   "display_name": "Python 3 (ipykernel)",
   "language": "python",
   "name": "python3"
  },
  "language_info": {
   "codemirror_mode": {
    "name": "ipython",
    "version": 3
   },
   "file_extension": ".py",
   "mimetype": "text/x-python",
   "name": "python",
   "nbconvert_exporter": "python",
   "pygments_lexer": "ipython3",
   "version": "3.9.13"
  }
 },
 "nbformat": 4,
 "nbformat_minor": 2
}
