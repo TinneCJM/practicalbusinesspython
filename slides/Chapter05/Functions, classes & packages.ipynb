{
 "cells": [
  {
   "cell_type": "markdown",
   "id": "5e3a7b7d",
   "metadata": {},
   "source": [
    "# Python Functions"
   ]
  },
  {
   "cell_type": "markdown",
   "id": "d978ab88",
   "metadata": {},
   "source": [
    "## Examples"
   ]
  },
  {
   "cell_type": "code",
   "execution_count": null,
   "id": "ea363664",
   "metadata": {},
   "outputs": [],
   "source": [
    "def calculate_average(numbers):\n",
    "    total = sum(numbers)\n",
    "    average = total / len(numbers)\n",
    "    return average\n",
    "\n",
    "# Usage\n",
    "scores = [85, 90, 92, 88, 95]\n",
    "average_score = calculate_average(scores)\n",
    "print(f\"The average score is: {average_score}\")"
   ]
  },
  {
   "cell_type": "code",
   "execution_count": null,
   "id": "48c04647",
   "metadata": {},
   "outputs": [],
   "source": [
    "import re\n",
    "\n",
    "def validate_email(email):\n",
    "    pattern = r'^[\\w\\.-]+@[\\w\\.-]+\\.\\w+$'\n",
    "    if re.match(pattern, email):\n",
    "        print(f\"{email} is a valid email address.\")\n",
    "    else:\n",
    "        print(f\"{email} is not a valid email address.\")\n",
    "\n",
    "# Usage\n",
    "email_address = 'test@example.com'\n",
    "validate_email(email_address)"
   ]
  },
  {
   "cell_type": "markdown",
   "id": "c0633ea4",
   "metadata": {},
   "source": [
    "## Types of arguments"
   ]
  },
  {
   "cell_type": "code",
   "execution_count": null,
   "id": "a83b3a17",
   "metadata": {},
   "outputs": [],
   "source": [
    "# Positional arguments\n",
    "def add_numbers(a, b):\n",
    "    return a + b\n",
    "\n",
    "result = add_numbers(3, 5)\n",
    "\n",
    "\n",
    "# Keyword arguments\n",
    "def greet_person(name, age):\n",
    "    return f\"Hello, {name}! You are {age} years old.\"\n",
    "\n",
    "greeting = greet_person(name=\"Alice\", age=30)\n",
    "print(greeting)  \n",
    "\n",
    "# Default value arguments\n",
    "def power(base, exponent=2):\n",
    "    return base ** exponent\n",
    "\n",
    "result1 = power(3)\n",
    "print(result1)  # Output: 9 (3^2)\n",
    "\n",
    "result2 = power(2, 3)\n",
    "print(result2)  # Output: 8 (2^3)\n",
    "\n",
    "# Variable number of positional arguments\n",
    "def sum_all_numbers(*args):\n",
    "    total = 0\n",
    "    for num in args:\n",
    "        total += num\n",
    "    return total\n",
    "\n",
    "result = sum_all_numbers(1, 2, 3, 4)\n",
    "print(result)  # Output: 10 (1 + 2 + 3 + 4)\n",
    "\n",
    "# Variable number of keyword arguments\n",
    "def print_person_info(**kwargs):\n",
    "    for key, value in kwargs.items():\n",
    "        print(f\"{key}: {value}\")\n",
    "\n",
    "print_person_info(name=\"John\",\n",
    "                        age=25, \n",
    "                        occupation=\"Engineer\")"
   ]
  },
  {
   "cell_type": "markdown",
   "id": "e6ab125a",
   "metadata": {},
   "source": [
    "## Global & local variables"
   ]
  },
  {
   "cell_type": "code",
   "execution_count": null,
   "id": "fac45b1f",
   "metadata": {},
   "outputs": [],
   "source": [
    "if 'result' in globals():\n",
    "    del result\n",
    "\n",
    "def calculate_square(number):\n",
    "    # Defining a local variable\n",
    "    result = number ** 2\n",
    "    print(f\"The square of {number} is {result}\")\n",
    "\n",
    "calculate_square(5)  # Output: The square of 5 is 25\n",
    "\n",
    "try:\n",
    "    print(result)\n",
    "except:\n",
    "    print(\"We could not access the local variable result!\")"
   ]
  },
  {
   "cell_type": "code",
   "execution_count": null,
   "id": "7b8af596",
   "metadata": {},
   "outputs": [],
   "source": [
    "# Defining a global variable\n",
    "global_variable = 10\n",
    "\n",
    "def access_global_variable():\n",
    "    # Accessing the global variable\n",
    "    print(global_variable)\n",
    "\n",
    "access_global_variable()  # Output: 10"
   ]
  },
  {
   "cell_type": "markdown",
   "id": "20ff31f4",
   "metadata": {},
   "source": [
    "## Lambda ($\\lambda$) functions"
   ]
  },
  {
   "cell_type": "code",
   "execution_count": null,
   "id": "5d3a4001",
   "metadata": {},
   "outputs": [],
   "source": [
    "multiply = lambda x, y: x * y\n",
    "print(multiply(5, 3))  # Output: 15\n",
    "# Is equivalent to\n",
    "def multiply(x,y):\n",
    "    return x * y\n",
    "print(multiply(5, 3))  # Output: 15"
   ]
  },
  {
   "cell_type": "code",
   "execution_count": null,
   "id": "7cf70e27",
   "metadata": {},
   "outputs": [],
   "source": [
    "# Sorting key\n",
    "students = [\n",
    "    {\"name\": \"Alice\", \"grade\": 85}, \n",
    "    {\"name\": \"Bob\", \"grade\": 92},\n",
    "    {\"name\": \"Charlie\", \"grade\": 78}\n",
    "]\n",
    "\n",
    "students_sorted = sorted(students, key=lambda student: student[\"grade\"])\n",
    "print(students_sorted)\n",
    "# Outputs: [{'name': 'Charlie', 'grade': 78}, {'name': 'Alice', 'grade': 85}, {'name': 'Bob', 'grade': 92}]"
   ]
  },
  {
   "cell_type": "code",
   "execution_count": null,
   "id": "b524a43f",
   "metadata": {},
   "outputs": [],
   "source": [
    "# Applying a function to a list of elements\n",
    "numbers = [1, 2, 3, 4, 5]\n",
    "squared = list(map(lambda x: x ** 2, numbers))\n",
    "print(squared)  # Outputs: [1, 4, 9, 16, 25]"
   ]
  },
  {
   "cell_type": "code",
   "execution_count": 2,
   "id": "a088bd5b",
   "metadata": {},
   "outputs": [
    {
     "name": "stdout",
     "output_type": "stream",
     "text": [
      "Button clicked!\n"
     ]
    }
   ],
   "source": [
    "# Callback functions\n",
    "import tkinter as tk\n",
    "\n",
    "root = tk.Tk()\n",
    "button = tk.Button(root, text=\"Click me\")\n",
    "button.pack()\n",
    "\n",
    "# Define a lambda function as a callback for the button click event\n",
    "button.config(command=lambda: print(\"Button clicked!\"))\n",
    "\n",
    "root.mainloop()"
   ]
  },
  {
   "cell_type": "code",
   "execution_count": null,
   "id": "7573dd82",
   "metadata": {},
   "outputs": [],
   "source": [
    "# Functie toepassen op pandas dataframe\n",
    "import pandas as pd\n",
    "\n",
    "# Create a sample DataFrame\n",
    "data = {\n",
    "    'A': [1, 2, 3, 4, 5],\n",
    "    'B': [10, 20, 30, 40, 50]\n",
    "}\n",
    "df = pd.DataFrame(data)\n",
    "\n",
    "# Apply a lambda function to each row and create a new column 'Sum'\n",
    "df['Sum'] = df.apply(lambda row: row['A'] + row['B'], axis=1)\n",
    "\n",
    "# Print the modified DataFrame\n",
    "display(df)"
   ]
  },
  {
   "cell_type": "markdown",
   "id": "9419907e",
   "metadata": {},
   "source": [
    "## Type hinting"
   ]
  },
  {
   "cell_type": "code",
   "execution_count": null,
   "id": "2616ca73",
   "metadata": {},
   "outputs": [],
   "source": [
    "def multiply(x: int, y: int) -> int:\n",
    "    return x * y"
   ]
  },
  {
   "cell_type": "markdown",
   "id": "c5da743d",
   "metadata": {},
   "source": [
    "## Docstrings"
   ]
  },
  {
   "cell_type": "code",
   "execution_count": null,
   "id": "5bf29841",
   "metadata": {},
   "outputs": [],
   "source": [
    "def calculate_area(length, width):\n",
    "    \"\"\"Calculates the area of a rectangle.\n",
    "\n",
    "    Args:\n",
    "        length (float): The length of the rectangle.\n",
    "        width (float): The width of the rectangle.\n",
    "\n",
    "    Returns:\n",
    "        float: The calculated area of the rectangle.\n",
    "    \"\"\"\n",
    "    area = length * width\n",
    "    return area"
   ]
  },
  {
   "cell_type": "code",
   "execution_count": null,
   "id": "1a3be6fe",
   "metadata": {},
   "outputs": [],
   "source": [
    "calculate_area?"
   ]
  },
  {
   "cell_type": "code",
   "execution_count": null,
   "id": "1052dd88",
   "metadata": {},
   "outputs": [],
   "source": [
    "print(calculate_area.__doc__)"
   ]
  },
  {
   "cell_type": "markdown",
   "id": "c3729535",
   "metadata": {},
   "source": [
    "## Generators"
   ]
  },
  {
   "cell_type": "code",
   "execution_count": null,
   "id": "57adca98",
   "metadata": {},
   "outputs": [],
   "source": [
    "def generate_squares(n):\n",
    "    for i in range(n):\n",
    "        yield i ** 2"
   ]
  },
  {
   "cell_type": "code",
   "execution_count": null,
   "id": "93ba5650",
   "metadata": {},
   "outputs": [],
   "source": [
    "for square in generate_squares(5):\n",
    "    print(square)"
   ]
  },
  {
   "cell_type": "code",
   "execution_count": null,
   "id": "87b4ccc6",
   "metadata": {},
   "outputs": [],
   "source": [
    "lst_squares = list(generate_squares(42))\n",
    "print(lst_squares)"
   ]
  },
  {
   "cell_type": "code",
   "execution_count": null,
   "id": "a9359b73",
   "metadata": {},
   "outputs": [],
   "source": [
    "gen_5_squares = generate_squares(5)\n",
    "\n",
    "print(next(gen_5_squares))\n",
    "print(next(gen_5_squares))\n",
    "print(next(gen_5_squares))\n",
    "print(next(gen_5_squares))"
   ]
  },
  {
   "cell_type": "markdown",
   "id": "ebe28bae",
   "metadata": {},
   "source": [
    "## Copies"
   ]
  },
  {
   "cell_type": "code",
   "execution_count": null,
   "id": "db66b528",
   "metadata": {},
   "outputs": [],
   "source": [
    "a = 1\n",
    "a = 2 # Dit is een volledig nieuwe variabele!\n",
    "\n",
    "lst = [1, 2, 3]\n",
    "lst[1] = 3 # hier veranderen we de variabele zelf!"
   ]
  },
  {
   "cell_type": "code",
   "execution_count": null,
   "id": "5aedf805",
   "metadata": {},
   "outputs": [],
   "source": [
    "def modify_list_shallow(lst):\n",
    "    copy_lst = lst.copy()  # or copy_lst = lst[:]\n",
    "    copy_lst[0] = 100  # Modify the copied list\n",
    "\n",
    "original_list = [1, 2, 3]\n",
    "modify_list_shallow(original_list)\n",
    "print(original_list)  # Output: [1, 2, 3] (unchanged)"
   ]
  },
  {
   "cell_type": "code",
   "execution_count": null,
   "id": "1fb86c3e",
   "metadata": {},
   "outputs": [],
   "source": [
    "def modify_list_shallow(lst):\n",
    "    copy_lst = lst.copy()  # or copy_lst = lst[:]\n",
    "    copy_lst[0][0] = 100  # Modify the copied list\n",
    "\n",
    "original_list = [[1], 2, 3]\n",
    "modify_list_shallow(original_list)\n",
    "print(original_list)  # Output: [[100], 2, 3] (changed)"
   ]
  },
  {
   "cell_type": "code",
   "execution_count": null,
   "id": "134724bd",
   "metadata": {},
   "outputs": [],
   "source": [
    "import copy\n",
    "\n",
    "def modify_list_deep(lst):\n",
    "    copy_lst = copy.deepcopy(lst)\n",
    "    copy_lst[0][0] = 100  # Modify the copied list\n",
    "\n",
    "original_list = [[1], 2, 3]\n",
    "modify_list_deep(original_list)\n",
    "print(original_list)  # Output: [[1], 2, 3] (unchanged)"
   ]
  },
  {
   "cell_type": "markdown",
   "id": "449f5191",
   "metadata": {},
   "source": [
    "## Decorators"
   ]
  },
  {
   "cell_type": "code",
   "execution_count": 8,
   "id": "8789c452",
   "metadata": {},
   "outputs": [
    {
     "name": "stdout",
     "output_type": "stream",
     "text": [
      "De onderste\n",
      "De bovenste\n",
      "7\n"
     ]
    }
   ],
   "source": [
    "def add_one_decorator(func):\n",
    "    def wrapper(x):\n",
    "        result = func(x) + 1\n",
    "        return result\n",
    "    return wrapper\n",
    "\n",
    "@add_one_decorator\n",
    "def add_two(x):\n",
    "    return x + 2\n",
    "\n",
    "# Usage of the decorated function\n",
    "result = add_two(3)\n",
    "print(result)  # Output: 6"
   ]
  },
  {
   "cell_type": "code",
   "execution_count": null,
   "id": "206fb551",
   "metadata": {},
   "outputs": [],
   "source": [
    "class MathOperations:\n",
    "    @staticmethod\n",
    "    def add(a, b):\n",
    "        return a + b\n",
    "    \n",
    "    @staticmethod\n",
    "    def subtract(a, b):\n",
    "        return a - b\n",
    "\n",
    "# You can call static methods without creating an instance\n",
    "result1 = MathOperations.add(5, 3)\n",
    "result2 = MathOperations.subtract(10, 2)\n",
    "\n",
    "print(result1)  # Output: 8\n",
    "print(result2)  # Output: 8"
   ]
  },
  {
   "cell_type": "markdown",
   "id": "f365387a",
   "metadata": {},
   "source": [
    "## Classes"
   ]
  },
  {
   "cell_type": "code",
   "execution_count": null,
   "id": "d4903cb5",
   "metadata": {},
   "outputs": [],
   "source": [
    "class Dog:\n",
    "    def __init__(self, name, breed):\n",
    "        self.name = name\n",
    "        self.breed = breed\n",
    "\n",
    "    def bark(self):\n",
    "        return f\"{self.name} barks loudly!\"\n",
    "\n",
    "# Create an instance of the Dog class\n",
    "my_dog = Dog(\"Buddy\", \"Golden Retriever\")\n",
    "\n",
    "# Access attributes and call methods\n",
    "print(f\"{my_dog.name} is a {my_dog.breed}.\")\n",
    "print(my_dog.bark())"
   ]
  },
  {
   "cell_type": "code",
   "execution_count": null,
   "id": "ff795172",
   "metadata": {},
   "outputs": [],
   "source": [
    "from dataclasses import dataclass\n",
    "\n",
    "@dataclass\n",
    "class Person:\n",
    "    name: str\n",
    "    age: int\n",
    "    \n",
    "person = Person(\"Tim\", 30)\n",
    "print(person)"
   ]
  },
  {
   "cell_type": "code",
   "execution_count": null,
   "id": "0ba2e5dd",
   "metadata": {},
   "outputs": [],
   "source": [
    "Person.__init__??"
   ]
  },
  {
   "cell_type": "markdown",
   "id": "9d0eea8d",
   "metadata": {},
   "source": [
    "## Python packages"
   ]
  },
  {
   "cell_type": "code",
   "execution_count": null,
   "id": "a2372d47",
   "metadata": {},
   "outputs": [],
   "source": [
    "import copy\n",
    "lst = [1, 2, 3]\n",
    "copy_lst = copy.deepcopy(lst)"
   ]
  },
  {
   "cell_type": "code",
   "execution_count": null,
   "id": "b98bd22e",
   "metadata": {},
   "outputs": [],
   "source": [
    "from copy import deepcopy\n",
    "lst = [1, 2, 3]\n",
    "copy_lst = deepcopy(lst)"
   ]
  },
  {
   "cell_type": "code",
   "execution_count": null,
   "id": "7e7de538",
   "metadata": {},
   "outputs": [],
   "source": [
    "import copy as dumb_name_for_copy\n",
    "lst = [1, 2, 3]\n",
    "copy_lst = dumb_name_for_copy.deepcopy(lst)"
   ]
  },
  {
   "cell_type": "markdown",
   "id": "3e1dc1ea",
   "metadata": {},
   "source": [
    "### Importing your own package"
   ]
  },
  {
   "cell_type": "code",
   "execution_count": 3,
   "id": "35b4104b",
   "metadata": {},
   "outputs": [
    {
     "name": "stdout",
     "output_type": "stream",
     "text": [
      "This is a folder function!\n"
     ]
    }
   ],
   "source": [
    "import sys\n",
    "sys.path.append('packages')\n",
    "\n",
    "from folder_package import folder_package_file\n",
    "folder_package_file.folder_function()"
   ]
  },
  {
   "cell_type": "code",
   "execution_count": null,
   "id": "c672a7d3",
   "metadata": {},
   "outputs": [],
   "source": [
    "import file_package\n",
    "file_package.file_function()"
   ]
  },
  {
   "cell_type": "code",
   "execution_count": null,
   "id": "06b27959",
   "metadata": {},
   "outputs": [],
   "source": []
  }
 ],
 "metadata": {
  "kernelspec": {
   "display_name": "Python 3 (ipykernel)",
   "language": "python",
   "name": "python3"
  },
  "language_info": {
   "codemirror_mode": {
    "name": "ipython",
    "version": 3
   },
   "file_extension": ".py",
   "mimetype": "text/x-python",
   "name": "python",
   "nbconvert_exporter": "python",
   "pygments_lexer": "ipython3",
   "version": "3.9.13"
  }
 },
 "nbformat": 4,
 "nbformat_minor": 5
}
